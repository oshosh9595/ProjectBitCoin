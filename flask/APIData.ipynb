{
 "cells": [
  {
   "cell_type": "code",
   "execution_count": 2,
   "id": "ca69cbef-9bb7-4d7f-8fd4-651275a24961",
   "metadata": {
    "tags": []
   },
   "outputs": [],
   "source": [
    "import tensorflow as tf\n",
    "import pandas as pd\n",
    "import numpy as np\n",
    "import requests\n",
    "import matplotlib.pyplot as plt\n",
    "import pyupbit\n",
    "from sklearn.preprocessing import MinMaxScaler\n",
    "from sklearn.model_selection import train_test_split\n",
    "from tensorflow.keras.models import Sequential\n",
    "from tensorflow.keras.layers import Conv1D, MaxPooling1D, LSTM, Dense, Flatten, Dropout, Reshape\n",
    "import matplotlib"
   ]
  },
  {
   "cell_type": "code",
   "execution_count": 18,
   "id": "d61e8894-4915-4473-b7a6-d6a572913ac3",
   "metadata": {
    "tags": []
   },
   "outputs": [
    {
     "name": "stdout",
     "output_type": "stream",
     "text": [
      "Requirement already satisfied: numpy in c:\\users\\sw\\desktop\\time-series-da-main\\venv\\lib\\site-packages (1.23.5)\n",
      "Requirement already satisfied: pandas in c:\\users\\sw\\desktop\\time-series-da-main\\venv\\lib\\site-packages (2.0.1)\n",
      "Requirement already satisfied: tensorflow in c:\\users\\sw\\desktop\\time-series-da-main\\venv\\lib\\site-packages (2.12.0)\n",
      "Requirement already satisfied: tzdata>=2022.1 in c:\\users\\sw\\desktop\\time-series-da-main\\venv\\lib\\site-packages (from pandas) (2023.3)\n",
      "Requirement already satisfied: python-dateutil>=2.8.2 in c:\\users\\sw\\desktop\\time-series-da-main\\venv\\lib\\site-packages (from pandas) (2.8.2)\n",
      "Requirement already satisfied: pytz>=2020.1 in c:\\users\\sw\\desktop\\time-series-da-main\\venv\\lib\\site-packages (from pandas) (2023.3)\n",
      "Requirement already satisfied: tensorflow-intel==2.12.0 in c:\\users\\sw\\desktop\\time-series-da-main\\venv\\lib\\site-packages (from tensorflow) (2.12.0)\n",
      "Requirement already satisfied: setuptools in c:\\users\\sw\\desktop\\time-series-da-main\\venv\\lib\\site-packages (from tensorflow-intel==2.12.0->tensorflow) (65.5.0)\n",
      "Requirement already satisfied: six>=1.12.0 in c:\\users\\sw\\desktop\\time-series-da-main\\venv\\lib\\site-packages (from tensorflow-intel==2.12.0->tensorflow) (1.16.0)\n",
      "Requirement already satisfied: termcolor>=1.1.0 in c:\\users\\sw\\desktop\\time-series-da-main\\venv\\lib\\site-packages (from tensorflow-intel==2.12.0->tensorflow) (2.3.0)\n",
      "Requirement already satisfied: opt-einsum>=2.3.2 in c:\\users\\sw\\desktop\\time-series-da-main\\venv\\lib\\site-packages (from tensorflow-intel==2.12.0->tensorflow) (3.3.0)\n",
      "Requirement already satisfied: astunparse>=1.6.0 in c:\\users\\sw\\desktop\\time-series-da-main\\venv\\lib\\site-packages (from tensorflow-intel==2.12.0->tensorflow) (1.6.3)\n",
      "Requirement already satisfied: google-pasta>=0.1.1 in c:\\users\\sw\\desktop\\time-series-da-main\\venv\\lib\\site-packages (from tensorflow-intel==2.12.0->tensorflow) (0.2.0)\n",
      "Requirement already satisfied: tensorflow-estimator<2.13,>=2.12.0 in c:\\users\\sw\\desktop\\time-series-da-main\\venv\\lib\\site-packages (from tensorflow-intel==2.12.0->tensorflow) (2.12.0)\n",
      "Requirement already satisfied: jax>=0.3.15 in c:\\users\\sw\\desktop\\time-series-da-main\\venv\\lib\\site-packages (from tensorflow-intel==2.12.0->tensorflow) (0.4.8)\n",
      "Requirement already satisfied: typing-extensions>=3.6.6 in c:\\users\\sw\\desktop\\time-series-da-main\\venv\\lib\\site-packages (from tensorflow-intel==2.12.0->tensorflow) (4.5.0)\n",
      "Requirement already satisfied: protobuf!=4.21.0,!=4.21.1,!=4.21.2,!=4.21.3,!=4.21.4,!=4.21.5,<5.0.0dev,>=3.20.3 in c:\\users\\sw\\desktop\\time-series-da-main\\venv\\lib\\site-packages (from tensorflow-intel==2.12.0->tensorflow) (4.23.0)\n",
      "Requirement already satisfied: wrapt<1.15,>=1.11.0 in c:\\users\\sw\\desktop\\time-series-da-main\\venv\\lib\\site-packages (from tensorflow-intel==2.12.0->tensorflow) (1.14.1)\n",
      "Requirement already satisfied: packaging in c:\\users\\sw\\desktop\\time-series-da-main\\venv\\lib\\site-packages (from tensorflow-intel==2.12.0->tensorflow) (23.1)\n",
      "Requirement already satisfied: flatbuffers>=2.0 in c:\\users\\sw\\desktop\\time-series-da-main\\venv\\lib\\site-packages (from tensorflow-intel==2.12.0->tensorflow) (23.5.8)\n",
      "Requirement already satisfied: grpcio<2.0,>=1.24.3 in c:\\users\\sw\\desktop\\time-series-da-main\\venv\\lib\\site-packages (from tensorflow-intel==2.12.0->tensorflow) (1.54.0)\n",
      "Requirement already satisfied: h5py>=2.9.0 in c:\\users\\sw\\desktop\\time-series-da-main\\venv\\lib\\site-packages (from tensorflow-intel==2.12.0->tensorflow) (3.8.0)\n",
      "Requirement already satisfied: gast<=0.4.0,>=0.2.1 in c:\\users\\sw\\desktop\\time-series-da-main\\venv\\lib\\site-packages (from tensorflow-intel==2.12.0->tensorflow) (0.4.0)\n",
      "Requirement already satisfied: keras<2.13,>=2.12.0 in c:\\users\\sw\\desktop\\time-series-da-main\\venv\\lib\\site-packages (from tensorflow-intel==2.12.0->tensorflow) (2.12.0)\n",
      "Requirement already satisfied: tensorflow-io-gcs-filesystem>=0.23.1 in c:\\users\\sw\\desktop\\time-series-da-main\\venv\\lib\\site-packages (from tensorflow-intel==2.12.0->tensorflow) (0.31.0)\n",
      "Requirement already satisfied: libclang>=13.0.0 in c:\\users\\sw\\desktop\\time-series-da-main\\venv\\lib\\site-packages (from tensorflow-intel==2.12.0->tensorflow) (16.0.0)\n",
      "Requirement already satisfied: tensorboard<2.13,>=2.12 in c:\\users\\sw\\desktop\\time-series-da-main\\venv\\lib\\site-packages (from tensorflow-intel==2.12.0->tensorflow) (2.12.3)\n",
      "Requirement already satisfied: absl-py>=1.0.0 in c:\\users\\sw\\desktop\\time-series-da-main\\venv\\lib\\site-packages (from tensorflow-intel==2.12.0->tensorflow) (1.4.0)\n",
      "Requirement already satisfied: wheel<1.0,>=0.23.0 in c:\\users\\sw\\desktop\\time-series-da-main\\venv\\lib\\site-packages (from astunparse>=1.6.0->tensorflow-intel==2.12.0->tensorflow) (0.40.0)\n",
      "Requirement already satisfied: ml-dtypes>=0.0.3 in c:\\users\\sw\\desktop\\time-series-da-main\\venv\\lib\\site-packages (from jax>=0.3.15->tensorflow-intel==2.12.0->tensorflow) (0.1.0)\n",
      "Requirement already satisfied: scipy>=1.7 in c:\\users\\sw\\desktop\\time-series-da-main\\venv\\lib\\site-packages (from jax>=0.3.15->tensorflow-intel==2.12.0->tensorflow) (1.10.1)\n",
      "Requirement already satisfied: requests<3,>=2.21.0 in c:\\users\\sw\\desktop\\time-series-da-main\\venv\\lib\\site-packages (from tensorboard<2.13,>=2.12->tensorflow-intel==2.12.0->tensorflow) (2.30.0)\n",
      "Requirement already satisfied: markdown>=2.6.8 in c:\\users\\sw\\desktop\\time-series-da-main\\venv\\lib\\site-packages (from tensorboard<2.13,>=2.12->tensorflow-intel==2.12.0->tensorflow) (3.4.3)\n",
      "Requirement already satisfied: google-auth-oauthlib<1.1,>=0.5 in c:\\users\\sw\\desktop\\time-series-da-main\\venv\\lib\\site-packages (from tensorboard<2.13,>=2.12->tensorflow-intel==2.12.0->tensorflow) (1.0.0)\n",
      "Requirement already satisfied: tensorboard-data-server<0.8.0,>=0.7.0 in c:\\users\\sw\\desktop\\time-series-da-main\\venv\\lib\\site-packages (from tensorboard<2.13,>=2.12->tensorflow-intel==2.12.0->tensorflow) (0.7.0)\n",
      "Requirement already satisfied: werkzeug>=1.0.1 in c:\\users\\sw\\desktop\\time-series-da-main\\venv\\lib\\site-packages (from tensorboard<2.13,>=2.12->tensorflow-intel==2.12.0->tensorflow) (2.3.4)\n",
      "Requirement already satisfied: google-auth<3,>=1.6.3 in c:\\users\\sw\\desktop\\time-series-da-main\\venv\\lib\\site-packages (from tensorboard<2.13,>=2.12->tensorflow-intel==2.12.0->tensorflow) (2.17.3)\n",
      "Requirement already satisfied: pyasn1-modules>=0.2.1 in c:\\users\\sw\\desktop\\time-series-da-main\\venv\\lib\\site-packages (from google-auth<3,>=1.6.3->tensorboard<2.13,>=2.12->tensorflow-intel==2.12.0->tensorflow) (0.3.0)\n",
      "Requirement already satisfied: rsa<5,>=3.1.4 in c:\\users\\sw\\desktop\\time-series-da-main\\venv\\lib\\site-packages (from google-auth<3,>=1.6.3->tensorboard<2.13,>=2.12->tensorflow-intel==2.12.0->tensorflow) (4.9)\n",
      "Requirement already satisfied: cachetools<6.0,>=2.0.0 in c:\\users\\sw\\desktop\\time-series-da-main\\venv\\lib\\site-packages (from google-auth<3,>=1.6.3->tensorboard<2.13,>=2.12->tensorflow-intel==2.12.0->tensorflow) (5.3.0)\n",
      "Requirement already satisfied: requests-oauthlib>=0.7.0 in c:\\users\\sw\\desktop\\time-series-da-main\\venv\\lib\\site-packages (from google-auth-oauthlib<1.1,>=0.5->tensorboard<2.13,>=2.12->tensorflow-intel==2.12.0->tensorflow) (1.3.1)\n",
      "Requirement already satisfied: urllib3<3,>=1.21.1 in c:\\users\\sw\\desktop\\time-series-da-main\\venv\\lib\\site-packages (from requests<3,>=2.21.0->tensorboard<2.13,>=2.12->tensorflow-intel==2.12.0->tensorflow) (2.0.2)\n",
      "Requirement already satisfied: certifi>=2017.4.17 in c:\\users\\sw\\desktop\\time-series-da-main\\venv\\lib\\site-packages (from requests<3,>=2.21.0->tensorboard<2.13,>=2.12->tensorflow-intel==2.12.0->tensorflow) (2023.5.7)\n",
      "Requirement already satisfied: idna<4,>=2.5 in c:\\users\\sw\\desktop\\time-series-da-main\\venv\\lib\\site-packages (from requests<3,>=2.21.0->tensorboard<2.13,>=2.12->tensorflow-intel==2.12.0->tensorflow) (3.4)\n",
      "Requirement already satisfied: charset-normalizer<4,>=2 in c:\\users\\sw\\desktop\\time-series-da-main\\venv\\lib\\site-packages (from requests<3,>=2.21.0->tensorboard<2.13,>=2.12->tensorflow-intel==2.12.0->tensorflow) (3.1.0)\n",
      "Requirement already satisfied: MarkupSafe>=2.1.1 in c:\\users\\sw\\desktop\\time-series-da-main\\venv\\lib\\site-packages (from werkzeug>=1.0.1->tensorboard<2.13,>=2.12->tensorflow-intel==2.12.0->tensorflow) (2.1.2)\n",
      "Requirement already satisfied: pyasn1<0.6.0,>=0.4.6 in c:\\users\\sw\\desktop\\time-series-da-main\\venv\\lib\\site-packages (from pyasn1-modules>=0.2.1->google-auth<3,>=1.6.3->tensorboard<2.13,>=2.12->tensorflow-intel==2.12.0->tensorflow) (0.5.0)\n",
      "Requirement already satisfied: oauthlib>=3.0.0 in c:\\users\\sw\\desktop\\time-series-da-main\\venv\\lib\\site-packages (from requests-oauthlib>=0.7.0->google-auth-oauthlib<1.1,>=0.5->tensorboard<2.13,>=2.12->tensorflow-intel==2.12.0->tensorflow) (3.2.2)\n",
      "Note: you may need to restart the kernel to use updated packages.\n"
     ]
    },
    {
     "name": "stderr",
     "output_type": "stream",
     "text": [
      "\n",
      "[notice] A new release of pip available: 22.3.1 -> 23.1.2\n",
      "[notice] To update, run: python.exe -m pip install --upgrade pip\n"
     ]
    }
   ],
   "source": [
    "pip install numpy pandas tensorflow"
   ]
  },
  {
   "cell_type": "code",
   "execution_count": 3,
   "id": "17464151-94ee-46fe-a13a-d33a01db151c",
   "metadata": {
    "tags": []
   },
   "outputs": [],
   "source": [
    "import schedule\n",
    "import time\n",
    "\n",
    "def upbit_api():\n",
    "    # 함수 내용을 작성합니다.\n",
    "    url = \"https://api.upbit.com/v1/candles/minutes/1\"\n",
    "    params = {\n",
    "        \"market\": \"KRW-BTC\",\n",
    "        \"count\": 30\n",
    "    }\n",
    "    response = requests.get(url, params=params)\n",
    "    data = response.json()\n",
    "    return data"
   ]
  },
  {
   "cell_type": "code",
   "execution_count": 5,
   "id": "2471ef74-c6ee-41db-b78e-bb67cf025ba4",
   "metadata": {
    "tags": []
   },
   "outputs": [
    {
     "name": "stdout",
     "output_type": "stream",
     "text": [
      "[{'market': 'KRW-BTC', 'candle_date_time_utc': '2023-05-17T08:10:00', 'candle_date_time_kst': '2023-05-17T17:10:00', 'opening_price': 36216000.0, 'high_price': 36220000.0, 'low_price': 36180000.0, 'trade_price': 36180000.0, 'timestamp': 1684311052409, 'candle_acc_trade_price': 384628272.31734, 'candle_acc_trade_volume': 10.62556036, 'unit': 1}, {'market': 'KRW-BTC', 'candle_date_time_utc': '2023-05-17T08:09:00', 'candle_date_time_kst': '2023-05-17T17:09:00', 'opening_price': 36222000.0, 'high_price': 36224000.0, 'low_price': 36215000.0, 'trade_price': 36215000.0, 'timestamp': 1684310999049, 'candle_acc_trade_price': 54568468.04949, 'candle_acc_trade_volume': 1.50659314, 'unit': 1}, {'market': 'KRW-BTC', 'candle_date_time_utc': '2023-05-17T08:08:00', 'candle_date_time_kst': '2023-05-17T17:08:00', 'opening_price': 36207000.0, 'high_price': 36223000.0, 'low_price': 36205000.0, 'trade_price': 36222000.0, 'timestamp': 1684310939976, 'candle_acc_trade_price': 88111662.10678, 'candle_acc_trade_volume': 2.43338785, 'unit': 1}, {'market': 'KRW-BTC', 'candle_date_time_utc': '2023-05-17T08:07:00', 'candle_date_time_kst': '2023-05-17T17:07:00', 'opening_price': 36225000.0, 'high_price': 36226000.0, 'low_price': 36205000.0, 'trade_price': 36207000.0, 'timestamp': 1684310879198, 'candle_acc_trade_price': 71991980.02918, 'candle_acc_trade_volume': 1.98774418, 'unit': 1}, {'market': 'KRW-BTC', 'candle_date_time_utc': '2023-05-17T08:06:00', 'candle_date_time_kst': '2023-05-17T17:06:00', 'opening_price': 36243000.0, 'high_price': 36247000.0, 'low_price': 36200000.0, 'trade_price': 36226000.0, 'timestamp': 1684310818597, 'candle_acc_trade_price': 652345341.81864, 'candle_acc_trade_volume': 18.01362264, 'unit': 1}, {'market': 'KRW-BTC', 'candle_date_time_utc': '2023-05-17T08:05:00', 'candle_date_time_kst': '2023-05-17T17:05:00', 'opening_price': 36246000.0, 'high_price': 36247000.0, 'low_price': 36236000.0, 'trade_price': 36243000.0, 'timestamp': 1684310758963, 'candle_acc_trade_price': 58802575.32315, 'candle_acc_trade_volume': 1.62236163, 'unit': 1}, {'market': 'KRW-BTC', 'candle_date_time_utc': '2023-05-17T08:04:00', 'candle_date_time_kst': '2023-05-17T17:04:00', 'opening_price': 36246000.0, 'high_price': 36247000.0, 'low_price': 36244000.0, 'trade_price': 36247000.0, 'timestamp': 1684310699735, 'candle_acc_trade_price': 74609991.42004, 'candle_acc_trade_volume': 2.05841734, 'unit': 1}, {'market': 'KRW-BTC', 'candle_date_time_utc': '2023-05-17T08:03:00', 'candle_date_time_kst': '2023-05-17T17:03:00', 'opening_price': 36244000.0, 'high_price': 36247000.0, 'low_price': 36235000.0, 'trade_price': 36246000.0, 'timestamp': 1684310639309, 'candle_acc_trade_price': 22255677.37507, 'candle_acc_trade_volume': 0.61405691, 'unit': 1}, {'market': 'KRW-BTC', 'candle_date_time_utc': '2023-05-17T08:02:00', 'candle_date_time_kst': '2023-05-17T17:02:00', 'opening_price': 36244000.0, 'high_price': 36244000.0, 'low_price': 36233000.0, 'trade_price': 36244000.0, 'timestamp': 1684310579575, 'candle_acc_trade_price': 38227040.02038, 'candle_acc_trade_volume': 1.05486839, 'unit': 1}, {'market': 'KRW-BTC', 'candle_date_time_utc': '2023-05-17T08:01:00', 'candle_date_time_kst': '2023-05-17T17:01:00', 'opening_price': 36244000.0, 'high_price': 36245000.0, 'low_price': 36236000.0, 'trade_price': 36244000.0, 'timestamp': 1684310512886, 'candle_acc_trade_price': 136309936.27139, 'candle_acc_trade_volume': 3.7609242, 'unit': 1}, {'market': 'KRW-BTC', 'candle_date_time_utc': '2023-05-17T08:00:00', 'candle_date_time_kst': '2023-05-17T17:00:00', 'opening_price': 36245000.0, 'high_price': 36245000.0, 'low_price': 36243000.0, 'trade_price': 36243000.0, 'timestamp': 1684310459570, 'candle_acc_trade_price': 141356243.32829, 'candle_acc_trade_volume': 3.90014104, 'unit': 1}, {'market': 'KRW-BTC', 'candle_date_time_utc': '2023-05-17T07:59:00', 'candle_date_time_kst': '2023-05-17T16:59:00', 'opening_price': 36243000.0, 'high_price': 36247000.0, 'low_price': 36243000.0, 'trade_price': 36244000.0, 'timestamp': 1684310399379, 'candle_acc_trade_price': 40819805.25782, 'candle_acc_trade_volume': 1.12623344, 'unit': 1}, {'market': 'KRW-BTC', 'candle_date_time_utc': '2023-05-17T07:58:00', 'candle_date_time_kst': '2023-05-17T16:58:00', 'opening_price': 36244000.0, 'high_price': 36244000.0, 'low_price': 36233000.0, 'trade_price': 36243000.0, 'timestamp': 1684310338691, 'candle_acc_trade_price': 23035772.566, 'candle_acc_trade_volume': 0.63566561, 'unit': 1}, {'market': 'KRW-BTC', 'candle_date_time_utc': '2023-05-17T07:57:00', 'candle_date_time_kst': '2023-05-17T16:57:00', 'opening_price': 36244000.0, 'high_price': 36247000.0, 'low_price': 36233000.0, 'trade_price': 36247000.0, 'timestamp': 1684310279874, 'candle_acc_trade_price': 61950457.48795, 'candle_acc_trade_volume': 1.7093196, 'unit': 1}, {'market': 'KRW-BTC', 'candle_date_time_utc': '2023-05-17T07:56:00', 'candle_date_time_kst': '2023-05-17T16:56:00', 'opening_price': 36240000.0, 'high_price': 36245000.0, 'low_price': 36233000.0, 'trade_price': 36244000.0, 'timestamp': 1684310219154, 'candle_acc_trade_price': 59657448.98866, 'candle_acc_trade_volume': 1.64624549, 'unit': 1}, {'market': 'KRW-BTC', 'candle_date_time_utc': '2023-05-17T07:55:00', 'candle_date_time_kst': '2023-05-17T16:55:00', 'opening_price': 36240000.0, 'high_price': 36240000.0, 'low_price': 36233000.0, 'trade_price': 36233000.0, 'timestamp': 1684310154264, 'candle_acc_trade_price': 49868405.59513, 'candle_acc_trade_volume': 1.37624279, 'unit': 1}, {'market': 'KRW-BTC', 'candle_date_time_utc': '2023-05-17T07:54:00', 'candle_date_time_kst': '2023-05-17T16:54:00', 'opening_price': 36233000.0, 'high_price': 36235000.0, 'low_price': 36232000.0, 'trade_price': 36235000.0, 'timestamp': 1684310097877, 'candle_acc_trade_price': 94356406.15213, 'candle_acc_trade_volume': 2.60407814, 'unit': 1}, {'market': 'KRW-BTC', 'candle_date_time_utc': '2023-05-17T07:53:00', 'candle_date_time_kst': '2023-05-17T16:53:00', 'opening_price': 36240000.0, 'high_price': 36240000.0, 'low_price': 36232000.0, 'trade_price': 36233000.0, 'timestamp': 1684310035041, 'candle_acc_trade_price': 59127200.15693, 'candle_acc_trade_volume': 1.63177612, 'unit': 1}, {'market': 'KRW-BTC', 'candle_date_time_utc': '2023-05-17T07:52:00', 'candle_date_time_kst': '2023-05-17T16:52:00', 'opening_price': 36239000.0, 'high_price': 36240000.0, 'low_price': 36230000.0, 'trade_price': 36240000.0, 'timestamp': 1684309979873, 'candle_acc_trade_price': 114220500.73316, 'candle_acc_trade_volume': 3.152242, 'unit': 1}, {'market': 'KRW-BTC', 'candle_date_time_utc': '2023-05-17T07:51:00', 'candle_date_time_kst': '2023-05-17T16:51:00', 'opening_price': 36235000.0, 'high_price': 36253000.0, 'low_price': 36234000.0, 'trade_price': 36240000.0, 'timestamp': 1684309919179, 'candle_acc_trade_price': 76145528.68043, 'candle_acc_trade_volume': 2.10080847, 'unit': 1}, {'market': 'KRW-BTC', 'candle_date_time_utc': '2023-05-17T07:50:00', 'candle_date_time_kst': '2023-05-17T16:50:00', 'opening_price': 36230000.0, 'high_price': 36254000.0, 'low_price': 36229000.0, 'trade_price': 36235000.0, 'timestamp': 1684309859692, 'candle_acc_trade_price': 109809726.80371, 'candle_acc_trade_volume': 3.0304931, 'unit': 1}, {'market': 'KRW-BTC', 'candle_date_time_utc': '2023-05-17T07:49:00', 'candle_date_time_kst': '2023-05-17T16:49:00', 'opening_price': 36216000.0, 'high_price': 36254000.0, 'low_price': 36211000.0, 'trade_price': 36252000.0, 'timestamp': 1684309799553, 'candle_acc_trade_price': 60788529.80667, 'candle_acc_trade_volume': 1.67803687, 'unit': 1}, {'market': 'KRW-BTC', 'candle_date_time_utc': '2023-05-17T07:48:00', 'candle_date_time_kst': '2023-05-17T16:48:00', 'opening_price': 36230000.0, 'high_price': 36250000.0, 'low_price': 36201000.0, 'trade_price': 36217000.0, 'timestamp': 1684309737618, 'candle_acc_trade_price': 412400685.9762, 'candle_acc_trade_volume': 11.3890498, 'unit': 1}, {'market': 'KRW-BTC', 'candle_date_time_utc': '2023-05-17T07:47:00', 'candle_date_time_kst': '2023-05-17T16:47:00', 'opening_price': 36217000.0, 'high_price': 36266000.0, 'low_price': 36211000.0, 'trade_price': 36230000.0, 'timestamp': 1684309679619, 'candle_acc_trade_price': 106580655.49863, 'candle_acc_trade_volume': 2.94104349, 'unit': 1}, {'market': 'KRW-BTC', 'candle_date_time_utc': '2023-05-17T07:46:00', 'candle_date_time_kst': '2023-05-17T16:46:00', 'opening_price': 36321000.0, 'high_price': 36321000.0, 'low_price': 36211000.0, 'trade_price': 36211000.0, 'timestamp': 1684309619334, 'candle_acc_trade_price': 749791741.29921, 'candle_acc_trade_volume': 20.69011342, 'unit': 1}, {'market': 'KRW-BTC', 'candle_date_time_utc': '2023-05-17T07:45:00', 'candle_date_time_kst': '2023-05-17T16:45:00', 'opening_price': 36314000.0, 'high_price': 36345000.0, 'low_price': 36294000.0, 'trade_price': 36298000.0, 'timestamp': 1684309559774, 'candle_acc_trade_price': 463459317.33271, 'candle_acc_trade_volume': 12.76624801, 'unit': 1}, {'market': 'KRW-BTC', 'candle_date_time_utc': '2023-05-17T07:44:00', 'candle_date_time_kst': '2023-05-17T16:44:00', 'opening_price': 36342000.0, 'high_price': 36342000.0, 'low_price': 36313000.0, 'trade_price': 36314000.0, 'timestamp': 1684309499515, 'candle_acc_trade_price': 120846893.11515, 'candle_acc_trade_volume': 3.32730932, 'unit': 1}, {'market': 'KRW-BTC', 'candle_date_time_utc': '2023-05-17T07:43:00', 'candle_date_time_kst': '2023-05-17T16:43:00', 'opening_price': 36346000.0, 'high_price': 36348000.0, 'low_price': 36342000.0, 'trade_price': 36342000.0, 'timestamp': 1684309437230, 'candle_acc_trade_price': 25601541.95419, 'candle_acc_trade_volume': 0.70437396, 'unit': 1}, {'market': 'KRW-BTC', 'candle_date_time_utc': '2023-05-17T07:42:00', 'candle_date_time_kst': '2023-05-17T16:42:00', 'opening_price': 36346000.0, 'high_price': 36347000.0, 'low_price': 36346000.0, 'trade_price': 36347000.0, 'timestamp': 1684309377986, 'candle_acc_trade_price': 20544271.50192, 'candle_acc_trade_volume': 0.56523613, 'unit': 1}, {'market': 'KRW-BTC', 'candle_date_time_utc': '2023-05-17T07:41:00', 'candle_date_time_kst': '2023-05-17T16:41:00', 'opening_price': 36339000.0, 'high_price': 36347000.0, 'low_price': 36338000.0, 'trade_price': 36346000.0, 'timestamp': 1684309314870, 'candle_acc_trade_price': 17666478.14891, 'candle_acc_trade_volume': 0.48608436, 'unit': 1}]\n"
     ]
    }
   ],
   "source": [
    "data = upbit_api()\n",
    "print(data)"
   ]
  },
  {
   "cell_type": "code",
   "execution_count": null,
   "id": "b34df753-2836-4678-a3f4-433cf14a82df",
   "metadata": {
    "tags": []
   },
   "outputs": [],
   "source": []
  },
  {
   "cell_type": "code",
   "execution_count": 10,
   "id": "a082093a-ccc7-41be-a18d-c09ec7b3a30a",
   "metadata": {
    "tags": []
   },
   "outputs": [],
   "source": [
    "def model_prediction(data):\n",
    "    # 데이터 가져오기\n",
    "    data = upbit_api()\n",
    "\n",
    "    # 데이터프레임으로 변환\n",
    "    df = pd.DataFrame(data)\n",
    "\n",
    "    # 데이터 전처리\n",
    "    df['candle_date_time_kst'] = pd.to_datetime(df['candle_date_time_kst']) #datetime 변환\n",
    "    df.set_index('candle_date_time_kst', inplace=True)\n",
    "\n",
    "    # 결측치 처리\n",
    "    df = df.asfreq('60T') #60 간격마다 보관 시계열이용하기위한\n",
    "    df = df.interpolate(method='linear')\n",
    "    df = df.fillna(method='ffill')\n",
    "\n",
    "    # 이상치 제거\n",
    "    df = df[(np.abs(df['trade_price']) < 3*df['trade_price'].std()) & \n",
    "                (np.abs(df['candle_acc_trade_price']) < 3*df['candle_acc_trade_price'].std())]\n",
    "\n",
    "    # 데이터 정규화\n",
    "    scaler = MinMaxScaler()\n",
    "    scale_cols = ['opening_price', 'high_price', 'low_price', 'trade_price', 'candle_acc_trade_price', 'candle_acc_trade_volume']\n",
    "    scaled = scaler.fit_transform(df[['opening_price', 'high_price', 'low_price', 'trade_price', 'candle_acc_trade_price', 'candle_acc_trade_volume']])\n",
    "\n",
    "    # 데이터 셋 만들기\n",
    "    df = pd.DataFrame(scaled, columns=scale_cols)\n",
    "\n",
    "    # 데이터셋 분리 비율\n",
    "    train_ratio = 0.7\n",
    "    val_ratio = 0.2\n",
    "    test_ratio = 0.1\n",
    "\n",
    "    # 학습 데이터와 테스트 데이터로 분리\n",
    "    test_data_size = int(len(df) * test_ratio)\n",
    "    train_val_data = df[:-test_data_size]\n",
    "    test_data = df[-test_data_size:]\n",
    "\n",
    "    # 학습 데이터와 검증 데이터로 분리\n",
    "    val_data_size = int(len(train_val_data) * val_ratio / (train_ratio + val_ratio))\n",
    "    train_data = train_val_data[:-val_data_size]\n",
    "    val_data = train_val_data[-val_data_size:]\n",
    "\n",
    "    # 데이터셋 생성 함수\n",
    "    def create_dataset(X, y, time_steps=1):\n",
    "        Xs, ys = [], []\n",
    "        for i in range(len(X) - time_steps):\n",
    "            Xs.append(X.iloc[i:(i + time_steps)].values)\n",
    "            ys.append(y.iloc[i + time_steps])\n",
    "        return np.array(Xs), np.array(ys)\n",
    "\n",
    "    n_timesteps = 24\n",
    "    # 학습 데이터셋 생성\n",
    "    X_train, y_train = create_dataset(train_data, train_data['trade_price'], n_timesteps)\n",
    "\n",
    "    # 검증 데이터셋 생성\n",
    "    X_val, y_val = create_dataset(val_data, val_data['trade_price'], n_timesteps)\n",
    "\n",
    "    # 테스트 데이터셋 생성\n",
    "    X_test, y_test = create_dataset(test_data, test_data['trade_price'], n_timesteps)\n",
    "\n",
    "    # CNN 모델과 LSTM 모델\n",
    "    n_features = len(scale_cols)\n",
    "\n",
    "    model = Sequential()\n",
    "    model.add(Conv1D(filters=64, kernel_size=3, activation='relu', input_shape=(n_timesteps, n_features)))\n",
    "    model.add(Dropout(0.025))\n",
    "    model.add(Conv1D(filters=64, kernel_size=3, activation='relu'))\n",
    "    model.add(Dropout(0.025))\n",
    "    model.add(MaxPooling1D(pool_size=2))\n",
    "    model.add(Flatten())\n",
    "    model.add(Reshape((-1, 64)))\n",
    "    model.add(LSTM(100, activation='relu'))\n",
    "    model.add(Dense(1))\n",
    "\n",
    "    model.compile(loss='mse', optimizer='adam')\n",
    "\n",
    "    # 모델 학습하기\n",
    "    history = model.fit(X_train, y_train, validation_data=(X_val, y_val), epochs=100, batch_size=32)\n",
    "\n",
    "    # 모델 평가하기\n",
    "    score = model.evaluate(X_test, y_test)\n",
    "\n",
    "    # 모델 예측하기\n",
    "    y_pred = model.predict(X_test)\n",
    "\n",
    "    # 모델 저장하기\n",
    "    model.save(\"./save.h5\")\n",
    "    #print(\"학습 모델 저장\")\n",
    "\n",
    "    last_sequence = scaled[-n_timesteps:]\n",
    "    last_sequence = np.expand_dims(last_sequence, axis=0)\n",
    "    y_pred = model.predict(last_sequence)"
   ]
  },
  {
   "cell_type": "code",
   "execution_count": 16,
   "id": "0730ebd4-eeef-4213-a747-6a68eef0075e",
   "metadata": {
    "tags": []
   },
   "outputs": [
    {
     "ename": "ValueError",
     "evalue": "Found array with 0 sample(s) (shape=(0, 6)) while a minimum of 1 is required by MinMaxScaler.",
     "output_type": "error",
     "traceback": [
      "\u001b[1;31m---------------------------------------------------------------------------\u001b[0m",
      "\u001b[1;31mValueError\u001b[0m                                Traceback (most recent call last)",
      "Cell \u001b[1;32mIn[16], line 1\u001b[0m\n\u001b[1;32m----> 1\u001b[0m y_pred \u001b[38;5;241m=\u001b[39m \u001b[43mmodel_prediction\u001b[49m\u001b[43m(\u001b[49m\u001b[43mdata\u001b[49m\u001b[43m)\u001b[49m\n\u001b[0;32m      2\u001b[0m \u001b[38;5;28mprint\u001b[39m(y_pred)\n",
      "Cell \u001b[1;32mIn[10], line 24\u001b[0m, in \u001b[0;36mmodel_prediction\u001b[1;34m(data)\u001b[0m\n\u001b[0;32m     22\u001b[0m scaler \u001b[38;5;241m=\u001b[39m MinMaxScaler()\n\u001b[0;32m     23\u001b[0m scale_cols \u001b[38;5;241m=\u001b[39m [\u001b[38;5;124m'\u001b[39m\u001b[38;5;124mopening_price\u001b[39m\u001b[38;5;124m'\u001b[39m, \u001b[38;5;124m'\u001b[39m\u001b[38;5;124mhigh_price\u001b[39m\u001b[38;5;124m'\u001b[39m, \u001b[38;5;124m'\u001b[39m\u001b[38;5;124mlow_price\u001b[39m\u001b[38;5;124m'\u001b[39m, \u001b[38;5;124m'\u001b[39m\u001b[38;5;124mtrade_price\u001b[39m\u001b[38;5;124m'\u001b[39m, \u001b[38;5;124m'\u001b[39m\u001b[38;5;124mcandle_acc_trade_price\u001b[39m\u001b[38;5;124m'\u001b[39m, \u001b[38;5;124m'\u001b[39m\u001b[38;5;124mcandle_acc_trade_volume\u001b[39m\u001b[38;5;124m'\u001b[39m]\n\u001b[1;32m---> 24\u001b[0m scaled \u001b[38;5;241m=\u001b[39m \u001b[43mscaler\u001b[49m\u001b[38;5;241;43m.\u001b[39;49m\u001b[43mfit_transform\u001b[49m\u001b[43m(\u001b[49m\u001b[43mdf\u001b[49m\u001b[43m[\u001b[49m\u001b[43m[\u001b[49m\u001b[38;5;124;43m'\u001b[39;49m\u001b[38;5;124;43mopening_price\u001b[39;49m\u001b[38;5;124;43m'\u001b[39;49m\u001b[43m,\u001b[49m\u001b[43m \u001b[49m\u001b[38;5;124;43m'\u001b[39;49m\u001b[38;5;124;43mhigh_price\u001b[39;49m\u001b[38;5;124;43m'\u001b[39;49m\u001b[43m,\u001b[49m\u001b[43m \u001b[49m\u001b[38;5;124;43m'\u001b[39;49m\u001b[38;5;124;43mlow_price\u001b[39;49m\u001b[38;5;124;43m'\u001b[39;49m\u001b[43m,\u001b[49m\u001b[43m \u001b[49m\u001b[38;5;124;43m'\u001b[39;49m\u001b[38;5;124;43mtrade_price\u001b[39;49m\u001b[38;5;124;43m'\u001b[39;49m\u001b[43m,\u001b[49m\u001b[43m \u001b[49m\u001b[38;5;124;43m'\u001b[39;49m\u001b[38;5;124;43mcandle_acc_trade_price\u001b[39;49m\u001b[38;5;124;43m'\u001b[39;49m\u001b[43m,\u001b[49m\u001b[43m \u001b[49m\u001b[38;5;124;43m'\u001b[39;49m\u001b[38;5;124;43mcandle_acc_trade_volume\u001b[39;49m\u001b[38;5;124;43m'\u001b[39;49m\u001b[43m]\u001b[49m\u001b[43m]\u001b[49m\u001b[43m)\u001b[49m\n\u001b[0;32m     26\u001b[0m \u001b[38;5;66;03m# 데이터 셋 만들기\u001b[39;00m\n\u001b[0;32m     27\u001b[0m df \u001b[38;5;241m=\u001b[39m pd\u001b[38;5;241m.\u001b[39mDataFrame(scaled, columns\u001b[38;5;241m=\u001b[39mscale_cols)\n",
      "File \u001b[1;32m~\\Desktop\\time-series-da-main\\venv\\lib\\site-packages\\sklearn\\utils\\_set_output.py:140\u001b[0m, in \u001b[0;36m_wrap_method_output.<locals>.wrapped\u001b[1;34m(self, X, *args, **kwargs)\u001b[0m\n\u001b[0;32m    138\u001b[0m \u001b[38;5;129m@wraps\u001b[39m(f)\n\u001b[0;32m    139\u001b[0m \u001b[38;5;28;01mdef\u001b[39;00m \u001b[38;5;21mwrapped\u001b[39m(\u001b[38;5;28mself\u001b[39m, X, \u001b[38;5;241m*\u001b[39margs, \u001b[38;5;241m*\u001b[39m\u001b[38;5;241m*\u001b[39mkwargs):\n\u001b[1;32m--> 140\u001b[0m     data_to_wrap \u001b[38;5;241m=\u001b[39m f(\u001b[38;5;28mself\u001b[39m, X, \u001b[38;5;241m*\u001b[39margs, \u001b[38;5;241m*\u001b[39m\u001b[38;5;241m*\u001b[39mkwargs)\n\u001b[0;32m    141\u001b[0m     \u001b[38;5;28;01mif\u001b[39;00m \u001b[38;5;28misinstance\u001b[39m(data_to_wrap, \u001b[38;5;28mtuple\u001b[39m):\n\u001b[0;32m    142\u001b[0m         \u001b[38;5;66;03m# only wrap the first output for cross decomposition\u001b[39;00m\n\u001b[0;32m    143\u001b[0m         \u001b[38;5;28;01mreturn\u001b[39;00m (\n\u001b[0;32m    144\u001b[0m             _wrap_data_with_container(method, data_to_wrap[\u001b[38;5;241m0\u001b[39m], X, \u001b[38;5;28mself\u001b[39m),\n\u001b[0;32m    145\u001b[0m             \u001b[38;5;241m*\u001b[39mdata_to_wrap[\u001b[38;5;241m1\u001b[39m:],\n\u001b[0;32m    146\u001b[0m         )\n",
      "File \u001b[1;32m~\\Desktop\\time-series-da-main\\venv\\lib\\site-packages\\sklearn\\base.py:878\u001b[0m, in \u001b[0;36mTransformerMixin.fit_transform\u001b[1;34m(self, X, y, **fit_params)\u001b[0m\n\u001b[0;32m    874\u001b[0m \u001b[38;5;66;03m# non-optimized default implementation; override when a better\u001b[39;00m\n\u001b[0;32m    875\u001b[0m \u001b[38;5;66;03m# method is possible for a given clustering algorithm\u001b[39;00m\n\u001b[0;32m    876\u001b[0m \u001b[38;5;28;01mif\u001b[39;00m y \u001b[38;5;129;01mis\u001b[39;00m \u001b[38;5;28;01mNone\u001b[39;00m:\n\u001b[0;32m    877\u001b[0m     \u001b[38;5;66;03m# fit method of arity 1 (unsupervised transformation)\u001b[39;00m\n\u001b[1;32m--> 878\u001b[0m     \u001b[38;5;28;01mreturn\u001b[39;00m \u001b[38;5;28mself\u001b[39m\u001b[38;5;241m.\u001b[39mfit(X, \u001b[38;5;241m*\u001b[39m\u001b[38;5;241m*\u001b[39mfit_params)\u001b[38;5;241m.\u001b[39mtransform(X)\n\u001b[0;32m    879\u001b[0m \u001b[38;5;28;01melse\u001b[39;00m:\n\u001b[0;32m    880\u001b[0m     \u001b[38;5;66;03m# fit method of arity 2 (supervised transformation)\u001b[39;00m\n\u001b[0;32m    881\u001b[0m     \u001b[38;5;28;01mreturn\u001b[39;00m \u001b[38;5;28mself\u001b[39m\u001b[38;5;241m.\u001b[39mfit(X, y, \u001b[38;5;241m*\u001b[39m\u001b[38;5;241m*\u001b[39mfit_params)\u001b[38;5;241m.\u001b[39mtransform(X)\n",
      "File \u001b[1;32m~\\Desktop\\time-series-da-main\\venv\\lib\\site-packages\\sklearn\\preprocessing\\_data.py:427\u001b[0m, in \u001b[0;36mMinMaxScaler.fit\u001b[1;34m(self, X, y)\u001b[0m\n\u001b[0;32m    425\u001b[0m \u001b[38;5;66;03m# Reset internal state before fitting\u001b[39;00m\n\u001b[0;32m    426\u001b[0m \u001b[38;5;28mself\u001b[39m\u001b[38;5;241m.\u001b[39m_reset()\n\u001b[1;32m--> 427\u001b[0m \u001b[38;5;28;01mreturn\u001b[39;00m \u001b[38;5;28;43mself\u001b[39;49m\u001b[38;5;241;43m.\u001b[39;49m\u001b[43mpartial_fit\u001b[49m\u001b[43m(\u001b[49m\u001b[43mX\u001b[49m\u001b[43m,\u001b[49m\u001b[43m \u001b[49m\u001b[43my\u001b[49m\u001b[43m)\u001b[49m\n",
      "File \u001b[1;32m~\\Desktop\\time-series-da-main\\venv\\lib\\site-packages\\sklearn\\preprocessing\\_data.py:466\u001b[0m, in \u001b[0;36mMinMaxScaler.partial_fit\u001b[1;34m(self, X, y)\u001b[0m\n\u001b[0;32m    460\u001b[0m     \u001b[38;5;28;01mraise\u001b[39;00m \u001b[38;5;167;01mTypeError\u001b[39;00m(\n\u001b[0;32m    461\u001b[0m         \u001b[38;5;124m\"\u001b[39m\u001b[38;5;124mMinMaxScaler does not support sparse input. \u001b[39m\u001b[38;5;124m\"\u001b[39m\n\u001b[0;32m    462\u001b[0m         \u001b[38;5;124m\"\u001b[39m\u001b[38;5;124mConsider using MaxAbsScaler instead.\u001b[39m\u001b[38;5;124m\"\u001b[39m\n\u001b[0;32m    463\u001b[0m     )\n\u001b[0;32m    465\u001b[0m first_pass \u001b[38;5;241m=\u001b[39m \u001b[38;5;129;01mnot\u001b[39;00m \u001b[38;5;28mhasattr\u001b[39m(\u001b[38;5;28mself\u001b[39m, \u001b[38;5;124m\"\u001b[39m\u001b[38;5;124mn_samples_seen_\u001b[39m\u001b[38;5;124m\"\u001b[39m)\n\u001b[1;32m--> 466\u001b[0m X \u001b[38;5;241m=\u001b[39m \u001b[38;5;28;43mself\u001b[39;49m\u001b[38;5;241;43m.\u001b[39;49m\u001b[43m_validate_data\u001b[49m\u001b[43m(\u001b[49m\n\u001b[0;32m    467\u001b[0m \u001b[43m    \u001b[49m\u001b[43mX\u001b[49m\u001b[43m,\u001b[49m\n\u001b[0;32m    468\u001b[0m \u001b[43m    \u001b[49m\u001b[43mreset\u001b[49m\u001b[38;5;241;43m=\u001b[39;49m\u001b[43mfirst_pass\u001b[49m\u001b[43m,\u001b[49m\n\u001b[0;32m    469\u001b[0m \u001b[43m    \u001b[49m\u001b[43mdtype\u001b[49m\u001b[38;5;241;43m=\u001b[39;49m\u001b[43mFLOAT_DTYPES\u001b[49m\u001b[43m,\u001b[49m\n\u001b[0;32m    470\u001b[0m \u001b[43m    \u001b[49m\u001b[43mforce_all_finite\u001b[49m\u001b[38;5;241;43m=\u001b[39;49m\u001b[38;5;124;43m\"\u001b[39;49m\u001b[38;5;124;43mallow-nan\u001b[39;49m\u001b[38;5;124;43m\"\u001b[39;49m\u001b[43m,\u001b[49m\n\u001b[0;32m    471\u001b[0m \u001b[43m\u001b[49m\u001b[43m)\u001b[49m\n\u001b[0;32m    473\u001b[0m data_min \u001b[38;5;241m=\u001b[39m np\u001b[38;5;241m.\u001b[39mnanmin(X, axis\u001b[38;5;241m=\u001b[39m\u001b[38;5;241m0\u001b[39m)\n\u001b[0;32m    474\u001b[0m data_max \u001b[38;5;241m=\u001b[39m np\u001b[38;5;241m.\u001b[39mnanmax(X, axis\u001b[38;5;241m=\u001b[39m\u001b[38;5;241m0\u001b[39m)\n",
      "File \u001b[1;32m~\\Desktop\\time-series-da-main\\venv\\lib\\site-packages\\sklearn\\base.py:565\u001b[0m, in \u001b[0;36mBaseEstimator._validate_data\u001b[1;34m(self, X, y, reset, validate_separately, **check_params)\u001b[0m\n\u001b[0;32m    563\u001b[0m     \u001b[38;5;28;01mraise\u001b[39;00m \u001b[38;5;167;01mValueError\u001b[39;00m(\u001b[38;5;124m\"\u001b[39m\u001b[38;5;124mValidation should be done on X, y or both.\u001b[39m\u001b[38;5;124m\"\u001b[39m)\n\u001b[0;32m    564\u001b[0m \u001b[38;5;28;01melif\u001b[39;00m \u001b[38;5;129;01mnot\u001b[39;00m no_val_X \u001b[38;5;129;01mand\u001b[39;00m no_val_y:\n\u001b[1;32m--> 565\u001b[0m     X \u001b[38;5;241m=\u001b[39m check_array(X, input_name\u001b[38;5;241m=\u001b[39m\u001b[38;5;124m\"\u001b[39m\u001b[38;5;124mX\u001b[39m\u001b[38;5;124m\"\u001b[39m, \u001b[38;5;241m*\u001b[39m\u001b[38;5;241m*\u001b[39mcheck_params)\n\u001b[0;32m    566\u001b[0m     out \u001b[38;5;241m=\u001b[39m X\n\u001b[0;32m    567\u001b[0m \u001b[38;5;28;01melif\u001b[39;00m no_val_X \u001b[38;5;129;01mand\u001b[39;00m \u001b[38;5;129;01mnot\u001b[39;00m no_val_y:\n",
      "File \u001b[1;32m~\\Desktop\\time-series-da-main\\venv\\lib\\site-packages\\sklearn\\utils\\validation.py:931\u001b[0m, in \u001b[0;36mcheck_array\u001b[1;34m(array, accept_sparse, accept_large_sparse, dtype, order, copy, force_all_finite, ensure_2d, allow_nd, ensure_min_samples, ensure_min_features, estimator, input_name)\u001b[0m\n\u001b[0;32m    929\u001b[0m     n_samples \u001b[38;5;241m=\u001b[39m _num_samples(array)\n\u001b[0;32m    930\u001b[0m     \u001b[38;5;28;01mif\u001b[39;00m n_samples \u001b[38;5;241m<\u001b[39m ensure_min_samples:\n\u001b[1;32m--> 931\u001b[0m         \u001b[38;5;28;01mraise\u001b[39;00m \u001b[38;5;167;01mValueError\u001b[39;00m(\n\u001b[0;32m    932\u001b[0m             \u001b[38;5;124m\"\u001b[39m\u001b[38;5;124mFound array with \u001b[39m\u001b[38;5;132;01m%d\u001b[39;00m\u001b[38;5;124m sample(s) (shape=\u001b[39m\u001b[38;5;132;01m%s\u001b[39;00m\u001b[38;5;124m) while a\u001b[39m\u001b[38;5;124m\"\u001b[39m\n\u001b[0;32m    933\u001b[0m             \u001b[38;5;124m\"\u001b[39m\u001b[38;5;124m minimum of \u001b[39m\u001b[38;5;132;01m%d\u001b[39;00m\u001b[38;5;124m is required\u001b[39m\u001b[38;5;132;01m%s\u001b[39;00m\u001b[38;5;124m.\u001b[39m\u001b[38;5;124m\"\u001b[39m\n\u001b[0;32m    934\u001b[0m             \u001b[38;5;241m%\u001b[39m (n_samples, array\u001b[38;5;241m.\u001b[39mshape, ensure_min_samples, context)\n\u001b[0;32m    935\u001b[0m         )\n\u001b[0;32m    937\u001b[0m \u001b[38;5;28;01mif\u001b[39;00m ensure_min_features \u001b[38;5;241m>\u001b[39m \u001b[38;5;241m0\u001b[39m \u001b[38;5;129;01mand\u001b[39;00m array\u001b[38;5;241m.\u001b[39mndim \u001b[38;5;241m==\u001b[39m \u001b[38;5;241m2\u001b[39m:\n\u001b[0;32m    938\u001b[0m     n_features \u001b[38;5;241m=\u001b[39m array\u001b[38;5;241m.\u001b[39mshape[\u001b[38;5;241m1\u001b[39m]\n",
      "\u001b[1;31mValueError\u001b[0m: Found array with 0 sample(s) (shape=(0, 6)) while a minimum of 1 is required by MinMaxScaler."
     ]
    }
   ],
   "source": [
    "y_pred = model_prediction(data)\n",
    "print(y_pred)"
   ]
  }
 ],
 "metadata": {
  "kernelspec": {
   "display_name": "Python 3 (ipykernel)",
   "language": "python",
   "name": "python3"
  },
  "language_info": {
   "codemirror_mode": {
    "name": "ipython",
    "version": 3
   },
   "file_extension": ".py",
   "mimetype": "text/x-python",
   "name": "python",
   "nbconvert_exporter": "python",
   "pygments_lexer": "ipython3",
   "version": "3.10.10"
  }
 },
 "nbformat": 4,
 "nbformat_minor": 5
}
