{
 "cells": [
  {
   "cell_type": "code",
   "execution_count": 3,
   "id": "c9f6389b-a239-4836-9fb2-3ab824eda0ed",
   "metadata": {
    "tags": []
   },
   "outputs": [],
   "source": [
    "import requests\n",
    "import pandas as pd\n",
    "import numpy as np\n",
    "import matplotlib.pyplot as plt\n",
    "import seaborn as sns\n",
    "from sklearn.decomposition import NMF\n",
    "from sklearn.decomposition import TruncatedSVD\n",
    "from sklearn.preprocessing import MinMaxScaler\n",
    "from sklearn.model_selection import train_test_split\n",
    "from tensorflow.keras.models import Sequential\n",
    "from tensorflow.keras.layers import Conv1D, MaxPooling1D, LSTM, Dense, Flatten, Dropout, Reshape"
   ]
  },
  {
   "cell_type": "code",
   "execution_count": 4,
   "id": "2b870dd2-2142-4aa0-a639-eedaccb8b3a1",
   "metadata": {
    "tags": []
   },
   "outputs": [
    {
     "ename": "FileNotFoundError",
     "evalue": "[Errno 2] No such file or directory: './data/bitcoin2023_t.csv'",
     "output_type": "error",
     "traceback": [
      "\u001b[1;31m---------------------------------------------------------------------------\u001b[0m",
      "\u001b[1;31mFileNotFoundError\u001b[0m                         Traceback (most recent call last)",
      "Cell \u001b[1;32mIn[4], line 1\u001b[0m\n\u001b[1;32m----> 1\u001b[0m df \u001b[38;5;241m=\u001b[39m \u001b[43mpd\u001b[49m\u001b[38;5;241;43m.\u001b[39;49m\u001b[43mread_csv\u001b[49m\u001b[43m(\u001b[49m\u001b[38;5;124;43m'\u001b[39;49m\u001b[38;5;124;43m./data/bitcoin2023_t.csv\u001b[39;49m\u001b[38;5;124;43m'\u001b[39;49m\u001b[43m)\u001b[49m\n\u001b[0;32m      2\u001b[0m \u001b[38;5;28mprint\u001b[39m(df)\n",
      "File \u001b[1;32m~\\Desktop\\time-series-da-main\\venv\\lib\\site-packages\\pandas\\io\\parsers\\readers.py:912\u001b[0m, in \u001b[0;36mread_csv\u001b[1;34m(filepath_or_buffer, sep, delimiter, header, names, index_col, usecols, dtype, engine, converters, true_values, false_values, skipinitialspace, skiprows, skipfooter, nrows, na_values, keep_default_na, na_filter, verbose, skip_blank_lines, parse_dates, infer_datetime_format, keep_date_col, date_parser, date_format, dayfirst, cache_dates, iterator, chunksize, compression, thousands, decimal, lineterminator, quotechar, quoting, doublequote, escapechar, comment, encoding, encoding_errors, dialect, on_bad_lines, delim_whitespace, low_memory, memory_map, float_precision, storage_options, dtype_backend)\u001b[0m\n\u001b[0;32m    899\u001b[0m kwds_defaults \u001b[38;5;241m=\u001b[39m _refine_defaults_read(\n\u001b[0;32m    900\u001b[0m     dialect,\n\u001b[0;32m    901\u001b[0m     delimiter,\n\u001b[1;32m   (...)\u001b[0m\n\u001b[0;32m    908\u001b[0m     dtype_backend\u001b[38;5;241m=\u001b[39mdtype_backend,\n\u001b[0;32m    909\u001b[0m )\n\u001b[0;32m    910\u001b[0m kwds\u001b[38;5;241m.\u001b[39mupdate(kwds_defaults)\n\u001b[1;32m--> 912\u001b[0m \u001b[38;5;28;01mreturn\u001b[39;00m \u001b[43m_read\u001b[49m\u001b[43m(\u001b[49m\u001b[43mfilepath_or_buffer\u001b[49m\u001b[43m,\u001b[49m\u001b[43m \u001b[49m\u001b[43mkwds\u001b[49m\u001b[43m)\u001b[49m\n",
      "File \u001b[1;32m~\\Desktop\\time-series-da-main\\venv\\lib\\site-packages\\pandas\\io\\parsers\\readers.py:577\u001b[0m, in \u001b[0;36m_read\u001b[1;34m(filepath_or_buffer, kwds)\u001b[0m\n\u001b[0;32m    574\u001b[0m _validate_names(kwds\u001b[38;5;241m.\u001b[39mget(\u001b[38;5;124m\"\u001b[39m\u001b[38;5;124mnames\u001b[39m\u001b[38;5;124m\"\u001b[39m, \u001b[38;5;28;01mNone\u001b[39;00m))\n\u001b[0;32m    576\u001b[0m \u001b[38;5;66;03m# Create the parser.\u001b[39;00m\n\u001b[1;32m--> 577\u001b[0m parser \u001b[38;5;241m=\u001b[39m TextFileReader(filepath_or_buffer, \u001b[38;5;241m*\u001b[39m\u001b[38;5;241m*\u001b[39mkwds)\n\u001b[0;32m    579\u001b[0m \u001b[38;5;28;01mif\u001b[39;00m chunksize \u001b[38;5;129;01mor\u001b[39;00m iterator:\n\u001b[0;32m    580\u001b[0m     \u001b[38;5;28;01mreturn\u001b[39;00m parser\n",
      "File \u001b[1;32m~\\Desktop\\time-series-da-main\\venv\\lib\\site-packages\\pandas\\io\\parsers\\readers.py:1407\u001b[0m, in \u001b[0;36mTextFileReader.__init__\u001b[1;34m(self, f, engine, **kwds)\u001b[0m\n\u001b[0;32m   1404\u001b[0m     \u001b[38;5;28mself\u001b[39m\u001b[38;5;241m.\u001b[39moptions[\u001b[38;5;124m\"\u001b[39m\u001b[38;5;124mhas_index_names\u001b[39m\u001b[38;5;124m\"\u001b[39m] \u001b[38;5;241m=\u001b[39m kwds[\u001b[38;5;124m\"\u001b[39m\u001b[38;5;124mhas_index_names\u001b[39m\u001b[38;5;124m\"\u001b[39m]\n\u001b[0;32m   1406\u001b[0m \u001b[38;5;28mself\u001b[39m\u001b[38;5;241m.\u001b[39mhandles: IOHandles \u001b[38;5;241m|\u001b[39m \u001b[38;5;28;01mNone\u001b[39;00m \u001b[38;5;241m=\u001b[39m \u001b[38;5;28;01mNone\u001b[39;00m\n\u001b[1;32m-> 1407\u001b[0m \u001b[38;5;28mself\u001b[39m\u001b[38;5;241m.\u001b[39m_engine \u001b[38;5;241m=\u001b[39m \u001b[38;5;28;43mself\u001b[39;49m\u001b[38;5;241;43m.\u001b[39;49m\u001b[43m_make_engine\u001b[49m\u001b[43m(\u001b[49m\u001b[43mf\u001b[49m\u001b[43m,\u001b[49m\u001b[43m \u001b[49m\u001b[38;5;28;43mself\u001b[39;49m\u001b[38;5;241;43m.\u001b[39;49m\u001b[43mengine\u001b[49m\u001b[43m)\u001b[49m\n",
      "File \u001b[1;32m~\\Desktop\\time-series-da-main\\venv\\lib\\site-packages\\pandas\\io\\parsers\\readers.py:1661\u001b[0m, in \u001b[0;36mTextFileReader._make_engine\u001b[1;34m(self, f, engine)\u001b[0m\n\u001b[0;32m   1659\u001b[0m     \u001b[38;5;28;01mif\u001b[39;00m \u001b[38;5;124m\"\u001b[39m\u001b[38;5;124mb\u001b[39m\u001b[38;5;124m\"\u001b[39m \u001b[38;5;129;01mnot\u001b[39;00m \u001b[38;5;129;01min\u001b[39;00m mode:\n\u001b[0;32m   1660\u001b[0m         mode \u001b[38;5;241m+\u001b[39m\u001b[38;5;241m=\u001b[39m \u001b[38;5;124m\"\u001b[39m\u001b[38;5;124mb\u001b[39m\u001b[38;5;124m\"\u001b[39m\n\u001b[1;32m-> 1661\u001b[0m \u001b[38;5;28mself\u001b[39m\u001b[38;5;241m.\u001b[39mhandles \u001b[38;5;241m=\u001b[39m \u001b[43mget_handle\u001b[49m\u001b[43m(\u001b[49m\n\u001b[0;32m   1662\u001b[0m \u001b[43m    \u001b[49m\u001b[43mf\u001b[49m\u001b[43m,\u001b[49m\n\u001b[0;32m   1663\u001b[0m \u001b[43m    \u001b[49m\u001b[43mmode\u001b[49m\u001b[43m,\u001b[49m\n\u001b[0;32m   1664\u001b[0m \u001b[43m    \u001b[49m\u001b[43mencoding\u001b[49m\u001b[38;5;241;43m=\u001b[39;49m\u001b[38;5;28;43mself\u001b[39;49m\u001b[38;5;241;43m.\u001b[39;49m\u001b[43moptions\u001b[49m\u001b[38;5;241;43m.\u001b[39;49m\u001b[43mget\u001b[49m\u001b[43m(\u001b[49m\u001b[38;5;124;43m\"\u001b[39;49m\u001b[38;5;124;43mencoding\u001b[39;49m\u001b[38;5;124;43m\"\u001b[39;49m\u001b[43m,\u001b[49m\u001b[43m \u001b[49m\u001b[38;5;28;43;01mNone\u001b[39;49;00m\u001b[43m)\u001b[49m\u001b[43m,\u001b[49m\n\u001b[0;32m   1665\u001b[0m \u001b[43m    \u001b[49m\u001b[43mcompression\u001b[49m\u001b[38;5;241;43m=\u001b[39;49m\u001b[38;5;28;43mself\u001b[39;49m\u001b[38;5;241;43m.\u001b[39;49m\u001b[43moptions\u001b[49m\u001b[38;5;241;43m.\u001b[39;49m\u001b[43mget\u001b[49m\u001b[43m(\u001b[49m\u001b[38;5;124;43m\"\u001b[39;49m\u001b[38;5;124;43mcompression\u001b[39;49m\u001b[38;5;124;43m\"\u001b[39;49m\u001b[43m,\u001b[49m\u001b[43m \u001b[49m\u001b[38;5;28;43;01mNone\u001b[39;49;00m\u001b[43m)\u001b[49m\u001b[43m,\u001b[49m\n\u001b[0;32m   1666\u001b[0m \u001b[43m    \u001b[49m\u001b[43mmemory_map\u001b[49m\u001b[38;5;241;43m=\u001b[39;49m\u001b[38;5;28;43mself\u001b[39;49m\u001b[38;5;241;43m.\u001b[39;49m\u001b[43moptions\u001b[49m\u001b[38;5;241;43m.\u001b[39;49m\u001b[43mget\u001b[49m\u001b[43m(\u001b[49m\u001b[38;5;124;43m\"\u001b[39;49m\u001b[38;5;124;43mmemory_map\u001b[39;49m\u001b[38;5;124;43m\"\u001b[39;49m\u001b[43m,\u001b[49m\u001b[43m \u001b[49m\u001b[38;5;28;43;01mFalse\u001b[39;49;00m\u001b[43m)\u001b[49m\u001b[43m,\u001b[49m\n\u001b[0;32m   1667\u001b[0m \u001b[43m    \u001b[49m\u001b[43mis_text\u001b[49m\u001b[38;5;241;43m=\u001b[39;49m\u001b[43mis_text\u001b[49m\u001b[43m,\u001b[49m\n\u001b[0;32m   1668\u001b[0m \u001b[43m    \u001b[49m\u001b[43merrors\u001b[49m\u001b[38;5;241;43m=\u001b[39;49m\u001b[38;5;28;43mself\u001b[39;49m\u001b[38;5;241;43m.\u001b[39;49m\u001b[43moptions\u001b[49m\u001b[38;5;241;43m.\u001b[39;49m\u001b[43mget\u001b[49m\u001b[43m(\u001b[49m\u001b[38;5;124;43m\"\u001b[39;49m\u001b[38;5;124;43mencoding_errors\u001b[39;49m\u001b[38;5;124;43m\"\u001b[39;49m\u001b[43m,\u001b[49m\u001b[43m \u001b[49m\u001b[38;5;124;43m\"\u001b[39;49m\u001b[38;5;124;43mstrict\u001b[39;49m\u001b[38;5;124;43m\"\u001b[39;49m\u001b[43m)\u001b[49m\u001b[43m,\u001b[49m\n\u001b[0;32m   1669\u001b[0m \u001b[43m    \u001b[49m\u001b[43mstorage_options\u001b[49m\u001b[38;5;241;43m=\u001b[39;49m\u001b[38;5;28;43mself\u001b[39;49m\u001b[38;5;241;43m.\u001b[39;49m\u001b[43moptions\u001b[49m\u001b[38;5;241;43m.\u001b[39;49m\u001b[43mget\u001b[49m\u001b[43m(\u001b[49m\u001b[38;5;124;43m\"\u001b[39;49m\u001b[38;5;124;43mstorage_options\u001b[39;49m\u001b[38;5;124;43m\"\u001b[39;49m\u001b[43m,\u001b[49m\u001b[43m \u001b[49m\u001b[38;5;28;43;01mNone\u001b[39;49;00m\u001b[43m)\u001b[49m\u001b[43m,\u001b[49m\n\u001b[0;32m   1670\u001b[0m \u001b[43m\u001b[49m\u001b[43m)\u001b[49m\n\u001b[0;32m   1671\u001b[0m \u001b[38;5;28;01massert\u001b[39;00m \u001b[38;5;28mself\u001b[39m\u001b[38;5;241m.\u001b[39mhandles \u001b[38;5;129;01mis\u001b[39;00m \u001b[38;5;129;01mnot\u001b[39;00m \u001b[38;5;28;01mNone\u001b[39;00m\n\u001b[0;32m   1672\u001b[0m f \u001b[38;5;241m=\u001b[39m \u001b[38;5;28mself\u001b[39m\u001b[38;5;241m.\u001b[39mhandles\u001b[38;5;241m.\u001b[39mhandle\n",
      "File \u001b[1;32m~\\Desktop\\time-series-da-main\\venv\\lib\\site-packages\\pandas\\io\\common.py:859\u001b[0m, in \u001b[0;36mget_handle\u001b[1;34m(path_or_buf, mode, encoding, compression, memory_map, is_text, errors, storage_options)\u001b[0m\n\u001b[0;32m    854\u001b[0m \u001b[38;5;28;01melif\u001b[39;00m \u001b[38;5;28misinstance\u001b[39m(handle, \u001b[38;5;28mstr\u001b[39m):\n\u001b[0;32m    855\u001b[0m     \u001b[38;5;66;03m# Check whether the filename is to be opened in binary mode.\u001b[39;00m\n\u001b[0;32m    856\u001b[0m     \u001b[38;5;66;03m# Binary mode does not support 'encoding' and 'newline'.\u001b[39;00m\n\u001b[0;32m    857\u001b[0m     \u001b[38;5;28;01mif\u001b[39;00m ioargs\u001b[38;5;241m.\u001b[39mencoding \u001b[38;5;129;01mand\u001b[39;00m \u001b[38;5;124m\"\u001b[39m\u001b[38;5;124mb\u001b[39m\u001b[38;5;124m\"\u001b[39m \u001b[38;5;129;01mnot\u001b[39;00m \u001b[38;5;129;01min\u001b[39;00m ioargs\u001b[38;5;241m.\u001b[39mmode:\n\u001b[0;32m    858\u001b[0m         \u001b[38;5;66;03m# Encoding\u001b[39;00m\n\u001b[1;32m--> 859\u001b[0m         handle \u001b[38;5;241m=\u001b[39m \u001b[38;5;28;43mopen\u001b[39;49m\u001b[43m(\u001b[49m\n\u001b[0;32m    860\u001b[0m \u001b[43m            \u001b[49m\u001b[43mhandle\u001b[49m\u001b[43m,\u001b[49m\n\u001b[0;32m    861\u001b[0m \u001b[43m            \u001b[49m\u001b[43mioargs\u001b[49m\u001b[38;5;241;43m.\u001b[39;49m\u001b[43mmode\u001b[49m\u001b[43m,\u001b[49m\n\u001b[0;32m    862\u001b[0m \u001b[43m            \u001b[49m\u001b[43mencoding\u001b[49m\u001b[38;5;241;43m=\u001b[39;49m\u001b[43mioargs\u001b[49m\u001b[38;5;241;43m.\u001b[39;49m\u001b[43mencoding\u001b[49m\u001b[43m,\u001b[49m\n\u001b[0;32m    863\u001b[0m \u001b[43m            \u001b[49m\u001b[43merrors\u001b[49m\u001b[38;5;241;43m=\u001b[39;49m\u001b[43merrors\u001b[49m\u001b[43m,\u001b[49m\n\u001b[0;32m    864\u001b[0m \u001b[43m            \u001b[49m\u001b[43mnewline\u001b[49m\u001b[38;5;241;43m=\u001b[39;49m\u001b[38;5;124;43m\"\u001b[39;49m\u001b[38;5;124;43m\"\u001b[39;49m\u001b[43m,\u001b[49m\n\u001b[0;32m    865\u001b[0m \u001b[43m        \u001b[49m\u001b[43m)\u001b[49m\n\u001b[0;32m    866\u001b[0m     \u001b[38;5;28;01melse\u001b[39;00m:\n\u001b[0;32m    867\u001b[0m         \u001b[38;5;66;03m# Binary mode\u001b[39;00m\n\u001b[0;32m    868\u001b[0m         handle \u001b[38;5;241m=\u001b[39m \u001b[38;5;28mopen\u001b[39m(handle, ioargs\u001b[38;5;241m.\u001b[39mmode)\n",
      "\u001b[1;31mFileNotFoundError\u001b[0m: [Errno 2] No such file or directory: './data/bitcoin2023_t.csv'"
     ]
    }
   ],
   "source": [
    "df = pd.read_csv('./data/bitcoin2023_t.csv')\n",
    "print(df)"
   ]
  },
  {
   "cell_type": "code",
   "execution_count": null,
   "id": "9af29875-c44f-44f3-aad5-ed6d3121d552",
   "metadata": {},
   "outputs": [],
   "source": []
  },
  {
   "cell_type": "code",
   "execution_count": 3,
   "id": "f3059d1f-cabe-4f9c-907e-aa4b59725864",
   "metadata": {
    "tags": []
   },
   "outputs": [],
   "source": [
    "class PastSampler:\n",
    "    '''\n",
    "    Forms training samples for predicting future values from past value\n",
    "    '''\n",
    "     \n",
    "    def __init__(self, N, K, sliding_window = True):\n",
    "        '''\n",
    "        Predict K future sample using N previous samples\n",
    "        '''\n",
    "        self.K = K\n",
    "        self.N = N\n",
    "        self.sliding_window = sliding_window\n",
    " \n",
    "    def transform(self, A):\n",
    "        M = self.N + self.K     #Number of samples per row (sample + target)\n",
    "        #indexes\n",
    "        I = np.arange(M) + np.arange(0, A.shape[0] - M + self.sliding_window, M).reshape(-1, 1)\n",
    "            \n",
    "        B = A[I].reshape(-1, M * A.shape[1], A.shape[2])\n",
    "        ci = self.N * A.shape[1]    #Number of features per sample\n",
    "        return B[:, :ci], B[:, ci:] #Sample matrix, Target matrix\n",
    "\n",
    "#data file path\n",
    "# dfp = 'data/bitcoin2015to2017.csv'\n",
    "# dfp = 'data/Bitstamp_BTCUSD_1h.csv' # 2018-05-15 to 2023-05-08\n",
    "dfp = './data/bitcoin2023_t.csv' # 2018-05-15 to 2023-05-08\n",
    "# [unix, date, symbol, open, high, low, close, Volume BTC, Volume USD]\n",
    "\n",
    "#Columns of price data to use\n",
    "columns = ['trade_price']\n",
    "df = pd.read_csv(dfp)\n",
    "time_stamps = df['candle_date_time_kst']\n",
    "df = df.loc[:,columns]\n",
    "original_df = pd.read_csv(dfp).loc[:,columns]"
   ]
  },
  {
   "cell_type": "code",
   "execution_count": 4,
   "id": "59f1e286-854d-4c29-a1c3-3d9d78911e05",
   "metadata": {
    "tags": []
   },
   "outputs": [
    {
     "data": {
      "text/html": [
       "<div>\n",
       "<style scoped>\n",
       "    .dataframe tbody tr th:only-of-type {\n",
       "        vertical-align: middle;\n",
       "    }\n",
       "\n",
       "    .dataframe tbody tr th {\n",
       "        vertical-align: top;\n",
       "    }\n",
       "\n",
       "    .dataframe thead th {\n",
       "        text-align: right;\n",
       "    }\n",
       "</style>\n",
       "<table border=\"1\" class=\"dataframe\">\n",
       "  <thead>\n",
       "    <tr style=\"text-align: right;\">\n",
       "      <th></th>\n",
       "      <th>trade_price</th>\n",
       "    </tr>\n",
       "  </thead>\n",
       "  <tbody>\n",
       "    <tr>\n",
       "      <th>0</th>\n",
       "      <td>36975000</td>\n",
       "    </tr>\n",
       "    <tr>\n",
       "      <th>1</th>\n",
       "      <td>36995000</td>\n",
       "    </tr>\n",
       "    <tr>\n",
       "      <th>2</th>\n",
       "      <td>37001000</td>\n",
       "    </tr>\n",
       "    <tr>\n",
       "      <th>3</th>\n",
       "      <td>37000000</td>\n",
       "    </tr>\n",
       "    <tr>\n",
       "      <th>4</th>\n",
       "      <td>37001000</td>\n",
       "    </tr>\n",
       "    <tr>\n",
       "      <th>...</th>\n",
       "      <td>...</td>\n",
       "    </tr>\n",
       "    <tr>\n",
       "      <th>588858</th>\n",
       "      <td>4215000</td>\n",
       "    </tr>\n",
       "    <tr>\n",
       "      <th>588859</th>\n",
       "      <td>4227000</td>\n",
       "    </tr>\n",
       "    <tr>\n",
       "      <th>588860</th>\n",
       "      <td>4227000</td>\n",
       "    </tr>\n",
       "    <tr>\n",
       "      <th>588861</th>\n",
       "      <td>4227000</td>\n",
       "    </tr>\n",
       "    <tr>\n",
       "      <th>588862</th>\n",
       "      <td>4224000</td>\n",
       "    </tr>\n",
       "  </tbody>\n",
       "</table>\n",
       "<p>588863 rows × 1 columns</p>\n",
       "</div>"
      ],
      "text/plain": [
       "        trade_price\n",
       "0          36975000\n",
       "1          36995000\n",
       "2          37001000\n",
       "3          37000000\n",
       "4          37001000\n",
       "...             ...\n",
       "588858      4215000\n",
       "588859      4227000\n",
       "588860      4227000\n",
       "588861      4227000\n",
       "588862      4224000\n",
       "\n",
       "[588863 rows x 1 columns]"
      ]
     },
     "execution_count": 4,
     "metadata": {},
     "output_type": "execute_result"
    }
   ],
   "source": [
    "df"
   ]
  },
  {
   "cell_type": "code",
   "execution_count": 5,
   "id": "72f11155-2cb7-48f7-a8e8-ecc495c88752",
   "metadata": {
    "tags": []
   },
   "outputs": [
    {
     "data": {
      "text/plain": [
       "0         2023-05-09T14:05:00\n",
       "1         2023-05-09T14:00:00\n",
       "2         2023-05-09T13:55:00\n",
       "3         2023-05-09T13:50:00\n",
       "4         2023-05-09T13:45:00\n",
       "                 ...         \n",
       "588858    2017-09-25T12:20:00\n",
       "588859    2017-09-25T12:15:00\n",
       "588860    2017-09-25T12:10:00\n",
       "588861    2017-09-25T12:05:00\n",
       "588862    2017-09-25T12:00:00\n",
       "Name: candle_date_time_kst, Length: 588863, dtype: object"
      ]
     },
     "execution_count": 5,
     "metadata": {},
     "output_type": "execute_result"
    }
   ],
   "source": [
    "time_stamps"
   ]
  },
  {
   "cell_type": "code",
   "execution_count": 6,
   "id": "3d88ecb3-d208-44b2-bd6e-77ec9cfd1737",
   "metadata": {
    "tags": []
   },
   "outputs": [],
   "source": [
    "# file_name='bitcoin2015to2017_close.h5'\n",
    "file_name='bitcoin2017to2023_close.h5'\n",
    "\n",
    "from sklearn.preprocessing import MinMaxScaler\n",
    "scaler = MinMaxScaler()\n",
    "# normalization: 하나씩\n",
    "for c in columns:\n",
    "  df[c] = scaler.fit_transform(df[c].values.reshape(-1,1))\n",
    "\n",
    "# normalization: 전체\n",
    "# df_normalized = pd.DataFrame(scaler.fit_transform(df), columns=df.columns)\n",
    "     "
   ]
  },
  {
   "cell_type": "code",
   "execution_count": 7,
   "id": "03947d22-d251-4744-affa-03cd1ad0b371",
   "metadata": {
    "tags": []
   },
   "outputs": [],
   "source": [
    "#Features are input sample dimensions(channels)\n",
    "A = np.array(df)[:,None,:]\n",
    "original_A = np.array(original_df)[:,None,:]\n",
    "time_stamps = np.array(time_stamps)[:,None,None]\n",
    "#Make samples of temporal sequences of pricing data (channel)\n",
    "# NPS, NFS = 24, 1  #Number of past and future samples: 24시간으로 1시간 예측\n",
    "NPS, NFS = 8, 1\n",
    "ps = PastSampler(NPS, NFS, sliding_window=True)\n",
    "B, Y = ps.transform(A)\n",
    "input_times, output_times = ps.transform(time_stamps)\n",
    "original_B, original_Y = ps.transform(original_A)"
   ]
  },
  {
   "cell_type": "code",
   "execution_count": 8,
   "id": "494439c0-6dc5-4278-b60c-82e230d70af5",
   "metadata": {
    "tags": []
   },
   "outputs": [],
   "source": [
    "import h5py\n",
    "with h5py.File(file_name, 'w') as f:\n",
    "    f.create_dataset(\"inputs\", data = B)\n",
    "    f.create_dataset('outputs', data = Y)\n",
    "    f.create_dataset(\"input_times\", data = input_times)\n",
    "    f.create_dataset('output_times', data = output_times)\n",
    "    f.create_dataset(\"original_datas\", data=np.array(original_df))\n",
    "    f.create_dataset('original_inputs',data=original_B)\n",
    "    f.create_dataset('original_outputs',data=original_Y)"
   ]
  },
  {
   "cell_type": "code",
   "execution_count": 9,
   "id": "86dae2cf-f6b4-4061-8d50-6c80e9f31985",
   "metadata": {
    "tags": []
   },
   "outputs": [
    {
     "data": {
      "text/plain": [
       "(65429, 8, 1)"
      ]
     },
     "execution_count": 9,
     "metadata": {},
     "output_type": "execute_result"
    }
   ],
   "source": [
    "B.shape"
   ]
  },
  {
   "cell_type": "code",
   "execution_count": 10,
   "id": "d8b36e7d-6b21-47a6-9019-4713096f9c33",
   "metadata": {
    "tags": []
   },
   "outputs": [
    {
     "name": "stdout",
     "output_type": "stream",
     "text": [
      "Requirement already satisfied: imageio in c:\\users\\sw\\desktop\\coinproject\\venv\\lib\\site-packages (2.28.1)\n",
      "Requirement already satisfied: numpy in c:\\users\\sw\\desktop\\coinproject\\venv\\lib\\site-packages (from imageio) (1.23.5)\n",
      "Requirement already satisfied: pillow>=8.3.2 in c:\\users\\sw\\desktop\\coinproject\\venv\\lib\\site-packages (from imageio) (9.5.0)\n"
     ]
    }
   ],
   "source": [
    "!pip install imageio"
   ]
  },
  {
   "cell_type": "code",
   "execution_count": 11,
   "id": "932763e0-b5a8-4ae1-93b9-c838f3f365a2",
   "metadata": {
    "tags": []
   },
   "outputs": [
    {
     "name": "stdout",
     "output_type": "stream",
     "text": [
      "WARNING:tensorflow:From C:\\Users\\SW\\AppData\\Local\\Temp\\ipykernel_8668\\3027495001.py:32: The name tf.keras.backend.set_session is deprecated. Please use tf.compat.v1.keras.backend.set_session instead.\n",
      "\n"
     ]
    }
   ],
   "source": [
    "from keras import applications\n",
    "from keras.models import Sequential\n",
    "from keras.models import Model\n",
    "from keras.layers import Dropout, Flatten, Dense, Activation\n",
    "from keras.callbacks import CSVLogger\n",
    "import tensorflow as tf\n",
    "from imageio import imread\n",
    "import numpy as np\n",
    "import random\n",
    "from keras.layers import LSTM\n",
    "from keras.layers import Conv1D, MaxPooling1D\n",
    "from keras import backend as K\n",
    "import keras\n",
    "from keras.callbacks import CSVLogger, ModelCheckpoint\n",
    "from keras import optimizers\n",
    "import h5py\n",
    "from sklearn.preprocessing import MinMaxScaler\n",
    "import os\n",
    "import pandas as pd\n",
    "# import matplotlib\n",
    "\n",
    "import matplotlib.pyplot as plt\n",
    "plt.switch_backend('agg')\n",
    "os.environ['TF_FORCE_GPU_ALLOW_GROWTH'] = 'True'\n",
    "os.environ['CUDA_DEVICE_ORDER'] = 'PCI_BUS_ID'\n",
    "os.environ['CUDA_VISIBLE_DEVICES'] = '1'\n",
    "os.environ['TF_CPP_MIN_LOG_LEVEL']='2'\n",
    "\n",
    "config = tf.compat.v1.ConfigProto()\n",
    "config.gpu_options.allow_growth = True\n",
    "sess = tf.compat.v1.Session(config=config)\n",
    "tf.compat.v1.keras.backend.set_session(sess)\n",
    "\n",
    "with h5py.File(''.join(['bitcoin2017to2023_close.h5']), 'r') as hf:\n",
    "    datas = hf['inputs'][()]\n",
    "    labels = hf['outputs'][()]\n",
    "    input_times = hf['input_times'][()]\n",
    "    output_times = hf['output_times'][()]\n",
    "    original_datas = hf['original_datas'][()]\n",
    "    original_outputs = hf['original_outputs'][()]"
   ]
  },
  {
   "cell_type": "code",
   "execution_count": 12,
   "id": "046a0b74-d649-49d4-a6e6-b8679fc78b83",
   "metadata": {
    "tags": []
   },
   "outputs": [],
   "source": [
    "scaler=MinMaxScaler()\n",
    "#split training validation\n",
    "training_size = int(0.8* datas.shape[0]) #80%\n",
    "training_datas = datas[:training_size,:]\n",
    "training_labels = labels[:training_size,:]\n",
    "validation_datas = datas[training_size:,:]\n",
    "validation_labels = labels[training_size:,:]\n",
    "ground_true = original_outputs[training_size:,:]"
   ]
  },
  {
   "cell_type": "code",
   "execution_count": 13,
   "id": "1b3e42bf-b631-49b7-99b9-014e0c66a133",
   "metadata": {
    "tags": []
   },
   "outputs": [],
   "source": [
    "step_size = datas.shape[1]\n",
    "batch_size= 32\n",
    "nb_features = datas.shape[2]\n",
    "epochs = 100"
   ]
  },
  {
   "cell_type": "code",
   "execution_count": 14,
   "id": "3ce6627c-b22a-4505-8c8f-32e43ac74a84",
   "metadata": {
    "tags": []
   },
   "outputs": [],
   "source": [
    "#build model\n",
    "model = Sequential()\n",
    "model.add(Conv1D(activation=\"relu\", input_shape=(step_size, nb_features), strides=3\t, filters=8, kernel_size=8))\n",
    "# model.add(Dropout(0.05))\n",
    "model.add(Conv1D( strides=4, padding='same', filters=nb_features, kernel_size=8))\n",
    "model.add(LSTM(100, input_shape=(None, 1), activation='relu'))\n",
    "model.add(Dense(1))\n",
    "\n",
    "model.compile(loss='mse', optimizer='adam')"
   ]
  },
  {
   "cell_type": "code",
   "execution_count": 15,
   "id": "c40775c8-2adc-4f3c-9623-617e1416a0f3",
   "metadata": {
    "tags": []
   },
   "outputs": [
    {
     "name": "stdout",
     "output_type": "stream",
     "text": [
      "Epoch 1/100\n",
      "1627/1636 [============================>.] - ETA: 0s - loss: 0.0061\n",
      "Epoch 1: saving model to weights_2017to2023\\2017to2023_BTC-KRW-01-0.00000.hdf5\n",
      "1636/1636 [==============================] - 4s 2ms/step - loss: 0.0060 - val_loss: 1.5599e-06\n",
      "Epoch 2/100\n",
      "1600/1636 [============================>.] - ETA: 0s - loss: 3.4829e-06\n",
      "Epoch 2: saving model to weights_2017to2023\\2017to2023_BTC-KRW-02-0.00000.hdf5\n",
      "1636/1636 [==============================] - 2s 2ms/step - loss: 3.4783e-06 - val_loss: 1.3878e-06\n",
      "Epoch 3/100\n",
      "1616/1636 [============================>.] - ETA: 0s - loss: 3.8006e-06\n",
      "Epoch 3: saving model to weights_2017to2023\\2017to2023_BTC-KRW-03-0.00000.hdf5\n",
      "1636/1636 [==============================] - 2s 1ms/step - loss: 3.7889e-06 - val_loss: 1.3561e-06\n",
      "Epoch 4/100\n",
      "1624/1636 [============================>.] - ETA: 0s - loss: 4.3419e-06\n",
      "Epoch 4: saving model to weights_2017to2023\\2017to2023_BTC-KRW-04-0.00000.hdf5\n",
      "1636/1636 [==============================] - 2s 1ms/step - loss: 4.3397e-06 - val_loss: 2.3767e-06\n",
      "Epoch 5/100\n",
      "1607/1636 [============================>.] - ETA: 0s - loss: 4.2349e-06\n",
      "Epoch 5: saving model to weights_2017to2023\\2017to2023_BTC-KRW-05-0.00000.hdf5\n",
      "1636/1636 [==============================] - 2s 1ms/step - loss: 4.2349e-06 - val_loss: 1.4990e-06\n",
      "Epoch 6/100\n",
      "1621/1636 [============================>.] - ETA: 0s - loss: 4.2078e-06\n",
      "Epoch 6: saving model to weights_2017to2023\\2017to2023_BTC-KRW-06-0.00000.hdf5\n",
      "1636/1636 [==============================] - 2s 1ms/step - loss: 4.1920e-06 - val_loss: 1.3297e-06\n",
      "Epoch 7/100\n",
      "1613/1636 [============================>.] - ETA: 0s - loss: 4.3660e-06\n",
      "Epoch 7: saving model to weights_2017to2023\\2017to2023_BTC-KRW-07-0.00000.hdf5\n",
      "1636/1636 [==============================] - 2s 1ms/step - loss: 4.3474e-06 - val_loss: 1.1825e-06\n",
      "Epoch 8/100\n",
      "1623/1636 [============================>.] - ETA: 0s - loss: 4.2064e-06\n",
      "Epoch 8: saving model to weights_2017to2023\\2017to2023_BTC-KRW-08-0.00000.hdf5\n",
      "1636/1636 [==============================] - 2s 1ms/step - loss: 4.2000e-06 - val_loss: 1.5141e-06\n",
      "Epoch 9/100\n",
      "1625/1636 [============================>.] - ETA: 0s - loss: 4.2076e-06\n",
      "Epoch 9: saving model to weights_2017to2023\\2017to2023_BTC-KRW-09-0.00000.hdf5\n",
      "1636/1636 [==============================] - 2s 1ms/step - loss: 4.2162e-06 - val_loss: 1.4505e-06\n",
      "Epoch 10/100\n",
      "1635/1636 [============================>.] - ETA: 0s - loss: 3.9998e-06\n",
      "Epoch 10: saving model to weights_2017to2023\\2017to2023_BTC-KRW-10-0.00000.hdf5\n",
      "1636/1636 [==============================] - 2s 2ms/step - loss: 3.9987e-06 - val_loss: 1.2261e-06\n",
      "Epoch 11/100\n",
      "1613/1636 [============================>.] - ETA: 0s - loss: 4.1110e-06\n",
      "Epoch 11: saving model to weights_2017to2023\\2017to2023_BTC-KRW-11-0.00000.hdf5\n",
      "1636/1636 [==============================] - 2s 2ms/step - loss: 4.0963e-06 - val_loss: 1.3461e-06\n",
      "Epoch 12/100\n",
      "1624/1636 [============================>.] - ETA: 0s - loss: 4.0793e-06\n",
      "Epoch 12: saving model to weights_2017to2023\\2017to2023_BTC-KRW-12-0.00000.hdf5\n",
      "1636/1636 [==============================] - 2s 1ms/step - loss: 4.1060e-06 - val_loss: 4.0763e-06\n",
      "Epoch 13/100\n",
      "1626/1636 [============================>.] - ETA: 0s - loss: 3.7960e-06\n",
      "Epoch 13: saving model to weights_2017to2023\\2017to2023_BTC-KRW-13-0.00000.hdf5\n",
      "1636/1636 [==============================] - 2s 1ms/step - loss: 3.8103e-06 - val_loss: 1.1560e-06\n",
      "Epoch 14/100\n",
      "1618/1636 [============================>.] - ETA: 0s - loss: 3.9068e-06\n",
      "Epoch 14: saving model to weights_2017to2023\\2017to2023_BTC-KRW-14-0.00000.hdf5\n",
      "1636/1636 [==============================] - 2s 2ms/step - loss: 3.8928e-06 - val_loss: 1.1942e-06\n",
      "Epoch 15/100\n",
      "1636/1636 [==============================] - ETA: 0s - loss: 3.8724e-06\n",
      "Epoch 15: saving model to weights_2017to2023\\2017to2023_BTC-KRW-15-0.00000.hdf5\n",
      "1636/1636 [==============================] - 2s 2ms/step - loss: 3.8724e-06 - val_loss: 1.0734e-06\n",
      "Epoch 16/100\n",
      "1604/1636 [============================>.] - ETA: 0s - loss: 3.7555e-06\n",
      "Epoch 16: saving model to weights_2017to2023\\2017to2023_BTC-KRW-16-0.00000.hdf5\n",
      "1636/1636 [==============================] - 3s 2ms/step - loss: 3.7834e-06 - val_loss: 1.6691e-06\n",
      "Epoch 17/100\n",
      "1632/1636 [============================>.] - ETA: 0s - loss: 3.8494e-06\n",
      "Epoch 17: saving model to weights_2017to2023\\2017to2023_BTC-KRW-17-0.00000.hdf5\n",
      "1636/1636 [==============================] - 2s 2ms/step - loss: 3.8443e-06 - val_loss: 1.1758e-06\n",
      "Epoch 18/100\n",
      "1611/1636 [============================>.] - ETA: 0s - loss: 3.7109e-06\n",
      "Epoch 18: saving model to weights_2017to2023\\2017to2023_BTC-KRW-18-0.00000.hdf5\n",
      "1636/1636 [==============================] - 2s 2ms/step - loss: 3.7022e-06 - val_loss: 1.0768e-06\n",
      "Epoch 19/100\n",
      "1634/1636 [============================>.] - ETA: 0s - loss: 3.9272e-06\n",
      "Epoch 19: saving model to weights_2017to2023\\2017to2023_BTC-KRW-19-0.00000.hdf5\n",
      "1636/1636 [==============================] - 2s 2ms/step - loss: 3.9254e-06 - val_loss: 1.9801e-06\n",
      "Epoch 20/100\n",
      "1609/1636 [============================>.] - ETA: 0s - loss: 3.3985e-06\n",
      "Epoch 20: saving model to weights_2017to2023\\2017to2023_BTC-KRW-20-0.00000.hdf5\n",
      "1636/1636 [==============================] - 2s 2ms/step - loss: 3.4092e-06 - val_loss: 1.2643e-06\n",
      "Epoch 21/100\n",
      "1633/1636 [============================>.] - ETA: 0s - loss: 3.4912e-06\n",
      "Epoch 21: saving model to weights_2017to2023\\2017to2023_BTC-KRW-21-0.00000.hdf5\n",
      "1636/1636 [==============================] - 2s 1ms/step - loss: 3.4968e-06 - val_loss: 2.9674e-06\n",
      "Epoch 22/100\n",
      "1613/1636 [============================>.] - ETA: 0s - loss: 3.2848e-06\n",
      "Epoch 22: saving model to weights_2017to2023\\2017to2023_BTC-KRW-22-0.00000.hdf5\n",
      "1636/1636 [==============================] - 2s 2ms/step - loss: 3.2960e-06 - val_loss: 1.0511e-06\n",
      "Epoch 23/100\n",
      "1634/1636 [============================>.] - ETA: 0s - loss: 3.0996e-06\n",
      "Epoch 23: saving model to weights_2017to2023\\2017to2023_BTC-KRW-23-0.00000.hdf5\n",
      "1636/1636 [==============================] - 3s 2ms/step - loss: 3.0985e-06 - val_loss: 1.3768e-06\n",
      "Epoch 24/100\n",
      "1620/1636 [============================>.] - ETA: 0s - loss: 3.3312e-06\n",
      "Epoch 24: saving model to weights_2017to2023\\2017to2023_BTC-KRW-24-0.00000.hdf5\n",
      "1636/1636 [==============================] - 3s 2ms/step - loss: 3.3316e-06 - val_loss: 1.9048e-06\n",
      "Epoch 25/100\n",
      "1614/1636 [============================>.] - ETA: 0s - loss: 3.0592e-06\n",
      "Epoch 25: saving model to weights_2017to2023\\2017to2023_BTC-KRW-25-0.00000.hdf5\n",
      "1636/1636 [==============================] - 2s 2ms/step - loss: 3.0516e-06 - val_loss: 9.7825e-07\n",
      "Epoch 26/100\n",
      "1624/1636 [============================>.] - ETA: 0s - loss: 3.4963e-06\n",
      "Epoch 26: saving model to weights_2017to2023\\2017to2023_BTC-KRW-26-0.00000.hdf5\n",
      "1636/1636 [==============================] - 2s 2ms/step - loss: 3.4878e-06 - val_loss: 1.5734e-06\n",
      "Epoch 27/100\n",
      "1629/1636 [============================>.] - ETA: 0s - loss: 3.1140e-06\n",
      "Epoch 27: saving model to weights_2017to2023\\2017to2023_BTC-KRW-27-0.00000.hdf5\n",
      "1636/1636 [==============================] - 2s 2ms/step - loss: 3.1139e-06 - val_loss: 9.2962e-07\n",
      "Epoch 28/100\n",
      "1630/1636 [============================>.] - ETA: 0s - loss: 3.0831e-06\n",
      "Epoch 28: saving model to weights_2017to2023\\2017to2023_BTC-KRW-28-0.00000.hdf5\n",
      "1636/1636 [==============================] - 2s 2ms/step - loss: 3.0808e-06 - val_loss: 8.7902e-07\n",
      "Epoch 29/100\n",
      "1625/1636 [============================>.] - ETA: 0s - loss: 3.0361e-06\n",
      "Epoch 29: saving model to weights_2017to2023\\2017to2023_BTC-KRW-29-0.00000.hdf5\n",
      "1636/1636 [==============================] - 3s 2ms/step - loss: 3.0309e-06 - val_loss: 8.6932e-07\n",
      "Epoch 30/100\n",
      "1606/1636 [============================>.] - ETA: 0s - loss: 3.0728e-06\n",
      "Epoch 30: saving model to weights_2017to2023\\2017to2023_BTC-KRW-30-0.00000.hdf5\n",
      "1636/1636 [==============================] - 3s 2ms/step - loss: 3.0666e-06 - val_loss: 1.8738e-06\n",
      "Epoch 31/100\n",
      "1621/1636 [============================>.] - ETA: 0s - loss: 3.0325e-06\n",
      "Epoch 31: saving model to weights_2017to2023\\2017to2023_BTC-KRW-31-0.00000.hdf5\n",
      "1636/1636 [==============================] - 3s 2ms/step - loss: 3.0378e-06 - val_loss: 1.1519e-06\n",
      "Epoch 32/100\n",
      "1614/1636 [============================>.] - ETA: 0s - loss: 2.9431e-06\n",
      "Epoch 32: saving model to weights_2017to2023\\2017to2023_BTC-KRW-32-0.00000.hdf5\n",
      "1636/1636 [==============================] - 3s 2ms/step - loss: 2.9274e-06 - val_loss: 8.9721e-07\n",
      "Epoch 33/100\n",
      "1632/1636 [============================>.] - ETA: 0s - loss: 3.0057e-06\n",
      "Epoch 33: saving model to weights_2017to2023\\2017to2023_BTC-KRW-33-0.00000.hdf5\n",
      "1636/1636 [==============================] - 3s 2ms/step - loss: 3.0114e-06 - val_loss: 1.6772e-06\n",
      "Epoch 34/100\n",
      "1626/1636 [============================>.] - ETA: 0s - loss: 2.9391e-06\n",
      "Epoch 34: saving model to weights_2017to2023\\2017to2023_BTC-KRW-34-0.00000.hdf5\n",
      "1636/1636 [==============================] - 2s 2ms/step - loss: 2.9353e-06 - val_loss: 1.7116e-06\n",
      "Epoch 35/100\n",
      "1610/1636 [============================>.] - ETA: 0s - loss: 2.9103e-06\n",
      "Epoch 35: saving model to weights_2017to2023\\2017to2023_BTC-KRW-35-0.00000.hdf5\n",
      "1636/1636 [==============================] - 3s 2ms/step - loss: 2.9016e-06 - val_loss: 9.2516e-07\n",
      "Epoch 36/100\n",
      "1625/1636 [============================>.] - ETA: 0s - loss: 2.7733e-06\n",
      "Epoch 36: saving model to weights_2017to2023\\2017to2023_BTC-KRW-36-0.00000.hdf5\n",
      "1636/1636 [==============================] - 3s 2ms/step - loss: 2.7828e-06 - val_loss: 7.9036e-07\n",
      "Epoch 37/100\n",
      "1636/1636 [==============================] - ETA: 0s - loss: 2.8003e-06\n",
      "Epoch 37: saving model to weights_2017to2023\\2017to2023_BTC-KRW-37-0.00000.hdf5\n",
      "1636/1636 [==============================] - 3s 2ms/step - loss: 2.8003e-06 - val_loss: 8.0500e-07\n",
      "Epoch 38/100\n",
      "1636/1636 [==============================] - ETA: 0s - loss: 2.9480e-06\n",
      "Epoch 38: saving model to weights_2017to2023\\2017to2023_BTC-KRW-38-0.00000.hdf5\n",
      "1636/1636 [==============================] - 3s 2ms/step - loss: 2.9480e-06 - val_loss: 1.0018e-06\n",
      "Epoch 39/100\n",
      "1612/1636 [============================>.] - ETA: 0s - loss: 2.7929e-06\n",
      "Epoch 39: saving model to weights_2017to2023\\2017to2023_BTC-KRW-39-0.00000.hdf5\n",
      "1636/1636 [==============================] - 3s 2ms/step - loss: 2.7761e-06 - val_loss: 1.1491e-06\n",
      "Epoch 40/100\n",
      "1630/1636 [============================>.] - ETA: 0s - loss: 2.8371e-06\n",
      "Epoch 40: saving model to weights_2017to2023\\2017to2023_BTC-KRW-40-0.00000.hdf5\n",
      "1636/1636 [==============================] - 3s 2ms/step - loss: 2.8355e-06 - val_loss: 7.7854e-07\n",
      "Epoch 41/100\n",
      "1606/1636 [============================>.] - ETA: 0s - loss: 2.6828e-06\n",
      "Epoch 41: saving model to weights_2017to2023\\2017to2023_BTC-KRW-41-0.00000.hdf5\n",
      "1636/1636 [==============================] - 3s 2ms/step - loss: 2.6729e-06 - val_loss: 7.6620e-07\n",
      "Epoch 42/100\n",
      "1634/1636 [============================>.] - ETA: 0s - loss: 2.6992e-06\n",
      "Epoch 42: saving model to weights_2017to2023\\2017to2023_BTC-KRW-42-0.00000.hdf5\n",
      "1636/1636 [==============================] - 3s 2ms/step - loss: 2.6973e-06 - val_loss: 7.8275e-07\n",
      "Epoch 43/100\n",
      "1605/1636 [============================>.] - ETA: 0s - loss: 2.7171e-06\n",
      "Epoch 43: saving model to weights_2017to2023\\2017to2023_BTC-KRW-43-0.00000.hdf5\n",
      "1636/1636 [==============================] - 3s 2ms/step - loss: 2.7049e-06 - val_loss: 9.0700e-07\n",
      "Epoch 44/100\n",
      "1611/1636 [============================>.] - ETA: 0s - loss: 2.8583e-06\n",
      "Epoch 44: saving model to weights_2017to2023\\2017to2023_BTC-KRW-44-0.00000.hdf5\n",
      "1636/1636 [==============================] - 3s 2ms/step - loss: 2.8534e-06 - val_loss: 8.3927e-07\n",
      "Epoch 45/100\n",
      "1611/1636 [============================>.] - ETA: 0s - loss: 2.7445e-06\n",
      "Epoch 45: saving model to weights_2017to2023\\2017to2023_BTC-KRW-45-0.00000.hdf5\n",
      "1636/1636 [==============================] - 3s 2ms/step - loss: 2.7395e-06 - val_loss: 8.0665e-07\n",
      "Epoch 46/100\n",
      "1622/1636 [============================>.] - ETA: 0s - loss: 2.5779e-06\n",
      "Epoch 46: saving model to weights_2017to2023\\2017to2023_BTC-KRW-46-0.00000.hdf5\n",
      "1636/1636 [==============================] - 3s 2ms/step - loss: 2.5685e-06 - val_loss: 8.4550e-07\n",
      "Epoch 47/100\n",
      "1611/1636 [============================>.] - ETA: 0s - loss: 2.4400e-06\n",
      "Epoch 47: saving model to weights_2017to2023\\2017to2023_BTC-KRW-47-0.00000.hdf5\n",
      "1636/1636 [==============================] - 3s 2ms/step - loss: 2.4623e-06 - val_loss: 4.7762e-06\n",
      "Epoch 48/100\n",
      "1631/1636 [============================>.] - ETA: 0s - loss: 2.7036e-06\n",
      "Epoch 48: saving model to weights_2017to2023\\2017to2023_BTC-KRW-48-0.00000.hdf5\n",
      "1636/1636 [==============================] - 3s 2ms/step - loss: 2.6993e-06 - val_loss: 7.4329e-07\n",
      "Epoch 49/100\n",
      "1620/1636 [============================>.] - ETA: 0s - loss: 2.5632e-06\n",
      "Epoch 49: saving model to weights_2017to2023\\2017to2023_BTC-KRW-49-0.00000.hdf5\n",
      "1636/1636 [==============================] - 3s 2ms/step - loss: 2.5565e-06 - val_loss: 6.9968e-07\n",
      "Epoch 50/100\n",
      "1605/1636 [============================>.] - ETA: 0s - loss: 2.5798e-06\n",
      "Epoch 50: saving model to weights_2017to2023\\2017to2023_BTC-KRW-50-0.00000.hdf5\n",
      "1636/1636 [==============================] - 3s 2ms/step - loss: 2.5744e-06 - val_loss: 6.9502e-07\n",
      "Epoch 51/100\n",
      "1629/1636 [============================>.] - ETA: 0s - loss: 2.5300e-06\n",
      "Epoch 51: saving model to weights_2017to2023\\2017to2023_BTC-KRW-51-0.00000.hdf5\n",
      "1636/1636 [==============================] - 3s 2ms/step - loss: 2.5263e-06 - val_loss: 7.1258e-07\n",
      "Epoch 52/100\n",
      "1586/1636 [============================>.] - ETA: 0s - loss: 2.7232e-06\n",
      "Epoch 52: saving model to weights_2017to2023\\2017to2023_BTC-KRW-52-0.00000.hdf5\n",
      "1636/1636 [==============================] - 2s 2ms/step - loss: 2.7094e-06 - val_loss: 7.4495e-07\n",
      "Epoch 53/100\n",
      "1605/1636 [============================>.] - ETA: 0s - loss: 2.4080e-06\n",
      "Epoch 53: saving model to weights_2017to2023\\2017to2023_BTC-KRW-53-0.00000.hdf5\n",
      "1636/1636 [==============================] - 2s 2ms/step - loss: 2.3917e-06 - val_loss: 6.8842e-07\n",
      "Epoch 54/100\n",
      "1623/1636 [============================>.] - ETA: 0s - loss: 2.4534e-06\n",
      "Epoch 54: saving model to weights_2017to2023\\2017to2023_BTC-KRW-54-0.00000.hdf5\n",
      "1636/1636 [==============================] - 3s 2ms/step - loss: 2.4475e-06 - val_loss: 7.4345e-07\n",
      "Epoch 55/100\n",
      "1629/1636 [============================>.] - ETA: 0s - loss: 2.4220e-06\n",
      "Epoch 55: saving model to weights_2017to2023\\2017to2023_BTC-KRW-55-0.00000.hdf5\n",
      "1636/1636 [==============================] - 3s 2ms/step - loss: 2.4169e-06 - val_loss: 7.9907e-07\n",
      "Epoch 56/100\n",
      "1601/1636 [============================>.] - ETA: 0s - loss: 2.4012e-06\n",
      "Epoch 56: saving model to weights_2017to2023\\2017to2023_BTC-KRW-56-0.00000.hdf5\n",
      "1636/1636 [==============================] - 3s 2ms/step - loss: 2.4644e-06 - val_loss: 6.8135e-07\n",
      "Epoch 57/100\n",
      "1615/1636 [============================>.] - ETA: 0s - loss: 2.3418e-06\n",
      "Epoch 57: saving model to weights_2017to2023\\2017to2023_BTC-KRW-57-0.00000.hdf5\n",
      "1636/1636 [==============================] - 3s 2ms/step - loss: 2.3336e-06 - val_loss: 1.5268e-06\n",
      "Epoch 58/100\n",
      "1611/1636 [============================>.] - ETA: 0s - loss: 2.4404e-06\n",
      "Epoch 58: saving model to weights_2017to2023\\2017to2023_BTC-KRW-58-0.00000.hdf5\n",
      "1636/1636 [==============================] - 3s 2ms/step - loss: 2.4846e-06 - val_loss: 4.9096e-06\n",
      "Epoch 59/100\n",
      "1618/1636 [============================>.] - ETA: 0s - loss: 2.5620e-06\n",
      "Epoch 59: saving model to weights_2017to2023\\2017to2023_BTC-KRW-59-0.00000.hdf5\n",
      "1636/1636 [==============================] - 3s 2ms/step - loss: 2.5511e-06 - val_loss: 7.0027e-07\n",
      "Epoch 60/100\n",
      "1621/1636 [============================>.] - ETA: 0s - loss: 2.4793e-06\n",
      "Epoch 60: saving model to weights_2017to2023\\2017to2023_BTC-KRW-60-0.00000.hdf5\n",
      "1636/1636 [==============================] - 3s 2ms/step - loss: 2.4771e-06 - val_loss: 9.6143e-07\n",
      "Epoch 61/100\n",
      "1615/1636 [============================>.] - ETA: 0s - loss: 2.2785e-06\n",
      "Epoch 61: saving model to weights_2017to2023\\2017to2023_BTC-KRW-61-0.00000.hdf5\n",
      "1636/1636 [==============================] - 3s 2ms/step - loss: 2.2762e-06 - val_loss: 1.4378e-06\n",
      "Epoch 62/100\n",
      "1618/1636 [============================>.] - ETA: 0s - loss: 2.5818e-06\n",
      "Epoch 62: saving model to weights_2017to2023\\2017to2023_BTC-KRW-62-0.00000.hdf5\n",
      "1636/1636 [==============================] - 3s 2ms/step - loss: 2.5735e-06 - val_loss: 6.5886e-07\n",
      "Epoch 63/100\n",
      "1615/1636 [============================>.] - ETA: 0s - loss: 2.2726e-06\n",
      "Epoch 63: saving model to weights_2017to2023\\2017to2023_BTC-KRW-63-0.00000.hdf5\n",
      "1636/1636 [==============================] - 3s 2ms/step - loss: 2.2747e-06 - val_loss: 7.1741e-07\n",
      "Epoch 64/100\n",
      "1617/1636 [============================>.] - ETA: 0s - loss: 2.5444e-06\n",
      "Epoch 64: saving model to weights_2017to2023\\2017to2023_BTC-KRW-64-0.00000.hdf5\n",
      "1636/1636 [==============================] - 3s 2ms/step - loss: 2.5361e-06 - val_loss: 9.2150e-07\n",
      "Epoch 65/100\n",
      "1622/1636 [============================>.] - ETA: 0s - loss: 2.2700e-06\n",
      "Epoch 65: saving model to weights_2017to2023\\2017to2023_BTC-KRW-65-0.00000.hdf5\n",
      "1636/1636 [==============================] - 3s 2ms/step - loss: 2.2664e-06 - val_loss: 8.6868e-07\n",
      "Epoch 66/100\n",
      "1608/1636 [============================>.] - ETA: 0s - loss: 2.2182e-06\n",
      "Epoch 66: saving model to weights_2017to2023\\2017to2023_BTC-KRW-66-0.00000.hdf5\n",
      "1636/1636 [==============================] - 3s 2ms/step - loss: 2.2315e-06 - val_loss: 7.2128e-07\n",
      "Epoch 67/100\n",
      "1591/1636 [============================>.] - ETA: 0s - loss: 2.3365e-06\n",
      "Epoch 67: saving model to weights_2017to2023\\2017to2023_BTC-KRW-67-0.00000.hdf5\n",
      "1636/1636 [==============================] - 3s 2ms/step - loss: 2.3309e-06 - val_loss: 1.4100e-06\n",
      "Epoch 68/100\n",
      "1604/1636 [============================>.] - ETA: 0s - loss: 2.3150e-06\n",
      "Epoch 68: saving model to weights_2017to2023\\2017to2023_BTC-KRW-68-0.00000.hdf5\n",
      "1636/1636 [==============================] - 3s 2ms/step - loss: 2.3268e-06 - val_loss: 8.2741e-07\n",
      "Epoch 69/100\n",
      "1618/1636 [============================>.] - ETA: 0s - loss: 2.5334e-06\n",
      "Epoch 69: saving model to weights_2017to2023\\2017to2023_BTC-KRW-69-0.00000.hdf5\n",
      "1636/1636 [==============================] - 3s 2ms/step - loss: 2.5276e-06 - val_loss: 7.4869e-07\n",
      "Epoch 70/100\n",
      "1605/1636 [============================>.] - ETA: 0s - loss: 2.2746e-06\n",
      "Epoch 70: saving model to weights_2017to2023\\2017to2023_BTC-KRW-70-0.00000.hdf5\n",
      "1636/1636 [==============================] - 3s 2ms/step - loss: 2.2901e-06 - val_loss: 6.6837e-07\n",
      "Epoch 71/100\n",
      "1602/1636 [============================>.] - ETA: 0s - loss: 2.2266e-06\n",
      "Epoch 71: saving model to weights_2017to2023\\2017to2023_BTC-KRW-71-0.00000.hdf5\n",
      "1636/1636 [==============================] - 3s 2ms/step - loss: 2.2618e-06 - val_loss: 2.0461e-06\n",
      "Epoch 72/100\n",
      "1611/1636 [============================>.] - ETA: 0s - loss: 2.3341e-06\n",
      "Epoch 72: saving model to weights_2017to2023\\2017to2023_BTC-KRW-72-0.00000.hdf5\n",
      "1636/1636 [==============================] - 3s 2ms/step - loss: 2.3304e-06 - val_loss: 6.3341e-07\n",
      "Epoch 73/100\n",
      "1612/1636 [============================>.] - ETA: 0s - loss: 2.3593e-06\n",
      "Epoch 73: saving model to weights_2017to2023\\2017to2023_BTC-KRW-73-0.00000.hdf5\n",
      "1636/1636 [==============================] - 3s 2ms/step - loss: 2.3530e-06 - val_loss: 7.0803e-07\n",
      "Epoch 74/100\n",
      "1630/1636 [============================>.] - ETA: 0s - loss: 2.3426e-06\n",
      "Epoch 74: saving model to weights_2017to2023\\2017to2023_BTC-KRW-74-0.00000.hdf5\n",
      "1636/1636 [==============================] - 3s 2ms/step - loss: 2.3420e-06 - val_loss: 7.6150e-07\n",
      "Epoch 75/100\n",
      "1602/1636 [============================>.] - ETA: 0s - loss: 2.2514e-06\n",
      "Epoch 75: saving model to weights_2017to2023\\2017to2023_BTC-KRW-75-0.00000.hdf5\n",
      "1636/1636 [==============================] - 3s 2ms/step - loss: 2.2313e-06 - val_loss: 7.2976e-07\n",
      "Epoch 76/100\n",
      "1600/1636 [============================>.] - ETA: 0s - loss: 2.3225e-06\n",
      "Epoch 76: saving model to weights_2017to2023\\2017to2023_BTC-KRW-76-0.00000.hdf5\n",
      "1636/1636 [==============================] - 3s 2ms/step - loss: 2.3326e-06 - val_loss: 2.3337e-06\n",
      "Epoch 77/100\n",
      "1621/1636 [============================>.] - ETA: 0s - loss: 2.2009e-06\n",
      "Epoch 77: saving model to weights_2017to2023\\2017to2023_BTC-KRW-77-0.00000.hdf5\n",
      "1636/1636 [==============================] - 3s 2ms/step - loss: 2.1934e-06 - val_loss: 7.0581e-07\n",
      "Epoch 78/100\n",
      "1594/1636 [============================>.] - ETA: 0s - loss: 2.1854e-06\n",
      "Epoch 78: saving model to weights_2017to2023\\2017to2023_BTC-KRW-78-0.00000.hdf5\n",
      "1636/1636 [==============================] - 3s 2ms/step - loss: 2.2289e-06 - val_loss: 6.2114e-07\n",
      "Epoch 79/100\n",
      "1628/1636 [============================>.] - ETA: 0s - loss: 2.1941e-06\n",
      "Epoch 79: saving model to weights_2017to2023\\2017to2023_BTC-KRW-79-0.00000.hdf5\n",
      "1636/1636 [==============================] - 3s 2ms/step - loss: 2.1894e-06 - val_loss: 6.5247e-07\n",
      "Epoch 80/100\n",
      "1625/1636 [============================>.] - ETA: 0s - loss: 2.4115e-06\n",
      "Epoch 80: saving model to weights_2017to2023\\2017to2023_BTC-KRW-80-0.00000.hdf5\n",
      "1636/1636 [==============================] - 3s 2ms/step - loss: 2.4080e-06 - val_loss: 1.1738e-06\n",
      "Epoch 81/100\n",
      "1636/1636 [==============================] - ETA: 0s - loss: 2.0690e-06\n",
      "Epoch 81: saving model to weights_2017to2023\\2017to2023_BTC-KRW-81-0.00000.hdf5\n",
      "1636/1636 [==============================] - 3s 2ms/step - loss: 2.0690e-06 - val_loss: 7.9133e-07\n",
      "Epoch 82/100\n",
      "1611/1636 [============================>.] - ETA: 0s - loss: 2.3723e-06\n",
      "Epoch 82: saving model to weights_2017to2023\\2017to2023_BTC-KRW-82-0.00000.hdf5\n",
      "1636/1636 [==============================] - 3s 2ms/step - loss: 2.3600e-06 - val_loss: 6.6901e-07\n",
      "Epoch 83/100\n",
      "1621/1636 [============================>.] - ETA: 0s - loss: 2.2658e-06\n",
      "Epoch 83: saving model to weights_2017to2023\\2017to2023_BTC-KRW-83-0.00000.hdf5\n",
      "1636/1636 [==============================] - 3s 2ms/step - loss: 2.2579e-06 - val_loss: 7.4029e-07\n",
      "Epoch 84/100\n",
      "1626/1636 [============================>.] - ETA: 0s - loss: 2.0933e-06\n",
      "Epoch 84: saving model to weights_2017to2023\\2017to2023_BTC-KRW-84-0.00000.hdf5\n",
      "1636/1636 [==============================] - 3s 2ms/step - loss: 2.0997e-06 - val_loss: 8.6370e-07\n",
      "Epoch 85/100\n",
      "1625/1636 [============================>.] - ETA: 0s - loss: 2.1649e-06\n",
      "Epoch 85: saving model to weights_2017to2023\\2017to2023_BTC-KRW-85-0.00000.hdf5\n",
      "1636/1636 [==============================] - 3s 2ms/step - loss: 2.1694e-06 - val_loss: 9.3892e-07\n",
      "Epoch 86/100\n",
      "1594/1636 [============================>.] - ETA: 0s - loss: 2.2826e-06\n",
      "Epoch 86: saving model to weights_2017to2023\\2017to2023_BTC-KRW-86-0.00000.hdf5\n",
      "1636/1636 [==============================] - 3s 2ms/step - loss: 2.2873e-06 - val_loss: 7.0157e-07\n",
      "Epoch 87/100\n",
      "1629/1636 [============================>.] - ETA: 0s - loss: 2.1905e-06\n",
      "Epoch 87: saving model to weights_2017to2023\\2017to2023_BTC-KRW-87-0.00000.hdf5\n",
      "1636/1636 [==============================] - 3s 2ms/step - loss: 2.1917e-06 - val_loss: 8.6687e-07\n",
      "Epoch 88/100\n",
      "1605/1636 [============================>.] - ETA: 0s - loss: 2.3962e-06\n",
      "Epoch 88: saving model to weights_2017to2023\\2017to2023_BTC-KRW-88-0.00000.hdf5\n",
      "1636/1636 [==============================] - 3s 2ms/step - loss: 2.3959e-06 - val_loss: 7.2165e-07\n",
      "Epoch 89/100\n",
      "1629/1636 [============================>.] - ETA: 0s - loss: 2.1999e-06\n",
      "Epoch 89: saving model to weights_2017to2023\\2017to2023_BTC-KRW-89-0.00000.hdf5\n",
      "1636/1636 [==============================] - 3s 2ms/step - loss: 2.2018e-06 - val_loss: 5.8308e-07\n",
      "Epoch 90/100\n",
      "1635/1636 [============================>.] - ETA: 0s - loss: 2.3168e-06\n",
      "Epoch 90: saving model to weights_2017to2023\\2017to2023_BTC-KRW-90-0.00000.hdf5\n",
      "1636/1636 [==============================] - 3s 2ms/step - loss: 2.3161e-06 - val_loss: 5.9914e-07\n",
      "Epoch 91/100\n",
      "1617/1636 [============================>.] - ETA: 0s - loss: 2.2477e-06\n",
      "Epoch 91: saving model to weights_2017to2023\\2017to2023_BTC-KRW-91-0.00000.hdf5\n",
      "1636/1636 [==============================] - 3s 2ms/step - loss: 2.2652e-06 - val_loss: 6.5413e-07\n",
      "Epoch 92/100\n",
      "1607/1636 [============================>.] - ETA: 0s - loss: 2.2588e-06\n",
      "Epoch 92: saving model to weights_2017to2023\\2017to2023_BTC-KRW-92-0.00000.hdf5\n",
      "1636/1636 [==============================] - 3s 2ms/step - loss: 2.2438e-06 - val_loss: 6.3534e-07\n",
      "Epoch 93/100\n",
      "1605/1636 [============================>.] - ETA: 0s - loss: 2.0776e-06\n",
      "Epoch 93: saving model to weights_2017to2023\\2017to2023_BTC-KRW-93-0.00000.hdf5\n",
      "1636/1636 [==============================] - 3s 2ms/step - loss: 2.0627e-06 - val_loss: 6.8296e-07\n",
      "Epoch 94/100\n",
      "1604/1636 [============================>.] - ETA: 0s - loss: 2.1050e-06\n",
      "Epoch 94: saving model to weights_2017to2023\\2017to2023_BTC-KRW-94-0.00000.hdf5\n",
      "1636/1636 [==============================] - 3s 2ms/step - loss: 2.0931e-06 - val_loss: 5.9852e-07\n",
      "Epoch 95/100\n",
      "1601/1636 [============================>.] - ETA: 0s - loss: 2.0806e-06\n",
      "Epoch 95: saving model to weights_2017to2023\\2017to2023_BTC-KRW-95-0.00000.hdf5\n",
      "1636/1636 [==============================] - 3s 2ms/step - loss: 2.0697e-06 - val_loss: 6.3324e-07\n",
      "Epoch 96/100\n",
      "1615/1636 [============================>.] - ETA: 0s - loss: 2.2170e-06\n",
      "Epoch 96: saving model to weights_2017to2023\\2017to2023_BTC-KRW-96-0.00000.hdf5\n",
      "1636/1636 [==============================] - 3s 2ms/step - loss: 2.2193e-06 - val_loss: 6.8589e-07\n",
      "Epoch 97/100\n",
      "1608/1636 [============================>.] - ETA: 0s - loss: 2.0565e-06\n",
      "Epoch 97: saving model to weights_2017to2023\\2017to2023_BTC-KRW-97-0.00000.hdf5\n",
      "1636/1636 [==============================] - 3s 2ms/step - loss: 2.0909e-06 - val_loss: 1.2817e-06\n",
      "Epoch 98/100\n",
      "1612/1636 [============================>.] - ETA: 0s - loss: 2.1505e-06\n",
      "Epoch 98: saving model to weights_2017to2023\\2017to2023_BTC-KRW-98-0.00000.hdf5\n",
      "1636/1636 [==============================] - 3s 2ms/step - loss: 2.1544e-06 - val_loss: 7.4716e-07\n",
      "Epoch 99/100\n",
      "1625/1636 [============================>.] - ETA: 0s - loss: 1.9280e-06\n",
      "Epoch 99: saving model to weights_2017to2023\\2017to2023_BTC-KRW-99-0.00000.hdf5\n",
      "1636/1636 [==============================] - 3s 2ms/step - loss: 1.9283e-06 - val_loss: 1.3834e-06\n",
      "Epoch 100/100\n",
      "1612/1636 [============================>.] - ETA: 0s - loss: 2.2632e-06\n",
      "Epoch 100: saving model to weights_2017to2023\\2017to2023_BTC-KRW-100-0.00000.hdf5\n",
      "1636/1636 [==============================] - 3s 2ms/step - loss: 2.2600e-06 - val_loss: 1.5443e-06\n"
     ]
    }
   ],
   "source": [
    "output_file_name = '2017to2023_BTC-KRW'\n",
    "\n",
    "history = model.fit(\n",
    "    training_datas,\n",
    "    training_labels,\n",
    "    verbose=1,\n",
    "    batch_size=batch_size,\n",
    "    validation_data=(validation_datas, validation_labels),\n",
    "    epochs=epochs,\n",
    "    callbacks=[\n",
    "        CSVLogger(output_file_name+'.csv', append=True),\n",
    "        ModelCheckpoint('weights_2017to2023/'+output_file_name+'-{epoch:02d}-{val_loss:.5f}.hdf5', monitor='val_loss', verbose=1, mode='min')\n",
    "    ]\n",
    ")\n"
   ]
  },
  {
   "cell_type": "code",
   "execution_count": 16,
   "id": "aefee000-712a-4c77-9e04-cc0e6f8f9ceb",
   "metadata": {
    "tags": []
   },
   "outputs": [
    {
     "data": {
      "image/png": "[encoded data removed]",
      "text/plain": [
       "<Figure size 2000x1000 with 1 Axes>"
      ]
     },
     "metadata": {},
     "output_type": "display_data"
    }
   ],
   "source": [
    "%matplotlib inline\n",
    "plt.figure(figsize=(20,10))\n",
    "plt.plot(history.history['loss'])\n",
    "plt.plot(history.history['val_loss'])\n",
    "plt.title('Model loss')\n",
    "plt.ylabel('Loss')\n",
    "plt.xlabel('Epoch')\n",
    "plt.legend(['Train', 'Validation'], loc='upper left')\n",
    "plt.show()"
   ]
  },
  {
   "cell_type": "code",
   "execution_count": 17,
   "id": "65edccf9-e3f8-4798-bc78-55a36e60b9ad",
   "metadata": {
    "tags": []
   },
   "outputs": [
    {
     "data": {
      "image/png": "[encoded data removed]",
      "text/plain": [
       "<Figure size 640x480 with 1 Axes>"
      ]
     },
     "metadata": {},
     "output_type": "display_data"
    }
   ],
   "source": [
    "\n",
    "import matplotlib.pyplot as plt\n",
    "\n",
    "# 학습과 검증 손실 추출\n",
    "train_loss = history.history['loss']\n",
    "val_loss = history.history['val_loss']\n",
    "\n",
    "# 손실 그래프 그리기\n",
    "epochs = range(1, len(train_loss) + 1)\n",
    "plt.plot(epochs, train_loss, 'bo', label='Training loss')\n",
    "plt.plot(epochs, val_loss, 'b', label='Validation loss')\n",
    "plt.title('Training and validation loss')\n",
    "plt.xlabel('Epochs')\n",
    "plt.ylabel('Loss')\n",
    "plt.legend()\n",
    "plt.show()"
   ]
  },
  {
   "cell_type": "code",
   "execution_count": 31,
   "id": "f96771f1-3e4c-4965-b42f-2d4abdb41ff0",
   "metadata": {
    "tags": []
   },
   "outputs": [],
   "source": [
    "with h5py.File(''.join(['./bitcoin2017to2023_close.h5']), 'r') as hf:\n",
    "    datas = hf['inputs'][()]\n",
    "    labels = hf['outputs'][()]\n",
    "    input_times = hf['input_times'][()]\n",
    "    output_times = hf['output_times'][()]\n",
    "    original_inputs = hf['original_inputs'][()]\n",
    "    original_outputs = hf['original_outputs'][()]\n",
    "    original_datas = hf['original_datas'][()]\n",
    "\n",
    "scaler=MinMaxScaler()\n",
    "#split training validation\n",
    "training_size = int(0.8* datas.shape[1])\n",
    "training_datas = datas[:training_size,:,:]\n",
    "training_labels = labels[:training_size,:,:]\n",
    "validation_datas = datas[training_size:,:,:]\n",
    "validation_labels = labels[training_size:,:,:]\n",
    "validation_original_outputs = original_outputs[training_size:,:,:]\n",
    "validation_original_inputs = original_inputs[training_size:,:,:]\n",
    "validation_input_times = input_times[training_size:,:,:]\n",
    "validation_output_times = output_times[training_size:,:,:]\n",
    "\n",
    "ground_true = np.append(validation_original_inputs,validation_original_outputs, axis=1)\n",
    "ground_true_times = np.append(validation_input_times,validation_output_times, axis=1)\n",
    "step_size = datas.shape[1]\n",
    "batch_size= 8\n",
    "nb_features = datas.shape[2]\n",
    "\n",
    "model = Sequential()\n",
    "\n",
    "#build model\n",
    "model = Sequential()\n",
    "model.add(Conv1D(activation=\"relu\", input_shape=(step_size, nb_features), strides=3\t, filters=8, kernel_size=8))\n",
    "# model.add(Dropout(0.05))\n",
    "model.add(Conv1D( strides=4, padding='same', filters=nb_features, kernel_size=8))\n",
    "model.add(LSTM(100, input_shape=(None, 1), activation='relu'))\n",
    "model.add(Dense(1))\n",
    "\n",
    "# 가중치 적용: weights에 생성된 적절한 가중치 선택\n",
    "#model.load_weights('./weights_2017to2023/2017to2023_BTC-KRW-38-0.00000.hdf5')\n",
    "#model.compile(loss='mse', optimizer='adam')"
   ]
  },
  {
   "cell_type": "code",
   "execution_count": 20,
   "id": "42f4d138-3dde-4719-9900-613b6f5ab39c",
   "metadata": {
    "tags": []
   },
   "outputs": [
    {
     "data": {
      "text/plain": [
       "6"
      ]
     },
     "execution_count": 20,
     "metadata": {},
     "output_type": "execute_result"
    }
   ],
   "source": [
    "training_size"
   ]
  },
  {
   "cell_type": "code",
   "execution_count": 36,
   "id": "761d36eb-8272-4ffd-b28c-7a8c67a58285",
   "metadata": {
    "tags": []
   },
   "outputs": [
    {
     "name": "stdout",
     "output_type": "stream",
     "text": [
      "2045/2045 [==============================] - 2s 789us/step\n",
      "(1, 65423, 1)\n"
     ]
    },
    {
     "ename": "ValueError",
     "evalue": "unconverted data remains when parsing with format \"%Y-%m-%dT%H:%M:%S\": \".000000000\", at position 0. You might want to try:\n    - passing `format` if your strings have a consistent format;\n    - passing `format='ISO8601'` if your strings are all ISO8601 but not necessarily in exactly the same format;\n    - passing `format='mixed'`, and the format will be inferred for each element individually. You might want to use `dayfirst` alongside this.",
     "output_type": "error",
     "traceback": [
      "\u001b[1;31m---------------------------------------------------------------------------\u001b[0m",
      "\u001b[1;31mValueError\u001b[0m                                Traceback (most recent call last)",
      "Cell \u001b[1;32mIn[36], line 13\u001b[0m\n\u001b[0;32m     11\u001b[0m ground_true \u001b[38;5;241m=\u001b[39m ground_true\u001b[38;5;241m.\u001b[39mreshape(\u001b[38;5;241m-\u001b[39m\u001b[38;5;241m1\u001b[39m)\n\u001b[0;32m     12\u001b[0m ground_true_times \u001b[38;5;241m=\u001b[39m ground_true_times\u001b[38;5;241m.\u001b[39mreshape(\u001b[38;5;241m-\u001b[39m\u001b[38;5;241m1\u001b[39m)\n\u001b[1;32m---> 13\u001b[0m ground_true_times \u001b[38;5;241m=\u001b[39m \u001b[43mpd\u001b[49m\u001b[38;5;241;43m.\u001b[39;49m\u001b[43mto_datetime\u001b[49m\u001b[43m(\u001b[49m\u001b[43mground_true_times\u001b[49m\u001b[38;5;241;43m.\u001b[39;49m\u001b[43mastype\u001b[49m\u001b[43m(\u001b[49m\u001b[38;5;28;43mstr\u001b[39;49m\u001b[43m)\u001b[49m\u001b[43m,\u001b[49m\u001b[43m \u001b[49m\u001b[38;5;28;43mformat\u001b[39;49m\u001b[38;5;241;43m=\u001b[39;49m\u001b[38;5;124;43m\"\u001b[39;49m\u001b[38;5;124;43m%\u001b[39;49m\u001b[38;5;124;43mY-\u001b[39;49m\u001b[38;5;124;43m%\u001b[39;49m\u001b[38;5;124;43mm-\u001b[39;49m\u001b[38;5;132;43;01m%d\u001b[39;49;00m\u001b[38;5;124;43mT\u001b[39;49m\u001b[38;5;124;43m%\u001b[39;49m\u001b[38;5;124;43mH:\u001b[39;49m\u001b[38;5;124;43m%\u001b[39;49m\u001b[38;5;124;43mM:\u001b[39;49m\u001b[38;5;124;43m%\u001b[39;49m\u001b[38;5;124;43mS\u001b[39;49m\u001b[38;5;124;43m\"\u001b[39;49m\u001b[43m)\u001b[49m\n\u001b[0;32m     14\u001b[0m \u001b[38;5;66;03m# since we are appending in the first dimension\u001b[39;00m\n\u001b[0;32m     15\u001b[0m predicted_inverted \u001b[38;5;241m=\u001b[39m np\u001b[38;5;241m.\u001b[39marray(predicted_inverted)[\u001b[38;5;241m0\u001b[39m,:,:]\u001b[38;5;241m.\u001b[39mreshape(\u001b[38;5;241m-\u001b[39m\u001b[38;5;241m1\u001b[39m)\n",
      "File \u001b[1;32m~\\Desktop\\CoinProject\\venv\\lib\\site-packages\\pandas\\core\\tools\\datetimes.py:1082\u001b[0m, in \u001b[0;36mto_datetime\u001b[1;34m(arg, errors, dayfirst, yearfirst, utc, format, exact, unit, infer_datetime_format, origin, cache)\u001b[0m\n\u001b[0;32m   1080\u001b[0m         result \u001b[38;5;241m=\u001b[39m _convert_and_box_cache(argc, cache_array)\n\u001b[0;32m   1081\u001b[0m     \u001b[38;5;28;01melse\u001b[39;00m:\n\u001b[1;32m-> 1082\u001b[0m         result \u001b[38;5;241m=\u001b[39m \u001b[43mconvert_listlike\u001b[49m\u001b[43m(\u001b[49m\u001b[43margc\u001b[49m\u001b[43m,\u001b[49m\u001b[43m \u001b[49m\u001b[38;5;28;43mformat\u001b[39;49m\u001b[43m)\u001b[49m\n\u001b[0;32m   1083\u001b[0m \u001b[38;5;28;01melse\u001b[39;00m:\n\u001b[0;32m   1084\u001b[0m     result \u001b[38;5;241m=\u001b[39m convert_listlike(np\u001b[38;5;241m.\u001b[39marray([arg]), \u001b[38;5;28mformat\u001b[39m)[\u001b[38;5;241m0\u001b[39m]\n",
      "File \u001b[1;32m~\\Desktop\\CoinProject\\venv\\lib\\site-packages\\pandas\\core\\tools\\datetimes.py:453\u001b[0m, in \u001b[0;36m_convert_listlike_datetimes\u001b[1;34m(arg, format, name, utc, unit, errors, dayfirst, yearfirst, exact)\u001b[0m\n\u001b[0;32m    451\u001b[0m \u001b[38;5;66;03m# `format` could be inferred, or user didn't ask for mixed-format parsing.\u001b[39;00m\n\u001b[0;32m    452\u001b[0m \u001b[38;5;28;01mif\u001b[39;00m \u001b[38;5;28mformat\u001b[39m \u001b[38;5;129;01mis\u001b[39;00m \u001b[38;5;129;01mnot\u001b[39;00m \u001b[38;5;28;01mNone\u001b[39;00m \u001b[38;5;129;01mand\u001b[39;00m \u001b[38;5;28mformat\u001b[39m \u001b[38;5;241m!=\u001b[39m \u001b[38;5;124m\"\u001b[39m\u001b[38;5;124mmixed\u001b[39m\u001b[38;5;124m\"\u001b[39m:\n\u001b[1;32m--> 453\u001b[0m     \u001b[38;5;28;01mreturn\u001b[39;00m \u001b[43m_array_strptime_with_fallback\u001b[49m\u001b[43m(\u001b[49m\u001b[43marg\u001b[49m\u001b[43m,\u001b[49m\u001b[43m \u001b[49m\u001b[43mname\u001b[49m\u001b[43m,\u001b[49m\u001b[43m \u001b[49m\u001b[43mutc\u001b[49m\u001b[43m,\u001b[49m\u001b[43m \u001b[49m\u001b[38;5;28;43mformat\u001b[39;49m\u001b[43m,\u001b[49m\u001b[43m \u001b[49m\u001b[43mexact\u001b[49m\u001b[43m,\u001b[49m\u001b[43m \u001b[49m\u001b[43merrors\u001b[49m\u001b[43m)\u001b[49m\n\u001b[0;32m    455\u001b[0m result, tz_parsed \u001b[38;5;241m=\u001b[39m objects_to_datetime64ns(\n\u001b[0;32m    456\u001b[0m     arg,\n\u001b[0;32m    457\u001b[0m     dayfirst\u001b[38;5;241m=\u001b[39mdayfirst,\n\u001b[1;32m   (...)\u001b[0m\n\u001b[0;32m    461\u001b[0m     allow_object\u001b[38;5;241m=\u001b[39m\u001b[38;5;28;01mTrue\u001b[39;00m,\n\u001b[0;32m    462\u001b[0m )\n\u001b[0;32m    464\u001b[0m \u001b[38;5;28;01mif\u001b[39;00m tz_parsed \u001b[38;5;129;01mis\u001b[39;00m \u001b[38;5;129;01mnot\u001b[39;00m \u001b[38;5;28;01mNone\u001b[39;00m:\n\u001b[0;32m    465\u001b[0m     \u001b[38;5;66;03m# We can take a shortcut since the datetime64 numpy array\u001b[39;00m\n\u001b[0;32m    466\u001b[0m     \u001b[38;5;66;03m# is in UTC\u001b[39;00m\n",
      "File \u001b[1;32m~\\Desktop\\CoinProject\\venv\\lib\\site-packages\\pandas\\core\\tools\\datetimes.py:484\u001b[0m, in \u001b[0;36m_array_strptime_with_fallback\u001b[1;34m(arg, name, utc, fmt, exact, errors)\u001b[0m\n\u001b[0;32m    473\u001b[0m \u001b[38;5;28;01mdef\u001b[39;00m \u001b[38;5;21m_array_strptime_with_fallback\u001b[39m(\n\u001b[0;32m    474\u001b[0m     arg,\n\u001b[0;32m    475\u001b[0m     name,\n\u001b[1;32m   (...)\u001b[0m\n\u001b[0;32m    479\u001b[0m     errors: \u001b[38;5;28mstr\u001b[39m,\n\u001b[0;32m    480\u001b[0m ) \u001b[38;5;241m-\u001b[39m\u001b[38;5;241m>\u001b[39m Index:\n\u001b[0;32m    481\u001b[0m \u001b[38;5;250m    \u001b[39m\u001b[38;5;124;03m\"\"\"\u001b[39;00m\n\u001b[0;32m    482\u001b[0m \u001b[38;5;124;03m    Call array_strptime, with fallback behavior depending on 'errors'.\u001b[39;00m\n\u001b[0;32m    483\u001b[0m \u001b[38;5;124;03m    \"\"\"\u001b[39;00m\n\u001b[1;32m--> 484\u001b[0m     result, timezones \u001b[38;5;241m=\u001b[39m \u001b[43marray_strptime\u001b[49m\u001b[43m(\u001b[49m\u001b[43marg\u001b[49m\u001b[43m,\u001b[49m\u001b[43m \u001b[49m\u001b[43mfmt\u001b[49m\u001b[43m,\u001b[49m\u001b[43m \u001b[49m\u001b[43mexact\u001b[49m\u001b[38;5;241;43m=\u001b[39;49m\u001b[43mexact\u001b[49m\u001b[43m,\u001b[49m\u001b[43m \u001b[49m\u001b[43merrors\u001b[49m\u001b[38;5;241;43m=\u001b[39;49m\u001b[43merrors\u001b[49m\u001b[43m,\u001b[49m\u001b[43m \u001b[49m\u001b[43mutc\u001b[49m\u001b[38;5;241;43m=\u001b[39;49m\u001b[43mutc\u001b[49m\u001b[43m)\u001b[49m\n\u001b[0;32m    485\u001b[0m     \u001b[38;5;28;01mif\u001b[39;00m \u001b[38;5;28many\u001b[39m(tz \u001b[38;5;129;01mis\u001b[39;00m \u001b[38;5;129;01mnot\u001b[39;00m \u001b[38;5;28;01mNone\u001b[39;00m \u001b[38;5;28;01mfor\u001b[39;00m tz \u001b[38;5;129;01min\u001b[39;00m timezones):\n\u001b[0;32m    486\u001b[0m         \u001b[38;5;28;01mreturn\u001b[39;00m _return_parsed_timezone_results(result, timezones, utc, name)\n",
      "File \u001b[1;32m~\\Desktop\\CoinProject\\venv\\lib\\site-packages\\pandas\\_libs\\tslibs\\strptime.pyx:530\u001b[0m, in \u001b[0;36mpandas._libs.tslibs.strptime.array_strptime\u001b[1;34m()\u001b[0m\n",
      "File \u001b[1;32m~\\Desktop\\CoinProject\\venv\\lib\\site-packages\\pandas\\_libs\\tslibs\\strptime.pyx:355\u001b[0m, in \u001b[0;36mpandas._libs.tslibs.strptime.array_strptime\u001b[1;34m()\u001b[0m\n",
      "\u001b[1;31mValueError\u001b[0m: unconverted data remains when parsing with format \"%Y-%m-%dT%H:%M:%S\": \".000000000\", at position 0. You might want to try:\n    - passing `format` if your strings have a consistent format;\n    - passing `format='ISO8601'` if your strings are all ISO8601 but not necessarily in exactly the same format;\n    - passing `format='mixed'`, and the format will be inferred for each element individually. You might want to use `dayfirst` alongside this."
     ]
    }
   ],
   "source": [
    "predicted = model.predict(validation_datas)\n",
    "predicted_inverted = []\n",
    "\n",
    "for i in range(original_datas.shape[1]):\n",
    "    scaler.fit((np.char.replace((original_datas[:,i].astype(str)), ',', '').astype(float)).reshape(-1,1))\n",
    "    predicted_inverted.append(scaler.inverse_transform(predicted[:,i].reshape(-1,1)))\n",
    "print(np.array(predicted_inverted).shape)\n",
    "#get only the close data\n",
    "predicted_inverted = np.array(predicted_inverted).reshape(-1,original_datas.shape[1])[:,:4]\n",
    "\n",
    "ground_true = ground_true.reshape(-1)\n",
    "ground_true_times = ground_true_times.reshape(-1)\n",
    "ground_true_times = pd.to_datetime(ground_true_times.astype(str), format=\"%Y-%m-%dT%H:%M:%S\")\n",
    "# since we are appending in the first dimension\n",
    "predicted_inverted = np.array(predicted_inverted)[0,:,:].reshape(-1)\n",
    "\n",
    "print(np.array(predicted_inverted).shape)\n",
    "validation_output_times = pd.to_datetime(validation_output_times.astype(str).reshape(-1), format=\"%Y-%m-%dT%H:%M:%S\")"
   ]
  },
  {
   "cell_type": "code",
   "execution_count": 22,
   "id": "f9605694-2230-4815-acbb-5343dc705ac4",
   "metadata": {
    "tags": []
   },
   "outputs": [
    {
     "ename": "ValueError",
     "evalue": "Cannot set a frame with no defined index and a value that cannot be converted to a Series",
     "output_type": "error",
     "traceback": [
      "\u001b[1;31m---------------------------------------------------------------------------\u001b[0m",
      "\u001b[1;31mValueError\u001b[0m                                Traceback (most recent call last)",
      "File \u001b[1;32m~\\Desktop\\CoinProject\\venv\\lib\\site-packages\\pandas\\core\\frame.py:4222\u001b[0m, in \u001b[0;36mDataFrame._ensure_valid_index\u001b[1;34m(self, value)\u001b[0m\n\u001b[0;32m   4221\u001b[0m \u001b[38;5;28;01mtry\u001b[39;00m:\n\u001b[1;32m-> 4222\u001b[0m     value \u001b[38;5;241m=\u001b[39m \u001b[43mSeries\u001b[49m\u001b[43m(\u001b[49m\u001b[43mvalue\u001b[49m\u001b[43m)\u001b[49m\n\u001b[0;32m   4223\u001b[0m \u001b[38;5;28;01mexcept\u001b[39;00m (\u001b[38;5;167;01mValueError\u001b[39;00m, \u001b[38;5;167;01mNotImplementedError\u001b[39;00m, \u001b[38;5;167;01mTypeError\u001b[39;00m) \u001b[38;5;28;01mas\u001b[39;00m err:\n",
      "File \u001b[1;32m~\\Desktop\\CoinProject\\venv\\lib\\site-packages\\pandas\\core\\series.py:509\u001b[0m, in \u001b[0;36mSeries.__init__\u001b[1;34m(self, data, index, dtype, name, copy, fastpath)\u001b[0m\n\u001b[0;32m    508\u001b[0m \u001b[38;5;28;01melse\u001b[39;00m:\n\u001b[1;32m--> 509\u001b[0m     data \u001b[38;5;241m=\u001b[39m \u001b[43msanitize_array\u001b[49m\u001b[43m(\u001b[49m\u001b[43mdata\u001b[49m\u001b[43m,\u001b[49m\u001b[43m \u001b[49m\u001b[43mindex\u001b[49m\u001b[43m,\u001b[49m\u001b[43m \u001b[49m\u001b[43mdtype\u001b[49m\u001b[43m,\u001b[49m\u001b[43m \u001b[49m\u001b[43mcopy\u001b[49m\u001b[43m)\u001b[49m\n\u001b[0;32m    511\u001b[0m     manager \u001b[38;5;241m=\u001b[39m get_option(\u001b[38;5;124m\"\u001b[39m\u001b[38;5;124mmode.data_manager\u001b[39m\u001b[38;5;124m\"\u001b[39m)\n",
      "File \u001b[1;32m~\\Desktop\\CoinProject\\venv\\lib\\site-packages\\pandas\\core\\construction.py:569\u001b[0m, in \u001b[0;36msanitize_array\u001b[1;34m(data, index, dtype, copy, allow_2d)\u001b[0m\n\u001b[0;32m    568\u001b[0m \u001b[38;5;28;01mif\u001b[39;00m data\u001b[38;5;241m.\u001b[39mdtype \u001b[38;5;241m==\u001b[39m \u001b[38;5;28mobject\u001b[39m:\n\u001b[1;32m--> 569\u001b[0m     subarr \u001b[38;5;241m=\u001b[39m \u001b[43mmaybe_infer_to_datetimelike\u001b[49m\u001b[43m(\u001b[49m\u001b[43mdata\u001b[49m\u001b[43m)\u001b[49m\n\u001b[0;32m    571\u001b[0m \u001b[38;5;28;01mif\u001b[39;00m subarr \u001b[38;5;129;01mis\u001b[39;00m data \u001b[38;5;129;01mand\u001b[39;00m copy:\n",
      "File \u001b[1;32m~\\Desktop\\CoinProject\\venv\\lib\\site-packages\\pandas\\core\\dtypes\\cast.py:1170\u001b[0m, in \u001b[0;36mmaybe_infer_to_datetimelike\u001b[1;34m(value)\u001b[0m\n\u001b[0;32m   1168\u001b[0m \u001b[38;5;28;01mif\u001b[39;00m value\u001b[38;5;241m.\u001b[39mndim \u001b[38;5;241m!=\u001b[39m \u001b[38;5;241m1\u001b[39m:\n\u001b[0;32m   1169\u001b[0m     \u001b[38;5;66;03m# Caller is responsible\u001b[39;00m\n\u001b[1;32m-> 1170\u001b[0m     \u001b[38;5;28;01mraise\u001b[39;00m \u001b[38;5;167;01mValueError\u001b[39;00m(value\u001b[38;5;241m.\u001b[39mndim)  \u001b[38;5;66;03m# pragma: no cover\u001b[39;00m\n\u001b[0;32m   1172\u001b[0m \u001b[38;5;28;01mif\u001b[39;00m \u001b[38;5;129;01mnot\u001b[39;00m \u001b[38;5;28mlen\u001b[39m(value):\n",
      "\u001b[1;31mValueError\u001b[0m: 3",
      "\nThe above exception was the direct cause of the following exception:\n",
      "\u001b[1;31mValueError\u001b[0m                                Traceback (most recent call last)",
      "Cell \u001b[1;32mIn[22], line 2\u001b[0m\n\u001b[0;32m      1\u001b[0m ground_true_df \u001b[38;5;241m=\u001b[39m pd\u001b[38;5;241m.\u001b[39mDataFrame()\n\u001b[1;32m----> 2\u001b[0m \u001b[43mground_true_df\u001b[49m\u001b[43m[\u001b[49m\u001b[38;5;124;43m'\u001b[39;49m\u001b[38;5;124;43mtimes\u001b[39;49m\u001b[38;5;124;43m'\u001b[39;49m\u001b[43m]\u001b[49m \u001b[38;5;241m=\u001b[39m ground_true_times\n\u001b[0;32m      3\u001b[0m ground_true_df[\u001b[38;5;124m'\u001b[39m\u001b[38;5;124mvalue\u001b[39m\u001b[38;5;124m'\u001b[39m] \u001b[38;5;241m=\u001b[39m ground_true\n\u001b[0;32m      4\u001b[0m ground_true_df\n",
      "File \u001b[1;32m~\\Desktop\\CoinProject\\venv\\lib\\site-packages\\pandas\\core\\frame.py:3960\u001b[0m, in \u001b[0;36mDataFrame.__setitem__\u001b[1;34m(self, key, value)\u001b[0m\n\u001b[0;32m   3957\u001b[0m     \u001b[38;5;28mself\u001b[39m\u001b[38;5;241m.\u001b[39m_setitem_array([key], value)\n\u001b[0;32m   3958\u001b[0m \u001b[38;5;28;01melse\u001b[39;00m:\n\u001b[0;32m   3959\u001b[0m     \u001b[38;5;66;03m# set column\u001b[39;00m\n\u001b[1;32m-> 3960\u001b[0m     \u001b[38;5;28;43mself\u001b[39;49m\u001b[38;5;241;43m.\u001b[39;49m\u001b[43m_set_item\u001b[49m\u001b[43m(\u001b[49m\u001b[43mkey\u001b[49m\u001b[43m,\u001b[49m\u001b[43m \u001b[49m\u001b[43mvalue\u001b[49m\u001b[43m)\u001b[49m\n",
      "File \u001b[1;32m~\\Desktop\\CoinProject\\venv\\lib\\site-packages\\pandas\\core\\frame.py:4153\u001b[0m, in \u001b[0;36mDataFrame._set_item\u001b[1;34m(self, key, value)\u001b[0m\n\u001b[0;32m   4143\u001b[0m \u001b[38;5;28;01mdef\u001b[39;00m \u001b[38;5;21m_set_item\u001b[39m(\u001b[38;5;28mself\u001b[39m, key, value) \u001b[38;5;241m-\u001b[39m\u001b[38;5;241m>\u001b[39m \u001b[38;5;28;01mNone\u001b[39;00m:\n\u001b[0;32m   4144\u001b[0m \u001b[38;5;250m    \u001b[39m\u001b[38;5;124;03m\"\"\"\u001b[39;00m\n\u001b[0;32m   4145\u001b[0m \u001b[38;5;124;03m    Add series to DataFrame in specified column.\u001b[39;00m\n\u001b[0;32m   4146\u001b[0m \n\u001b[1;32m   (...)\u001b[0m\n\u001b[0;32m   4151\u001b[0m \u001b[38;5;124;03m    ensure homogeneity.\u001b[39;00m\n\u001b[0;32m   4152\u001b[0m \u001b[38;5;124;03m    \"\"\"\u001b[39;00m\n\u001b[1;32m-> 4153\u001b[0m     value \u001b[38;5;241m=\u001b[39m \u001b[38;5;28;43mself\u001b[39;49m\u001b[38;5;241;43m.\u001b[39;49m\u001b[43m_sanitize_column\u001b[49m\u001b[43m(\u001b[49m\u001b[43mvalue\u001b[49m\u001b[43m)\u001b[49m\n\u001b[0;32m   4155\u001b[0m     \u001b[38;5;28;01mif\u001b[39;00m (\n\u001b[0;32m   4156\u001b[0m         key \u001b[38;5;129;01min\u001b[39;00m \u001b[38;5;28mself\u001b[39m\u001b[38;5;241m.\u001b[39mcolumns\n\u001b[0;32m   4157\u001b[0m         \u001b[38;5;129;01mand\u001b[39;00m value\u001b[38;5;241m.\u001b[39mndim \u001b[38;5;241m==\u001b[39m \u001b[38;5;241m1\u001b[39m\n\u001b[0;32m   4158\u001b[0m         \u001b[38;5;129;01mand\u001b[39;00m \u001b[38;5;129;01mnot\u001b[39;00m is_extension_array_dtype(value)\n\u001b[0;32m   4159\u001b[0m     ):\n\u001b[0;32m   4160\u001b[0m         \u001b[38;5;66;03m# broadcast across multiple columns if necessary\u001b[39;00m\n\u001b[0;32m   4161\u001b[0m         \u001b[38;5;28;01mif\u001b[39;00m \u001b[38;5;129;01mnot\u001b[39;00m \u001b[38;5;28mself\u001b[39m\u001b[38;5;241m.\u001b[39mcolumns\u001b[38;5;241m.\u001b[39mis_unique \u001b[38;5;129;01mor\u001b[39;00m \u001b[38;5;28misinstance\u001b[39m(\u001b[38;5;28mself\u001b[39m\u001b[38;5;241m.\u001b[39mcolumns, MultiIndex):\n",
      "File \u001b[1;32m~\\Desktop\\CoinProject\\venv\\lib\\site-packages\\pandas\\core\\frame.py:4870\u001b[0m, in \u001b[0;36mDataFrame._sanitize_column\u001b[1;34m(self, value)\u001b[0m\n\u001b[0;32m   4857\u001b[0m \u001b[38;5;28;01mdef\u001b[39;00m \u001b[38;5;21m_sanitize_column\u001b[39m(\u001b[38;5;28mself\u001b[39m, value) \u001b[38;5;241m-\u001b[39m\u001b[38;5;241m>\u001b[39m ArrayLike:\n\u001b[0;32m   4858\u001b[0m \u001b[38;5;250m    \u001b[39m\u001b[38;5;124;03m\"\"\"\u001b[39;00m\n\u001b[0;32m   4859\u001b[0m \u001b[38;5;124;03m    Ensures new columns (which go into the BlockManager as new blocks) are\u001b[39;00m\n\u001b[0;32m   4860\u001b[0m \u001b[38;5;124;03m    always copied and converted into an array.\u001b[39;00m\n\u001b[1;32m   (...)\u001b[0m\n\u001b[0;32m   4868\u001b[0m \u001b[38;5;124;03m    numpy.ndarray or ExtensionArray\u001b[39;00m\n\u001b[0;32m   4869\u001b[0m \u001b[38;5;124;03m    \"\"\"\u001b[39;00m\n\u001b[1;32m-> 4870\u001b[0m     \u001b[38;5;28;43mself\u001b[39;49m\u001b[38;5;241;43m.\u001b[39;49m\u001b[43m_ensure_valid_index\u001b[49m\u001b[43m(\u001b[49m\u001b[43mvalue\u001b[49m\u001b[43m)\u001b[49m\n\u001b[0;32m   4872\u001b[0m     \u001b[38;5;66;03m# We can get there through isetitem with a DataFrame\u001b[39;00m\n\u001b[0;32m   4873\u001b[0m     \u001b[38;5;66;03m# or through loc single_block_path\u001b[39;00m\n\u001b[0;32m   4874\u001b[0m     \u001b[38;5;28;01mif\u001b[39;00m \u001b[38;5;28misinstance\u001b[39m(value, DataFrame):\n",
      "File \u001b[1;32m~\\Desktop\\CoinProject\\venv\\lib\\site-packages\\pandas\\core\\frame.py:4224\u001b[0m, in \u001b[0;36mDataFrame._ensure_valid_index\u001b[1;34m(self, value)\u001b[0m\n\u001b[0;32m   4222\u001b[0m         value \u001b[38;5;241m=\u001b[39m Series(value)\n\u001b[0;32m   4223\u001b[0m     \u001b[38;5;28;01mexcept\u001b[39;00m (\u001b[38;5;167;01mValueError\u001b[39;00m, \u001b[38;5;167;01mNotImplementedError\u001b[39;00m, \u001b[38;5;167;01mTypeError\u001b[39;00m) \u001b[38;5;28;01mas\u001b[39;00m err:\n\u001b[1;32m-> 4224\u001b[0m         \u001b[38;5;28;01mraise\u001b[39;00m \u001b[38;5;167;01mValueError\u001b[39;00m(\n\u001b[0;32m   4225\u001b[0m             \u001b[38;5;124m\"\u001b[39m\u001b[38;5;124mCannot set a frame with no defined index \u001b[39m\u001b[38;5;124m\"\u001b[39m\n\u001b[0;32m   4226\u001b[0m             \u001b[38;5;124m\"\u001b[39m\u001b[38;5;124mand a value that cannot be converted to a Series\u001b[39m\u001b[38;5;124m\"\u001b[39m\n\u001b[0;32m   4227\u001b[0m         ) \u001b[38;5;28;01mfrom\u001b[39;00m \u001b[38;5;21;01merr\u001b[39;00m\n\u001b[0;32m   4229\u001b[0m \u001b[38;5;66;03m# GH31368 preserve name of index\u001b[39;00m\n\u001b[0;32m   4230\u001b[0m index_copy \u001b[38;5;241m=\u001b[39m value\u001b[38;5;241m.\u001b[39mindex\u001b[38;5;241m.\u001b[39mcopy()\n",
      "\u001b[1;31mValueError\u001b[0m: Cannot set a frame with no defined index and a value that cannot be converted to a Series"
     ]
    }
   ],
   "source": [
    "ground_true_df = pd.DataFrame()\n",
    "ground_true_df['times'] = ground_true_times\n",
    "ground_true_df['value'] = ground_true\n",
    "ground_true_df"
   ]
  },
  {
   "cell_type": "code",
   "execution_count": 151,
   "id": "58567e27-94a6-4b32-aec1-d218706e9afe",
   "metadata": {
    "tags": []
   },
   "outputs": [
    {
     "data": {
      "text/plain": [
       "DatetimeIndex(['2023-05-09 14:05:00', '2023-05-09 14:00:00',\n",
       "               '2023-05-09 13:55:00', '2023-05-09 13:50:00',\n",
       "               '2023-05-09 13:45:00', '2023-05-09 13:40:00',\n",
       "               '2023-05-09 13:35:00', '2023-05-09 13:30:00',\n",
       "               '2023-05-09 13:25:00', '2023-05-09 13:20:00',\n",
       "               ...\n",
       "               '2017-09-25 12:55:00', '2017-09-25 12:50:00',\n",
       "               '2017-09-25 12:45:00', '2017-09-25 12:40:00',\n",
       "               '2017-09-25 12:35:00', '2017-09-25 12:30:00',\n",
       "               '2017-09-25 12:25:00', '2017-09-25 12:20:00',\n",
       "               '2017-09-25 12:15:00', '2017-09-25 12:10:00'],\n",
       "              dtype='datetime64[ns]', length=588861, freq=None)"
      ]
     },
     "execution_count": 151,
     "metadata": {},
     "output_type": "execute_result"
    }
   ],
   "source": [
    "ground_true_times"
   ]
  },
  {
   "cell_type": "code",
   "execution_count": 152,
   "id": "92fad0d3-818e-40f3-83da-69d6419a9060",
   "metadata": {
    "tags": []
   },
   "outputs": [
    {
     "data": {
      "text/html": [
       "<div>\n",
       "<style scoped>\n",
       "    .dataframe tbody tr th:only-of-type {\n",
       "        vertical-align: middle;\n",
       "    }\n",
       "\n",
       "    .dataframe tbody tr th {\n",
       "        vertical-align: top;\n",
       "    }\n",
       "\n",
       "    .dataframe thead th {\n",
       "        text-align: right;\n",
       "    }\n",
       "</style>\n",
       "<table border=\"1\" class=\"dataframe\">\n",
       "  <thead>\n",
       "    <tr style=\"text-align: right;\">\n",
       "      <th></th>\n",
       "      <th>times</th>\n",
       "      <th>value</th>\n",
       "    </tr>\n",
       "  </thead>\n",
       "  <tbody>\n",
       "    <tr>\n",
       "      <th>0</th>\n",
       "      <td>2023-05-09 13:25:00</td>\n",
       "      <td>37053316.0</td>\n",
       "    </tr>\n",
       "    <tr>\n",
       "      <th>1</th>\n",
       "      <td>2023-05-09 12:40:00</td>\n",
       "      <td>37092540.0</td>\n",
       "    </tr>\n",
       "    <tr>\n",
       "      <th>2</th>\n",
       "      <td>2023-05-09 11:55:00</td>\n",
       "      <td>37114500.0</td>\n",
       "    </tr>\n",
       "    <tr>\n",
       "      <th>3</th>\n",
       "      <td>2023-05-09 11:10:00</td>\n",
       "      <td>37170420.0</td>\n",
       "    </tr>\n",
       "    <tr>\n",
       "      <th>4</th>\n",
       "      <td>2023-05-09 10:25:00</td>\n",
       "      <td>37262684.0</td>\n",
       "    </tr>\n",
       "    <tr>\n",
       "      <th>...</th>\n",
       "      <td>...</td>\n",
       "      <td>...</td>\n",
       "    </tr>\n",
       "    <tr>\n",
       "      <th>65424</th>\n",
       "      <td>2017-09-25 21:40:00</td>\n",
       "      <td>4229080.0</td>\n",
       "    </tr>\n",
       "    <tr>\n",
       "      <th>65425</th>\n",
       "      <td>2017-09-25 20:55:00</td>\n",
       "      <td>4206210.5</td>\n",
       "    </tr>\n",
       "    <tr>\n",
       "      <th>65426</th>\n",
       "      <td>2017-09-25 20:10:00</td>\n",
       "      <td>4201295.5</td>\n",
       "    </tr>\n",
       "    <tr>\n",
       "      <th>65427</th>\n",
       "      <td>2017-09-25 12:55:00</td>\n",
       "      <td>4245097.0</td>\n",
       "    </tr>\n",
       "    <tr>\n",
       "      <th>65428</th>\n",
       "      <td>2017-09-25 12:10:00</td>\n",
       "      <td>4238835.5</td>\n",
       "    </tr>\n",
       "  </tbody>\n",
       "</table>\n",
       "<p>65429 rows × 2 columns</p>\n",
       "</div>"
      ],
      "text/plain": [
       "                    times       value\n",
       "0     2023-05-09 13:25:00  37053316.0\n",
       "1     2023-05-09 12:40:00  37092540.0\n",
       "2     2023-05-09 11:55:00  37114500.0\n",
       "3     2023-05-09 11:10:00  37170420.0\n",
       "4     2023-05-09 10:25:00  37262684.0\n",
       "...                   ...         ...\n",
       "65424 2017-09-25 21:40:00   4229080.0\n",
       "65425 2017-09-25 20:55:00   4206210.5\n",
       "65426 2017-09-25 20:10:00   4201295.5\n",
       "65427 2017-09-25 12:55:00   4245097.0\n",
       "65428 2017-09-25 12:10:00   4238835.5\n",
       "\n",
       "[65429 rows x 2 columns]"
      ]
     },
     "execution_count": 152,
     "metadata": {},
     "output_type": "execute_result"
    }
   ],
   "source": [
    "prediction_df = pd.DataFrame()\n",
    "prediction_df['times'] = validation_output_times\n",
    "prediction_df['value'] = predicted_inverted\n",
    "prediction_df"
   ]
  },
  {
   "cell_type": "code",
   "execution_count": 30,
   "id": "2bf3925e-33f1-4277-a424-43171c7e5806",
   "metadata": {
    "tags": []
   },
   "outputs": [
    {
     "ename": "AttributeError",
     "evalue": "'DataFrame' object has no attribute 'times'",
     "output_type": "error",
     "traceback": [
      "\u001b[1;31m---------------------------------------------------------------------------\u001b[0m",
      "\u001b[1;31mAttributeError\u001b[0m                            Traceback (most recent call last)",
      "Cell \u001b[1;32mIn[30], line 3\u001b[0m\n\u001b[0;32m      1\u001b[0m get_ipython()\u001b[38;5;241m.\u001b[39mrun_line_magic(\u001b[38;5;124m'\u001b[39m\u001b[38;5;124mmatplotlib\u001b[39m\u001b[38;5;124m'\u001b[39m, \u001b[38;5;124m'\u001b[39m\u001b[38;5;124minline\u001b[39m\u001b[38;5;124m'\u001b[39m)\n\u001b[0;32m      2\u001b[0m plt\u001b[38;5;241m.\u001b[39mfigure(figsize\u001b[38;5;241m=\u001b[39m(\u001b[38;5;241m50\u001b[39m,\u001b[38;5;241m25\u001b[39m))\n\u001b[1;32m----> 3\u001b[0m plt\u001b[38;5;241m.\u001b[39mplot(\u001b[43mground_true_df\u001b[49m\u001b[38;5;241;43m.\u001b[39;49m\u001b[43mtimes\u001b[49m,ground_true_df\u001b[38;5;241m.\u001b[39mvalue, label \u001b[38;5;241m=\u001b[39m \u001b[38;5;124m'\u001b[39m\u001b[38;5;124mActual\u001b[39m\u001b[38;5;124m'\u001b[39m)\n\u001b[0;32m      4\u001b[0m plt\u001b[38;5;241m.\u001b[39mplot(prediction_df\u001b[38;5;241m.\u001b[39mtimes, prediction_df\u001b[38;5;241m.\u001b[39mvalue, \u001b[38;5;124m'\u001b[39m\u001b[38;5;124mo\u001b[39m\u001b[38;5;124m'\u001b[39m, markersize\u001b[38;5;241m=\u001b[39m\u001b[38;5;241m3\u001b[39m, label\u001b[38;5;241m=\u001b[39m\u001b[38;5;124m'\u001b[39m\u001b[38;5;124mPredicted\u001b[39m\u001b[38;5;124m'\u001b[39m)\n\u001b[0;32m      5\u001b[0m plt\u001b[38;5;241m.\u001b[39mlegend(loc\u001b[38;5;241m=\u001b[39m\u001b[38;5;124m'\u001b[39m\u001b[38;5;124mupper left\u001b[39m\u001b[38;5;124m'\u001b[39m)\n",
      "File \u001b[1;32m~\\Desktop\\CoinProject\\venv\\lib\\site-packages\\pandas\\core\\generic.py:5989\u001b[0m, in \u001b[0;36mNDFrame.__getattr__\u001b[1;34m(self, name)\u001b[0m\n\u001b[0;32m   5982\u001b[0m \u001b[38;5;28;01mif\u001b[39;00m (\n\u001b[0;32m   5983\u001b[0m     name \u001b[38;5;129;01mnot\u001b[39;00m \u001b[38;5;129;01min\u001b[39;00m \u001b[38;5;28mself\u001b[39m\u001b[38;5;241m.\u001b[39m_internal_names_set\n\u001b[0;32m   5984\u001b[0m     \u001b[38;5;129;01mand\u001b[39;00m name \u001b[38;5;129;01mnot\u001b[39;00m \u001b[38;5;129;01min\u001b[39;00m \u001b[38;5;28mself\u001b[39m\u001b[38;5;241m.\u001b[39m_metadata\n\u001b[0;32m   5985\u001b[0m     \u001b[38;5;129;01mand\u001b[39;00m name \u001b[38;5;129;01mnot\u001b[39;00m \u001b[38;5;129;01min\u001b[39;00m \u001b[38;5;28mself\u001b[39m\u001b[38;5;241m.\u001b[39m_accessors\n\u001b[0;32m   5986\u001b[0m     \u001b[38;5;129;01mand\u001b[39;00m \u001b[38;5;28mself\u001b[39m\u001b[38;5;241m.\u001b[39m_info_axis\u001b[38;5;241m.\u001b[39m_can_hold_identifiers_and_holds_name(name)\n\u001b[0;32m   5987\u001b[0m ):\n\u001b[0;32m   5988\u001b[0m     \u001b[38;5;28;01mreturn\u001b[39;00m \u001b[38;5;28mself\u001b[39m[name]\n\u001b[1;32m-> 5989\u001b[0m \u001b[38;5;28;01mreturn\u001b[39;00m \u001b[38;5;28;43mobject\u001b[39;49m\u001b[38;5;241;43m.\u001b[39;49m\u001b[38;5;21;43m__getattribute__\u001b[39;49m\u001b[43m(\u001b[49m\u001b[38;5;28;43mself\u001b[39;49m\u001b[43m,\u001b[49m\u001b[43m \u001b[49m\u001b[43mname\u001b[49m\u001b[43m)\u001b[49m\n",
      "\u001b[1;31mAttributeError\u001b[0m: 'DataFrame' object has no attribute 'times'"
     ]
    },
    {
     "data": {
      "text/plain": [
       "<Figure size 5000x2500 with 0 Axes>"
      ]
     },
     "metadata": {},
     "output_type": "display_data"
    }
   ],
   "source": [
    "%matplotlib inline\n",
    "plt.figure(figsize=(50,25))\n",
    "plt.plot(ground_true_df.times,ground_true_df.value, label = 'Actual')\n",
    "plt.plot(prediction_df.times, prediction_df.value, 'o', markersize=3, label='Predicted')\n",
    "plt.legend(loc='upper left')\n",
    "plt.show()"
   ]
  },
  {
   "cell_type": "code",
   "execution_count": null,
   "id": "7c95054b-495d-41cc-84ce-80fd21338b24",
   "metadata": {},
   "outputs": [],
   "source": []
  }
 ],
 "metadata": {
  "kernelspec": {
   "display_name": "Python 3 (ipykernel)",
   "language": "python",
   "name": "python3"
  },
  "language_info": {
   "codemirror_mode": {
    "name": "ipython",
    "version": 3
   },
   "file_extension": ".py",
   "mimetype": "text/x-python",
   "name": "python",
   "nbconvert_exporter": "python",
   "pygments_lexer": "ipython3",
   "version": "3.10.10"
  },
  "toc-showcode": true
 },
 "nbformat": 4,
 "nbformat_minor": 5
}
