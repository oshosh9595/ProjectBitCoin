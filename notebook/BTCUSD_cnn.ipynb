{
 "cells": [
  {
   "cell_type": "markdown",
   "metadata": {
    "colab_type": "text",
    "id": "view-in-github"
   },
   "source": [
    "<a href=\"https://colab.research.google.com/github/young1ll/time-series-da/blob/main/notebook/BTCUSD_cnn.ipynb\" target=\"_parent\"><img src=\"https://colab.research.google.com/assets/colab-badge.svg\" alt=\"Open In Colab\"/></a>"
   ]
  },
  {
   "cell_type": "markdown",
   "metadata": {
    "id": "IPS6BiPuER1A"
   },
   "source": [
    "# Predicting Cryptocurrency Price With Tensorflow and Keras\n",
    "\n",
    "- python v3.11.0\n",
    "\n",
    "## References\n",
    "- https://medium.com/@huangkh19951228/predicting-cryptocurrency-price-with-tensorflow-and-keras-e1674b0dc58a\n",
    "- https://github.com/khuangaf/CryptocurrencyPrediction/tree/master"
   ]
  },
  {
   "cell_type": "markdown",
   "metadata": {},
   "source": [
    "#### getting started(from git repo)\n",
    "1. [Test] Daily"
   ]
  },
  {
   "cell_type": "code",
   "execution_count": null,
   "metadata": {
    "id": "txIWsakiH2VW"
   },
   "outputs": [],
   "source": [
    "# # 해당 경로 제거\n",
    "# import shutil\n",
    "# shutil.rmtree('/content/weights_2018to2023')"
   ]
  },
  {
   "cell_type": "markdown",
   "metadata": {
    "id": "Fk2blgu6EirT"
   },
   "source": [
    "### 데이터 수집\n",
    "- JSONtoCSV\n",
    "- csv를 바로 직접 사용한다면 아래 과정 pass"
   ]
  },
  {
   "cell_type": "code",
   "execution_count": 81,
   "metadata": {
    "id": "Hy64InutD_hx"
   },
   "outputs": [],
   "source": [
    "import json\n",
    "import numpy as np\n",
    "import os\n",
    "import pandas as pd\n",
    "# import urllib2\n",
    "import urllib.request\n",
    "\n",
    "# connect to poloniex's API\n",
    "# url = 'https://poloniex.com/public?command=returnChartData&currencyPair=USDT_BTC&start=1356998100&end=9999999999&period=300'\n",
    "\n",
    "# parse json returned from the API to Pandas DF\n",
    "# openUrl = urllib.request.urlopen(url)\n",
    "# r = openUrl.read()\n",
    "# openUrl.close()\n",
    "# d = json.loads(r.decode())\n",
    "# df = pd.DataFrame(d)\n",
    "\n",
    "# original_columns=[u'close', u'date', u'high', u'low', u'open']\n",
    "# new_columns = ['Close','Timestamp','High','Low','Open']\n",
    "# df = df.loc[:,original_columns]\n",
    "# df.columns = new_columns\n",
    "# df.to_csv('data/bitcoin2015to2017.csv',index=None)"
   ]
  },
  {
   "cell_type": "code",
   "execution_count": null,
   "metadata": {
    "id": "9cDS_ihi3J_d"
   },
   "outputs": [],
   "source": []
  },
  {
   "cell_type": "markdown",
   "metadata": {
    "id": "zN3035jdF654"
   },
   "source": [
    "### 전처리"
   ]
  },
  {
   "cell_type": "markdown",
   "metadata": {
    "id": "pl4JmoQSG_P4"
   },
   "source": [
    "### PastSampler\n",
    "> 데이터 스케일링"
   ]
  },
  {
   "cell_type": "code",
   "execution_count": 1,
   "metadata": {
    "id": "YUKDLVkrEfuh",
    "tags": []
   },
   "outputs": [
    {
     "ename": "FileNotFoundError",
     "evalue": "[Errno 2] No such file or directory: '../data/2012to2023_BTC-USD.csv'",
     "output_type": "error",
     "traceback": [
      "\u001b[1;31m---------------------------------------------------------------------------\u001b[0m",
      "\u001b[1;31mFileNotFoundError\u001b[0m                         Traceback (most recent call last)",
      "Cell \u001b[1;32mIn[1], line 34\u001b[0m\n\u001b[0;32m     30\u001b[0m \u001b[38;5;66;03m# [unix, date, symbol, open, high, low, close, Volume BTC, Volume USD]\u001b[39;00m\n\u001b[0;32m     31\u001b[0m \n\u001b[0;32m     32\u001b[0m \u001b[38;5;66;03m#Columns of price data to use\u001b[39;00m\n\u001b[0;32m     33\u001b[0m columns \u001b[38;5;241m=\u001b[39m [\u001b[38;5;124m'\u001b[39m\u001b[38;5;124mPrice\u001b[39m\u001b[38;5;124m'\u001b[39m]\n\u001b[1;32m---> 34\u001b[0m df \u001b[38;5;241m=\u001b[39m \u001b[43mpd\u001b[49m\u001b[38;5;241;43m.\u001b[39;49m\u001b[43mread_csv\u001b[49m\u001b[43m(\u001b[49m\u001b[43mdfp\u001b[49m\u001b[43m)\u001b[49m\n\u001b[0;32m     35\u001b[0m time_stamps \u001b[38;5;241m=\u001b[39m df[\u001b[38;5;124m'\u001b[39m\u001b[38;5;124mDate\u001b[39m\u001b[38;5;124m'\u001b[39m]\n\u001b[0;32m     36\u001b[0m df \u001b[38;5;241m=\u001b[39m df\u001b[38;5;241m.\u001b[39mloc[:,columns]\n",
      "File \u001b[1;32mD:\\works\\time-series-da\\venv\\Lib\\site-packages\\pandas\\io\\parsers\\readers.py:912\u001b[0m, in \u001b[0;36mread_csv\u001b[1;34m(filepath_or_buffer, sep, delimiter, header, names, index_col, usecols, dtype, engine, converters, true_values, false_values, skipinitialspace, skiprows, skipfooter, nrows, na_values, keep_default_na, na_filter, verbose, skip_blank_lines, parse_dates, infer_datetime_format, keep_date_col, date_parser, date_format, dayfirst, cache_dates, iterator, chunksize, compression, thousands, decimal, lineterminator, quotechar, quoting, doublequote, escapechar, comment, encoding, encoding_errors, dialect, on_bad_lines, delim_whitespace, low_memory, memory_map, float_precision, storage_options, dtype_backend)\u001b[0m\n\u001b[0;32m    899\u001b[0m kwds_defaults \u001b[38;5;241m=\u001b[39m _refine_defaults_read(\n\u001b[0;32m    900\u001b[0m     dialect,\n\u001b[0;32m    901\u001b[0m     delimiter,\n\u001b[1;32m   (...)\u001b[0m\n\u001b[0;32m    908\u001b[0m     dtype_backend\u001b[38;5;241m=\u001b[39mdtype_backend,\n\u001b[0;32m    909\u001b[0m )\n\u001b[0;32m    910\u001b[0m kwds\u001b[38;5;241m.\u001b[39mupdate(kwds_defaults)\n\u001b[1;32m--> 912\u001b[0m \u001b[38;5;28;01mreturn\u001b[39;00m \u001b[43m_read\u001b[49m\u001b[43m(\u001b[49m\u001b[43mfilepath_or_buffer\u001b[49m\u001b[43m,\u001b[49m\u001b[43m \u001b[49m\u001b[43mkwds\u001b[49m\u001b[43m)\u001b[49m\n",
      "File \u001b[1;32mD:\\works\\time-series-da\\venv\\Lib\\site-packages\\pandas\\io\\parsers\\readers.py:577\u001b[0m, in \u001b[0;36m_read\u001b[1;34m(filepath_or_buffer, kwds)\u001b[0m\n\u001b[0;32m    574\u001b[0m _validate_names(kwds\u001b[38;5;241m.\u001b[39mget(\u001b[38;5;124m\"\u001b[39m\u001b[38;5;124mnames\u001b[39m\u001b[38;5;124m\"\u001b[39m, \u001b[38;5;28;01mNone\u001b[39;00m))\n\u001b[0;32m    576\u001b[0m \u001b[38;5;66;03m# Create the parser.\u001b[39;00m\n\u001b[1;32m--> 577\u001b[0m parser \u001b[38;5;241m=\u001b[39m \u001b[43mTextFileReader\u001b[49m\u001b[43m(\u001b[49m\u001b[43mfilepath_or_buffer\u001b[49m\u001b[43m,\u001b[49m\u001b[43m \u001b[49m\u001b[38;5;241;43m*\u001b[39;49m\u001b[38;5;241;43m*\u001b[39;49m\u001b[43mkwds\u001b[49m\u001b[43m)\u001b[49m\n\u001b[0;32m    579\u001b[0m \u001b[38;5;28;01mif\u001b[39;00m chunksize \u001b[38;5;129;01mor\u001b[39;00m iterator:\n\u001b[0;32m    580\u001b[0m     \u001b[38;5;28;01mreturn\u001b[39;00m parser\n",
      "File \u001b[1;32mD:\\works\\time-series-da\\venv\\Lib\\site-packages\\pandas\\io\\parsers\\readers.py:1407\u001b[0m, in \u001b[0;36mTextFileReader.__init__\u001b[1;34m(self, f, engine, **kwds)\u001b[0m\n\u001b[0;32m   1404\u001b[0m     \u001b[38;5;28mself\u001b[39m\u001b[38;5;241m.\u001b[39moptions[\u001b[38;5;124m\"\u001b[39m\u001b[38;5;124mhas_index_names\u001b[39m\u001b[38;5;124m\"\u001b[39m] \u001b[38;5;241m=\u001b[39m kwds[\u001b[38;5;124m\"\u001b[39m\u001b[38;5;124mhas_index_names\u001b[39m\u001b[38;5;124m\"\u001b[39m]\n\u001b[0;32m   1406\u001b[0m \u001b[38;5;28mself\u001b[39m\u001b[38;5;241m.\u001b[39mhandles: IOHandles \u001b[38;5;241m|\u001b[39m \u001b[38;5;28;01mNone\u001b[39;00m \u001b[38;5;241m=\u001b[39m \u001b[38;5;28;01mNone\u001b[39;00m\n\u001b[1;32m-> 1407\u001b[0m \u001b[38;5;28mself\u001b[39m\u001b[38;5;241m.\u001b[39m_engine \u001b[38;5;241m=\u001b[39m \u001b[38;5;28;43mself\u001b[39;49m\u001b[38;5;241;43m.\u001b[39;49m\u001b[43m_make_engine\u001b[49m\u001b[43m(\u001b[49m\u001b[43mf\u001b[49m\u001b[43m,\u001b[49m\u001b[43m \u001b[49m\u001b[38;5;28;43mself\u001b[39;49m\u001b[38;5;241;43m.\u001b[39;49m\u001b[43mengine\u001b[49m\u001b[43m)\u001b[49m\n",
      "File \u001b[1;32mD:\\works\\time-series-da\\venv\\Lib\\site-packages\\pandas\\io\\parsers\\readers.py:1661\u001b[0m, in \u001b[0;36mTextFileReader._make_engine\u001b[1;34m(self, f, engine)\u001b[0m\n\u001b[0;32m   1659\u001b[0m     \u001b[38;5;28;01mif\u001b[39;00m \u001b[38;5;124m\"\u001b[39m\u001b[38;5;124mb\u001b[39m\u001b[38;5;124m\"\u001b[39m \u001b[38;5;129;01mnot\u001b[39;00m \u001b[38;5;129;01min\u001b[39;00m mode:\n\u001b[0;32m   1660\u001b[0m         mode \u001b[38;5;241m+\u001b[39m\u001b[38;5;241m=\u001b[39m \u001b[38;5;124m\"\u001b[39m\u001b[38;5;124mb\u001b[39m\u001b[38;5;124m\"\u001b[39m\n\u001b[1;32m-> 1661\u001b[0m \u001b[38;5;28mself\u001b[39m\u001b[38;5;241m.\u001b[39mhandles \u001b[38;5;241m=\u001b[39m \u001b[43mget_handle\u001b[49m\u001b[43m(\u001b[49m\n\u001b[0;32m   1662\u001b[0m \u001b[43m    \u001b[49m\u001b[43mf\u001b[49m\u001b[43m,\u001b[49m\n\u001b[0;32m   1663\u001b[0m \u001b[43m    \u001b[49m\u001b[43mmode\u001b[49m\u001b[43m,\u001b[49m\n\u001b[0;32m   1664\u001b[0m \u001b[43m    \u001b[49m\u001b[43mencoding\u001b[49m\u001b[38;5;241;43m=\u001b[39;49m\u001b[38;5;28;43mself\u001b[39;49m\u001b[38;5;241;43m.\u001b[39;49m\u001b[43moptions\u001b[49m\u001b[38;5;241;43m.\u001b[39;49m\u001b[43mget\u001b[49m\u001b[43m(\u001b[49m\u001b[38;5;124;43m\"\u001b[39;49m\u001b[38;5;124;43mencoding\u001b[39;49m\u001b[38;5;124;43m\"\u001b[39;49m\u001b[43m,\u001b[49m\u001b[43m \u001b[49m\u001b[38;5;28;43;01mNone\u001b[39;49;00m\u001b[43m)\u001b[49m\u001b[43m,\u001b[49m\n\u001b[0;32m   1665\u001b[0m \u001b[43m    \u001b[49m\u001b[43mcompression\u001b[49m\u001b[38;5;241;43m=\u001b[39;49m\u001b[38;5;28;43mself\u001b[39;49m\u001b[38;5;241;43m.\u001b[39;49m\u001b[43moptions\u001b[49m\u001b[38;5;241;43m.\u001b[39;49m\u001b[43mget\u001b[49m\u001b[43m(\u001b[49m\u001b[38;5;124;43m\"\u001b[39;49m\u001b[38;5;124;43mcompression\u001b[39;49m\u001b[38;5;124;43m\"\u001b[39;49m\u001b[43m,\u001b[49m\u001b[43m \u001b[49m\u001b[38;5;28;43;01mNone\u001b[39;49;00m\u001b[43m)\u001b[49m\u001b[43m,\u001b[49m\n\u001b[0;32m   1666\u001b[0m \u001b[43m    \u001b[49m\u001b[43mmemory_map\u001b[49m\u001b[38;5;241;43m=\u001b[39;49m\u001b[38;5;28;43mself\u001b[39;49m\u001b[38;5;241;43m.\u001b[39;49m\u001b[43moptions\u001b[49m\u001b[38;5;241;43m.\u001b[39;49m\u001b[43mget\u001b[49m\u001b[43m(\u001b[49m\u001b[38;5;124;43m\"\u001b[39;49m\u001b[38;5;124;43mmemory_map\u001b[39;49m\u001b[38;5;124;43m\"\u001b[39;49m\u001b[43m,\u001b[49m\u001b[43m \u001b[49m\u001b[38;5;28;43;01mFalse\u001b[39;49;00m\u001b[43m)\u001b[49m\u001b[43m,\u001b[49m\n\u001b[0;32m   1667\u001b[0m \u001b[43m    \u001b[49m\u001b[43mis_text\u001b[49m\u001b[38;5;241;43m=\u001b[39;49m\u001b[43mis_text\u001b[49m\u001b[43m,\u001b[49m\n\u001b[0;32m   1668\u001b[0m \u001b[43m    \u001b[49m\u001b[43merrors\u001b[49m\u001b[38;5;241;43m=\u001b[39;49m\u001b[38;5;28;43mself\u001b[39;49m\u001b[38;5;241;43m.\u001b[39;49m\u001b[43moptions\u001b[49m\u001b[38;5;241;43m.\u001b[39;49m\u001b[43mget\u001b[49m\u001b[43m(\u001b[49m\u001b[38;5;124;43m\"\u001b[39;49m\u001b[38;5;124;43mencoding_errors\u001b[39;49m\u001b[38;5;124;43m\"\u001b[39;49m\u001b[43m,\u001b[49m\u001b[43m \u001b[49m\u001b[38;5;124;43m\"\u001b[39;49m\u001b[38;5;124;43mstrict\u001b[39;49m\u001b[38;5;124;43m\"\u001b[39;49m\u001b[43m)\u001b[49m\u001b[43m,\u001b[49m\n\u001b[0;32m   1669\u001b[0m \u001b[43m    \u001b[49m\u001b[43mstorage_options\u001b[49m\u001b[38;5;241;43m=\u001b[39;49m\u001b[38;5;28;43mself\u001b[39;49m\u001b[38;5;241;43m.\u001b[39;49m\u001b[43moptions\u001b[49m\u001b[38;5;241;43m.\u001b[39;49m\u001b[43mget\u001b[49m\u001b[43m(\u001b[49m\u001b[38;5;124;43m\"\u001b[39;49m\u001b[38;5;124;43mstorage_options\u001b[39;49m\u001b[38;5;124;43m\"\u001b[39;49m\u001b[43m,\u001b[49m\u001b[43m \u001b[49m\u001b[38;5;28;43;01mNone\u001b[39;49;00m\u001b[43m)\u001b[49m\u001b[43m,\u001b[49m\n\u001b[0;32m   1670\u001b[0m \u001b[43m\u001b[49m\u001b[43m)\u001b[49m\n\u001b[0;32m   1671\u001b[0m \u001b[38;5;28;01massert\u001b[39;00m \u001b[38;5;28mself\u001b[39m\u001b[38;5;241m.\u001b[39mhandles \u001b[38;5;129;01mis\u001b[39;00m \u001b[38;5;129;01mnot\u001b[39;00m \u001b[38;5;28;01mNone\u001b[39;00m\n\u001b[0;32m   1672\u001b[0m f \u001b[38;5;241m=\u001b[39m \u001b[38;5;28mself\u001b[39m\u001b[38;5;241m.\u001b[39mhandles\u001b[38;5;241m.\u001b[39mhandle\n",
      "File \u001b[1;32mD:\\works\\time-series-da\\venv\\Lib\\site-packages\\pandas\\io\\common.py:859\u001b[0m, in \u001b[0;36mget_handle\u001b[1;34m(path_or_buf, mode, encoding, compression, memory_map, is_text, errors, storage_options)\u001b[0m\n\u001b[0;32m    854\u001b[0m \u001b[38;5;28;01melif\u001b[39;00m \u001b[38;5;28misinstance\u001b[39m(handle, \u001b[38;5;28mstr\u001b[39m):\n\u001b[0;32m    855\u001b[0m     \u001b[38;5;66;03m# Check whether the filename is to be opened in binary mode.\u001b[39;00m\n\u001b[0;32m    856\u001b[0m     \u001b[38;5;66;03m# Binary mode does not support 'encoding' and 'newline'.\u001b[39;00m\n\u001b[0;32m    857\u001b[0m     \u001b[38;5;28;01mif\u001b[39;00m ioargs\u001b[38;5;241m.\u001b[39mencoding \u001b[38;5;129;01mand\u001b[39;00m \u001b[38;5;124m\"\u001b[39m\u001b[38;5;124mb\u001b[39m\u001b[38;5;124m\"\u001b[39m \u001b[38;5;129;01mnot\u001b[39;00m \u001b[38;5;129;01min\u001b[39;00m ioargs\u001b[38;5;241m.\u001b[39mmode:\n\u001b[0;32m    858\u001b[0m         \u001b[38;5;66;03m# Encoding\u001b[39;00m\n\u001b[1;32m--> 859\u001b[0m         handle \u001b[38;5;241m=\u001b[39m \u001b[38;5;28;43mopen\u001b[39;49m\u001b[43m(\u001b[49m\n\u001b[0;32m    860\u001b[0m \u001b[43m            \u001b[49m\u001b[43mhandle\u001b[49m\u001b[43m,\u001b[49m\n\u001b[0;32m    861\u001b[0m \u001b[43m            \u001b[49m\u001b[43mioargs\u001b[49m\u001b[38;5;241;43m.\u001b[39;49m\u001b[43mmode\u001b[49m\u001b[43m,\u001b[49m\n\u001b[0;32m    862\u001b[0m \u001b[43m            \u001b[49m\u001b[43mencoding\u001b[49m\u001b[38;5;241;43m=\u001b[39;49m\u001b[43mioargs\u001b[49m\u001b[38;5;241;43m.\u001b[39;49m\u001b[43mencoding\u001b[49m\u001b[43m,\u001b[49m\n\u001b[0;32m    863\u001b[0m \u001b[43m            \u001b[49m\u001b[43merrors\u001b[49m\u001b[38;5;241;43m=\u001b[39;49m\u001b[43merrors\u001b[49m\u001b[43m,\u001b[49m\n\u001b[0;32m    864\u001b[0m \u001b[43m            \u001b[49m\u001b[43mnewline\u001b[49m\u001b[38;5;241;43m=\u001b[39;49m\u001b[38;5;124;43m\"\u001b[39;49m\u001b[38;5;124;43m\"\u001b[39;49m\u001b[43m,\u001b[49m\n\u001b[0;32m    865\u001b[0m \u001b[43m        \u001b[49m\u001b[43m)\u001b[49m\n\u001b[0;32m    866\u001b[0m     \u001b[38;5;28;01melse\u001b[39;00m:\n\u001b[0;32m    867\u001b[0m         \u001b[38;5;66;03m# Binary mode\u001b[39;00m\n\u001b[0;32m    868\u001b[0m         handle \u001b[38;5;241m=\u001b[39m \u001b[38;5;28mopen\u001b[39m(handle, ioargs\u001b[38;5;241m.\u001b[39mmode)\n",
      "\u001b[1;31mFileNotFoundError\u001b[0m: [Errno 2] No such file or directory: '../data/2012to2023_BTC-USD.csv'"
     ]
    }
   ],
   "source": [
    "import numpy as np\n",
    "import pandas as pd\n",
    " \n",
    "class PastSampler:\n",
    "    '''\n",
    "    Forms training samples for predicting future values from past value\n",
    "    '''\n",
    "     \n",
    "    def __init__(self, N, K, sliding_window = True):\n",
    "        '''\n",
    "        이전 샘플 N으로 K특징 샘플 예측\n",
    "        '''\n",
    "        self.K = K\n",
    "        self.N = N\n",
    "        self.sliding_window = sliding_window\n",
    " \n",
    "    def transform(self, A):\n",
    "        M = self.N + self.K     #row 당 샘플 수(sample + target)\n",
    "        #indexes\n",
    "        I = np.arange(M) + np.arange(0, A.shape[0] - M + self.sliding_window, M).reshape(-1, 1)\n",
    "            \n",
    "        B = A[I].reshape(-1, M * A.shape[1], A.shape[2])\n",
    "        ci = self.N * A.shape[1]    #샘플 당 특징 수\n",
    "        return B[:, :ci], B[:, ci:] #샘플 매트릭스, 대상 매트릭스\n",
    "\n",
    "#data file path\n",
    "# dfp = 'data/bitcoin2015to2017.csv'\n",
    "# dfp = 'data/Bitstamp_BTCUSD_1h.csv' # 2018-05-15 to 2023-05-08\n",
    "dfp = '../data/2012to2023_BTC-USD.csv' # 2018-05-15 to 2023-05-08\n",
    "# [unix, date, symbol, open, high, low, close, Volume BTC, Volume USD]\n",
    "\n",
    "#Columns of price data to use\n",
    "columns = ['Price']\n",
    "df = pd.read_csv(dfp)\n",
    "time_stamps = df['Date']\n",
    "df = df.loc[:,columns]\n",
    "original_df = pd.read_csv(dfp).loc[:,columns]"
   ]
  },
  {
   "cell_type": "code",
   "execution_count": 2,
   "metadata": {
    "colab": {
     "base_uri": "https://localhost:8080/",
     "height": 423
    },
    "id": "IwaCZrR0GgBJ",
    "outputId": "184c517d-dbd4-4c5b-b5bd-083fe12f0290",
    "tags": []
   },
   "outputs": [
    {
     "ename": "NameError",
     "evalue": "name 'df' is not defined",
     "output_type": "error",
     "traceback": [
      "\u001b[1;31m---------------------------------------------------------------------------\u001b[0m",
      "\u001b[1;31mNameError\u001b[0m                                 Traceback (most recent call last)",
      "Cell \u001b[1;32mIn[2], line 1\u001b[0m\n\u001b[1;32m----> 1\u001b[0m \u001b[43mdf\u001b[49m\n",
      "\u001b[1;31mNameError\u001b[0m: name 'df' is not defined"
     ]
    }
   ],
   "source": [
    "df"
   ]
  },
  {
   "cell_type": "markdown",
   "metadata": {
    "id": "O6eihOhtKW7r"
   },
   "source": [
    "> 경우에 따라 `Price`와 같은 가격 데이터가 string 값으로 저장되어 있는 경우가 있다. 이는 exel에서 csv를 읽거나, exel에서 csv를 읽는 등의 경우에 의해 **소수점 이후의 일부 값이 자동으로 반올림 되는 상황**을 방지하기 위해 float을 string으로 저장한 경우에 해당한다.\n",
    "\n",
    "> Preprocessing: string to double"
   ]
  },
  {
   "cell_type": "code",
   "execution_count": 191,
   "metadata": {
    "id": "MLNWqkWspJj7"
   },
   "outputs": [],
   "source": [
    "# time_stamps = pd.to_datetime(time_stamps, format=\"%b %d, %Y\")"
   ]
  },
  {
   "cell_type": "code",
   "execution_count": 192,
   "metadata": {
    "colab": {
     "base_uri": "https://localhost:8080/"
    },
    "id": "R_cA232co7Zy",
    "outputId": "1c78d122-0332-4742-d779-632165167aa1",
    "tags": []
   },
   "outputs": [
    {
     "data": {
      "text/plain": [
       "0       May 08, 2023\n",
       "1       May 07, 2023\n",
       "2       May 06, 2023\n",
       "3       May 05, 2023\n",
       "4       May 04, 2023\n",
       "            ...     \n",
       "4043    Apr 12, 2012\n",
       "4044    Apr 11, 2012\n",
       "4045    Apr 10, 2012\n",
       "4046    Apr 09, 2012\n",
       "4047    Apr 08, 2012\n",
       "Name: Date, Length: 4048, dtype: object"
      ]
     },
     "execution_count": 192,
     "metadata": {},
     "output_type": "execute_result"
    }
   ],
   "source": [
    "time_stamps"
   ]
  },
  {
   "cell_type": "code",
   "execution_count": 193,
   "metadata": {
    "id": "6qruozaAoWGL",
    "tags": []
   },
   "outputs": [],
   "source": [
    "df['Price'] = df['Price'].str.replace(',', '').astype(float)"
   ]
  },
  {
   "cell_type": "code",
   "execution_count": 194,
   "metadata": {
    "colab": {
     "base_uri": "https://localhost:8080/"
    },
    "id": "OoYrpA0AnBus",
    "outputId": "0edabdab-6dd9-4cce-8155-026f807416b6",
    "tags": []
   },
   "outputs": [
    {
     "data": {
      "text/plain": [
       "Price    float64\n",
       "dtype: object"
      ]
     },
     "execution_count": 194,
     "metadata": {},
     "output_type": "execute_result"
    }
   ],
   "source": [
    "df.dtypes"
   ]
  },
  {
   "cell_type": "markdown",
   "metadata": {
    "id": "-DDSdSUaTbfn"
   },
   "source": [
    "#### H5 사용하기\n",
    "아래는 PastSampler를 통해 `.csv`데이터를 `h5`데이터로 변환하는 과정이다.\n",
    "- `h5`로 저장하면 모델을 학습시키는 도중에 문제가 발생하더라도 중단 지점부터 다시 시작할 수 있다.\n",
    "- "
   ]
  },
  {
   "cell_type": "code",
   "execution_count": 195,
   "metadata": {
    "id": "fBhbayGvG6PR",
    "tags": []
   },
   "outputs": [],
   "source": [
    "# file_name='bitcoin2015to2017_close.h5'\n",
    "file_name='bitcoin2012to2023_close.h5'\n",
    "\n",
    "from sklearn.preprocessing import MinMaxScaler\n",
    "scaler = MinMaxScaler()\n",
    "# normalization: 하나씩\n",
    "for c in columns:\n",
    "  df[c] = scaler.fit_transform(df[c].values.reshape(-1,1))\n",
    "\n",
    "# normalization: 전체\n",
    "# df_normalized = pd.DataFrame(scaler.fit_transform(df), columns=df.columns)"
   ]
  },
  {
   "cell_type": "code",
   "execution_count": 196,
   "metadata": {
    "id": "BmovJDFkdRsa",
    "tags": []
   },
   "outputs": [],
   "source": [
    "#Features are input sample dimensions(channels)\n",
    "A = np.array(df)[:,None,:]\n",
    "original_A = np.array(original_df)[:,None,:]\n",
    "time_stamps = np.array(time_stamps)[:,None,None]\n",
    "#Make samples of temporal sequences of pricing data (channel)\n",
    "# NPS, NFS = 24, 1  #Number of past and future samples: 24시간으로 1시간 예측\n",
    "NPS, NFS = 8, 1\n",
    "ps = PastSampler(NPS, NFS, sliding_window=True)\n",
    "B, Y = ps.transform(A)\n",
    "input_times, output_times = ps.transform(time_stamps)\n",
    "original_B, original_Y = ps.transform(original_A)"
   ]
  },
  {
   "cell_type": "code",
   "execution_count": 197,
   "metadata": {
    "id": "i6UpXk2Te8v7",
    "tags": []
   },
   "outputs": [],
   "source": [
    "import h5py\n",
    "with h5py.File(file_name, 'w') as f:\n",
    "    f.create_dataset(\"inputs\", data = B)\n",
    "    f.create_dataset('outputs', data = Y)\n",
    "    f.create_dataset(\"input_times\", data = input_times)\n",
    "    f.create_dataset('output_times', data = output_times)\n",
    "    f.create_dataset(\"original_datas\", data=np.array(original_df))\n",
    "    f.create_dataset('original_inputs',data=original_B)\n",
    "    f.create_dataset('original_outputs',data=original_Y)"
   ]
  },
  {
   "cell_type": "code",
   "execution_count": 198,
   "metadata": {
    "colab": {
     "base_uri": "https://localhost:8080/"
    },
    "id": "k62i-H-tfEUL",
    "outputId": "39db50f9-8819-42ca-ef7c-7d2150a55e47",
    "tags": []
   },
   "outputs": [
    {
     "data": {
      "text/plain": [
       "(449, 8, 1)"
      ]
     },
     "execution_count": 198,
     "metadata": {},
     "output_type": "execute_result"
    }
   ],
   "source": [
    "B.shape"
   ]
  },
  {
   "cell_type": "markdown",
   "metadata": {
    "id": "vwxTT0xMI0KQ"
   },
   "source": [
    "---\n",
    "### Building Models\n",
    "\n",
    "#### 1. CNN(Conv1D)\n",
    "> 에러메시지: \\\n",
    "> ValueError: Unexpected result of `train_function` (Empty logs). Please use `Model.compile(..., run_eagerly=True)`, or `tf.config.run_functions_eagerly(True)` for more information of where went wrong, or file a issue/bug to `tf.keras`.\n",
    "\n",
    "위 에러메시지는 `batch_size`를 매개변수로 초기화 하지 않았거나, Conv 데이터 모양이 일치하지 않아 발생하는 문제.\n",
    "\n",
    "**해결**: api를 사용하지 않고 2018년도부터 2023년까지 1시간 단위 데이터가 있는 csv를 바로 사용(기존 api는 기간 제한이 있었음.)\n",
    "\n",
    "> _Output Time Steps = (Input Time Steps - Kernel Size) / Strides + 1_"
   ]
  },
  {
   "cell_type": "code",
   "execution_count": 199,
   "metadata": {
    "id": "kY89b2whfVP6",
    "tags": []
   },
   "outputs": [],
   "source": [
    "from keras import applications\n",
    "from keras.models import Sequential\n",
    "from keras.models import Model\n",
    "from keras.layers import Dropout, Flatten, Dense, Activation\n",
    "from keras.callbacks import CSVLogger\n",
    "import tensorflow as tf\n",
    "from imageio import imread\n",
    "import numpy as np\n",
    "import random\n",
    "from keras.layers import LSTM\n",
    "from keras.layers import Conv1D, MaxPooling1D\n",
    "from keras import backend as K\n",
    "import keras\n",
    "from keras.callbacks import CSVLogger, ModelCheckpoint\n",
    "from keras import optimizers\n",
    "import h5py\n",
    "from sklearn.preprocessing import MinMaxScaler\n",
    "import os\n",
    "import pandas as pd\n",
    "import tensorflow.compat.v1 as tf\n",
    "tf.disable_v2_behavior()\n",
    "\n",
    "import matplotlib.pyplot as plt\n",
    "plt.switch_backend('agg')\n",
    "os.environ['TF_FORCE_GPU_ALLOW_GROWTH'] = 'True'\n",
    "os.environ['CUDA_DEVICE_ORDER'] = 'PCI_BUS_ID'\n",
    "os.environ['CUDA_VISIBLE_DEVICES'] = '1'\n",
    "os.environ['TF_CPP_MIN_LOG_LEVEL']='2'\n",
    "\n",
    "config = tf.compat.v1.ConfigProto()\n",
    "config.gpu_options.allow_growth = True\n",
    "sess = tf.compat.v1.Session(config=config)\n",
    "tf.compat.v1.keras.backend.set_session(sess)\n",
    "\n",
    "with h5py.File(''.join(['bitcoin2012to2023_close.h5']), 'r') as hf:\n",
    "    datas = hf['inputs'][()]\n",
    "    labels = hf['outputs'][()]\n",
    "    input_times = hf['input_times'][()]\n",
    "    output_times = hf['output_times'][()]\n",
    "    original_datas = hf['original_datas'][()]\n",
    "    original_outputs = hf['original_outputs'][()]"
   ]
  },
  {
   "cell_type": "code",
   "execution_count": 200,
   "metadata": {
    "id": "aGhHdBdIf-jW",
    "tags": []
   },
   "outputs": [],
   "source": [
    "scaler=MinMaxScaler()\n",
    "#split training validation\n",
    "training_size = int(0.8* datas.shape[0])\n",
    "training_datas = datas[:training_size,:]\n",
    "training_labels = labels[:training_size,:]\n",
    "validation_datas = datas[training_size:,:]\n",
    "validation_labels = labels[training_size:,:]\n",
    "ground_true = original_outputs[training_size:,:]"
   ]
  },
  {
   "cell_type": "code",
   "execution_count": 201,
   "metadata": {
    "id": "y-zJf_bvgCFg",
    "tags": []
   },
   "outputs": [],
   "source": [
    "step_size = datas.shape[1]\n",
    "batch_size= 16\n",
    "nb_features = datas.shape[2]\n",
    "epochs = 100"
   ]
  },
  {
   "cell_type": "code",
   "execution_count": 202,
   "metadata": {
    "id": "HBWpIZI5kbIz",
    "tags": []
   },
   "outputs": [],
   "source": [
    "# model.add(Conv1D(filters=2, padding='same', kernel_size=8, activation='relu', input_shape=(step_size, nb_features)))\n",
    "# model.add(Conv1D(filters=2, padding='same', kernel_size=8, activation='relu'))\n",
    "# model.add(Dropout(0.05))\n",
    "# model.add(Flatten())\n",
    "# model.add(Dense(100, activation='relu'))\n",
    "# model.compile(optimizer='adam', loss='mse')"
   ]
  },
  {
   "cell_type": "markdown",
   "metadata": {
    "id": "CF0STkF4osY2"
   },
   "source": [
    "> loss와 val_loss 확인 시, 일반화가 낮아 loss와 val_loss가 수렴하지 않으므로, 모델의 복잡도가 낮은 버전 활용"
   ]
  },
  {
   "cell_type": "code",
   "execution_count": 206,
   "metadata": {
    "id": "oLvkdEdqJCGx",
    "tags": []
   },
   "outputs": [],
   "source": [
    "#build model\n",
    "model = Sequential()\n",
    "\n",
    "model.add(Conv1D(activation=\"relu\", input_shape=(step_size, nb_features), strides=2\t, filters=8, kernel_size=8))\n",
    "model.add(Dropout(0.025))\n",
    "model.add(Conv1D( strides=2, padding=\"same\", filters=nb_features, kernel_size=4))\n",
    "\n",
    "model.compile(loss='mse', optimizer='adam')\n"
   ]
  },
  {
   "cell_type": "code",
   "execution_count": 207,
   "metadata": {
    "colab": {
     "base_uri": "https://localhost:8080/"
    },
    "id": "-6vEs685gPJx",
    "outputId": "6aeed75c-65e6-42eb-e247-7da941e7ff4c",
    "tags": []
   },
   "outputs": [
    {
     "name": "stdout",
     "output_type": "stream",
     "text": [
      "Train on 359 samples, validate on 90 samples\n",
      "Epoch 1/100\n",
      " 16/359 [>.............................] - ETA: 4s - loss: 0.1359\n",
      "Epoch 1: saving model to weights_2012to2023\\2012to2023_BTC-USD-01-0.00094.hdf5\n",
      "359/359 [==============================] - 0s 1ms/sample - loss: 0.0881 - val_loss: 9.4140e-04\n",
      "Epoch 2/100\n",
      " 16/359 [>.............................] - ETA: 0s - loss: 0.0793\n",
      "Epoch 2: saving model to weights_2012to2023\\2012to2023_BTC-USD-02-0.00359.hdf5\n",
      "359/359 [==============================] - 0s 132us/sample - loss: 0.0434 - val_loss: 0.0036\n",
      "Epoch 3/100\n",
      " 16/359 [>.............................] - ETA: 0s - loss: 0.0572\n",
      "Epoch 3: saving model to weights_2012to2023\\2012to2023_BTC-USD-03-0.00639.hdf5\n",
      "359/359 [==============================] - 0s 200us/sample - loss: 0.0232 - val_loss: 0.0064\n",
      "Epoch 4/100\n",
      " 16/359 [>.............................] - ETA: 0s - loss: 0.0130\n",
      "Epoch 4: saving model to weights_2012to2023\\2012to2023_BTC-USD-04-0.00806.hdf5\n",
      "359/359 [==============================] - 0s 149us/sample - loss: 0.0137 - val_loss: 0.0081\n",
      "Epoch 5/100\n",
      " 16/359 [>.............................] - ETA: 0s - loss: 0.0129\n",
      "Epoch 5: saving model to weights_2012to2023\\2012to2023_BTC-USD-05-0.00733.hdf5\n",
      "359/359 [==============================] - 0s 198us/sample - loss: 0.0088 - val_loss: 0.0073\n",
      "Epoch 6/100\n",
      " 16/359 [>.............................] - ETA: 0s - loss: 0.0039\n",
      "Epoch 6: saving model to weights_2012to2023\\2012to2023_BTC-USD-06-0.00556.hdf5\n",
      "359/359 [==============================] - 0s 150us/sample - loss: 0.0066 - val_loss: 0.0056\n",
      "Epoch 7/100\n",
      " 16/359 [>.............................] - ETA: 0s - loss: 0.0076\n",
      "Epoch 7: saving model to weights_2012to2023\\2012to2023_BTC-USD-07-0.00350.hdf5\n",
      "359/359 [==============================] - 0s 139us/sample - loss: 0.0040 - val_loss: 0.0035\n",
      "Epoch 8/100\n",
      " 16/359 [>.............................] - ETA: 0s - loss: 0.0022\n",
      "Epoch 8: saving model to weights_2012to2023\\2012to2023_BTC-USD-08-0.00218.hdf5\n",
      "359/359 [==============================] - 0s 133us/sample - loss: 0.0040 - val_loss: 0.0022\n",
      "Epoch 9/100\n",
      " 16/359 [>.............................] - ETA: 0s - loss: 0.0014\n",
      "Epoch 9: saving model to weights_2012to2023\\2012to2023_BTC-USD-09-0.00128.hdf5\n",
      "359/359 [==============================] - 0s 117us/sample - loss: 0.0025 - val_loss: 0.0013\n",
      "Epoch 10/100\n",
      " 16/359 [>.............................] - ETA: 0s - loss: 0.0014\n",
      "Epoch 10: saving model to weights_2012to2023\\2012to2023_BTC-USD-10-0.00069.hdf5\n",
      "359/359 [==============================] - 0s 136us/sample - loss: 0.0021 - val_loss: 6.8818e-04\n",
      "Epoch 11/100\n",
      " 16/359 [>.............................] - ETA: 0s - loss: 0.0025\n",
      "Epoch 11: saving model to weights_2012to2023\\2012to2023_BTC-USD-11-0.00035.hdf5\n",
      "359/359 [==============================] - 0s 117us/sample - loss: 0.0018 - val_loss: 3.4624e-04\n",
      "Epoch 12/100\n",
      " 16/359 [>.............................] - ETA: 0s - loss: 4.1319e-04\n",
      "Epoch 12: saving model to weights_2012to2023\\2012to2023_BTC-USD-12-0.00025.hdf5\n",
      "359/359 [==============================] - 0s 133us/sample - loss: 0.0023 - val_loss: 2.4602e-04\n",
      "Epoch 13/100\n",
      " 16/359 [>.............................] - ETA: 0s - loss: 7.6633e-04\n",
      "Epoch 13: saving model to weights_2012to2023\\2012to2023_BTC-USD-13-0.00016.hdf5\n",
      "359/359 [==============================] - 0s 155us/sample - loss: 7.9727e-04 - val_loss: 1.5557e-04\n",
      "Epoch 14/100\n",
      " 16/359 [>.............................] - ETA: 0s - loss: 1.9526e-04\n",
      "Epoch 14: saving model to weights_2012to2023\\2012to2023_BTC-USD-14-0.00010.hdf5\n",
      "359/359 [==============================] - 0s 199us/sample - loss: 4.7666e-04 - val_loss: 1.0295e-04\n",
      "Epoch 15/100\n",
      " 16/359 [>.............................] - ETA: 0s - loss: 7.5585e-04\n",
      "Epoch 15: saving model to weights_2012to2023\\2012to2023_BTC-USD-15-0.00010.hdf5\n",
      "359/359 [==============================] - 0s 123us/sample - loss: 9.2572e-04 - val_loss: 9.9854e-05\n",
      "Epoch 16/100\n",
      " 16/359 [>.............................] - ETA: 0s - loss: 0.0043\n",
      "Epoch 16: saving model to weights_2012to2023\\2012to2023_BTC-USD-16-0.00010.hdf5\n",
      "359/359 [==============================] - 0s 119us/sample - loss: 0.0013 - val_loss: 1.0321e-04\n",
      "Epoch 17/100\n",
      " 16/359 [>.............................] - ETA: 0s - loss: 4.1097e-04\n",
      "Epoch 17: saving model to weights_2012to2023\\2012to2023_BTC-USD-17-0.00008.hdf5\n",
      "359/359 [==============================] - 0s 134us/sample - loss: 4.7726e-04 - val_loss: 7.9047e-05\n",
      "Epoch 18/100\n",
      " 16/359 [>.............................] - ETA: 0s - loss: 7.0330e-04\n",
      "Epoch 18: saving model to weights_2012to2023\\2012to2023_BTC-USD-18-0.00008.hdf5\n",
      "359/359 [==============================] - 0s 118us/sample - loss: 5.9248e-04 - val_loss: 7.5622e-05\n",
      "Epoch 19/100\n",
      " 16/359 [>.............................] - ETA: 0s - loss: 0.0093\n",
      "Epoch 19: saving model to weights_2012to2023\\2012to2023_BTC-USD-19-0.00008.hdf5\n",
      "359/359 [==============================] - 0s 106us/sample - loss: 0.0010 - val_loss: 7.6901e-05\n",
      "Epoch 20/100\n",
      " 16/359 [>.............................] - ETA: 0s - loss: 1.4471e-04\n",
      "Epoch 20: saving model to weights_2012to2023\\2012to2023_BTC-USD-20-0.00007.hdf5\n",
      "359/359 [==============================] - 0s 125us/sample - loss: 6.1398e-04 - val_loss: 7.4039e-05\n",
      "Epoch 21/100\n",
      " 16/359 [>.............................] - ETA: 0s - loss: 7.3415e-04\n",
      "Epoch 21: saving model to weights_2012to2023\\2012to2023_BTC-USD-21-0.00008.hdf5\n",
      "359/359 [==============================] - 0s 172us/sample - loss: 0.0014 - val_loss: 7.7148e-05\n",
      "Epoch 22/100\n",
      " 16/359 [>.............................] - ETA: 0s - loss: 0.0023\n",
      "Epoch 22: saving model to weights_2012to2023\\2012to2023_BTC-USD-22-0.00008.hdf5\n",
      "359/359 [==============================] - 0s 144us/sample - loss: 8.8304e-04 - val_loss: 7.9145e-05\n",
      "Epoch 23/100\n",
      " 16/359 [>.............................] - ETA: 0s - loss: 5.9179e-05\n",
      "Epoch 23: saving model to weights_2012to2023\\2012to2023_BTC-USD-23-0.00007.hdf5\n",
      "359/359 [==============================] - 0s 289us/sample - loss: 8.8506e-04 - val_loss: 6.8526e-05\n",
      "Epoch 24/100\n",
      " 16/359 [>.............................] - ETA: 0s - loss: 3.0771e-04\n",
      "Epoch 24: saving model to weights_2012to2023\\2012to2023_BTC-USD-24-0.00008.hdf5\n",
      "359/359 [==============================] - 0s 206us/sample - loss: 0.0014 - val_loss: 7.6469e-05\n",
      "Epoch 25/100\n",
      " 16/359 [>.............................] - ETA: 0s - loss: 0.0036\n",
      "Epoch 25: saving model to weights_2012to2023\\2012to2023_BTC-USD-25-0.00008.hdf5\n",
      "359/359 [==============================] - 0s 153us/sample - loss: 0.0014 - val_loss: 8.0143e-05\n",
      "Epoch 26/100\n",
      " 16/359 [>.............................] - ETA: 0s - loss: 1.6956e-04\n",
      "Epoch 26: saving model to weights_2012to2023\\2012to2023_BTC-USD-26-0.00009.hdf5\n",
      "359/359 [==============================] - 0s 158us/sample - loss: 0.0017 - val_loss: 8.6060e-05\n",
      "Epoch 27/100\n",
      " 16/359 [>.............................] - ETA: 0s - loss: 7.6730e-04\n",
      "Epoch 27: saving model to weights_2012to2023\\2012to2023_BTC-USD-27-0.00009.hdf5\n",
      "359/359 [==============================] - 0s 139us/sample - loss: 7.8697e-04 - val_loss: 8.7883e-05\n",
      "Epoch 28/100\n",
      " 16/359 [>.............................] - ETA: 0s - loss: 3.0130e-04\n",
      "Epoch 28: saving model to weights_2012to2023\\2012to2023_BTC-USD-28-0.00010.hdf5\n",
      "359/359 [==============================] - 0s 136us/sample - loss: 0.0018 - val_loss: 9.5806e-05\n",
      "Epoch 29/100\n",
      " 16/359 [>.............................] - ETA: 0s - loss: 6.4312e-04\n",
      "Epoch 29: saving model to weights_2012to2023\\2012to2023_BTC-USD-29-0.00009.hdf5\n",
      "359/359 [==============================] - 0s 164us/sample - loss: 0.0016 - val_loss: 9.1224e-05\n",
      "Epoch 30/100\n",
      " 16/359 [>.............................] - ETA: 0s - loss: 6.6948e-04\n",
      "Epoch 30: saving model to weights_2012to2023\\2012to2023_BTC-USD-30-0.00009.hdf5\n",
      "359/359 [==============================] - 0s 158us/sample - loss: 9.4395e-04 - val_loss: 8.5690e-05\n",
      "Epoch 31/100\n",
      " 16/359 [>.............................] - ETA: 0s - loss: 6.8550e-04\n",
      "Epoch 31: saving model to weights_2012to2023\\2012to2023_BTC-USD-31-0.00009.hdf5\n",
      "359/359 [==============================] - 0s 133us/sample - loss: 0.0011 - val_loss: 8.8721e-05\n",
      "Epoch 32/100\n",
      " 16/359 [>.............................] - ETA: 0s - loss: 9.5687e-04\n",
      "Epoch 32: saving model to weights_2012to2023\\2012to2023_BTC-USD-32-0.00009.hdf5\n",
      "359/359 [==============================] - 0s 136us/sample - loss: 0.0010 - val_loss: 8.6053e-05\n",
      "Epoch 33/100\n",
      " 16/359 [>.............................] - ETA: 0s - loss: 7.4662e-05\n",
      "Epoch 33: saving model to weights_2012to2023\\2012to2023_BTC-USD-33-0.00008.hdf5\n",
      "359/359 [==============================] - 0s 142us/sample - loss: 0.0011 - val_loss: 8.3847e-05\n",
      "Epoch 34/100\n",
      " 16/359 [>.............................] - ETA: 0s - loss: 6.0260e-04\n",
      "Epoch 34: saving model to weights_2012to2023\\2012to2023_BTC-USD-34-0.00009.hdf5\n",
      "359/359 [==============================] - 0s 153us/sample - loss: 0.0013 - val_loss: 8.5587e-05\n",
      "Epoch 35/100\n",
      " 16/359 [>.............................] - ETA: 0s - loss: 3.2132e-04\n",
      "Epoch 35: saving model to weights_2012to2023\\2012to2023_BTC-USD-35-0.00009.hdf5\n",
      "359/359 [==============================] - 0s 139us/sample - loss: 0.0014 - val_loss: 9.0291e-05\n",
      "Epoch 36/100\n",
      " 16/359 [>.............................] - ETA: 0s - loss: 7.2677e-05\n",
      "Epoch 36: saving model to weights_2012to2023\\2012to2023_BTC-USD-36-0.00011.hdf5\n",
      "359/359 [==============================] - 0s 153us/sample - loss: 0.0014 - val_loss: 1.0799e-04\n",
      "Epoch 37/100\n",
      " 16/359 [>.............................] - ETA: 0s - loss: 5.5885e-04\n",
      "Epoch 37: saving model to weights_2012to2023\\2012to2023_BTC-USD-37-0.00009.hdf5\n",
      "359/359 [==============================] - 0s 142us/sample - loss: 8.0564e-04 - val_loss: 9.2672e-05\n",
      "Epoch 38/100\n",
      " 16/359 [>.............................] - ETA: 0s - loss: 2.0245e-04\n",
      "Epoch 38: saving model to weights_2012to2023\\2012to2023_BTC-USD-38-0.00008.hdf5\n",
      "359/359 [==============================] - 0s 136us/sample - loss: 6.3095e-04 - val_loss: 8.2604e-05\n",
      "Epoch 39/100\n",
      " 16/359 [>.............................] - ETA: 0s - loss: 2.7433e-04\n",
      "Epoch 39: saving model to weights_2012to2023\\2012to2023_BTC-USD-39-0.00010.hdf5\n",
      "359/359 [==============================] - 0s 106us/sample - loss: 7.5550e-04 - val_loss: 9.7010e-05\n",
      "Epoch 40/100\n",
      " 16/359 [>.............................] - ETA: 0s - loss: 2.1273e-04\n",
      "Epoch 40: saving model to weights_2012to2023\\2012to2023_BTC-USD-40-0.00009.hdf5\n",
      "359/359 [==============================] - 0s 125us/sample - loss: 9.6907e-04 - val_loss: 8.7665e-05\n",
      "Epoch 41/100\n",
      " 16/359 [>.............................] - ETA: 0s - loss: 1.3665e-04\n",
      "Epoch 41: saving model to weights_2012to2023\\2012to2023_BTC-USD-41-0.00008.hdf5\n",
      "359/359 [==============================] - 0s 103us/sample - loss: 0.0011 - val_loss: 8.0101e-05\n",
      "Epoch 42/100\n",
      " 16/359 [>.............................] - ETA: 0s - loss: 4.6581e-05\n",
      "Epoch 42: saving model to weights_2012to2023\\2012to2023_BTC-USD-42-0.00008.hdf5\n",
      "359/359 [==============================] - 0s 119us/sample - loss: 0.0016 - val_loss: 8.0642e-05\n",
      "Epoch 43/100\n",
      " 16/359 [>.............................] - ETA: 0s - loss: 3.8040e-04\n",
      "Epoch 43: saving model to weights_2012to2023\\2012to2023_BTC-USD-43-0.00007.hdf5\n",
      "359/359 [==============================] - 0s 106us/sample - loss: 5.8410e-04 - val_loss: 7.1482e-05\n",
      "Epoch 44/100\n",
      " 16/359 [>.............................] - ETA: 0s - loss: 7.8049e-05\n",
      "Epoch 44: saving model to weights_2012to2023\\2012to2023_BTC-USD-44-0.00010.hdf5\n",
      "359/359 [==============================] - 0s 128us/sample - loss: 0.0012 - val_loss: 9.7522e-05\n",
      "Epoch 45/100\n",
      " 16/359 [>.............................] - ETA: 0s - loss: 0.0042\n",
      "Epoch 45: saving model to weights_2012to2023\\2012to2023_BTC-USD-45-0.00008.hdf5\n",
      "359/359 [==============================] - 0s 103us/sample - loss: 0.0014 - val_loss: 8.4290e-05\n",
      "Epoch 46/100\n",
      " 16/359 [>.............................] - ETA: 0s - loss: 1.0174e-04\n",
      "Epoch 46: saving model to weights_2012to2023\\2012to2023_BTC-USD-46-0.00008.hdf5\n",
      "359/359 [==============================] - 0s 175us/sample - loss: 5.8071e-04 - val_loss: 8.3007e-05\n",
      "Epoch 47/100\n",
      " 16/359 [>.............................] - ETA: 0s - loss: 3.8354e-04\n",
      "Epoch 47: saving model to weights_2012to2023\\2012to2023_BTC-USD-47-0.00009.hdf5\n",
      "359/359 [==============================] - 0s 97us/sample - loss: 0.0014 - val_loss: 9.3038e-05\n",
      "Epoch 48/100\n",
      " 16/359 [>.............................] - ETA: 0s - loss: 3.5464e-04\n",
      "Epoch 48: saving model to weights_2012to2023\\2012to2023_BTC-USD-48-0.00009.hdf5\n",
      "359/359 [==============================] - 0s 145us/sample - loss: 7.7324e-04 - val_loss: 8.5245e-05\n",
      "Epoch 49/100\n",
      " 16/359 [>.............................] - ETA: 0s - loss: 2.9792e-04\n",
      "Epoch 49: saving model to weights_2012to2023\\2012to2023_BTC-USD-49-0.00010.hdf5\n",
      "359/359 [==============================] - 0s 217us/sample - loss: 0.0015 - val_loss: 9.7547e-05\n",
      "Epoch 50/100\n",
      " 16/359 [>.............................] - ETA: 0s - loss: 3.2921e-04\n",
      "Epoch 50: saving model to weights_2012to2023\\2012to2023_BTC-USD-50-0.00008.hdf5\n",
      "359/359 [==============================] - 0s 122us/sample - loss: 0.0015 - val_loss: 7.8693e-05\n",
      "Epoch 51/100\n",
      " 16/359 [>.............................] - ETA: 0s - loss: 2.2067e-04\n",
      "Epoch 51: saving model to weights_2012to2023\\2012to2023_BTC-USD-51-0.00009.hdf5\n",
      "359/359 [==============================] - 0s 144us/sample - loss: 0.0011 - val_loss: 9.0321e-05\n",
      "Epoch 52/100\n",
      " 16/359 [>.............................] - ETA: 0s - loss: 4.3007e-04\n",
      "Epoch 52: saving model to weights_2012to2023\\2012to2023_BTC-USD-52-0.00010.hdf5\n",
      "359/359 [==============================] - 0s 131us/sample - loss: 9.7718e-04 - val_loss: 1.0014e-04\n",
      "Epoch 53/100\n",
      " 16/359 [>.............................] - ETA: 0s - loss: 2.8654e-04\n",
      "Epoch 53: saving model to weights_2012to2023\\2012to2023_BTC-USD-53-0.00009.hdf5\n",
      "359/359 [==============================] - 0s 142us/sample - loss: 9.9512e-04 - val_loss: 8.9930e-05\n",
      "Epoch 54/100\n",
      " 16/359 [>.............................] - ETA: 0s - loss: 3.3298e-04\n",
      "Epoch 54: saving model to weights_2012to2023\\2012to2023_BTC-USD-54-0.00010.hdf5\n",
      "359/359 [==============================] - 0s 133us/sample - loss: 0.0016 - val_loss: 1.0432e-04\n",
      "Epoch 55/100\n",
      " 16/359 [>.............................] - ETA: 0s - loss: 0.0011\n",
      "Epoch 55: saving model to weights_2012to2023\\2012to2023_BTC-USD-55-0.00010.hdf5\n",
      "359/359 [==============================] - 0s 139us/sample - loss: 0.0016 - val_loss: 9.9121e-05\n",
      "Epoch 56/100\n",
      " 16/359 [>.............................] - ETA: 0s - loss: 0.0012\n",
      "Epoch 56: saving model to weights_2012to2023\\2012to2023_BTC-USD-56-0.00011.hdf5\n",
      "359/359 [==============================] - 0s 122us/sample - loss: 0.0012 - val_loss: 1.0656e-04\n",
      "Epoch 57/100\n",
      " 16/359 [>.............................] - ETA: 0s - loss: 4.3642e-04\n",
      "Epoch 57: saving model to weights_2012to2023\\2012to2023_BTC-USD-57-0.00010.hdf5\n",
      "359/359 [==============================] - 0s 128us/sample - loss: 5.6770e-04 - val_loss: 9.5163e-05\n",
      "Epoch 58/100\n",
      " 16/359 [>.............................] - ETA: 0s - loss: 6.5183e-04\n",
      "Epoch 58: saving model to weights_2012to2023\\2012to2023_BTC-USD-58-0.00009.hdf5\n",
      "359/359 [==============================] - 0s 117us/sample - loss: 6.3849e-04 - val_loss: 9.1817e-05\n",
      "Epoch 59/100\n",
      " 16/359 [>.............................] - ETA: 0s - loss: 0.0047\n",
      "Epoch 59: saving model to weights_2012to2023\\2012to2023_BTC-USD-59-0.00010.hdf5\n",
      "359/359 [==============================] - 0s 136us/sample - loss: 0.0016 - val_loss: 1.0477e-04\n",
      "Epoch 60/100\n",
      " 16/359 [>.............................] - ETA: 0s - loss: 4.2639e-04\n",
      "Epoch 60: saving model to weights_2012to2023\\2012to2023_BTC-USD-60-0.00008.hdf5\n",
      "359/359 [==============================] - 0s 117us/sample - loss: 8.8481e-04 - val_loss: 8.1208e-05\n",
      "Epoch 61/100\n",
      " 16/359 [>.............................] - ETA: 0s - loss: 7.8921e-04\n",
      "Epoch 61: saving model to weights_2012to2023\\2012to2023_BTC-USD-61-0.00008.hdf5\n",
      "359/359 [==============================] - 0s 131us/sample - loss: 9.2892e-04 - val_loss: 7.9214e-05\n",
      "Epoch 62/100\n",
      " 16/359 [>.............................] - ETA: 0s - loss: 5.1141e-04\n",
      "Epoch 62: saving model to weights_2012to2023\\2012to2023_BTC-USD-62-0.00009.hdf5\n",
      "359/359 [==============================] - 0s 122us/sample - loss: 0.0010 - val_loss: 9.1670e-05\n",
      "Epoch 63/100\n",
      " 16/359 [>.............................] - ETA: 0s - loss: 5.8092e-04\n",
      "Epoch 63: saving model to weights_2012to2023\\2012to2023_BTC-USD-63-0.00009.hdf5\n",
      "359/359 [==============================] - 0s 131us/sample - loss: 7.3721e-04 - val_loss: 8.9064e-05\n",
      "Epoch 64/100\n",
      " 16/359 [>.............................] - ETA: 0s - loss: 4.8632e-05\n",
      "Epoch 64: saving model to weights_2012to2023\\2012to2023_BTC-USD-64-0.00009.hdf5\n",
      "359/359 [==============================] - 0s 122us/sample - loss: 0.0010 - val_loss: 9.2046e-05\n",
      "Epoch 65/100\n",
      " 16/359 [>.............................] - ETA: 0s - loss: 6.9099e-04\n",
      "Epoch 65: saving model to weights_2012to2023\\2012to2023_BTC-USD-65-0.00012.hdf5\n",
      "359/359 [==============================] - 0s 130us/sample - loss: 0.0016 - val_loss: 1.1831e-04\n",
      "Epoch 66/100\n",
      " 16/359 [>.............................] - ETA: 0s - loss: 5.4785e-04\n",
      "Epoch 66: saving model to weights_2012to2023\\2012to2023_BTC-USD-66-0.00009.hdf5\n",
      "359/359 [==============================] - 0s 133us/sample - loss: 8.1009e-04 - val_loss: 8.6432e-05\n",
      "Epoch 67/100\n",
      " 16/359 [>.............................] - ETA: 0s - loss: 4.8700e-04\n",
      "Epoch 67: saving model to weights_2012to2023\\2012to2023_BTC-USD-67-0.00009.hdf5\n",
      "359/359 [==============================] - 0s 119us/sample - loss: 5.5381e-04 - val_loss: 8.9678e-05\n",
      "Epoch 68/100\n",
      " 16/359 [>.............................] - ETA: 0s - loss: 0.0013\n",
      "Epoch 68: saving model to weights_2012to2023\\2012to2023_BTC-USD-68-0.00010.hdf5\n",
      "359/359 [==============================] - 0s 108us/sample - loss: 0.0015 - val_loss: 1.0102e-04\n",
      "Epoch 69/100\n",
      " 16/359 [>.............................] - ETA: 0s - loss: 7.6099e-04\n",
      "Epoch 69: saving model to weights_2012to2023\\2012to2023_BTC-USD-69-0.00009.hdf5\n",
      "359/359 [==============================] - 0s 125us/sample - loss: 0.0011 - val_loss: 8.9035e-05\n",
      "Epoch 70/100\n",
      " 16/359 [>.............................] - ETA: 0s - loss: 2.9935e-04\n",
      "Epoch 70: saving model to weights_2012to2023\\2012to2023_BTC-USD-70-0.00009.hdf5\n",
      "359/359 [==============================] - 0s 128us/sample - loss: 0.0010 - val_loss: 9.4565e-05\n",
      "Epoch 71/100\n",
      " 16/359 [>.............................] - ETA: 0s - loss: 3.5249e-04\n",
      "Epoch 71: saving model to weights_2012to2023\\2012to2023_BTC-USD-71-0.00007.hdf5\n",
      "359/359 [==============================] - 0s 119us/sample - loss: 7.1303e-04 - val_loss: 6.7058e-05\n",
      "Epoch 72/100\n",
      " 16/359 [>.............................] - ETA: 0s - loss: 7.4157e-04\n",
      "Epoch 72: saving model to weights_2012to2023\\2012to2023_BTC-USD-72-0.00009.hdf5\n",
      "359/359 [==============================] - 0s 133us/sample - loss: 7.8817e-04 - val_loss: 9.3184e-05\n",
      "Epoch 73/100\n",
      " 16/359 [>.............................] - ETA: 0s - loss: 3.9393e-04\n",
      "Epoch 73: saving model to weights_2012to2023\\2012to2023_BTC-USD-73-0.00009.hdf5\n",
      "359/359 [==============================] - 0s 147us/sample - loss: 9.7627e-04 - val_loss: 8.7604e-05\n",
      "Epoch 74/100\n",
      " 16/359 [>.............................] - ETA: 0s - loss: 1.4186e-04\n",
      "Epoch 74: saving model to weights_2012to2023\\2012to2023_BTC-USD-74-0.00008.hdf5\n",
      "359/359 [==============================] - 0s 133us/sample - loss: 0.0018 - val_loss: 8.1004e-05\n",
      "Epoch 75/100\n",
      " 16/359 [>.............................] - ETA: 0s - loss: 4.9956e-04\n",
      "Epoch 75: saving model to weights_2012to2023\\2012to2023_BTC-USD-75-0.00008.hdf5\n",
      "359/359 [==============================] - 0s 117us/sample - loss: 0.0011 - val_loss: 7.8352e-05\n",
      "Epoch 76/100\n",
      " 16/359 [>.............................] - ETA: 0s - loss: 1.4990e-04\n",
      "Epoch 76: saving model to weights_2012to2023\\2012to2023_BTC-USD-76-0.00009.hdf5\n",
      "359/359 [==============================] - 0s 139us/sample - loss: 8.4761e-04 - val_loss: 9.1298e-05\n",
      "Epoch 77/100\n",
      " 16/359 [>.............................] - ETA: 0s - loss: 9.4196e-05\n",
      "Epoch 77: saving model to weights_2012to2023\\2012to2023_BTC-USD-77-0.00008.hdf5\n",
      "359/359 [==============================] - 0s 128us/sample - loss: 7.0897e-04 - val_loss: 7.7233e-05\n",
      "Epoch 78/100\n",
      " 16/359 [>.............................] - ETA: 0s - loss: 9.2306e-05\n",
      "Epoch 78: saving model to weights_2012to2023\\2012to2023_BTC-USD-78-0.00008.hdf5\n",
      "359/359 [==============================] - 0s 206us/sample - loss: 7.3846e-04 - val_loss: 7.8907e-05\n",
      "Epoch 79/100\n",
      " 16/359 [>.............................] - ETA: 0s - loss: 5.9370e-04\n",
      "Epoch 79: saving model to weights_2012to2023\\2012to2023_BTC-USD-79-0.00009.hdf5\n",
      "359/359 [==============================] - 0s 142us/sample - loss: 9.7300e-04 - val_loss: 8.9899e-05\n",
      "Epoch 80/100\n",
      " 16/359 [>.............................] - ETA: 0s - loss: 1.7234e-04\n",
      "Epoch 80: saving model to weights_2012to2023\\2012to2023_BTC-USD-80-0.00006.hdf5\n",
      "359/359 [==============================] - 0s 133us/sample - loss: 8.2305e-04 - val_loss: 5.8251e-05\n",
      "Epoch 81/100\n",
      " 16/359 [>.............................] - ETA: 0s - loss: 3.4987e-05\n",
      "Epoch 81: saving model to weights_2012to2023\\2012to2023_BTC-USD-81-0.00010.hdf5\n",
      "359/359 [==============================] - 0s 136us/sample - loss: 8.2962e-04 - val_loss: 1.0122e-04\n",
      "Epoch 82/100\n",
      " 16/359 [>.............................] - ETA: 0s - loss: 2.0634e-04\n",
      "Epoch 82: saving model to weights_2012to2023\\2012to2023_BTC-USD-82-0.00008.hdf5\n",
      "359/359 [==============================] - 0s 114us/sample - loss: 9.8341e-04 - val_loss: 8.3133e-05\n",
      "Epoch 83/100\n",
      " 16/359 [>.............................] - ETA: 0s - loss: 3.8457e-04\n",
      "Epoch 83: saving model to weights_2012to2023\\2012to2023_BTC-USD-83-0.00008.hdf5\n",
      "359/359 [==============================] - 0s 117us/sample - loss: 9.8033e-04 - val_loss: 7.9581e-05\n",
      "Epoch 84/100\n",
      " 16/359 [>.............................] - ETA: 0s - loss: 8.1878e-04\n",
      "Epoch 84: saving model to weights_2012to2023\\2012to2023_BTC-USD-84-0.00009.hdf5\n",
      "359/359 [==============================] - 0s 164us/sample - loss: 0.0014 - val_loss: 9.3540e-05\n",
      "Epoch 85/100\n",
      " 16/359 [>.............................] - ETA: 0s - loss: 7.9152e-04\n",
      "Epoch 85: saving model to weights_2012to2023\\2012to2023_BTC-USD-85-0.00009.hdf5\n",
      "359/359 [==============================] - 0s 161us/sample - loss: 6.4617e-04 - val_loss: 8.5583e-05\n",
      "Epoch 86/100\n",
      " 16/359 [>.............................] - ETA: 0s - loss: 1.1597e-04\n",
      "Epoch 86: saving model to weights_2012to2023\\2012to2023_BTC-USD-86-0.00009.hdf5\n",
      "359/359 [==============================] - 0s 114us/sample - loss: 9.9366e-04 - val_loss: 9.1720e-05\n",
      "Epoch 87/100\n",
      " 16/359 [>.............................] - ETA: 0s - loss: 6.9948e-04\n",
      "Epoch 87: saving model to weights_2012to2023\\2012to2023_BTC-USD-87-0.00014.hdf5\n",
      "359/359 [==============================] - 0s 133us/sample - loss: 0.0012 - val_loss: 1.3966e-04\n",
      "Epoch 88/100\n",
      " 16/359 [>.............................] - ETA: 0s - loss: 6.6576e-04\n",
      "Epoch 88: saving model to weights_2012to2023\\2012to2023_BTC-USD-88-0.00010.hdf5\n",
      "359/359 [==============================] - 0s 114us/sample - loss: 0.0016 - val_loss: 9.6976e-05\n",
      "Epoch 89/100\n",
      " 16/359 [>.............................] - ETA: 0s - loss: 0.0011\n",
      "Epoch 89: saving model to weights_2012to2023\\2012to2023_BTC-USD-89-0.00008.hdf5\n",
      "359/359 [==============================] - 0s 117us/sample - loss: 8.8804e-04 - val_loss: 8.2916e-05\n",
      "Epoch 90/100\n",
      " 16/359 [>.............................] - ETA: 0s - loss: 0.0010\n",
      "Epoch 90: saving model to weights_2012to2023\\2012to2023_BTC-USD-90-0.00008.hdf5\n",
      "359/359 [==============================] - 0s 111us/sample - loss: 0.0010 - val_loss: 8.3177e-05\n",
      "Epoch 91/100\n",
      " 16/359 [>.............................] - ETA: 0s - loss: 2.8004e-04\n",
      "Epoch 91: saving model to weights_2012to2023\\2012to2023_BTC-USD-91-0.00008.hdf5\n",
      "359/359 [==============================] - 0s 114us/sample - loss: 8.1074e-04 - val_loss: 8.3907e-05\n",
      "Epoch 92/100\n",
      " 16/359 [>.............................] - ETA: 0s - loss: 1.6073e-04\n",
      "Epoch 92: saving model to weights_2012to2023\\2012to2023_BTC-USD-92-0.00012.hdf5\n",
      "359/359 [==============================] - 0s 117us/sample - loss: 7.5371e-04 - val_loss: 1.2139e-04\n",
      "Epoch 93/100\n",
      " 16/359 [>.............................] - ETA: 0s - loss: 6.4763e-04\n",
      "Epoch 93: saving model to weights_2012to2023\\2012to2023_BTC-USD-93-0.00009.hdf5\n",
      "359/359 [==============================] - 0s 139us/sample - loss: 0.0011 - val_loss: 8.5734e-05\n",
      "Epoch 94/100\n",
      " 16/359 [>.............................] - ETA: 0s - loss: 2.1787e-04\n",
      "Epoch 94: saving model to weights_2012to2023\\2012to2023_BTC-USD-94-0.00013.hdf5\n",
      "359/359 [==============================] - 0s 117us/sample - loss: 0.0018 - val_loss: 1.3174e-04\n",
      "Epoch 95/100\n",
      " 16/359 [>.............................] - ETA: 0s - loss: 0.0018\n",
      "Epoch 95: saving model to weights_2012to2023\\2012to2023_BTC-USD-95-0.00008.hdf5\n",
      "359/359 [==============================] - 0s 111us/sample - loss: 7.9261e-04 - val_loss: 8.3473e-05\n",
      "Epoch 96/100\n",
      " 16/359 [>.............................] - ETA: 0s - loss: 3.3702e-04\n",
      "Epoch 96: saving model to weights_2012to2023\\2012to2023_BTC-USD-96-0.00013.hdf5\n",
      "359/359 [==============================] - 0s 117us/sample - loss: 0.0021 - val_loss: 1.2775e-04\n",
      "Epoch 97/100\n",
      " 16/359 [>.............................] - ETA: 0s - loss: 3.5803e-04\n",
      "Epoch 97: saving model to weights_2012to2023\\2012to2023_BTC-USD-97-0.00007.hdf5\n",
      "359/359 [==============================] - 0s 139us/sample - loss: 4.9473e-04 - val_loss: 7.1216e-05\n",
      "Epoch 98/100\n",
      " 16/359 [>.............................] - ETA: 0s - loss: 0.0027\n",
      "Epoch 98: saving model to weights_2012to2023\\2012to2023_BTC-USD-98-0.00011.hdf5\n",
      "359/359 [==============================] - 0s 150us/sample - loss: 0.0016 - val_loss: 1.0928e-04\n",
      "Epoch 99/100\n",
      " 16/359 [>.............................] - ETA: 0s - loss: 6.5431e-04\n",
      "Epoch 99: saving model to weights_2012to2023\\2012to2023_BTC-USD-99-0.00010.hdf5\n",
      "359/359 [==============================] - 0s 119us/sample - loss: 0.0019 - val_loss: 9.7634e-05\n",
      "Epoch 100/100\n",
      " 16/359 [>.............................] - ETA: 0s - loss: 0.0011\n",
      "Epoch 100: saving model to weights_2012to2023\\2012to2023_BTC-USD-100-0.00008.hdf5\n",
      "359/359 [==============================] - 0s 131us/sample - loss: 0.0011 - val_loss: 8.0348e-05\n"
     ]
    }
   ],
   "source": [
    "output_file_name = '2012to2023_BTC-USD'\n",
    "\n",
    "history = model.fit(\n",
    "    training_datas,\n",
    "    training_labels,\n",
    "    verbose=1,\n",
    "    batch_size=batch_size,\n",
    "    validation_data=(validation_datas, validation_labels),\n",
    "    epochs=epochs,\n",
    "    callbacks=[\n",
    "        CSVLogger(output_file_name+'.csv', append=True),\n",
    "        ModelCheckpoint('weights_2012to2023/'+output_file_name+'-{epoch:02d}-{val_loss:.5f}.hdf5', monitor='val_loss', verbose=1, mode='min')\n",
    "    ]\n",
    ")"
   ]
  },
  {
   "cell_type": "code",
   "execution_count": 208,
   "metadata": {
    "colab": {
     "base_uri": "https://localhost:8080/",
     "height": 460
    },
    "id": "64ICxyY-bjZA",
    "outputId": "f427f671-db12-4e52-b39c-cacd1de3aea0",
    "tags": []
   },
   "outputs": [
    {
     "data": {
      "image/png": "[encoded data removed]",
      "text/plain": [
       "<Figure size 2000x1000 with 1 Axes>"
      ]
     },
     "metadata": {},
     "output_type": "display_data"
    }
   ],
   "source": [
    "%matplotlib inline\n",
    "plt.figure(figsize=(20,10))\n",
    "plt.plot(history.history['loss'])\n",
    "plt.plot(history.history['val_loss'])\n",
    "plt.title('Model loss')\n",
    "plt.ylabel('Loss')\n",
    "plt.xlabel('Epoch')\n",
    "plt.legend(['Train', 'Validation'], loc='upper left')\n",
    "plt.show()"
   ]
  },
  {
   "cell_type": "code",
   "execution_count": 163,
   "metadata": {
    "id": "mCbWMzU-qHqy",
    "tags": []
   },
   "outputs": [
    {
     "data": {
      "image/png": "[encoded data removed]",
      "text/plain": [
       "<Figure size 640x480 with 1 Axes>"
      ]
     },
     "metadata": {},
     "output_type": "display_data"
    }
   ],
   "source": [
    "import matplotlib.pyplot as plt\n",
    "\n",
    "# 학습과 검증 손실 추출\n",
    "train_loss = history.history['loss']\n",
    "val_loss = history.history['val_loss']\n",
    "\n",
    "# 손실 그래프 그리기\n",
    "epochs = range(1, len(train_loss) + 1)\n",
    "plt.plot(epochs, train_loss, 'bo', label='Training loss')\n",
    "plt.plot(epochs, val_loss, 'b', label='Validation loss')\n",
    "plt.title('Training and validation loss')\n",
    "plt.xlabel('Epochs')\n",
    "plt.ylabel('Loss')\n",
    "plt.legend()\n",
    "plt.show()"
   ]
  },
  {
   "cell_type": "markdown",
   "metadata": {
    "id": "YSsbZcHoxwfk"
   },
   "source": [
    "#### Result Plotting"
   ]
  },
  {
   "cell_type": "markdown",
   "metadata": {
    "id": "lub5QMlbtQva"
   },
   "source": []
  },
  {
   "cell_type": "code",
   "execution_count": 164,
   "metadata": {
    "id": "V2C-bxiVYL3H",
    "tags": []
   },
   "outputs": [],
   "source": [
    "# predicted = model.predict(validation_datas)\n",
    "# predicted_inverted = []"
   ]
  },
  {
   "cell_type": "code",
   "execution_count": 165,
   "metadata": {
    "id": "eAYWfQKPg5a8",
    "tags": []
   },
   "outputs": [],
   "source": [
    "# for i in range(original_datas.shape[1]):\n",
    "# \tscaler.fit((np.char.replace((original_datas[:,i].astype(str)), ',', '').astype(float)).reshape(-1,1))\n",
    "# \tpredicted_inverted.append(scaler.inverse_transform(predicted[:,:,i]))"
   ]
  },
  {
   "cell_type": "code",
   "execution_count": 166,
   "metadata": {
    "id": "7zmBLwVhYKVO",
    "tags": []
   },
   "outputs": [],
   "source": [
    "# ground_true = ground_true[:,:,0].reshape(-1)\n",
    "# output_times = output_times.reshape(-1)\n",
    "\n",
    "# predicted_inverted = np.array(predicted_inverted)[:,:,0].reshape(-1)"
   ]
  },
  {
   "cell_type": "code",
   "execution_count": 167,
   "metadata": {
    "id": "J91RTtiewPlZ",
    "tags": []
   },
   "outputs": [],
   "source": [
    "# from datetime import datetime\n",
    "# output_times_datetime = [datetime.strptime(ts.decode(), '%b %d, %Y') for ts in output_times]\n",
    "# # 변환된 값 확인\n",
    "# print(output_times_datetime)"
   ]
  },
  {
   "cell_type": "code",
   "execution_count": 168,
   "metadata": {
    "id": "RoelCXZqwbUh",
    "tags": []
   },
   "outputs": [],
   "source": [
    "# ground_true = np.array([float(y.decode().replace(',', '')) for y in ground_true])\n",
    "# ground_true"
   ]
  },
  {
   "cell_type": "code",
   "execution_count": 234,
   "metadata": {
    "id": "b6M2_QPs2Ajg",
    "tags": []
   },
   "outputs": [],
   "source": [
    "with h5py.File(''.join(['bitcoin2012to2023_close.h5']), 'r') as hf:\n",
    "    datas = hf['inputs'][()]\n",
    "    labels = hf['outputs'][()]\n",
    "    input_times = hf['input_times'][()]\n",
    "    output_times = hf['output_times'][()]\n",
    "    original_inputs = hf['original_inputs'][()]\n",
    "    original_outputs = hf['original_outputs'][()]\n",
    "    original_datas = hf['original_datas'][()]\n",
    "\n",
    "scaler=MinMaxScaler()\n",
    "#split training validation\n",
    "training_size = int(0.8* datas.shape[0])\n",
    "training_datas = datas[:training_size,:,:]\n",
    "training_labels = labels[:training_size,:,:]\n",
    "validation_datas = datas[training_size:,:,:]\n",
    "validation_labels = labels[training_size:,:,:]\n",
    "validation_original_outputs = original_outputs[training_size:,:,:]\n",
    "validation_original_inputs = original_inputs[training_size:,:,:]\n",
    "validation_input_times = input_times[training_size:,:,:]\n",
    "validation_output_times = output_times[training_size:,:,:]\n",
    "\n",
    "ground_true = np.append(validation_original_inputs,validation_original_outputs, axis=1)\n",
    "ground_true_times = np.append(validation_input_times,validation_output_times, axis=1)\n",
    "step_size = datas.shape[1]\n",
    "batch_size= 8\n",
    "nb_features = datas.shape[2]\n",
    "\n",
    "model = Sequential()\n",
    "\n",
    "#build model\n",
    "model.add(Conv1D(activation=\"relu\", input_shape=(step_size, nb_features), strides=2\t, filters=8, kernel_size=8))\n",
    "# model.add(Dropout(0.05))\n",
    "model.add(Conv1D( strides=2, padding=\"same\", filters=nb_features, kernel_size=4))\n",
    "# 가중치 적용: weights에 생성된 적절한 가중치 선택\n",
    "model.load_weights('weights_2012to2023/2012to2023_BTC-USD-10-0.00069.hdf5')\n",
    "model.compile(loss='mse', optimizer='adam')"
   ]
  },
  {
   "cell_type": "code",
   "execution_count": 235,
   "metadata": {
    "colab": {
     "base_uri": "https://localhost:8080/"
    },
    "id": "JL0_MzxpLK7u",
    "outputId": "c541c3f5-fc1e-4274-f883-5082bd83397d",
    "tags": []
   },
   "outputs": [
    {
     "name": "stdout",
     "output_type": "stream",
     "text": [
      "(1, 90, 1)\n",
      "(90,)\n"
     ]
    },
    {
     "name": "stderr",
     "output_type": "stream",
     "text": [
      "D:\\works\\time-series-da\\venv\\Lib\\site-packages\\keras\\engine\\training_v1.py:2359: UserWarning: `Model.state_updates` will be removed in a future version. This property should not be used in TensorFlow 2.0, as `updates` are applied automatically.\n",
      "  updates=self.state_updates,\n"
     ]
    }
   ],
   "source": [
    "predicted = model.predict(validation_datas)\n",
    "predicted_inverted = []\n",
    "\n",
    "for i in range(original_datas.shape[1]):\n",
    "    scaler.fit((np.char.replace((original_datas[:,i].astype(str)), ',', '').astype(float)).reshape(-1,1))\n",
    "    predicted_inverted.append(scaler.inverse_transform(predicted[:,:,i]))\n",
    "print(np.array(predicted_inverted).shape)\n",
    "#get only the close data\n",
    "ground_true = ground_true.reshape(-1)\n",
    "ground_true_times = ground_true_times.reshape(-1)\n",
    "ground_true_times = pd.to_datetime(ground_true_times.astype(str), format=\"%b %d, %Y\")\n",
    "# since we are appending in the first dimension\n",
    "predicted_inverted = np.array(predicted_inverted)[0,:,:].reshape(-1)\n",
    "print(np.array(predicted_inverted).shape)\n",
    "validation_output_times = pd.to_datetime(validation_output_times.astype(str).reshape(-1), format=\"%b %d, %Y\")"
   ]
  },
  {
   "cell_type": "code",
   "execution_count": 236,
   "metadata": {
    "id": "InTgFPKiKtre",
    "tags": []
   },
   "outputs": [],
   "source": [
    "ground_true_df = pd.DataFrame()\n",
    "ground_true_df['times'] = ground_true_times\n",
    "ground_true_df['value'] = ground_true"
   ]
  },
  {
   "cell_type": "code",
   "execution_count": 237,
   "metadata": {
    "colab": {
     "base_uri": "https://localhost:8080/",
     "height": 423
    },
    "id": "mXxRRDf_QMwf",
    "outputId": "70127518-103c-4b9d-e49b-e98e55de1f0f",
    "tags": []
   },
   "outputs": [
    {
     "data": {
      "text/html": [
       "<div>\n",
       "<style scoped>\n",
       "    .dataframe tbody tr th:only-of-type {\n",
       "        vertical-align: middle;\n",
       "    }\n",
       "\n",
       "    .dataframe tbody tr th {\n",
       "        vertical-align: top;\n",
       "    }\n",
       "\n",
       "    .dataframe thead th {\n",
       "        text-align: right;\n",
       "    }\n",
       "</style>\n",
       "<table border=\"1\" class=\"dataframe\">\n",
       "  <thead>\n",
       "    <tr style=\"text-align: right;\">\n",
       "      <th></th>\n",
       "      <th>times</th>\n",
       "      <th>value</th>\n",
       "    </tr>\n",
       "  </thead>\n",
       "  <tbody>\n",
       "    <tr>\n",
       "      <th>0</th>\n",
       "      <td>2014-07-03</td>\n",
       "      <td>b'638.0'</td>\n",
       "    </tr>\n",
       "    <tr>\n",
       "      <th>1</th>\n",
       "      <td>2014-07-02</td>\n",
       "      <td>b'645.7'</td>\n",
       "    </tr>\n",
       "    <tr>\n",
       "      <th>2</th>\n",
       "      <td>2014-07-01</td>\n",
       "      <td>b'643.2'</td>\n",
       "    </tr>\n",
       "    <tr>\n",
       "      <th>3</th>\n",
       "      <td>2014-06-30</td>\n",
       "      <td>b'635.1'</td>\n",
       "    </tr>\n",
       "    <tr>\n",
       "      <th>4</th>\n",
       "      <td>2014-06-29</td>\n",
       "      <td>b'601.1'</td>\n",
       "    </tr>\n",
       "    <tr>\n",
       "      <th>...</th>\n",
       "      <td>...</td>\n",
       "      <td>...</td>\n",
       "    </tr>\n",
       "    <tr>\n",
       "      <th>805</th>\n",
       "      <td>2012-04-19</td>\n",
       "      <td>b'5.1'</td>\n",
       "    </tr>\n",
       "    <tr>\n",
       "      <th>806</th>\n",
       "      <td>2012-04-18</td>\n",
       "      <td>b'5.1'</td>\n",
       "    </tr>\n",
       "    <tr>\n",
       "      <th>807</th>\n",
       "      <td>2012-04-17</td>\n",
       "      <td>b'5.0'</td>\n",
       "    </tr>\n",
       "    <tr>\n",
       "      <th>808</th>\n",
       "      <td>2012-04-16</td>\n",
       "      <td>b'4.9'</td>\n",
       "    </tr>\n",
       "    <tr>\n",
       "      <th>809</th>\n",
       "      <td>2012-04-15</td>\n",
       "      <td>b'5.0'</td>\n",
       "    </tr>\n",
       "  </tbody>\n",
       "</table>\n",
       "<p>810 rows × 2 columns</p>\n",
       "</div>"
      ],
      "text/plain": [
       "         times     value\n",
       "0   2014-07-03  b'638.0'\n",
       "1   2014-07-02  b'645.7'\n",
       "2   2014-07-01  b'643.2'\n",
       "3   2014-06-30  b'635.1'\n",
       "4   2014-06-29  b'601.1'\n",
       "..         ...       ...\n",
       "805 2012-04-19    b'5.1'\n",
       "806 2012-04-18    b'5.1'\n",
       "807 2012-04-17    b'5.0'\n",
       "808 2012-04-16    b'4.9'\n",
       "809 2012-04-15    b'5.0'\n",
       "\n",
       "[810 rows x 2 columns]"
      ]
     },
     "execution_count": 237,
     "metadata": {},
     "output_type": "execute_result"
    }
   ],
   "source": [
    "ground_true_df"
   ]
  },
  {
   "cell_type": "code",
   "execution_count": 238,
   "metadata": {
    "id": "SxaDMPY56CCK",
    "tags": []
   },
   "outputs": [],
   "source": [
    "ground_true_df['value'] = ground_true_df['value'].apply(lambda x: float(x.decode('utf-8').replace(\",\", \"\")))"
   ]
  },
  {
   "cell_type": "code",
   "execution_count": 239,
   "metadata": {
    "colab": {
     "base_uri": "https://localhost:8080/",
     "height": 423
    },
    "id": "xaON4OUnQHcO",
    "outputId": "7dfd6479-5dd5-4eac-b0f8-f28aaec9c55e",
    "tags": []
   },
   "outputs": [
    {
     "data": {
      "text/html": [
       "<div>\n",
       "<style scoped>\n",
       "    .dataframe tbody tr th:only-of-type {\n",
       "        vertical-align: middle;\n",
       "    }\n",
       "\n",
       "    .dataframe tbody tr th {\n",
       "        vertical-align: top;\n",
       "    }\n",
       "\n",
       "    .dataframe thead th {\n",
       "        text-align: right;\n",
       "    }\n",
       "</style>\n",
       "<table border=\"1\" class=\"dataframe\">\n",
       "  <thead>\n",
       "    <tr style=\"text-align: right;\">\n",
       "      <th></th>\n",
       "      <th>times</th>\n",
       "      <th>value</th>\n",
       "    </tr>\n",
       "  </thead>\n",
       "  <tbody>\n",
       "    <tr>\n",
       "      <th>0</th>\n",
       "      <td>2014-06-25</td>\n",
       "      <td>2312.260010</td>\n",
       "    </tr>\n",
       "    <tr>\n",
       "      <th>1</th>\n",
       "      <td>2014-06-16</td>\n",
       "      <td>2296.868652</td>\n",
       "    </tr>\n",
       "    <tr>\n",
       "      <th>2</th>\n",
       "      <td>2014-06-07</td>\n",
       "      <td>2320.436523</td>\n",
       "    </tr>\n",
       "    <tr>\n",
       "      <th>3</th>\n",
       "      <td>2014-05-29</td>\n",
       "      <td>2337.582031</td>\n",
       "    </tr>\n",
       "    <tr>\n",
       "      <th>4</th>\n",
       "      <td>2014-05-20</td>\n",
       "      <td>2241.723633</td>\n",
       "    </tr>\n",
       "    <tr>\n",
       "      <th>...</th>\n",
       "      <td>...</td>\n",
       "      <td>...</td>\n",
       "    </tr>\n",
       "    <tr>\n",
       "      <th>85</th>\n",
       "      <td>2012-05-21</td>\n",
       "      <td>1819.656128</td>\n",
       "    </tr>\n",
       "    <tr>\n",
       "      <th>86</th>\n",
       "      <td>2012-05-12</td>\n",
       "      <td>1819.593506</td>\n",
       "    </tr>\n",
       "    <tr>\n",
       "      <th>87</th>\n",
       "      <td>2012-05-03</td>\n",
       "      <td>1819.601929</td>\n",
       "    </tr>\n",
       "    <tr>\n",
       "      <th>88</th>\n",
       "      <td>2012-04-24</td>\n",
       "      <td>1819.615967</td>\n",
       "    </tr>\n",
       "    <tr>\n",
       "      <th>89</th>\n",
       "      <td>2012-04-15</td>\n",
       "      <td>1819.618042</td>\n",
       "    </tr>\n",
       "  </tbody>\n",
       "</table>\n",
       "<p>90 rows × 2 columns</p>\n",
       "</div>"
      ],
      "text/plain": [
       "        times        value\n",
       "0  2014-06-25  2312.260010\n",
       "1  2014-06-16  2296.868652\n",
       "2  2014-06-07  2320.436523\n",
       "3  2014-05-29  2337.582031\n",
       "4  2014-05-20  2241.723633\n",
       "..        ...          ...\n",
       "85 2012-05-21  1819.656128\n",
       "86 2012-05-12  1819.593506\n",
       "87 2012-05-03  1819.601929\n",
       "88 2012-04-24  1819.615967\n",
       "89 2012-04-15  1819.618042\n",
       "\n",
       "[90 rows x 2 columns]"
      ]
     },
     "execution_count": 239,
     "metadata": {},
     "output_type": "execute_result"
    }
   ],
   "source": [
    "prediction_df = pd.DataFrame()\n",
    "prediction_df['times'] = validation_output_times\n",
    "prediction_df['value'] = predicted_inverted\n",
    "prediction_df"
   ]
  },
  {
   "cell_type": "code",
   "execution_count": 240,
   "metadata": {
    "id": "pU8b87yq6SIf",
    "tags": []
   },
   "outputs": [],
   "source": [
    "# prediction_df['value'] = prediction_df['value'].apply(lambda x: float(x.decode('utf-8').replace(\",\", \"\")))"
   ]
  },
  {
   "cell_type": "code",
   "execution_count": 241,
   "metadata": {
    "colab": {
     "base_uri": "https://localhost:8080/",
     "height": 443
    },
    "id": "tsK4jY58SCOX",
    "outputId": "8eb7b7b5-f5fd-436d-e10e-b0e3c06ae60c",
    "tags": []
   },
   "outputs": [
    {
     "data": {
      "image/png": "[encoded data removed]",
      "text/plain": [
       "<Figure size 2000x1000 with 1 Axes>"
      ]
     },
     "metadata": {},
     "output_type": "display_data"
    }
   ],
   "source": [
    "%matplotlib inline\n",
    "plt.figure(figsize=(20,10))\n",
    "plt.plot(ground_true_df.times,ground_true_df.value, label = 'Actual')\n",
    "plt.plot(prediction_df.times,prediction_df.value,'ro', label='Predicted')\n",
    "plt.legend(loc='upper left')\n",
    "plt.show()"
   ]
  },
  {
   "cell_type": "code",
   "execution_count": 221,
   "metadata": {
    "tags": []
   },
   "outputs": [],
   "source": [
    "# #TODO: 일단 전체(original) 데이터 출력해보기\n",
    "# plt.figure(figsize=(20,10))\n",
    "# plt.plot(all_times, np.char.replace((all_original_values.astype(str)), ',', '').astype(float))\n",
    "# plt.show()"
   ]
  },
  {
   "cell_type": "code",
   "execution_count": 222,
   "metadata": {
    "tags": []
   },
   "outputs": [],
   "source": [
    "# #TODO: 전체 데이터와 학습데이터 함께 출력해보기\n",
    "# # Plot original data\n",
    "# plt.plot(original_df.index, original_df['Price'], label='Ground Truth')\n",
    "\n",
    "# # Plot validation data\n",
    "# plt.plot(validation_output_times, predicted_inverted, label='Validation Prediction')\n",
    "\n",
    "# # Plot training data\n",
    "# train_output_times = pd.to_datetime(train_output_times.astype(str).reshape(-1), format=\"%b %d, %Y\")\n",
    "# train_output = model.predict(train_datas)\n",
    "# train_predicted_inverted = []\n",
    "# for i in range(original_datas.shape[1]):\n",
    "#     scaler.fit((np.char.replace((original_datas[:,i].astype(str)), ',', '').astype(float)).reshape(-1,1))\n",
    "#     train_predicted_inverted.append(scaler.inverse_transform(train_predicted[:,:,i]))\n",
    "# train_predicted_inverted = np.array(train_predicted_inverted)[0,:,:].reshape(-1)\n",
    "# plt.plot(train_output_times, train_predicted_inverted, label='Training Prediction')\n",
    "\n",
    "# plt.legend()\n",
    "# plt.show()"
   ]
  },
  {
   "cell_type": "code",
   "execution_count": null,
   "metadata": {
    "colab": {
     "base_uri": "https://localhost:8080/",
     "height": 452
    },
    "id": "yRpMHmqvG8f2",
    "outputId": "ec7e9258-1244-418a-e4df-90deca1f6d31",
    "tags": []
   },
   "outputs": [],
   "source": [
    "# 1. df 내 값들을 하루에 하나로 resample\n",
    "%matplotlib inline\n",
    "prediction_df.set_index('times', inplace=True)\n",
    "ground_true_df.set_index('times', inplace=True)\n",
    "\n",
    "# prediction_df.index = pd.to_datetime(prediction_df.index)\n",
    "# ground_true_df.index = pd.to_datetime(ground_true_df.index)\n",
    "\n",
    "prediction_df = prediction_df.resample('D').last()\n",
    "ground_true_df = ground_true_df.resample('D').last()\n",
    "\n",
    "plt.figure(figsize=(20,10))\n",
    "plt.plot(ground_true_df.index,ground_true_df.value, label = 'Actual')\n",
    "plt.plot(prediction_df.index,prediction_df.value,'ro', label='Predicted')\n",
    "plt.legend(loc='upper left')\n",
    "# plt.savefig('result_2018to2023/bitcoin2018to2023_close_CNN_2_relu_result.png')\n",
    "plt.show()"
   ]
  },
  {
   "cell_type": "code",
   "execution_count": null,
   "metadata": {
    "colab": {
     "base_uri": "https://localhost:8080/",
     "height": 452
    },
    "id": "n4iu1r8YB_rV",
    "outputId": "f5efb9b4-0155-4f2d-f53d-17f5fca1d7cd"
   },
   "outputs": [],
   "source": [
    "# 2. df 내 모든 값 표시\n",
    "prediction_df = prediction_df.loc[(prediction_df[\"times\"] >= \"2012-05-15\") ]\n",
    "ground_true_df = ground_true_df.loc[(ground_true_df[\"times\"] >= \"2012-05-15\")]\n",
    "\n",
    "plt.figure(figsize=(20,10))\n",
    "plt.plot(ground_true_df.times,ground_true_df.value, label = 'Actual')\n",
    "plt.plot(prediction_df.times,prediction_df.value,'ro', label='Predicted')\n",
    "plt.legend(loc='upper left')\n",
    "# plt.savefig('result_2018to2023/bitcoin2018to2023_close_CNN_2_relu_result.png')\n",
    "plt.show()"
   ]
  },
  {
   "cell_type": "code",
   "execution_count": null,
   "metadata": {
    "colab": {
     "base_uri": "https://localhost:8080/"
    },
    "id": "A_BramWsCBJd",
    "outputId": "47cc20d4-d76a-46ee-fbcf-65558a82700b"
   },
   "outputs": [],
   "source": [
    "from sklearn.metrics import mean_squared_error\n",
    "mean_squared_error(validation_original_outputs[:,:,0].reshape(-1),predicted_inverted)"
   ]
  },
  {
   "cell_type": "code",
   "execution_count": null,
   "metadata": {},
   "outputs": [],
   "source": [
    "# 그래프 출력\n",
    "# plt.figure(figsize=(20,10))\n",
    "# plt.plot(all_times, all_original_values, label='Actual')\n",
    "# plt.legend(loc='upper left')\n",
    "# plt.show()"
   ]
  },
  {
   "cell_type": "code",
   "execution_count": null,
   "metadata": {},
   "outputs": [],
   "source": [
    "output_times"
   ]
  }
 ],
 "metadata": {
  "accelerator": "GPU",
  "colab": {
   "authorship_tag": "ABX9TyMpNobSqGMsm6+kO4LODD7F",
   "gpuType": "T4",
   "include_colab_link": true,
   "mount_file_id": "17ZE5htR9MNkKX3xQPjtiC2_LsvHfGVW5",
   "provenance": []
  },
  "gpuClass": "standard",
  "kernelspec": {
   "display_name": "Python 3 (ipykernel)",
   "language": "python",
   "name": "python3"
  },
  "language_info": {
   "codemirror_mode": {
    "name": "ipython",
    "version": 3
   },
   "file_extension": ".py",
   "mimetype": "text/x-python",
   "name": "python",
   "nbconvert_exporter": "python",
   "pygments_lexer": "ipython3",
   "version": "3.10.10"
  }
 },
 "nbformat": 4,
 "nbformat_minor": 4
}
