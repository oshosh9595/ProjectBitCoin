{
 "cells": [
  {
   "cell_type": "code",
   "execution_count": 1,
   "id": "90d8eef7-67f5-45df-8d30-762ea9d84052",
   "metadata": {
    "tags": []
   },
   "outputs": [],
   "source": [
    "import pandas as pd\n",
    "from selenium import webdriver\n",
    "from bs4 import BeautifulSoup"
   ]
  },
  {
   "cell_type": "code",
   "execution_count": 58,
   "id": "62132c95-abec-43fa-845a-86149da96490",
   "metadata": {
    "tags": []
   },
   "outputs": [
    {
     "name": "stdout",
     "output_type": "stream",
     "text": [
      "<div class=\"Yfwt5\">비트코인 $28K 돌파--부채 협상 타결, 유동성 유입 기대</div>\n"
     ]
    }
   ],
   "source": [
    "\n",
    "import requests \n",
    "from bs4 import BeautifulSoup\n",
    "\n",
    "#request 라이브러리 이용 가져오기\n",
    "htmls = requests.get(\"https://www.google.com/search?q=%EB%B9%84%ED%8A%B8%EC%BD%94%EC%9D%B8&sxsrf=APwXEdfE8CSepAPmkwnj1OFFoGtHW2B-KA:1685333010854&source=lnms&tbm=nws&sa=X&ved=2ahUKEwidq8Lb0pn_AhV-m1YBHeJBDkoQ_AUoAnoECAEQBA&biw=815&bih=835&dpr=1.1\")\n",
    "\n",
    "#BeautifulSoup 이용 파싱하기\n",
    "bs = BeautifulSoup(htmls.content, 'html.parser')\n",
    "\n",
    "titles = bs.find_all('div', class_='n0jPhd ynAwRc MBeuO nDgy9d')\n",
    "\n",
    "print(title)"
   ]
  },
  {
   "cell_type": "code",
   "execution_count": 1,
   "id": "9b58badb-3f24-404b-b051-e842887dd47d",
   "metadata": {
    "tags": []
   },
   "outputs": [
    {
     "ename": "NameError",
     "evalue": "name 'webdriver' is not defined",
     "output_type": "error",
     "traceback": [
      "\u001b[1;31m---------------------------------------------------------------------------\u001b[0m",
      "\u001b[1;31mNameError\u001b[0m                                 Traceback (most recent call last)",
      "Cell \u001b[1;32mIn[1], line 5\u001b[0m\n\u001b[0;32m      2\u001b[0m webdriver_path \u001b[38;5;241m=\u001b[39m \u001b[38;5;124m'\u001b[39m\u001b[38;5;124m/path/to/chromedriver\u001b[39m\u001b[38;5;124m'\u001b[39m\n\u001b[0;32m      4\u001b[0m \u001b[38;5;66;03m# Chrome WebDriver 인스턴스 생성\u001b[39;00m\n\u001b[1;32m----> 5\u001b[0m driver \u001b[38;5;241m=\u001b[39m \u001b[43mwebdriver\u001b[49m\u001b[38;5;241m.\u001b[39mChrome(webdriver_path)\n\u001b[0;32m      7\u001b[0m \u001b[38;5;66;03m# Google 뉴스 검색 결과 페이지 접속\u001b[39;00m\n\u001b[0;32m      8\u001b[0m driver\u001b[38;5;241m.\u001b[39mget(\u001b[38;5;124m'\u001b[39m\u001b[38;5;124mhttps://www.google.com/search?q=\u001b[39m\u001b[38;5;132;01m%E\u001b[39;00m\u001b[38;5;124mB\u001b[39m\u001b[38;5;124m%\u001b[39m\u001b[38;5;124mB9\u001b[39m\u001b[38;5;132;01m%84%\u001b[39;00m\u001b[38;5;124mED\u001b[39m\u001b[38;5;124m%\u001b[39m\u001b[38;5;124m8A\u001b[39m\u001b[38;5;124m%\u001b[39m\u001b[38;5;124mB8\u001b[39m\u001b[38;5;132;01m%E\u001b[39;00m\u001b[38;5;124mC\u001b[39m\u001b[38;5;124m%\u001b[39m\u001b[38;5;124mBD\u001b[39m\u001b[38;5;132;01m%94%\u001b[39;00m\u001b[38;5;124mEC\u001b[39m\u001b[38;5;124m%\u001b[39m\u001b[38;5;124m9D\u001b[39m\u001b[38;5;124m%\u001b[39m\u001b[38;5;124mB8&sxsrf=APwXEdfE8CSepAPmkwnj1OFFoGtHW2B-KA:1685333010854&source=lnms&tbm=nws&sa=X&ved=2ahUKEwidq8Lb0pn_AhV-m1YBHeJBDkoQ_AUoAnoECAEQBA&biw=815&bih=835&dpr=1.1\u001b[39m\u001b[38;5;124m'\u001b[39m)\n",
      "\u001b[1;31mNameError\u001b[0m: name 'webdriver' is not defined"
     ]
    }
   ],
   "source": [
    "# Chrome WebDriver 실행 경로 지정\n",
    "webdriver_path = '/path/to/chromedriver'\n",
    "\n",
    "# Chrome WebDriver 인스턴스 생성\n",
    "driver = webdriver.Chrome(webdriver_path)\n",
    "\n",
    "# Google 뉴스 검색 결과 페이지 접속\n",
    "driver.get('https://www.google.com/search?q=%EB%B9%84%ED%8A%B8%EC%BD%94%EC%9D%B8&sxsrf=APwXEdfE8CSepAPmkwnj1OFFoGtHW2B-KA:1685333010854&source=lnms&tbm=nws&sa=X&ved=2ahUKEwidq8Lb0pn_AhV-m1YBHeJBDkoQ_AUoAnoECAEQBA&biw=815&bih=835&dpr=1.1')\n",
    "\n",
    "# Selenium으로 가져온 HTML을 BeautifulSoup로 파싱\n",
    "bs = BeautifulSoup(driver.page_source, 'html.parser')\n",
    "\n",
    "# 뉴스 제목 요소 찾기\n",
    "titles = bs.find_all('div', class_='n0jPhd ynAwRc MBeuO nDgy9d')\n",
    "\n",
    "data = {'Title': titles}\n",
    "df = pd.DataFrame(data)\n",
    "\n",
    "print(\"전체 개수:\", len(df))\n",
    "\n",
    "#WebDriver 종료\n",
    "#driver.quit()\n"
   ]
  },
  {
   "cell_type": "code",
   "execution_count": 88,
   "id": "97b8cef3-77e0-4021-ba2d-8a02e414e319",
   "metadata": {
    "tags": []
   },
   "outputs": [],
   "source": [
    "from selenium import webdriver\n",
    "from selenium.webdriver.common.by import By\n",
    "\n",
    "driver = webdriver.Chrome()\n",
    "url = \"https://www.google.com/search?q=%EB%B9%84%ED%8A%B8%EC%BD%94%EC%9D%B8&sxsrf=APwXEdfE8CSepAPmkwnj1OFFoGtHW2B-KA:1685333010854&source=lnms&tbm=nws&sa=X&ved=2ahUKEwidq8Lb0pn_AhV-m1YBHeJBDkoQ_AUoAnoECAEQBA&biw=815&bih=835&dpr=1.1\"\n",
    "\n",
    "url.format(\"\")\n",
    "\n",
    "driver.get(url)"
   ]
  },
  {
   "cell_type": "code",
   "execution_count": 90,
   "id": "ed734d2a-72f9-40cc-b054-ba26f4e70920",
   "metadata": {
    "tags": []
   },
   "outputs": [
    {
     "ename": "NoSuchWindowException",
     "evalue": "Message: no such window: target window already closed\nfrom unknown error: web view not found\n  (Session info: chrome=113.0.5672.127)\nStacktrace:\nBacktrace:\n\tGetHandleVerifier [0x00468893+48451]\n\t(No symbol) [0x003FB8A1]\n\t(No symbol) [0x00305058]\n\t(No symbol) [0x002ED073]\n\t(No symbol) [0x0034DEBB]\n\t(No symbol) [0x0035BFD3]\n\t(No symbol) [0x0034A0B6]\n\t(No symbol) [0x00327E08]\n\t(No symbol) [0x00328F2D]\n\tGetHandleVerifier [0x006C8E3A+2540266]\n\tGetHandleVerifier [0x00708959+2801161]\n\tGetHandleVerifier [0x0070295C+2776588]\n\tGetHandleVerifier [0x004F2280+612144]\n\t(No symbol) [0x00404F6C]\n\t(No symbol) [0x004011D8]\n\t(No symbol) [0x004012BB]\n\t(No symbol) [0x003F4857]\n\tBaseThreadInitThunk [0x775C6359+25]\n\tRtlGetAppContainerNamedObjectPath [0x77A67C24+228]\n\tRtlGetAppContainerNamedObjectPath [0x77A67BF4+180]\n",
     "output_type": "error",
     "traceback": [
      "\u001b[1;31m---------------------------------------------------------------------------\u001b[0m",
      "\u001b[1;31mNoSuchWindowException\u001b[0m                     Traceback (most recent call last)",
      "Cell \u001b[1;32mIn[90], line 1\u001b[0m\n\u001b[1;32m----> 1\u001b[0m titles \u001b[38;5;241m=\u001b[39m \u001b[43mdriver\u001b[49m\u001b[38;5;241;43m.\u001b[39;49m\u001b[43mfind_elements\u001b[49m\u001b[43m(\u001b[49m\u001b[43mBy\u001b[49m\u001b[38;5;241;43m.\u001b[39;49m\u001b[43mCLASS_NAME\u001b[49m\u001b[43m,\u001b[49m\u001b[43m \u001b[49m\u001b[38;5;124;43m'\u001b[39;49m\u001b[38;5;124;43mmCBkyc\u001b[39;49m\u001b[38;5;124;43m'\u001b[39;49m\u001b[43m)\u001b[49m\n\u001b[0;32m      2\u001b[0m \u001b[38;5;28;01mfor\u001b[39;00m title \u001b[38;5;129;01min\u001b[39;00m titles:\n\u001b[0;32m      3\u001b[0m     \u001b[38;5;28mprint\u001b[39m(title\u001b[38;5;241m.\u001b[39mtext)\n",
      "File \u001b[1;32m~\\Desktop\\time-series-da-main\\venv\\lib\\site-packages\\selenium\\webdriver\\remote\\webdriver.py:861\u001b[0m, in \u001b[0;36mWebDriver.find_elements\u001b[1;34m(self, by, value)\u001b[0m\n\u001b[0;32m    857\u001b[0m     value \u001b[38;5;241m=\u001b[39m \u001b[38;5;124mf\u001b[39m\u001b[38;5;124m'\u001b[39m\u001b[38;5;124m[name=\u001b[39m\u001b[38;5;124m\"\u001b[39m\u001b[38;5;132;01m{\u001b[39;00mvalue\u001b[38;5;132;01m}\u001b[39;00m\u001b[38;5;124m\"\u001b[39m\u001b[38;5;124m]\u001b[39m\u001b[38;5;124m'\u001b[39m\n\u001b[0;32m    859\u001b[0m \u001b[38;5;66;03m# Return empty list if driver returns null\u001b[39;00m\n\u001b[0;32m    860\u001b[0m \u001b[38;5;66;03m# See https://github.com/SeleniumHQ/selenium/issues/4555\u001b[39;00m\n\u001b[1;32m--> 861\u001b[0m \u001b[38;5;28;01mreturn\u001b[39;00m \u001b[38;5;28;43mself\u001b[39;49m\u001b[38;5;241;43m.\u001b[39;49m\u001b[43mexecute\u001b[49m\u001b[43m(\u001b[49m\u001b[43mCommand\u001b[49m\u001b[38;5;241;43m.\u001b[39;49m\u001b[43mFIND_ELEMENTS\u001b[49m\u001b[43m,\u001b[49m\u001b[43m \u001b[49m\u001b[43m{\u001b[49m\u001b[38;5;124;43m\"\u001b[39;49m\u001b[38;5;124;43musing\u001b[39;49m\u001b[38;5;124;43m\"\u001b[39;49m\u001b[43m:\u001b[49m\u001b[43m \u001b[49m\u001b[43mby\u001b[49m\u001b[43m,\u001b[49m\u001b[43m \u001b[49m\u001b[38;5;124;43m\"\u001b[39;49m\u001b[38;5;124;43mvalue\u001b[39;49m\u001b[38;5;124;43m\"\u001b[39;49m\u001b[43m:\u001b[49m\u001b[43m \u001b[49m\u001b[43mvalue\u001b[49m\u001b[43m}\u001b[49m\u001b[43m)\u001b[49m[\u001b[38;5;124m\"\u001b[39m\u001b[38;5;124mvalue\u001b[39m\u001b[38;5;124m\"\u001b[39m] \u001b[38;5;129;01mor\u001b[39;00m []\n",
      "File \u001b[1;32m~\\Desktop\\time-series-da-main\\venv\\lib\\site-packages\\selenium\\webdriver\\remote\\webdriver.py:440\u001b[0m, in \u001b[0;36mWebDriver.execute\u001b[1;34m(self, driver_command, params)\u001b[0m\n\u001b[0;32m    438\u001b[0m response \u001b[38;5;241m=\u001b[39m \u001b[38;5;28mself\u001b[39m\u001b[38;5;241m.\u001b[39mcommand_executor\u001b[38;5;241m.\u001b[39mexecute(driver_command, params)\n\u001b[0;32m    439\u001b[0m \u001b[38;5;28;01mif\u001b[39;00m response:\n\u001b[1;32m--> 440\u001b[0m     \u001b[38;5;28;43mself\u001b[39;49m\u001b[38;5;241;43m.\u001b[39;49m\u001b[43merror_handler\u001b[49m\u001b[38;5;241;43m.\u001b[39;49m\u001b[43mcheck_response\u001b[49m\u001b[43m(\u001b[49m\u001b[43mresponse\u001b[49m\u001b[43m)\u001b[49m\n\u001b[0;32m    441\u001b[0m     response[\u001b[38;5;124m\"\u001b[39m\u001b[38;5;124mvalue\u001b[39m\u001b[38;5;124m\"\u001b[39m] \u001b[38;5;241m=\u001b[39m \u001b[38;5;28mself\u001b[39m\u001b[38;5;241m.\u001b[39m_unwrap_value(response\u001b[38;5;241m.\u001b[39mget(\u001b[38;5;124m\"\u001b[39m\u001b[38;5;124mvalue\u001b[39m\u001b[38;5;124m\"\u001b[39m, \u001b[38;5;28;01mNone\u001b[39;00m))\n\u001b[0;32m    442\u001b[0m     \u001b[38;5;28;01mreturn\u001b[39;00m response\n",
      "File \u001b[1;32m~\\Desktop\\time-series-da-main\\venv\\lib\\site-packages\\selenium\\webdriver\\remote\\errorhandler.py:245\u001b[0m, in \u001b[0;36mErrorHandler.check_response\u001b[1;34m(self, response)\u001b[0m\n\u001b[0;32m    243\u001b[0m         alert_text \u001b[38;5;241m=\u001b[39m value[\u001b[38;5;124m\"\u001b[39m\u001b[38;5;124malert\u001b[39m\u001b[38;5;124m\"\u001b[39m]\u001b[38;5;241m.\u001b[39mget(\u001b[38;5;124m\"\u001b[39m\u001b[38;5;124mtext\u001b[39m\u001b[38;5;124m\"\u001b[39m)\n\u001b[0;32m    244\u001b[0m     \u001b[38;5;28;01mraise\u001b[39;00m exception_class(message, screen, stacktrace, alert_text)  \u001b[38;5;66;03m# type: ignore[call-arg]  # mypy is not smart enough here\u001b[39;00m\n\u001b[1;32m--> 245\u001b[0m \u001b[38;5;28;01mraise\u001b[39;00m exception_class(message, screen, stacktrace)\n",
      "\u001b[1;31mNoSuchWindowException\u001b[0m: Message: no such window: target window already closed\nfrom unknown error: web view not found\n  (Session info: chrome=113.0.5672.127)\nStacktrace:\nBacktrace:\n\tGetHandleVerifier [0x00468893+48451]\n\t(No symbol) [0x003FB8A1]\n\t(No symbol) [0x00305058]\n\t(No symbol) [0x002ED073]\n\t(No symbol) [0x0034DEBB]\n\t(No symbol) [0x0035BFD3]\n\t(No symbol) [0x0034A0B6]\n\t(No symbol) [0x00327E08]\n\t(No symbol) [0x00328F2D]\n\tGetHandleVerifier [0x006C8E3A+2540266]\n\tGetHandleVerifier [0x00708959+2801161]\n\tGetHandleVerifier [0x0070295C+2776588]\n\tGetHandleVerifier [0x004F2280+612144]\n\t(No symbol) [0x00404F6C]\n\t(No symbol) [0x004011D8]\n\t(No symbol) [0x004012BB]\n\t(No symbol) [0x003F4857]\n\tBaseThreadInitThunk [0x775C6359+25]\n\tRtlGetAppContainerNamedObjectPath [0x77A67C24+228]\n\tRtlGetAppContainerNamedObjectPath [0x77A67BF4+180]\n"
     ]
    }
   ],
   "source": [
    "titles = driver.find_elements(By.CLASS_NAME, 'mCBkyc')\n",
    "for title in titles:\n",
    "    print(title.text)"
   ]
  },
  {
   "cell_type": "code",
   "execution_count": 8,
   "id": "4fcb785e-d045-486a-abe8-89351a9040da",
   "metadata": {
    "tags": []
   },
   "outputs": [
    {
     "name": "stdout",
     "output_type": "stream",
     "text": [
      "데이터 저장이 완료되었습니다.\n"
     ]
    }
   ],
   "source": [
    "from selenium import webdriver\n",
    "from selenium.webdriver.common.by import By\n",
    "import time\n",
    "import random\n",
    "\n",
    "title_list = []\n",
    "content_list = []\n",
    "date_list = []\n",
    "\n",
    "for i in range(0, 20, 10):\n",
    "    driver = webdriver.Chrome()\n",
    "    # Google 뉴스 검색 결과 페이지 접속\n",
    "    url = \"https://www.google.com/search?q=%EB%B9%84%ED%8A%B8%EC%BD%94%EC%9D%B8&sxsrf=APwXEdfE8CSepAPmkwnj1OFFoGtHW2B-KA:1685333010854&source=lnms&tbm=nws&sa=X&ved=2ahUKEwidq8Lb0pn_AhV-m1YBHeJBDkoQ_AUoAnoECAEQBA&biw=815&bih=835&dpr=1.1\"\n",
    "    driver.get(url)\n",
    "    time.sleep(3)\n",
    "\n",
    "    titles = driver.find_elements(By.CLASS_NAME, 'mCBkyc')\n",
    "    for title in titles:\n",
    "        title_list.append(title.text)\n",
    "\n",
    "    contents = driver.find_elements(By.CLASS_NAME, 'GI74Re')\n",
    "    for content in contents:\n",
    "        content_list.append(content.text)\n",
    "\n",
    "    dates = driver.find_elements(By.CLASS_NAME, 'WG9SHc')\n",
    "    for date in dates:\n",
    "        date_list.append(date.get_attribute('innerText'))\n",
    "\n",
    "    driver.quit()\n",
    "\n",
    "num = len(title_list)\n",
    "\n",
    "with open(\"google_news_test.csv\", \"a\", encoding=\"UTF-8\") as csv_file:\n",
    "    for i in range(num):\n",
    "        csv_file.write(\"{}, {}, {}\\n\".format(title_list[i], content_list[i], date_list[i]))\n",
    "\n",
    "print(\"데이터 저장이 완료되었습니다.\")\n"
   ]
  },
  {
   "cell_type": "code",
   "execution_count": 27,
   "id": "68114106-530d-4187-87d6-351df3d56a51",
   "metadata": {
    "tags": []
   },
   "outputs": [
    {
     "name": "stdin",
     "output_type": "stream",
     "text": [
      "검색하고자 하는 단어를 입력해주세요! 비트코인\n"
     ]
    },
    {
     "name": "stdout",
     "output_type": "stream",
     "text": [
      "**********1**********\n",
      "**********2**********\n"
     ]
    }
   ],
   "source": [
    "from selenium import webdriver\n",
    "from selenium.webdriver.chrome.service import Service\n",
    "from selenium.webdriver.common.by import By\n",
    "import time\n",
    "import random\n",
    "\n",
    "word = input(\"검색하고자 하는 단어를 입력해주세요!\")\n",
    "url = 'https://www.google.com/search?q={}&newwindow=1&tbm=nws&ei=TUmuY5LlINeghwOfw7egDQ&start={}&sa=N&ved=2ahUKEwjSv42woqD8AhVX0GEKHZ_hDdQQ8tMDegQIBBAE&biw=763&bih=819&dpr=2.2'\n",
    "\n",
    "page = 1\n",
    "\n",
    "title_list = []\n",
    "content_list = []\n",
    "link_list = []\n",
    "\n",
    "timesleep = random.randint(1, 10)\n",
    "\n",
    "# 웹 드라이버 초기화\n",
    "service = Service('chromedriver 경로')  # 적절한 드라이버 경로로 변경해야 합니다\n",
    "driver = webdriver.Chrome(service=service)\n",
    "\n",
    "for i in range(0, 20, 10):\n",
    "    new_url = url.format(word, i)\n",
    "    driver.get(new_url)\n",
    "    time.sleep(3)\n",
    "\n",
    "    print(\"*\" * 10 + str(page) + \"*\" * 10)\n",
    "    page = page + 1\n",
    "\n",
    "    titles = driver.find_elements(By.CLASS_NAME, 'mCBkyc')\n",
    "\n",
    "    for title in titles:\n",
    "        title_list.append(title.text.replace(\",\", \"\"))\n",
    "\n",
    "    contents = driver.find_elements(By.CLASS_NAME, 'GI74Re')\n",
    "\n",
    "    for content in contents:\n",
    "        content_list.append(content.text.replace(\",\", \"\"))\n",
    "\n",
    "    links = driver.find_elements(By.CLASS_NAME, 'WlydOe')\n",
    "\n",
    "    for link in links:\n",
    "        link_list.append(link.get_attribute('href'))\n",
    "\n",
    "num = len(title_list)\n",
    "for i in range(num):\n",
    "   csv = open(\"google_news_test.csv\", \"a\", encoding=\"UTF-8\")\n",
    "   csv.write(\"{}, {}, {}\\n\".format(title_list[i], content_list[i], link_list[i]))\n",
    "   csv.close()    \n",
    "    \n",
    "driver.quit()  # 웹 드라이버 종료\n",
    "\n",
    "# 크롤링 결과 처리 및 저장 코드 작성\n",
    "# 이후 title_list, content_list, link_list 등을 활용하여 원하는 작업을 수행할 수 있습니다.\n"
   ]
  },
  {
   "cell_type": "code",
   "execution_count": 24,
   "id": "393e7ce5-888d-4f69-87e3-22a3b9e7a7e6",
   "metadata": {
    "tags": []
   },
   "outputs": [],
   "source": []
  },
  {
   "cell_type": "code",
   "execution_count": 16,
   "id": "aa3271a2-308e-4961-a05c-2f426603b5f9",
   "metadata": {
    "tags": []
   },
   "outputs": [],
   "source": [
    "import requests\n",
    "from bs4 import BeautifulSoup\n",
    "import csv\n",
    "\n",
    "html = requests.get(\"https://www.google.com/search?q=%EB%B9%84%ED%8A%B8%EC%BD%94%EC%9D%B8&sxsrf=APwXEdfE8CSepAPmkwnj1OFFoGtHW2B-KA:1685333010854&source=lnms&tbm=nws&sa=X&ved=2ahUKEwidq8Lb0pn_AhV-m1YBHeJBDkoQ_AUoAnoECAEQBA&biw=815&bih=835&dpr=1.1\")\n",
    "bs = BeautifulSoup(html.content, 'html.parser')\n",
    "\n",
    "titles = bs.find_all('div', class_='n0jPhd ynAwRc MBeuO nDgy9d')\n",
    "contents = bs.find_all('div', class_='Y3v8qd')"
   ]
  },
  {
   "cell_type": "code",
   "execution_count": 9,
   "id": "2d12a33b-b820-48e3-b942-00836b4e7e56",
   "metadata": {
    "tags": []
   },
   "outputs": [
    {
     "name": "stdout",
     "output_type": "stream",
     "text": [
      "뉴스 제목과 내용이 성공적으로 저장되었습니다.\n"
     ]
    }
   ],
   "source": [
    "import requests\n",
    "from bs4 import BeautifulSoup\n",
    "import csv\n",
    "\n",
    "url = \"https://www.google.com/search?q=%EB%B9%84%ED%8A%B8%EC%BD%94%EC%9D%B8&hl=en&sxsrf=APwXEde5Bu-nwFXtG5lg4jJoKEzISP7Fvw:1685406582683&source=lnms&tbm=nws&sa=X&ved=2ahUKEwiRvqbl5Jv_AhUGEogKHfDgB58Q_AUoAnoECAEQBA&biw=1497&bih=1377&dpr=0.67\"\n",
    "response = requests.get(url)\n",
    "soup = BeautifulSoup(response.content, 'html.parser')\n",
    "\n",
    "titles = soup.find_all('div', class_='n0jPhd ynAwRc MBeuO nDgy9d')\n",
    "contents = soup.find_all('div', class_='GI74Re nDgy9d')\n",
    "\n",
    "with open('news.csv', 'w', newline='', encoding='utf-8') as csvfile:\n",
    "    writer = csv.writer(csvfile)\n",
    "    writer.writerow(['뉴스 제목', '뉴스 내용'])\n",
    "    for title, content in zip(titles, contents):\n",
    "        news_title = title.find('div', class_='n0jPhd ynAwRc MBeuO nDgy9d').text.strip()\n",
    "        news_content = content.find('div', class_='GI74Re nDgy9d').text.strip()\n",
    "        writer.writerow([news_title, news_content])\n",
    "\n",
    "print(\"뉴스 제목과 내용이 성공적으로 저장되었습니다.\")\n"
   ]
  },
  {
   "cell_type": "code",
   "execution_count": 4,
   "id": "617e331d-2a7f-4ee8-83de-06c67fff3585",
   "metadata": {
    "tags": []
   },
   "outputs": [
    {
     "name": "stdout",
     "output_type": "stream",
     "text": [
      "[] []\n"
     ]
    }
   ],
   "source": [
    "import requests\n",
    "import csv\n",
    "\n",
    "API_KEY = 'YOUR_API_KEY'\n",
    "SEARCH_QUERY = 'bitcoin'\n",
    "CSV_FILE_PATH = 'news.csv'\n",
    "\n",
    "def get_news_data():\n",
    "    url = f'https://news.googleapis.com/news/v3/search?q={SEARCH_QUERY}&key={API_KEY}'\n",
    "    response = requests.get(url)\n",
    "    data = response.json()\n",
    "    return data.get('articles', [])\n",
    "\n",
    "def save_data_to_csv(articles):\n",
    "    with open(CSV_FILE_PATH, 'w', newline='', encoding='utf-8') as csvfile:\n",
    "        writer = csv.writer(csvfile)\n",
    "        writer.writerow(['뉴스 제목', '뉴스 내용'])\n",
    "        for article in articles:\n",
    "            news_title = article['title']\n",
    "            news_content = article['description']\n",
    "            writer.writerow([news_title, news_content])\n",
    "\n",
    "# 뉴스 데이터 가져오기\n",
    "news_articles = get_news_data()\n",
    "\n",
    "# CSV 파일에 저장\n",
    "save_data_to_csv(news_articles)\n",
    "\n",
    "print(\"뉴스 데이터가 성공적으로 저장되었습니다.\")\n"
   ]
  },
  {
   "cell_type": "code",
   "execution_count": null,
   "id": "cb3e4a7d-3c37-4a6f-8df7-614f0fd231c1",
   "metadata": {
    "tags": []
   },
   "outputs": [],
   "source": [
    "import requests\n",
    "from bs4 import BeautifulSoup\n",
    "import csv\n",
    "\n",
    "url = \"https://search.naver.com/search.naver?query=비트코인&where=news\"\n",
    "start = 1  # 시작 페이지 번호\n",
    "articles = []\n",
    "\n",
    "while True:\n",
    "    page_url = f\"{url}&start={start}\"\n",
    "    response = requests.get(page_url)\n",
    "    soup = BeautifulSoup(response.content, 'html.parser')\n",
    "    news_area = soup.find_all('div', class_='news_area')\n",
    "    \n",
    "    if not news_area:  # news_area가 비어있으면 마지막 페이지라고 가정\n",
    "        break\n",
    "    \n",
    "    articles.extend(news_area)\n",
    "    start += 10  # 다음 페이지로 이동\n",
    "    \n",
    "with open('news.csv', 'w', newline='', encoding='utf-8') as csvfile:\n",
    "    writer = csv.writer(csvfile)\n",
    "    writer.writerow(['뉴스 제목', '뉴스 내용', '뉴스 날짜'])\n",
    "    for article in articles:\n",
    "        news_title_elem = article.find('a', class_='news_tit')\n",
    "        news_title = news_title_elem.text.strip() if news_title_elem else \"\"\n",
    "        \n",
    "        news_content_elem = article.find('a', class_='api_txt_lines dsc_txt_wrap')\n",
    "        news_content = news_content_elem.text.strip() if news_content_elem else \"\"\n",
    "        \n",
    "        news_date_elem = article.find('span', class_='info')\n",
    "        news_date = news_date_elem.text.strip() if news_date_elem else \"\"\n",
    "        \n",
    "        writer.writerow([news_title, news_content, news_date])\n",
    "\n",
    "print(\"뉴스 제목, 내용, 날짜가 성공적으로 저장되었습니다.\")\n"
   ]
  },
  {
   "cell_type": "code",
   "execution_count": 45,
   "id": "a8c6a7df-4bd4-43af-ab06-8183bac42c7d",
   "metadata": {
    "tags": []
   },
   "outputs": [
    {
     "ename": "AttributeError",
     "evalue": "'NoneType' object has no attribute 'strip'",
     "output_type": "error",
     "traceback": [
      "\u001b[1;31m---------------------------------------------------------------------------\u001b[0m",
      "\u001b[1;31mAttributeError\u001b[0m                            Traceback (most recent call last)",
      "Cell \u001b[1;32mIn[45], line 18\u001b[0m\n\u001b[0;32m     16\u001b[0m         news_title \u001b[38;5;241m=\u001b[39m article\u001b[38;5;241m.\u001b[39mfind(\u001b[38;5;124m'\u001b[39m\u001b[38;5;124ma\u001b[39m\u001b[38;5;124m'\u001b[39m, class_\u001b[38;5;241m=\u001b[39m\u001b[38;5;124m'\u001b[39m\u001b[38;5;124mnews_tit\u001b[39m\u001b[38;5;124m'\u001b[39m)\u001b[38;5;241m.\u001b[39mtext\u001b[38;5;241m.\u001b[39mstrip()\n\u001b[0;32m     17\u001b[0m         news_content \u001b[38;5;241m=\u001b[39m article\u001b[38;5;241m.\u001b[39mfind(\u001b[38;5;124m'\u001b[39m\u001b[38;5;124mdiv\u001b[39m\u001b[38;5;124m'\u001b[39m, class_\u001b[38;5;241m=\u001b[39m\u001b[38;5;124m'\u001b[39m\u001b[38;5;124mnews_dsc\u001b[39m\u001b[38;5;124m'\u001b[39m)\u001b[38;5;241m.\u001b[39mtext\u001b[38;5;241m.\u001b[39mstrip()\n\u001b[1;32m---> 18\u001b[0m         news_date_elem \u001b[38;5;241m=\u001b[39m \u001b[43marticle\u001b[49m\u001b[38;5;241;43m.\u001b[39;49m\u001b[43mfind\u001b[49m\u001b[43m(\u001b[49m\u001b[38;5;124;43m'\u001b[39;49m\u001b[38;5;124;43mspan\u001b[39;49m\u001b[38;5;124;43m'\u001b[39;49m\u001b[43m,\u001b[49m\u001b[43m \u001b[49m\u001b[43mclass_\u001b[49m\u001b[38;5;241;43m=\u001b[39;49m\u001b[38;5;124;43m'\u001b[39;49m\u001b[38;5;124;43minfo\u001b[39;49m\u001b[38;5;124;43m'\u001b[39;49m\u001b[43m)\u001b[49m\u001b[38;5;241;43m.\u001b[39;49m\u001b[43mtest\u001b[49m\u001b[38;5;241;43m.\u001b[39;49m\u001b[43mstrip\u001b[49m()\n\u001b[0;32m     19\u001b[0m         writer\u001b[38;5;241m.\u001b[39mwriterow([news_title, news_content])\n\u001b[0;32m     21\u001b[0m \u001b[38;5;28mprint\u001b[39m(\u001b[38;5;124m\"\u001b[39m\u001b[38;5;124m뉴스 제목과 내용이 성공적으로 저장되었습니다.\u001b[39m\u001b[38;5;124m\"\u001b[39m)\n",
      "\u001b[1;31mAttributeError\u001b[0m: 'NoneType' object has no attribute 'strip'"
     ]
    }
   ],
   "source": [
    "import requests\n",
    "from bs4 import BeautifulSoup\n",
    "import csv\n",
    "\n",
    "url = \"https://search.naver.com/search.naver?query=비트코인&where=news\"\n",
    "\n",
    "response = requests.get(url)\n",
    "soup = BeautifulSoup(response.content, 'html.parser')\n",
    "\n",
    "articles = soup.find_all('div', class_='news_area')\n",
    "\n",
    "with open('news.csv', 'w', newline='', encoding='utf-8') as csvfile:\n",
    "    writer = csv.writer(csvfile)\n",
    "    writer.writerow(['뉴스 제목', '뉴스 내용'])\n",
    "    for article in articles:\n",
    "        news_title = article.find('a', class_='news_tit').text.strip()\n",
    "        news_content = article.find('div', class_='news_dsc').text.strip()\n",
    "        news_date_elem = article.find('span', class_='info').test.strip()\n",
    "        writer.writerow([news_title, news_content])\n",
    "\n",
    "print(\"뉴스 제목과 내용이 성공적으로 저장되었습니다.\")\n"
   ]
  },
  {
   "cell_type": "code",
   "execution_count": null,
   "id": "2dceb0d5-3989-4613-8c95-ce6db1630991",
   "metadata": {
    "tags": []
   },
   "outputs": [],
   "source": [
    "import requests\n",
    "from bs4 import BeautifulSoup\n",
    "import csv\n",
    "\n",
    "url = \"https://search.naver.com/search.naver?query=비트코인&where=news\"\n",
    "\n",
    "response = requests.get(url)\n",
    "soup = BeautifulSoup(response.content, 'html.parser')\n",
    "\n",
    "articles = soup.find_all('div', class_='news_area')\n",
    "\n",
    "with open('news.csv', 'w', newline='', encoding='utf-8') as csvfile:\n",
    "    writer = csv.writer(csvfile)\n",
    "    writer.writerow(['뉴스 제목', '뉴스 내용', '뉴스 날짜'])\n",
    "    for article in articles:\n",
    "        news_title_elem = article.find('a', class_='news_tit')\n",
    "        news_title = news_title_elem.text.strip() if news_title_elem else \"\"\n",
    "        \n",
    "        news_content_elem = article.find('a', class_='api_txt_lines dsc_txt_wrap')\n",
    "        news_content = news_content_elem.text.strip() if news_content_elem else \"\"\n",
    "        \n",
    "        news_date_elem = article.find('span', class_='info')\n",
    "        news_date = news_date_elem.text.strip() if news_date_elem else \"\"\n",
    "        \n",
    "        writer.writerow([news_title, news_content, news_date])\n",
    "\n",
    "print(\"뉴스 제목, 내용, 날짜가 성공적으로 저장되었습니다.\")\n"
   ]
  },
  {
   "cell_type": "code",
   "execution_count": null,
   "id": "8f76b21b-632c-421e-8f4f-bb0e418eef90",
   "metadata": {},
   "outputs": [],
   "source": [
    "import requests\n",
    "from bs4 import BeautifulSoup\n",
    "import csv\n",
    "import signal\n",
    "\n",
    "url = \"https://search.naver.com/search.naver?query=비트코인&where=news\"\n",
    "articles = []\n",
    "\n",
    "def start_one():\n",
    "    start = 1  # 시작 페이지 번호\n",
    "    while True:\n",
    "        page_url = f\"{url}&start={start}\"\n",
    "        response = requests.get(page_url)\n",
    "        soup = BeautifulSoup(response.content, 'html.parser')\n",
    "        news_area = soup.find_all('div', class_='news_area')\n",
    "\n",
    "        if not news_area:  # news_area가 비어있으면 마지막 페이지라고 가정\n",
    "            break\n",
    "\n",
    "        articles.extend(news_area)\n",
    "        start += 10  # 다음 페이지로 이동\n",
    "\n",
    "        # 사용자 입력 감지\n",
    "        if signal.getsignal(signal.SIGINT) is not signal.default_int_handler:\n",
    "            print(\"사용자에 의해 프로그램이 중단되었습니다.\")\n",
    "            break\n",
    "    \n",
    "    if articles:\n",
    "        with open('./data/news.csv', 'w', newline='', encoding='utf-8') as csvfile:\n",
    "            writer = csv.writer(csvfile)\n",
    "            writer.writerow(['뉴스 제목', '뉴스 내용', '뉴스 날짜'])\n",
    "            for article in articles:\n",
    "                news_title_elem = article.find('a', class_='news_tit')\n",
    "                news_title = news_title_elem.text.strip() if news_title_elem else \"\"\n",
    "\n",
    "                news_content_elem = article.find('a', class_='api_txt_lines dsc_txt_wrap')\n",
    "                news_content = news_content_elem.text.strip() if news_content_elem else \"\"\n",
    "\n",
    "                news_date_elem = article.find('span', class_='info')\n",
    "                news_date = news_date_elem.text.strip() if news_date_elem else \"\"\n",
    "\n",
    "                writer.writerow([news_title, news_content, news_date])\n",
    "\n",
    "        print(\"뉴스 제목, 내용, 날짜가 성공적으로 저장되었습니다.\")\n",
    "    else:\n",
    "        print(\"수집된 뉴스가 없습니다.\")\n",
    "\n",
    "# KeyboardInterrupt 시그널 핸들러 등록\n",
    "signal.signal(signal.SIGINT, signal.default_int_handler)\n",
    "\n",
    "start_one()"
   ]
  },
  {
   "cell_type": "code",
   "execution_count": 11,
   "id": "6ca0a1ea-e830-4370-a405-32e2c46e6662",
   "metadata": {
    "tags": []
   },
   "outputs": [
    {
     "name": "stdout",
     "output_type": "stream",
     "text": [
      "뉴스 제목, 내용, 날짜가 성공적으로 저장되었습니다.\n"
     ]
    }
   ],
   "source": [
    "import requests\n",
    "from bs4 import BeautifulSoup\n",
    "import csv\n",
    "\n",
    "url = \"https://www.google.com/search?q=%EB%B9%84%ED%8A%B8%EC%BD%94%EC%9D%B8&hl=en&sxsrf=APwXEde5Bu-nwFXtG5lg4jJoKEzISP7Fvw:1685406582683&source=lnms&tbm=nws&sa=X&ved=2ahUKEwiRvqbl5Jv_AhUGEogKHfDgB58Q_AUoAnoECAEQBA&biw=1497&bih=1377&dpr=0.67\"\n",
    "response = requests.get(url)\n",
    "soup = BeautifulSoup(response.content, 'html.parser')\n",
    "\n",
    "titles = soup.find_all('div', class_='n0jPhd ynAwRc MBeuO nDgy9d')\n",
    "contents = soup.find_all('div', class_='GI74Re nDgy9d')\n",
    "dates = soup.find_all('div', class_='WG9SHc')\n",
    "\n",
    "with open('news.csv', 'a', newline='', encoding='utf-8') as csvfile:\n",
    "    writer = csv.writer(csvfile)\n",
    "    writer.writerow(['뉴스 제목', '뉴스 내용', '날짜'])\n",
    "    for title, content, date in zip(titles, contents, dates):\n",
    "        news_title = title.text.strip()\n",
    "        news_content = content.text.strip()\n",
    "        news_date = date.text.strip()\n",
    "        writer.writerow([news_title, news_content, news_date])\n",
    "\n",
    "print(\"뉴스 제목, 내용, 날짜가 성공적으로 저장되었습니다.\")\n"
   ]
  },
  {
   "cell_type": "code",
   "execution_count": 10,
   "id": "1e5aa1f8-6c59-46b5-874c-e70e91779575",
   "metadata": {},
   "outputs": [
    {
     "ename": "KeyboardInterrupt",
     "evalue": "",
     "output_type": "error",
     "traceback": [
      "\u001b[1;31m---------------------------------------------------------------------------\u001b[0m",
      "\u001b[1;31mKeyboardInterrupt\u001b[0m                         Traceback (most recent call last)",
      "Cell \u001b[1;32mIn[10], line 15\u001b[0m\n\u001b[0;32m     12\u001b[0m date_start \u001b[38;5;241m=\u001b[39m datetime(\u001b[38;5;241m2017\u001b[39m, \u001b[38;5;241m9\u001b[39m, \u001b[38;5;241m25\u001b[39m)\n\u001b[0;32m     14\u001b[0m \u001b[38;5;28;01mwhile\u001b[39;00m \u001b[38;5;28;01mTrue\u001b[39;00m:\n\u001b[1;32m---> 15\u001b[0m     data \u001b[38;5;241m=\u001b[39m \u001b[43mpyupbit\u001b[49m\u001b[38;5;241;43m.\u001b[39;49m\u001b[43mget_ohlcv\u001b[49m\u001b[43m(\u001b[49m\u001b[43mbtc_krw\u001b[49m\u001b[43m,\u001b[49m\u001b[43m \u001b[49m\u001b[43minterval\u001b[49m\u001b[38;5;241;43m=\u001b[39;49m\u001b[38;5;124;43m\"\u001b[39;49m\u001b[38;5;124;43mminute1\u001b[39;49m\u001b[38;5;124;43m\"\u001b[39;49m\u001b[43m,\u001b[49m\u001b[43m \u001b[49m\u001b[43mcount\u001b[49m\u001b[38;5;241;43m=\u001b[39;49m\u001b[43mcount\u001b[49m\u001b[43m,\u001b[49m\u001b[43m \u001b[49m\u001b[43mto\u001b[49m\u001b[38;5;241;43m=\u001b[39;49m\u001b[43mdate_today\u001b[49m\u001b[43m)\u001b[49m\n\u001b[0;32m     16\u001b[0m     \u001b[38;5;28;01mif\u001b[39;00m data \u001b[38;5;129;01mis\u001b[39;00m \u001b[38;5;28;01mNone\u001b[39;00m:\n\u001b[0;32m     17\u001b[0m         \u001b[38;5;28;01mbreak\u001b[39;00m\n",
      "File \u001b[1;32m~\\Desktop\\time-series-da-main\\venv\\lib\\site-packages\\pyupbit\\quotation_api.py:131\u001b[0m, in \u001b[0;36mget_ohlcv\u001b[1;34m(ticker, interval, count, to, period)\u001b[0m\n\u001b[0;32m    127\u001b[0m     to \u001b[38;5;241m=\u001b[39m datetime\u001b[38;5;241m.\u001b[39mdatetime\u001b[38;5;241m.\u001b[39mstrptime(\n\u001b[0;32m    128\u001b[0m         contents[\u001b[38;5;241m-\u001b[39m\u001b[38;5;241m1\u001b[39m][\u001b[38;5;124m'\u001b[39m\u001b[38;5;124mcandle_date_time_utc\u001b[39m\u001b[38;5;124m'\u001b[39m], \u001b[38;5;124m\"\u001b[39m\u001b[38;5;124m%\u001b[39m\u001b[38;5;124mY-\u001b[39m\u001b[38;5;124m%\u001b[39m\u001b[38;5;124mm-\u001b[39m\u001b[38;5;132;01m%d\u001b[39;00m\u001b[38;5;124mT\u001b[39m\u001b[38;5;124m%\u001b[39m\u001b[38;5;124mH:\u001b[39m\u001b[38;5;124m%\u001b[39m\u001b[38;5;124mM:\u001b[39m\u001b[38;5;124m%\u001b[39m\u001b[38;5;124mS\u001b[39m\u001b[38;5;124m\"\u001b[39m)\n\u001b[0;32m    130\u001b[0m     \u001b[38;5;28;01mif\u001b[39;00m pos \u001b[38;5;241m>\u001b[39m \u001b[38;5;241m200\u001b[39m:\n\u001b[1;32m--> 131\u001b[0m         \u001b[43mtime\u001b[49m\u001b[38;5;241;43m.\u001b[39;49m\u001b[43msleep\u001b[49m\u001b[43m(\u001b[49m\u001b[43mperiod\u001b[49m\u001b[43m)\u001b[49m\n\u001b[0;32m    133\u001b[0m df \u001b[38;5;241m=\u001b[39m pd\u001b[38;5;241m.\u001b[39mconcat(dfs)\u001b[38;5;241m.\u001b[39msort_index()\n\u001b[0;32m    134\u001b[0m df \u001b[38;5;241m=\u001b[39m df\u001b[38;5;241m.\u001b[39mrename(columns\u001b[38;5;241m=\u001b[39m{\u001b[38;5;124m\"\u001b[39m\u001b[38;5;124mopening_price\u001b[39m\u001b[38;5;124m\"\u001b[39m: \u001b[38;5;124m\"\u001b[39m\u001b[38;5;124mopen\u001b[39m\u001b[38;5;124m\"\u001b[39m,\n\u001b[0;32m    135\u001b[0m                         \u001b[38;5;124m\"\u001b[39m\u001b[38;5;124mhigh_price\u001b[39m\u001b[38;5;124m\"\u001b[39m: \u001b[38;5;124m\"\u001b[39m\u001b[38;5;124mhigh\u001b[39m\u001b[38;5;124m\"\u001b[39m,\n\u001b[0;32m    136\u001b[0m                         \u001b[38;5;124m\"\u001b[39m\u001b[38;5;124mlow_price\u001b[39m\u001b[38;5;124m\"\u001b[39m: \u001b[38;5;124m\"\u001b[39m\u001b[38;5;124mlow\u001b[39m\u001b[38;5;124m\"\u001b[39m,\n\u001b[0;32m    137\u001b[0m                         \u001b[38;5;124m\"\u001b[39m\u001b[38;5;124mtrade_price\u001b[39m\u001b[38;5;124m\"\u001b[39m: \u001b[38;5;124m\"\u001b[39m\u001b[38;5;124mclose\u001b[39m\u001b[38;5;124m\"\u001b[39m,\n\u001b[0;32m    138\u001b[0m                         \u001b[38;5;124m\"\u001b[39m\u001b[38;5;124mcandle_acc_trade_volume\u001b[39m\u001b[38;5;124m\"\u001b[39m: \u001b[38;5;124m\"\u001b[39m\u001b[38;5;124mvolume\u001b[39m\u001b[38;5;124m\"\u001b[39m,\n\u001b[0;32m    139\u001b[0m                         \u001b[38;5;124m\"\u001b[39m\u001b[38;5;124mcandle_acc_trade_price\u001b[39m\u001b[38;5;124m\"\u001b[39m: \u001b[38;5;124m\"\u001b[39m\u001b[38;5;124mvalue\u001b[39m\u001b[38;5;124m\"\u001b[39m})\n",
      "\u001b[1;31mKeyboardInterrupt\u001b[0m: "
     ]
    }
   ],
   "source": [
    "import pyupbit\n",
    "import pandas as pd\n",
    "from datetime import date, datetime\n",
    "import time\n",
    "\n",
    "btc_krw = 'KRW-BTC'\n",
    "btc_krw_df = pd.DataFrame()  # Initialize with an empty DataFrame\n",
    "count = 200000000\n",
    "\n",
    "today = date.today()\n",
    "date_today = today.strftime(\"%Y-%m-%d\")\n",
    "date_start = datetime(2017, 9, 25)\n",
    "\n",
    "while True:\n",
    "    data = pyupbit.get_ohlcv(btc_krw, interval=\"minute1\", count=count, to=date_today)\n",
    "    if data is None:\n",
    "        break\n",
    "    if btc_krw_df.empty:\n",
    "        btc_krw_df = data\n",
    "    else:\n",
    "        btc_krw_df = pd.concat([btc_krw_df, data])\n",
    "    last_timestamp = data.index[-1]\n",
    "    count += len(data)\n",
    "    if len(data) < count:\n",
    "        break\n",
    "    time.sleep(1)\n",
    "\n",
    "print(btc_krw_df.shape)\n",
    "print(btc_krw_df)\n"
   ]
  },
  {
   "cell_type": "code",
   "execution_count": 11,
   "id": "2dda3568-e73c-43db-a6ac-979f503185c9",
   "metadata": {
    "tags": []
   },
   "outputs": [
    {
     "ename": "KeyboardInterrupt",
     "evalue": "",
     "output_type": "error",
     "traceback": [
      "\u001b[1;31m---------------------------------------------------------------------------\u001b[0m",
      "\u001b[1;31mKeyboardInterrupt\u001b[0m                         Traceback (most recent call last)",
      "Cell \u001b[1;32mIn[11], line 30\u001b[0m\n\u001b[0;32m     27\u001b[0m     request_count \u001b[38;5;241m=\u001b[39m \u001b[38;5;241m0\u001b[39m  \u001b[38;5;66;03m# 요청 횟수 초기화\u001b[39;00m\n\u001b[0;32m     28\u001b[0m     start_time \u001b[38;5;241m=\u001b[39m time\u001b[38;5;241m.\u001b[39mtime()  \u001b[38;5;66;03m# 시작 시간 갱신\u001b[39;00m\n\u001b[1;32m---> 30\u001b[0m data \u001b[38;5;241m=\u001b[39m \u001b[43mpyupbit\u001b[49m\u001b[38;5;241;43m.\u001b[39;49m\u001b[43mget_ohlcv\u001b[49m\u001b[43m(\u001b[49m\u001b[43mbtc_krw\u001b[49m\u001b[43m,\u001b[49m\u001b[43m \u001b[49m\u001b[43minterval\u001b[49m\u001b[38;5;241;43m=\u001b[39;49m\u001b[38;5;124;43m\"\u001b[39;49m\u001b[38;5;124;43mminute1\u001b[39;49m\u001b[38;5;124;43m\"\u001b[39;49m\u001b[43m,\u001b[49m\u001b[43m \u001b[49m\u001b[43mcount\u001b[49m\u001b[38;5;241;43m=\u001b[39;49m\u001b[43mcount\u001b[49m\u001b[43m,\u001b[49m\u001b[43m \u001b[49m\u001b[43mto\u001b[49m\u001b[38;5;241;43m=\u001b[39;49m\u001b[43mdate_today\u001b[49m\u001b[43m)\u001b[49m\n\u001b[0;32m     31\u001b[0m \u001b[38;5;28;01mif\u001b[39;00m data \u001b[38;5;129;01mis\u001b[39;00m \u001b[38;5;28;01mNone\u001b[39;00m:\n\u001b[0;32m     32\u001b[0m     \u001b[38;5;28;01mbreak\u001b[39;00m\n",
      "File \u001b[1;32m~\\Desktop\\time-series-da-main\\venv\\lib\\site-packages\\pyupbit\\quotation_api.py:131\u001b[0m, in \u001b[0;36mget_ohlcv\u001b[1;34m(ticker, interval, count, to, period)\u001b[0m\n\u001b[0;32m    127\u001b[0m     to \u001b[38;5;241m=\u001b[39m datetime\u001b[38;5;241m.\u001b[39mdatetime\u001b[38;5;241m.\u001b[39mstrptime(\n\u001b[0;32m    128\u001b[0m         contents[\u001b[38;5;241m-\u001b[39m\u001b[38;5;241m1\u001b[39m][\u001b[38;5;124m'\u001b[39m\u001b[38;5;124mcandle_date_time_utc\u001b[39m\u001b[38;5;124m'\u001b[39m], \u001b[38;5;124m\"\u001b[39m\u001b[38;5;124m%\u001b[39m\u001b[38;5;124mY-\u001b[39m\u001b[38;5;124m%\u001b[39m\u001b[38;5;124mm-\u001b[39m\u001b[38;5;132;01m%d\u001b[39;00m\u001b[38;5;124mT\u001b[39m\u001b[38;5;124m%\u001b[39m\u001b[38;5;124mH:\u001b[39m\u001b[38;5;124m%\u001b[39m\u001b[38;5;124mM:\u001b[39m\u001b[38;5;124m%\u001b[39m\u001b[38;5;124mS\u001b[39m\u001b[38;5;124m\"\u001b[39m)\n\u001b[0;32m    130\u001b[0m     \u001b[38;5;28;01mif\u001b[39;00m pos \u001b[38;5;241m>\u001b[39m \u001b[38;5;241m200\u001b[39m:\n\u001b[1;32m--> 131\u001b[0m         \u001b[43mtime\u001b[49m\u001b[38;5;241;43m.\u001b[39;49m\u001b[43msleep\u001b[49m\u001b[43m(\u001b[49m\u001b[43mperiod\u001b[49m\u001b[43m)\u001b[49m\n\u001b[0;32m    133\u001b[0m df \u001b[38;5;241m=\u001b[39m pd\u001b[38;5;241m.\u001b[39mconcat(dfs)\u001b[38;5;241m.\u001b[39msort_index()\n\u001b[0;32m    134\u001b[0m df \u001b[38;5;241m=\u001b[39m df\u001b[38;5;241m.\u001b[39mrename(columns\u001b[38;5;241m=\u001b[39m{\u001b[38;5;124m\"\u001b[39m\u001b[38;5;124mopening_price\u001b[39m\u001b[38;5;124m\"\u001b[39m: \u001b[38;5;124m\"\u001b[39m\u001b[38;5;124mopen\u001b[39m\u001b[38;5;124m\"\u001b[39m,\n\u001b[0;32m    135\u001b[0m                         \u001b[38;5;124m\"\u001b[39m\u001b[38;5;124mhigh_price\u001b[39m\u001b[38;5;124m\"\u001b[39m: \u001b[38;5;124m\"\u001b[39m\u001b[38;5;124mhigh\u001b[39m\u001b[38;5;124m\"\u001b[39m,\n\u001b[0;32m    136\u001b[0m                         \u001b[38;5;124m\"\u001b[39m\u001b[38;5;124mlow_price\u001b[39m\u001b[38;5;124m\"\u001b[39m: \u001b[38;5;124m\"\u001b[39m\u001b[38;5;124mlow\u001b[39m\u001b[38;5;124m\"\u001b[39m,\n\u001b[0;32m    137\u001b[0m                         \u001b[38;5;124m\"\u001b[39m\u001b[38;5;124mtrade_price\u001b[39m\u001b[38;5;124m\"\u001b[39m: \u001b[38;5;124m\"\u001b[39m\u001b[38;5;124mclose\u001b[39m\u001b[38;5;124m\"\u001b[39m,\n\u001b[0;32m    138\u001b[0m                         \u001b[38;5;124m\"\u001b[39m\u001b[38;5;124mcandle_acc_trade_volume\u001b[39m\u001b[38;5;124m\"\u001b[39m: \u001b[38;5;124m\"\u001b[39m\u001b[38;5;124mvolume\u001b[39m\u001b[38;5;124m\"\u001b[39m,\n\u001b[0;32m    139\u001b[0m                         \u001b[38;5;124m\"\u001b[39m\u001b[38;5;124mcandle_acc_trade_price\u001b[39m\u001b[38;5;124m\"\u001b[39m: \u001b[38;5;124m\"\u001b[39m\u001b[38;5;124mvalue\u001b[39m\u001b[38;5;124m\"\u001b[39m})\n",
      "\u001b[1;31mKeyboardInterrupt\u001b[0m: "
     ]
    }
   ],
   "source": [
    "import pyupbit\n",
    "import pandas as pd\n",
    "from datetime import date, datetime\n",
    "import time\n",
    "\n",
    "# API 요청 속도 제한\n",
    "REQUESTS_PER_SECOND = 10\n",
    "\n",
    "btc_krw = 'KRW-BTC'\n",
    "btc_krw_df = pd.DataFrame()  # Initialize with an empty DataFrame\n",
    "count = 2000000\n",
    "\n",
    "today = date.today()\n",
    "date_today = today.strftime(\"%Y-%m-%d\")\n",
    "date_start = datetime(2017, 9, 25)\n",
    "\n",
    "# API 요청 속도 제한을 고려하여 데이터 가져오기\n",
    "request_count = 0  # API 요청 횟수 초기화\n",
    "start_time = time.time()  # 시작 시간 기록\n",
    "\n",
    "while True:\n",
    "    # 요청 횟수가 제한에 도달한 경우, 일정 시간만큼 대기\n",
    "    if request_count >= REQUESTS_PER_SECOND:\n",
    "        elapsed_time = time.time() - start_time\n",
    "        if elapsed_time < 1:\n",
    "            time.sleep(1 - elapsed_time)\n",
    "        request_count = 0  # 요청 횟수 초기화\n",
    "        start_time = time.time()  # 시작 시간 갱신\n",
    "\n",
    "    data = pyupbit.get_ohlcv(btc_krw, interval=\"minute1\", count=count, to=date_today)\n",
    "    if data is None:\n",
    "        break\n",
    "    if btc_krw_df.empty:\n",
    "        btc_krw_df = data\n",
    "    else:\n",
    "        btc_krw_df = pd.concat([btc_krw_df, data])\n",
    "        last_timestamp = data.index[-1]\n",
    "        count += 200\n",
    "    if len(data) < count:\n",
    "        break\n",
    "    \n",
    "    request_count += 1  # API 요청 횟수 증가\n",
    "\n",
    "print(btc_krw_df.shape)\n",
    "print(btc_krw_df)\n"
   ]
  },
  {
   "cell_type": "code",
   "execution_count": null,
   "id": "61e9de79-e1b5-41e3-a5a1-17b71f26e8c2",
   "metadata": {
    "tags": []
   },
   "outputs": [],
   "source": [
    "import pyupbit\n",
    "import pandas as pd\n",
    "from datetime import date, datetime\n",
    "import time\n",
    "\n",
    "btc_krw = 'KRW-BTC'\n",
    "btc_krw_df = pd.DataFrame() # Initialize with an empty DataFrame\n",
    "batch_size = 10000 # Number of data to fetch in each API request\n",
    "total_count = 2000000 # Total number of data to fetch\n",
    "date_today = date.today().strftime(\"%Y-%m-%d\")\n",
    "date_start = datetime(2017, 9, 25)\n",
    "\n",
    "num_batches = total_count // batch_size # Calculate the number of batches\n",
    "\n",
    "for i in range(num_batches):\n",
    "    count = batch_size # Set count for current batch\n",
    "    data = pyupbit.get_ohlcv(btc_krw, interval=\"minute1\", count=count, to=date_today)\n",
    "    if data is None:\n",
    "        break\n",
    "    if btc_krw_df.empty:\n",
    "        btc_krw_df = data\n",
    "    else:\n",
    "    btc_krw_df = pd.concat([btc_krw_df, data])\n",
    "    last_timestamp = data.index[-1]\n",
    "    time.sleep(1) # Pause for 1 second between API requests\n",
    "\n",
    "    remaining_count = total_count % batch_size # Calculate the remaining count for the last batch\n",
    "    if remaining_count > 0:\n",
    "        count = remaining_count # Set count for the last batch\n",
    "        data = pyupbit.get_ohlcv(btc_krw, interval=\"minute1\", count=count, to=date_today)\n",
    "    if data is not None:\n",
    "        btc_krw_df = pd.concat([btc_krw_df, data])\n",
    "\n",
    "print(btc_krw_df.shape)\n",
    "print(btc_krw_df)"
   ]
  },
  {
   "cell_type": "code",
   "execution_count": null,
   "id": "2ed246ad-c58d-41c7-bf1a-8a15c4ec5f36",
   "metadata": {},
   "outputs": [],
   "source": []
  }
 ],
 "metadata": {
  "kernelspec": {
   "display_name": "Python 3 (ipykernel)",
   "language": "python",
   "name": "python3"
  },
  "language_info": {
   "codemirror_mode": {
    "name": "ipython",
    "version": 3
   },
   "file_extension": ".py",
   "mimetype": "text/x-python",
   "name": "python",
   "nbconvert_exporter": "python",
   "pygments_lexer": "ipython3",
   "version": "3.10.10"
  }
 },
 "nbformat": 4,
 "nbformat_minor": 5
}
