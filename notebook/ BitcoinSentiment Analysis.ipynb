{
 "cells": [
  {
   "cell_type": "code",
   "execution_count": 1,
   "id": "90d8eef7-67f5-45df-8d30-762ea9d84052",
   "metadata": {
    "tags": []
   },
   "outputs": [],
   "source": [
    "import pandas as pd\n",
    "from selenium import webdriver\n",
    "from bs4 import BeautifulSoup"
   ]
  },
  {
   "cell_type": "code",
   "execution_count": 58,
   "id": "62132c95-abec-43fa-845a-86149da96490",
   "metadata": {
    "tags": []
   },
   "outputs": [
    {
     "name": "stdout",
     "output_type": "stream",
     "text": [
      "<div class=\"Yfwt5\">비트코인 $28K 돌파--부채 협상 타결, 유동성 유입 기대</div>\n"
     ]
    }
   ],
   "source": [
    "\n",
    "import requests \n",
    "from bs4 import BeautifulSoup\n",
    "\n",
    "#request 라이브러리 이용 가져오기\n",
    "htmls = requests.get(\"https://www.google.com/search?q=%EB%B9%84%ED%8A%B8%EC%BD%94%EC%9D%B8&sxsrf=APwXEdfE8CSepAPmkwnj1OFFoGtHW2B-KA:1685333010854&source=lnms&tbm=nws&sa=X&ved=2ahUKEwidq8Lb0pn_AhV-m1YBHeJBDkoQ_AUoAnoECAEQBA&biw=815&bih=835&dpr=1.1\")\n",
    "\n",
    "#BeautifulSoup 이용 파싱하기\n",
    "bs = BeautifulSoup(htmls.content, 'html.parser')\n",
    "\n",
    "titles = bs.find_all('div', class_='n0jPhd ynAwRc MBeuO nDgy9d')\n",
    "\n",
    "print(title)"
   ]
  },
  {
   "cell_type": "code",
   "execution_count": 1,
   "id": "9b58badb-3f24-404b-b051-e842887dd47d",
   "metadata": {
    "tags": []
   },
   "outputs": [
    {
     "ename": "NameError",
     "evalue": "name 'webdriver' is not defined",
     "output_type": "error",
     "traceback": [
      "\u001b[1;31m---------------------------------------------------------------------------\u001b[0m",
      "\u001b[1;31mNameError\u001b[0m                                 Traceback (most recent call last)",
      "Cell \u001b[1;32mIn[1], line 5\u001b[0m\n\u001b[0;32m      2\u001b[0m webdriver_path \u001b[38;5;241m=\u001b[39m \u001b[38;5;124m'\u001b[39m\u001b[38;5;124m/path/to/chromedriver\u001b[39m\u001b[38;5;124m'\u001b[39m\n\u001b[0;32m      4\u001b[0m \u001b[38;5;66;03m# Chrome WebDriver 인스턴스 생성\u001b[39;00m\n\u001b[1;32m----> 5\u001b[0m driver \u001b[38;5;241m=\u001b[39m \u001b[43mwebdriver\u001b[49m\u001b[38;5;241m.\u001b[39mChrome(webdriver_path)\n\u001b[0;32m      7\u001b[0m \u001b[38;5;66;03m# Google 뉴스 검색 결과 페이지 접속\u001b[39;00m\n\u001b[0;32m      8\u001b[0m driver\u001b[38;5;241m.\u001b[39mget(\u001b[38;5;124m'\u001b[39m\u001b[38;5;124mhttps://www.google.com/search?q=\u001b[39m\u001b[38;5;132;01m%E\u001b[39;00m\u001b[38;5;124mB\u001b[39m\u001b[38;5;124m%\u001b[39m\u001b[38;5;124mB9\u001b[39m\u001b[38;5;132;01m%84%\u001b[39;00m\u001b[38;5;124mED\u001b[39m\u001b[38;5;124m%\u001b[39m\u001b[38;5;124m8A\u001b[39m\u001b[38;5;124m%\u001b[39m\u001b[38;5;124mB8\u001b[39m\u001b[38;5;132;01m%E\u001b[39;00m\u001b[38;5;124mC\u001b[39m\u001b[38;5;124m%\u001b[39m\u001b[38;5;124mBD\u001b[39m\u001b[38;5;132;01m%94%\u001b[39;00m\u001b[38;5;124mEC\u001b[39m\u001b[38;5;124m%\u001b[39m\u001b[38;5;124m9D\u001b[39m\u001b[38;5;124m%\u001b[39m\u001b[38;5;124mB8&sxsrf=APwXEdfE8CSepAPmkwnj1OFFoGtHW2B-KA:1685333010854&source=lnms&tbm=nws&sa=X&ved=2ahUKEwidq8Lb0pn_AhV-m1YBHeJBDkoQ_AUoAnoECAEQBA&biw=815&bih=835&dpr=1.1\u001b[39m\u001b[38;5;124m'\u001b[39m)\n",
      "\u001b[1;31mNameError\u001b[0m: name 'webdriver' is not defined"
     ]
    }
   ],
   "source": [
    "# Chrome WebDriver 실행 경로 지정\n",
    "webdriver_path = '/path/to/chromedriver'\n",
    "\n",
    "# Chrome WebDriver 인스턴스 생성\n",
    "driver = webdriver.Chrome(webdriver_path)\n",
    "\n",
    "# Google 뉴스 검색 결과 페이지 접속\n",
    "driver.get('https://www.google.com/search?q=%EB%B9%84%ED%8A%B8%EC%BD%94%EC%9D%B8&sxsrf=APwXEdfE8CSepAPmkwnj1OFFoGtHW2B-KA:1685333010854&source=lnms&tbm=nws&sa=X&ved=2ahUKEwidq8Lb0pn_AhV-m1YBHeJBDkoQ_AUoAnoECAEQBA&biw=815&bih=835&dpr=1.1')\n",
    "\n",
    "# Selenium으로 가져온 HTML을 BeautifulSoup로 파싱\n",
    "bs = BeautifulSoup(driver.page_source, 'html.parser')\n",
    "\n",
    "# 뉴스 제목 요소 찾기\n",
    "titles = bs.find_all('div', class_='n0jPhd ynAwRc MBeuO nDgy9d')\n",
    "\n",
    "data = {'Title': titles}\n",
    "df = pd.DataFrame(data)\n",
    "\n",
    "print(\"전체 개수:\", len(df))\n",
    "\n",
    "#WebDriver 종료\n",
    "#driver.quit()\n"
   ]
  },
  {
   "cell_type": "code",
   "execution_count": 88,
   "id": "97b8cef3-77e0-4021-ba2d-8a02e414e319",
   "metadata": {
    "tags": []
   },
   "outputs": [],
   "source": [
    "from selenium import webdriver\n",
    "from selenium.webdriver.common.by import By\n",
    "\n",
    "driver = webdriver.Chrome()\n",
    "url = \"https://www.google.com/search?q=%EB%B9%84%ED%8A%B8%EC%BD%94%EC%9D%B8&sxsrf=APwXEdfE8CSepAPmkwnj1OFFoGtHW2B-KA:1685333010854&source=lnms&tbm=nws&sa=X&ved=2ahUKEwidq8Lb0pn_AhV-m1YBHeJBDkoQ_AUoAnoECAEQBA&biw=815&bih=835&dpr=1.1\"\n",
    "\n",
    "url.format(\"\")\n",
    "\n",
    "driver.get(url)"
   ]
  },
  {
   "cell_type": "code",
   "execution_count": 90,
   "id": "ed734d2a-72f9-40cc-b054-ba26f4e70920",
   "metadata": {
    "tags": []
   },
   "outputs": [
    {
     "ename": "NoSuchWindowException",
     "evalue": "Message: no such window: target window already closed\nfrom unknown error: web view not found\n  (Session info: chrome=113.0.5672.127)\nStacktrace:\nBacktrace:\n\tGetHandleVerifier [0x00468893+48451]\n\t(No symbol) [0x003FB8A1]\n\t(No symbol) [0x00305058]\n\t(No symbol) [0x002ED073]\n\t(No symbol) [0x0034DEBB]\n\t(No symbol) [0x0035BFD3]\n\t(No symbol) [0x0034A0B6]\n\t(No symbol) [0x00327E08]\n\t(No symbol) [0x00328F2D]\n\tGetHandleVerifier [0x006C8E3A+2540266]\n\tGetHandleVerifier [0x00708959+2801161]\n\tGetHandleVerifier [0x0070295C+2776588]\n\tGetHandleVerifier [0x004F2280+612144]\n\t(No symbol) [0x00404F6C]\n\t(No symbol) [0x004011D8]\n\t(No symbol) [0x004012BB]\n\t(No symbol) [0x003F4857]\n\tBaseThreadInitThunk [0x775C6359+25]\n\tRtlGetAppContainerNamedObjectPath [0x77A67C24+228]\n\tRtlGetAppContainerNamedObjectPath [0x77A67BF4+180]\n",
     "output_type": "error",
     "traceback": [
      "\u001b[1;31m---------------------------------------------------------------------------\u001b[0m",
      "\u001b[1;31mNoSuchWindowException\u001b[0m                     Traceback (most recent call last)",
      "Cell \u001b[1;32mIn[90], line 1\u001b[0m\n\u001b[1;32m----> 1\u001b[0m titles \u001b[38;5;241m=\u001b[39m \u001b[43mdriver\u001b[49m\u001b[38;5;241;43m.\u001b[39;49m\u001b[43mfind_elements\u001b[49m\u001b[43m(\u001b[49m\u001b[43mBy\u001b[49m\u001b[38;5;241;43m.\u001b[39;49m\u001b[43mCLASS_NAME\u001b[49m\u001b[43m,\u001b[49m\u001b[43m \u001b[49m\u001b[38;5;124;43m'\u001b[39;49m\u001b[38;5;124;43mmCBkyc\u001b[39;49m\u001b[38;5;124;43m'\u001b[39;49m\u001b[43m)\u001b[49m\n\u001b[0;32m      2\u001b[0m \u001b[38;5;28;01mfor\u001b[39;00m title \u001b[38;5;129;01min\u001b[39;00m titles:\n\u001b[0;32m      3\u001b[0m     \u001b[38;5;28mprint\u001b[39m(title\u001b[38;5;241m.\u001b[39mtext)\n",
      "File \u001b[1;32m~\\Desktop\\time-series-da-main\\venv\\lib\\site-packages\\selenium\\webdriver\\remote\\webdriver.py:861\u001b[0m, in \u001b[0;36mWebDriver.find_elements\u001b[1;34m(self, by, value)\u001b[0m\n\u001b[0;32m    857\u001b[0m     value \u001b[38;5;241m=\u001b[39m \u001b[38;5;124mf\u001b[39m\u001b[38;5;124m'\u001b[39m\u001b[38;5;124m[name=\u001b[39m\u001b[38;5;124m\"\u001b[39m\u001b[38;5;132;01m{\u001b[39;00mvalue\u001b[38;5;132;01m}\u001b[39;00m\u001b[38;5;124m\"\u001b[39m\u001b[38;5;124m]\u001b[39m\u001b[38;5;124m'\u001b[39m\n\u001b[0;32m    859\u001b[0m \u001b[38;5;66;03m# Return empty list if driver returns null\u001b[39;00m\n\u001b[0;32m    860\u001b[0m \u001b[38;5;66;03m# See https://github.com/SeleniumHQ/selenium/issues/4555\u001b[39;00m\n\u001b[1;32m--> 861\u001b[0m \u001b[38;5;28;01mreturn\u001b[39;00m \u001b[38;5;28;43mself\u001b[39;49m\u001b[38;5;241;43m.\u001b[39;49m\u001b[43mexecute\u001b[49m\u001b[43m(\u001b[49m\u001b[43mCommand\u001b[49m\u001b[38;5;241;43m.\u001b[39;49m\u001b[43mFIND_ELEMENTS\u001b[49m\u001b[43m,\u001b[49m\u001b[43m \u001b[49m\u001b[43m{\u001b[49m\u001b[38;5;124;43m\"\u001b[39;49m\u001b[38;5;124;43musing\u001b[39;49m\u001b[38;5;124;43m\"\u001b[39;49m\u001b[43m:\u001b[49m\u001b[43m \u001b[49m\u001b[43mby\u001b[49m\u001b[43m,\u001b[49m\u001b[43m \u001b[49m\u001b[38;5;124;43m\"\u001b[39;49m\u001b[38;5;124;43mvalue\u001b[39;49m\u001b[38;5;124;43m\"\u001b[39;49m\u001b[43m:\u001b[49m\u001b[43m \u001b[49m\u001b[43mvalue\u001b[49m\u001b[43m}\u001b[49m\u001b[43m)\u001b[49m[\u001b[38;5;124m\"\u001b[39m\u001b[38;5;124mvalue\u001b[39m\u001b[38;5;124m\"\u001b[39m] \u001b[38;5;129;01mor\u001b[39;00m []\n",
      "File \u001b[1;32m~\\Desktop\\time-series-da-main\\venv\\lib\\site-packages\\selenium\\webdriver\\remote\\webdriver.py:440\u001b[0m, in \u001b[0;36mWebDriver.execute\u001b[1;34m(self, driver_command, params)\u001b[0m\n\u001b[0;32m    438\u001b[0m response \u001b[38;5;241m=\u001b[39m \u001b[38;5;28mself\u001b[39m\u001b[38;5;241m.\u001b[39mcommand_executor\u001b[38;5;241m.\u001b[39mexecute(driver_command, params)\n\u001b[0;32m    439\u001b[0m \u001b[38;5;28;01mif\u001b[39;00m response:\n\u001b[1;32m--> 440\u001b[0m     \u001b[38;5;28;43mself\u001b[39;49m\u001b[38;5;241;43m.\u001b[39;49m\u001b[43merror_handler\u001b[49m\u001b[38;5;241;43m.\u001b[39;49m\u001b[43mcheck_response\u001b[49m\u001b[43m(\u001b[49m\u001b[43mresponse\u001b[49m\u001b[43m)\u001b[49m\n\u001b[0;32m    441\u001b[0m     response[\u001b[38;5;124m\"\u001b[39m\u001b[38;5;124mvalue\u001b[39m\u001b[38;5;124m\"\u001b[39m] \u001b[38;5;241m=\u001b[39m \u001b[38;5;28mself\u001b[39m\u001b[38;5;241m.\u001b[39m_unwrap_value(response\u001b[38;5;241m.\u001b[39mget(\u001b[38;5;124m\"\u001b[39m\u001b[38;5;124mvalue\u001b[39m\u001b[38;5;124m\"\u001b[39m, \u001b[38;5;28;01mNone\u001b[39;00m))\n\u001b[0;32m    442\u001b[0m     \u001b[38;5;28;01mreturn\u001b[39;00m response\n",
      "File \u001b[1;32m~\\Desktop\\time-series-da-main\\venv\\lib\\site-packages\\selenium\\webdriver\\remote\\errorhandler.py:245\u001b[0m, in \u001b[0;36mErrorHandler.check_response\u001b[1;34m(self, response)\u001b[0m\n\u001b[0;32m    243\u001b[0m         alert_text \u001b[38;5;241m=\u001b[39m value[\u001b[38;5;124m\"\u001b[39m\u001b[38;5;124malert\u001b[39m\u001b[38;5;124m\"\u001b[39m]\u001b[38;5;241m.\u001b[39mget(\u001b[38;5;124m\"\u001b[39m\u001b[38;5;124mtext\u001b[39m\u001b[38;5;124m\"\u001b[39m)\n\u001b[0;32m    244\u001b[0m     \u001b[38;5;28;01mraise\u001b[39;00m exception_class(message, screen, stacktrace, alert_text)  \u001b[38;5;66;03m# type: ignore[call-arg]  # mypy is not smart enough here\u001b[39;00m\n\u001b[1;32m--> 245\u001b[0m \u001b[38;5;28;01mraise\u001b[39;00m exception_class(message, screen, stacktrace)\n",
      "\u001b[1;31mNoSuchWindowException\u001b[0m: Message: no such window: target window already closed\nfrom unknown error: web view not found\n  (Session info: chrome=113.0.5672.127)\nStacktrace:\nBacktrace:\n\tGetHandleVerifier [0x00468893+48451]\n\t(No symbol) [0x003FB8A1]\n\t(No symbol) [0x00305058]\n\t(No symbol) [0x002ED073]\n\t(No symbol) [0x0034DEBB]\n\t(No symbol) [0x0035BFD3]\n\t(No symbol) [0x0034A0B6]\n\t(No symbol) [0x00327E08]\n\t(No symbol) [0x00328F2D]\n\tGetHandleVerifier [0x006C8E3A+2540266]\n\tGetHandleVerifier [0x00708959+2801161]\n\tGetHandleVerifier [0x0070295C+2776588]\n\tGetHandleVerifier [0x004F2280+612144]\n\t(No symbol) [0x00404F6C]\n\t(No symbol) [0x004011D8]\n\t(No symbol) [0x004012BB]\n\t(No symbol) [0x003F4857]\n\tBaseThreadInitThunk [0x775C6359+25]\n\tRtlGetAppContainerNamedObjectPath [0x77A67C24+228]\n\tRtlGetAppContainerNamedObjectPath [0x77A67BF4+180]\n"
     ]
    }
   ],
   "source": [
    "titles = driver.find_elements(By.CLASS_NAME, 'mCBkyc')\n",
    "for title in titles:\n",
    "    print(title.text)"
   ]
  },
  {
   "cell_type": "code",
   "execution_count": 8,
   "id": "4fcb785e-d045-486a-abe8-89351a9040da",
   "metadata": {
    "tags": []
   },
   "outputs": [
    {
     "name": "stdout",
     "output_type": "stream",
     "text": [
      "데이터 저장이 완료되었습니다.\n"
     ]
    }
   ],
   "source": [
    "from selenium import webdriver\n",
    "from selenium.webdriver.common.by import By\n",
    "import time\n",
    "import random\n",
    "\n",
    "title_list = []\n",
    "content_list = []\n",
    "date_list = []\n",
    "\n",
    "for i in range(0, 20, 10):\n",
    "    driver = webdriver.Chrome()\n",
    "    # Google 뉴스 검색 결과 페이지 접속\n",
    "    url = \"https://www.google.com/search?q=%EB%B9%84%ED%8A%B8%EC%BD%94%EC%9D%B8&sxsrf=APwXEdfE8CSepAPmkwnj1OFFoGtHW2B-KA:1685333010854&source=lnms&tbm=nws&sa=X&ved=2ahUKEwidq8Lb0pn_AhV-m1YBHeJBDkoQ_AUoAnoECAEQBA&biw=815&bih=835&dpr=1.1\"\n",
    "    driver.get(url)\n",
    "    time.sleep(3)\n",
    "\n",
    "    titles = driver.find_elements(By.CLASS_NAME, 'mCBkyc')\n",
    "    for title in titles:\n",
    "        title_list.append(title.text)\n",
    "\n",
    "    contents = driver.find_elements(By.CLASS_NAME, 'GI74Re')\n",
    "    for content in contents:\n",
    "        content_list.append(content.text)\n",
    "\n",
    "    dates = driver.find_elements(By.CLASS_NAME, 'WG9SHc')\n",
    "    for date in dates:\n",
    "        date_list.append(date.get_attribute('innerText'))\n",
    "\n",
    "    driver.quit()\n",
    "\n",
    "num = len(title_list)\n",
    "\n",
    "with open(\"google_news_test.csv\", \"a\", encoding=\"UTF-8\") as csv_file:\n",
    "    for i in range(num):\n",
    "        csv_file.write(\"{}, {}, {}\\n\".format(title_list[i], content_list[i], date_list[i]))\n",
    "\n",
    "print(\"데이터 저장이 완료되었습니다.\")\n"
   ]
  },
  {
   "cell_type": "code",
   "execution_count": 27,
   "id": "68114106-530d-4187-87d6-351df3d56a51",
   "metadata": {
    "tags": []
   },
   "outputs": [
    {
     "name": "stdin",
     "output_type": "stream",
     "text": [
      "검색하고자 하는 단어를 입력해주세요! 비트코인\n"
     ]
    },
    {
     "name": "stdout",
     "output_type": "stream",
     "text": [
      "**********1**********\n",
      "**********2**********\n"
     ]
    }
   ],
   "source": [
    "from selenium import webdriver\n",
    "from selenium.webdriver.chrome.service import Service\n",
    "from selenium.webdriver.common.by import By\n",
    "import time\n",
    "import random\n",
    "\n",
    "word = input(\"검색하고자 하는 단어를 입력해주세요!\")\n",
    "url = 'https://www.google.com/search?q={}&newwindow=1&tbm=nws&ei=TUmuY5LlINeghwOfw7egDQ&start={}&sa=N&ved=2ahUKEwjSv42woqD8AhVX0GEKHZ_hDdQQ8tMDegQIBBAE&biw=763&bih=819&dpr=2.2'\n",
    "\n",
    "page = 1\n",
    "\n",
    "title_list = []\n",
    "content_list = []\n",
    "link_list = []\n",
    "\n",
    "timesleep = random.randint(1, 10)\n",
    "\n",
    "# 웹 드라이버 초기화\n",
    "service = Service('chromedriver 경로')  # 적절한 드라이버 경로로 변경해야 합니다\n",
    "driver = webdriver.Chrome(service=service)\n",
    "\n",
    "for i in range(0, 20, 10):\n",
    "    new_url = url.format(word, i)\n",
    "    driver.get(new_url)\n",
    "    time.sleep(3)\n",
    "\n",
    "    print(\"*\" * 10 + str(page) + \"*\" * 10)\n",
    "    page = page + 1\n",
    "\n",
    "    titles = driver.find_elements(By.CLASS_NAME, 'mCBkyc')\n",
    "\n",
    "    for title in titles:\n",
    "        title_list.append(title.text.replace(\",\", \"\"))\n",
    "\n",
    "    contents = driver.find_elements(By.CLASS_NAME, 'GI74Re')\n",
    "\n",
    "    for content in contents:\n",
    "        content_list.append(content.text.replace(\",\", \"\"))\n",
    "\n",
    "    links = driver.find_elements(By.CLASS_NAME, 'WlydOe')\n",
    "\n",
    "    for link in links:\n",
    "        link_list.append(link.get_attribute('href'))\n",
    "\n",
    "num = len(title_list)\n",
    "for i in range(num):\n",
    "   csv = open(\"google_news_test.csv\", \"a\", encoding=\"UTF-8\")\n",
    "   csv.write(\"{}, {}, {}\\n\".format(title_list[i], content_list[i], link_list[i]))\n",
    "   csv.close()    \n",
    "    \n",
    "driver.quit()  # 웹 드라이버 종료\n",
    "\n",
    "# 크롤링 결과 처리 및 저장 코드 작성\n",
    "# 이후 title_list, content_list, link_list 등을 활용하여 원하는 작업을 수행할 수 있습니다.\n"
   ]
  },
  {
   "cell_type": "code",
   "execution_count": 24,
   "id": "393e7ce5-888d-4f69-87e3-22a3b9e7a7e6",
   "metadata": {
    "tags": []
   },
   "outputs": [],
   "source": []
  },
  {
   "cell_type": "code",
   "execution_count": 16,
   "id": "aa3271a2-308e-4961-a05c-2f426603b5f9",
   "metadata": {
    "tags": []
   },
   "outputs": [],
   "source": [
    "import requests\n",
    "from bs4 import BeautifulSoup\n",
    "import csv\n",
    "\n",
    "html = requests.get(\"https://www.google.com/search?q=%EB%B9%84%ED%8A%B8%EC%BD%94%EC%9D%B8&sxsrf=APwXEdfE8CSepAPmkwnj1OFFoGtHW2B-KA:1685333010854&source=lnms&tbm=nws&sa=X&ved=2ahUKEwidq8Lb0pn_AhV-m1YBHeJBDkoQ_AUoAnoECAEQBA&biw=815&bih=835&dpr=1.1\")\n",
    "bs = BeautifulSoup(html.content, 'html.parser')\n",
    "\n",
    "titles = bs.find_all('div', class_='n0jPhd ynAwRc MBeuO nDgy9d')\n",
    "contents = bs.find_all('div', class_='Y3v8qd')"
   ]
  },
  {
   "cell_type": "code",
   "execution_count": 9,
   "id": "2d12a33b-b820-48e3-b942-00836b4e7e56",
   "metadata": {
    "tags": []
   },
   "outputs": [
    {
     "name": "stdout",
     "output_type": "stream",
     "text": [
      "뉴스 제목과 내용이 성공적으로 저장되었습니다.\n"
     ]
    }
   ],
   "source": [
    "import requests\n",
    "from bs4 import BeautifulSoup\n",
    "import csv\n",
    "\n",
    "url = \"https://www.google.com/search?q=%EB%B9%84%ED%8A%B8%EC%BD%94%EC%9D%B8&hl=en&sxsrf=APwXEde5Bu-nwFXtG5lg4jJoKEzISP7Fvw:1685406582683&source=lnms&tbm=nws&sa=X&ved=2ahUKEwiRvqbl5Jv_AhUGEogKHfDgB58Q_AUoAnoECAEQBA&biw=1497&bih=1377&dpr=0.67\"\n",
    "response = requests.get(url)\n",
    "soup = BeautifulSoup(response.content, 'html.parser')\n",
    "\n",
    "titles = soup.find_all('div', class_='n0jPhd ynAwRc MBeuO nDgy9d')\n",
    "contents = soup.find_all('div', class_='GI74Re nDgy9d')\n",
    "\n",
    "with open('news.csv', 'w', newline='', encoding='utf-8') as csvfile:\n",
    "    writer = csv.writer(csvfile)\n",
    "    writer.writerow(['뉴스 제목', '뉴스 내용'])\n",
    "    for title, content in zip(titles, contents):\n",
    "        news_title = title.find('div', class_='n0jPhd ynAwRc MBeuO nDgy9d').text.strip()\n",
    "        news_content = content.find('div', class_='GI74Re nDgy9d').text.strip()\n",
    "        writer.writerow([news_title, news_content])\n",
    "\n",
    "print(\"뉴스 제목과 내용이 성공적으로 저장되었습니다.\")\n"
   ]
  },
  {
   "cell_type": "code",
   "execution_count": 4,
   "id": "617e331d-2a7f-4ee8-83de-06c67fff3585",
   "metadata": {
    "tags": []
   },
   "outputs": [
    {
     "name": "stdout",
     "output_type": "stream",
     "text": [
      "[] []\n"
     ]
    }
   ],
   "source": [
    "import requests\n",
    "import csv\n",
    "\n",
    "API_KEY = 'YOUR_API_KEY'\n",
    "SEARCH_QUERY = 'bitcoin'\n",
    "CSV_FILE_PATH = 'news.csv'\n",
    "\n",
    "def get_news_data():\n",
    "    url = f'https://news.googleapis.com/news/v3/search?q={SEARCH_QUERY}&key={API_KEY}'\n",
    "    response = requests.get(url)\n",
    "    data = response.json()\n",
    "    return data.get('articles', [])\n",
    "\n",
    "def save_data_to_csv(articles):\n",
    "    with open(CSV_FILE_PATH, 'w', newline='', encoding='utf-8') as csvfile:\n",
    "        writer = csv.writer(csvfile)\n",
    "        writer.writerow(['뉴스 제목', '뉴스 내용'])\n",
    "        for article in articles:\n",
    "            news_title = article['title']\n",
    "            news_content = article['description']\n",
    "            writer.writerow([news_title, news_content])\n",
    "\n",
    "# 뉴스 데이터 가져오기\n",
    "news_articles = get_news_data()\n",
    "\n",
    "# CSV 파일에 저장\n",
    "save_data_to_csv(news_articles)\n",
    "\n",
    "print(\"뉴스 데이터가 성공적으로 저장되었습니다.\")\n"
   ]
  },
  {
   "cell_type": "code",
   "execution_count": null,
   "id": "cb3e4a7d-3c37-4a6f-8df7-614f0fd231c1",
   "metadata": {
    "tags": []
   },
   "outputs": [],
   "source": [
    "import requests\n",
    "from bs4 import BeautifulSoup\n",
    "import csv\n",
    "\n",
    "url = \"https://search.naver.com/search.naver?query=비트코인&where=news\"\n",
    "start = 1  # 시작 페이지 번호\n",
    "articles = []\n",
    "\n",
    "while True:\n",
    "    page_url = f\"{url}&start={start}\"\n",
    "    response = requests.get(page_url)\n",
    "    soup = BeautifulSoup(response.content, 'html.parser')\n",
    "    news_area = soup.find_all('div', class_='news_area')\n",
    "    \n",
    "    if not news_area:  # news_area가 비어있으면 마지막 페이지라고 가정\n",
    "        break\n",
    "    \n",
    "    articles.extend(news_area)\n",
    "    start += 10  # 다음 페이지로 이동\n",
    "    \n",
    "with open('news.csv', 'w', newline='', encoding='utf-8') as csvfile:\n",
    "    writer = csv.writer(csvfile)\n",
    "    writer.writerow(['뉴스 제목', '뉴스 내용', '뉴스 날짜'])\n",
    "    for article in articles:\n",
    "        news_title_elem = article.find('a', class_='news_tit')\n",
    "        news_title = news_title_elem.text.strip() if news_title_elem else \"\"\n",
    "        \n",
    "        news_content_elem = article.find('a', class_='api_txt_lines dsc_txt_wrap')\n",
    "        news_content = news_content_elem.text.strip() if news_content_elem else \"\"\n",
    "        \n",
    "        news_date_elem = article.find('span', class_='info')\n",
    "        news_date = news_date_elem.text.strip() if news_date_elem else \"\"\n",
    "        \n",
    "        writer.writerow([news_title, news_content, news_date])\n",
    "\n",
    "print(\"뉴스 제목, 내용, 날짜가 성공적으로 저장되었습니다.\")\n"
   ]
  },
  {
   "cell_type": "code",
   "execution_count": 45,
   "id": "a8c6a7df-4bd4-43af-ab06-8183bac42c7d",
   "metadata": {
    "tags": []
   },
   "outputs": [
    {
     "ename": "AttributeError",
     "evalue": "'NoneType' object has no attribute 'strip'",
     "output_type": "error",
     "traceback": [
      "\u001b[1;31m---------------------------------------------------------------------------\u001b[0m",
      "\u001b[1;31mAttributeError\u001b[0m                            Traceback (most recent call last)",
      "Cell \u001b[1;32mIn[45], line 18\u001b[0m\n\u001b[0;32m     16\u001b[0m         news_title \u001b[38;5;241m=\u001b[39m article\u001b[38;5;241m.\u001b[39mfind(\u001b[38;5;124m'\u001b[39m\u001b[38;5;124ma\u001b[39m\u001b[38;5;124m'\u001b[39m, class_\u001b[38;5;241m=\u001b[39m\u001b[38;5;124m'\u001b[39m\u001b[38;5;124mnews_tit\u001b[39m\u001b[38;5;124m'\u001b[39m)\u001b[38;5;241m.\u001b[39mtext\u001b[38;5;241m.\u001b[39mstrip()\n\u001b[0;32m     17\u001b[0m         news_content \u001b[38;5;241m=\u001b[39m article\u001b[38;5;241m.\u001b[39mfind(\u001b[38;5;124m'\u001b[39m\u001b[38;5;124mdiv\u001b[39m\u001b[38;5;124m'\u001b[39m, class_\u001b[38;5;241m=\u001b[39m\u001b[38;5;124m'\u001b[39m\u001b[38;5;124mnews_dsc\u001b[39m\u001b[38;5;124m'\u001b[39m)\u001b[38;5;241m.\u001b[39mtext\u001b[38;5;241m.\u001b[39mstrip()\n\u001b[1;32m---> 18\u001b[0m         news_date_elem \u001b[38;5;241m=\u001b[39m \u001b[43marticle\u001b[49m\u001b[38;5;241;43m.\u001b[39;49m\u001b[43mfind\u001b[49m\u001b[43m(\u001b[49m\u001b[38;5;124;43m'\u001b[39;49m\u001b[38;5;124;43mspan\u001b[39;49m\u001b[38;5;124;43m'\u001b[39;49m\u001b[43m,\u001b[49m\u001b[43m \u001b[49m\u001b[43mclass_\u001b[49m\u001b[38;5;241;43m=\u001b[39;49m\u001b[38;5;124;43m'\u001b[39;49m\u001b[38;5;124;43minfo\u001b[39;49m\u001b[38;5;124;43m'\u001b[39;49m\u001b[43m)\u001b[49m\u001b[38;5;241;43m.\u001b[39;49m\u001b[43mtest\u001b[49m\u001b[38;5;241;43m.\u001b[39;49m\u001b[43mstrip\u001b[49m()\n\u001b[0;32m     19\u001b[0m         writer\u001b[38;5;241m.\u001b[39mwriterow([news_title, news_content])\n\u001b[0;32m     21\u001b[0m \u001b[38;5;28mprint\u001b[39m(\u001b[38;5;124m\"\u001b[39m\u001b[38;5;124m뉴스 제목과 내용이 성공적으로 저장되었습니다.\u001b[39m\u001b[38;5;124m\"\u001b[39m)\n",
      "\u001b[1;31mAttributeError\u001b[0m: 'NoneType' object has no attribute 'strip'"
     ]
    }
   ],
   "source": [
    "import requests\n",
    "from bs4 import BeautifulSoup\n",
    "import csv\n",
    "\n",
    "url = \"https://search.naver.com/search.naver?query=비트코인&where=news\"\n",
    "\n",
    "response = requests.get(url)\n",
    "soup = BeautifulSoup(response.content, 'html.parser')\n",
    "\n",
    "articles = soup.find_all('div', class_='news_area')\n",
    "\n",
    "with open('news.csv', 'w', newline='', encoding='utf-8') as csvfile:\n",
    "    writer = csv.writer(csvfile)\n",
    "    writer.writerow(['뉴스 제목', '뉴스 내용'])\n",
    "    for article in articles:\n",
    "        news_title = article.find('a', class_='news_tit').text.strip()\n",
    "        news_content = article.find('div', class_='news_dsc').text.strip()\n",
    "        news_date_elem = article.find('span', class_='info').test.strip()\n",
    "        writer.writerow([news_title, news_content])\n",
    "\n",
    "print(\"뉴스 제목과 내용이 성공적으로 저장되었습니다.\")\n"
   ]
  },
  {
   "cell_type": "code",
   "execution_count": null,
   "id": "2dceb0d5-3989-4613-8c95-ce6db1630991",
   "metadata": {
    "tags": []
   },
   "outputs": [],
   "source": [
    "import requests\n",
    "from bs4 import BeautifulSoup\n",
    "import csv\n",
    "\n",
    "url = \"https://search.naver.com/search.naver?query=비트코인&where=news\"\n",
    "\n",
    "response = requests.get(url)\n",
    "soup = BeautifulSoup(response.content, 'html.parser')\n",
    "\n",
    "articles = soup.find_all('div', class_='news_area')\n",
    "\n",
    "with open('news.csv', 'w', newline='', encoding='utf-8') as csvfile:\n",
    "    writer = csv.writer(csvfile)\n",
    "    writer.writerow(['뉴스 제목', '뉴스 내용', '뉴스 날짜'])\n",
    "    for article in articles:\n",
    "        news_title_elem = article.find('a', class_='news_tit')\n",
    "        news_title = news_title_elem.text.strip() if news_title_elem else \"\"\n",
    "        \n",
    "        news_content_elem = article.find('a', class_='api_txt_lines dsc_txt_wrap')\n",
    "        news_content = news_content_elem.text.strip() if news_content_elem else \"\"\n",
    "        \n",
    "        news_date_elem = article.find('span', class_='info')\n",
    "        news_date = news_date_elem.text.strip() if news_date_elem else \"\"\n",
    "        \n",
    "        writer.writerow([news_title, news_content, news_date])\n",
    "\n",
    "print(\"뉴스 제목, 내용, 날짜가 성공적으로 저장되었습니다.\")\n"
   ]
  },
  {
   "cell_type": "code",
   "execution_count": null,
   "id": "8f76b21b-632c-421e-8f4f-bb0e418eef90",
   "metadata": {},
   "outputs": [],
   "source": [
    "import requests\n",
    "from bs4 import BeautifulSoup\n",
    "import csv\n",
    "import signal\n",
    "\n",
    "url = \"https://search.naver.com/search.naver?query=비트코인&where=news\"\n",
    "articles = []\n",
    "\n",
    "def start_one():\n",
    "    start = 1  # 시작 페이지 번호\n",
    "    while True:\n",
    "        page_url = f\"{url}&start={start}\"\n",
    "        response = requests.get(page_url)\n",
    "        soup = BeautifulSoup(response.content, 'html.parser')\n",
    "        news_area = soup.find_all('div', class_='news_area')\n",
    "\n",
    "        if not news_area:  # news_area가 비어있으면 마지막 페이지라고 가정\n",
    "            break\n",
    "\n",
    "        articles.extend(news_area)\n",
    "        start += 10  # 다음 페이지로 이동\n",
    "\n",
    "        # 사용자 입력 감지\n",
    "        if signal.getsignal(signal.SIGINT) is not signal.default_int_handler:\n",
    "            print(\"사용자에 의해 프로그램이 중단되었습니다.\")\n",
    "            break\n",
    "    \n",
    "    if articles:\n",
    "        with open('./data/news.csv', 'w', newline='', encoding='utf-8') as csvfile:\n",
    "            writer = csv.writer(csvfile)\n",
    "            writer.writerow(['뉴스 제목', '뉴스 내용', '뉴스 날짜'])\n",
    "            for article in articles:\n",
    "                news_title_elem = article.find('a', class_='news_tit')\n",
    "                news_title = news_title_elem.text.strip() if news_title_elem else \"\"\n",
    "\n",
    "                news_content_elem = article.find('a', class_='api_txt_lines dsc_txt_wrap')\n",
    "                news_content = news_content_elem.text.strip() if news_content_elem else \"\"\n",
    "\n",
    "                news_date_elem = article.find('span', class_='info')\n",
    "                news_date = news_date_elem.text.strip() if news_date_elem else \"\"\n",
    "\n",
    "                writer.writerow([news_title, news_content, news_date])\n",
    "\n",
    "        print(\"뉴스 제목, 내용, 날짜가 성공적으로 저장되었습니다.\")\n",
    "    else:\n",
    "        print(\"수집된 뉴스가 없습니다.\")\n",
    "\n",
    "# KeyboardInterrupt 시그널 핸들러 등록\n",
    "signal.signal(signal.SIGINT, signal.default_int_handler)\n",
    "\n",
    "start_one()"
   ]
  },
  {
   "cell_type": "code",
   "execution_count": 11,
   "id": "6ca0a1ea-e830-4370-a405-32e2c46e6662",
   "metadata": {
    "tags": []
   },
   "outputs": [
    {
     "name": "stdout",
     "output_type": "stream",
     "text": [
      "뉴스 제목, 내용, 날짜가 성공적으로 저장되었습니다.\n"
     ]
    }
   ],
   "source": [
    "import requests\n",
    "from bs4 import BeautifulSoup\n",
    "import csv\n",
    "\n",
    "url = \"https://www.google.com/search?q=%EB%B9%84%ED%8A%B8%EC%BD%94%EC%9D%B8&hl=en&sxsrf=APwXEde5Bu-nwFXtG5lg4jJoKEzISP7Fvw:1685406582683&source=lnms&tbm=nws&sa=X&ved=2ahUKEwiRvqbl5Jv_AhUGEogKHfDgB58Q_AUoAnoECAEQBA&biw=1497&bih=1377&dpr=0.67\"\n",
    "response = requests.get(url)\n",
    "soup = BeautifulSoup(response.content, 'html.parser')\n",
    "\n",
    "titles = soup.find_all('div', class_='n0jPhd ynAwRc MBeuO nDgy9d')\n",
    "contents = soup.find_all('div', class_='GI74Re nDgy9d')\n",
    "dates = soup.find_all('div', class_='WG9SHc')\n",
    "\n",
    "with open('news.csv', 'a', newline='', encoding='utf-8') as csvfile:\n",
    "    writer = csv.writer(csvfile)\n",
    "    writer.writerow(['뉴스 제목', '뉴스 내용', '날짜'])\n",
    "    for title, content, date in zip(titles, contents, dates):\n",
    "        news_title = title.text.strip()\n",
    "        news_content = content.text.strip()\n",
    "        news_date = date.text.strip()\n",
    "        writer.writerow([news_title, news_content, news_date])\n",
    "\n",
    "print(\"뉴스 제목, 내용, 날짜가 성공적으로 저장되었습니다.\")\n"
   ]
  },
  {
   "cell_type": "code",
   "execution_count": 10,
   "id": "1e5aa1f8-6c59-46b5-874c-e70e91779575",
   "metadata": {},
   "outputs": [
    {
     "ename": "KeyboardInterrupt",
     "evalue": "",
     "output_type": "error",
     "traceback": [
      "\u001b[1;31m---------------------------------------------------------------------------\u001b[0m",
      "\u001b[1;31mKeyboardInterrupt\u001b[0m                         Traceback (most recent call last)",
      "Cell \u001b[1;32mIn[10], line 15\u001b[0m\n\u001b[0;32m     12\u001b[0m date_start \u001b[38;5;241m=\u001b[39m datetime(\u001b[38;5;241m2017\u001b[39m, \u001b[38;5;241m9\u001b[39m, \u001b[38;5;241m25\u001b[39m)\n\u001b[0;32m     14\u001b[0m \u001b[38;5;28;01mwhile\u001b[39;00m \u001b[38;5;28;01mTrue\u001b[39;00m:\n\u001b[1;32m---> 15\u001b[0m     data \u001b[38;5;241m=\u001b[39m \u001b[43mpyupbit\u001b[49m\u001b[38;5;241;43m.\u001b[39;49m\u001b[43mget_ohlcv\u001b[49m\u001b[43m(\u001b[49m\u001b[43mbtc_krw\u001b[49m\u001b[43m,\u001b[49m\u001b[43m \u001b[49m\u001b[43minterval\u001b[49m\u001b[38;5;241;43m=\u001b[39;49m\u001b[38;5;124;43m\"\u001b[39;49m\u001b[38;5;124;43mminute1\u001b[39;49m\u001b[38;5;124;43m\"\u001b[39;49m\u001b[43m,\u001b[49m\u001b[43m \u001b[49m\u001b[43mcount\u001b[49m\u001b[38;5;241;43m=\u001b[39;49m\u001b[43mcount\u001b[49m\u001b[43m,\u001b[49m\u001b[43m \u001b[49m\u001b[43mto\u001b[49m\u001b[38;5;241;43m=\u001b[39;49m\u001b[43mdate_today\u001b[49m\u001b[43m)\u001b[49m\n\u001b[0;32m     16\u001b[0m     \u001b[38;5;28;01mif\u001b[39;00m data \u001b[38;5;129;01mis\u001b[39;00m \u001b[38;5;28;01mNone\u001b[39;00m:\n\u001b[0;32m     17\u001b[0m         \u001b[38;5;28;01mbreak\u001b[39;00m\n",
      "File \u001b[1;32m~\\Desktop\\time-series-da-main\\venv\\lib\\site-packages\\pyupbit\\quotation_api.py:131\u001b[0m, in \u001b[0;36mget_ohlcv\u001b[1;34m(ticker, interval, count, to, period)\u001b[0m\n\u001b[0;32m    127\u001b[0m     to \u001b[38;5;241m=\u001b[39m datetime\u001b[38;5;241m.\u001b[39mdatetime\u001b[38;5;241m.\u001b[39mstrptime(\n\u001b[0;32m    128\u001b[0m         contents[\u001b[38;5;241m-\u001b[39m\u001b[38;5;241m1\u001b[39m][\u001b[38;5;124m'\u001b[39m\u001b[38;5;124mcandle_date_time_utc\u001b[39m\u001b[38;5;124m'\u001b[39m], \u001b[38;5;124m\"\u001b[39m\u001b[38;5;124m%\u001b[39m\u001b[38;5;124mY-\u001b[39m\u001b[38;5;124m%\u001b[39m\u001b[38;5;124mm-\u001b[39m\u001b[38;5;132;01m%d\u001b[39;00m\u001b[38;5;124mT\u001b[39m\u001b[38;5;124m%\u001b[39m\u001b[38;5;124mH:\u001b[39m\u001b[38;5;124m%\u001b[39m\u001b[38;5;124mM:\u001b[39m\u001b[38;5;124m%\u001b[39m\u001b[38;5;124mS\u001b[39m\u001b[38;5;124m\"\u001b[39m)\n\u001b[0;32m    130\u001b[0m     \u001b[38;5;28;01mif\u001b[39;00m pos \u001b[38;5;241m>\u001b[39m \u001b[38;5;241m200\u001b[39m:\n\u001b[1;32m--> 131\u001b[0m         \u001b[43mtime\u001b[49m\u001b[38;5;241;43m.\u001b[39;49m\u001b[43msleep\u001b[49m\u001b[43m(\u001b[49m\u001b[43mperiod\u001b[49m\u001b[43m)\u001b[49m\n\u001b[0;32m    133\u001b[0m df \u001b[38;5;241m=\u001b[39m pd\u001b[38;5;241m.\u001b[39mconcat(dfs)\u001b[38;5;241m.\u001b[39msort_index()\n\u001b[0;32m    134\u001b[0m df \u001b[38;5;241m=\u001b[39m df\u001b[38;5;241m.\u001b[39mrename(columns\u001b[38;5;241m=\u001b[39m{\u001b[38;5;124m\"\u001b[39m\u001b[38;5;124mopening_price\u001b[39m\u001b[38;5;124m\"\u001b[39m: \u001b[38;5;124m\"\u001b[39m\u001b[38;5;124mopen\u001b[39m\u001b[38;5;124m\"\u001b[39m,\n\u001b[0;32m    135\u001b[0m                         \u001b[38;5;124m\"\u001b[39m\u001b[38;5;124mhigh_price\u001b[39m\u001b[38;5;124m\"\u001b[39m: \u001b[38;5;124m\"\u001b[39m\u001b[38;5;124mhigh\u001b[39m\u001b[38;5;124m\"\u001b[39m,\n\u001b[0;32m    136\u001b[0m                         \u001b[38;5;124m\"\u001b[39m\u001b[38;5;124mlow_price\u001b[39m\u001b[38;5;124m\"\u001b[39m: \u001b[38;5;124m\"\u001b[39m\u001b[38;5;124mlow\u001b[39m\u001b[38;5;124m\"\u001b[39m,\n\u001b[0;32m    137\u001b[0m                         \u001b[38;5;124m\"\u001b[39m\u001b[38;5;124mtrade_price\u001b[39m\u001b[38;5;124m\"\u001b[39m: \u001b[38;5;124m\"\u001b[39m\u001b[38;5;124mclose\u001b[39m\u001b[38;5;124m\"\u001b[39m,\n\u001b[0;32m    138\u001b[0m                         \u001b[38;5;124m\"\u001b[39m\u001b[38;5;124mcandle_acc_trade_volume\u001b[39m\u001b[38;5;124m\"\u001b[39m: \u001b[38;5;124m\"\u001b[39m\u001b[38;5;124mvolume\u001b[39m\u001b[38;5;124m\"\u001b[39m,\n\u001b[0;32m    139\u001b[0m                         \u001b[38;5;124m\"\u001b[39m\u001b[38;5;124mcandle_acc_trade_price\u001b[39m\u001b[38;5;124m\"\u001b[39m: \u001b[38;5;124m\"\u001b[39m\u001b[38;5;124mvalue\u001b[39m\u001b[38;5;124m\"\u001b[39m})\n",
      "\u001b[1;31mKeyboardInterrupt\u001b[0m: "
     ]
    }
   ],
   "source": [
    "import pyupbit\n",
    "import pandas as pd\n",
    "from datetime import date, datetime\n",
    "import time\n",
    "\n",
    "btc_krw = 'KRW-BTC'\n",
    "btc_krw_df = pd.DataFrame()  # Initialize with an empty DataFrame\n",
    "count = 200000000\n",
    "\n",
    "today = date.today()\n",
    "date_today = today.strftime(\"%Y-%m-%d\")\n",
    "date_start = datetime(2017, 9, 25)\n",
    "\n",
    "while True:\n",
    "    data = pyupbit.get_ohlcv(btc_krw, interval=\"minute1\", count=count, to=date_today)\n",
    "    if data is None:\n",
    "        break\n",
    "    if btc_krw_df.empty:\n",
    "        btc_krw_df = data\n",
    "    else:\n",
    "        btc_krw_df = pd.concat([btc_krw_df, data])\n",
    "    last_timestamp = data.index[-1]\n",
    "    count += len(data)\n",
    "    if len(data) < count:\n",
    "        break\n",
    "    time.sleep(1)\n",
    "\n",
    "print(btc_krw_df.shape)\n",
    "print(btc_krw_df)\n"
   ]
  },
  {
   "cell_type": "code",
   "execution_count": 11,
   "id": "2dda3568-e73c-43db-a6ac-979f503185c9",
   "metadata": {
    "tags": []
   },
   "outputs": [
    {
     "ename": "KeyboardInterrupt",
     "evalue": "",
     "output_type": "error",
     "traceback": [
      "\u001b[1;31m---------------------------------------------------------------------------\u001b[0m",
      "\u001b[1;31mKeyboardInterrupt\u001b[0m                         Traceback (most recent call last)",
      "Cell \u001b[1;32mIn[11], line 30\u001b[0m\n\u001b[0;32m     27\u001b[0m     request_count \u001b[38;5;241m=\u001b[39m \u001b[38;5;241m0\u001b[39m  \u001b[38;5;66;03m# 요청 횟수 초기화\u001b[39;00m\n\u001b[0;32m     28\u001b[0m     start_time \u001b[38;5;241m=\u001b[39m time\u001b[38;5;241m.\u001b[39mtime()  \u001b[38;5;66;03m# 시작 시간 갱신\u001b[39;00m\n\u001b[1;32m---> 30\u001b[0m data \u001b[38;5;241m=\u001b[39m \u001b[43mpyupbit\u001b[49m\u001b[38;5;241;43m.\u001b[39;49m\u001b[43mget_ohlcv\u001b[49m\u001b[43m(\u001b[49m\u001b[43mbtc_krw\u001b[49m\u001b[43m,\u001b[49m\u001b[43m \u001b[49m\u001b[43minterval\u001b[49m\u001b[38;5;241;43m=\u001b[39;49m\u001b[38;5;124;43m\"\u001b[39;49m\u001b[38;5;124;43mminute1\u001b[39;49m\u001b[38;5;124;43m\"\u001b[39;49m\u001b[43m,\u001b[49m\u001b[43m \u001b[49m\u001b[43mcount\u001b[49m\u001b[38;5;241;43m=\u001b[39;49m\u001b[43mcount\u001b[49m\u001b[43m,\u001b[49m\u001b[43m \u001b[49m\u001b[43mto\u001b[49m\u001b[38;5;241;43m=\u001b[39;49m\u001b[43mdate_today\u001b[49m\u001b[43m)\u001b[49m\n\u001b[0;32m     31\u001b[0m \u001b[38;5;28;01mif\u001b[39;00m data \u001b[38;5;129;01mis\u001b[39;00m \u001b[38;5;28;01mNone\u001b[39;00m:\n\u001b[0;32m     32\u001b[0m     \u001b[38;5;28;01mbreak\u001b[39;00m\n",
      "File \u001b[1;32m~\\Desktop\\time-series-da-main\\venv\\lib\\site-packages\\pyupbit\\quotation_api.py:131\u001b[0m, in \u001b[0;36mget_ohlcv\u001b[1;34m(ticker, interval, count, to, period)\u001b[0m\n\u001b[0;32m    127\u001b[0m     to \u001b[38;5;241m=\u001b[39m datetime\u001b[38;5;241m.\u001b[39mdatetime\u001b[38;5;241m.\u001b[39mstrptime(\n\u001b[0;32m    128\u001b[0m         contents[\u001b[38;5;241m-\u001b[39m\u001b[38;5;241m1\u001b[39m][\u001b[38;5;124m'\u001b[39m\u001b[38;5;124mcandle_date_time_utc\u001b[39m\u001b[38;5;124m'\u001b[39m], \u001b[38;5;124m\"\u001b[39m\u001b[38;5;124m%\u001b[39m\u001b[38;5;124mY-\u001b[39m\u001b[38;5;124m%\u001b[39m\u001b[38;5;124mm-\u001b[39m\u001b[38;5;132;01m%d\u001b[39;00m\u001b[38;5;124mT\u001b[39m\u001b[38;5;124m%\u001b[39m\u001b[38;5;124mH:\u001b[39m\u001b[38;5;124m%\u001b[39m\u001b[38;5;124mM:\u001b[39m\u001b[38;5;124m%\u001b[39m\u001b[38;5;124mS\u001b[39m\u001b[38;5;124m\"\u001b[39m)\n\u001b[0;32m    130\u001b[0m     \u001b[38;5;28;01mif\u001b[39;00m pos \u001b[38;5;241m>\u001b[39m \u001b[38;5;241m200\u001b[39m:\n\u001b[1;32m--> 131\u001b[0m         \u001b[43mtime\u001b[49m\u001b[38;5;241;43m.\u001b[39;49m\u001b[43msleep\u001b[49m\u001b[43m(\u001b[49m\u001b[43mperiod\u001b[49m\u001b[43m)\u001b[49m\n\u001b[0;32m    133\u001b[0m df \u001b[38;5;241m=\u001b[39m pd\u001b[38;5;241m.\u001b[39mconcat(dfs)\u001b[38;5;241m.\u001b[39msort_index()\n\u001b[0;32m    134\u001b[0m df \u001b[38;5;241m=\u001b[39m df\u001b[38;5;241m.\u001b[39mrename(columns\u001b[38;5;241m=\u001b[39m{\u001b[38;5;124m\"\u001b[39m\u001b[38;5;124mopening_price\u001b[39m\u001b[38;5;124m\"\u001b[39m: \u001b[38;5;124m\"\u001b[39m\u001b[38;5;124mopen\u001b[39m\u001b[38;5;124m\"\u001b[39m,\n\u001b[0;32m    135\u001b[0m                         \u001b[38;5;124m\"\u001b[39m\u001b[38;5;124mhigh_price\u001b[39m\u001b[38;5;124m\"\u001b[39m: \u001b[38;5;124m\"\u001b[39m\u001b[38;5;124mhigh\u001b[39m\u001b[38;5;124m\"\u001b[39m,\n\u001b[0;32m    136\u001b[0m                         \u001b[38;5;124m\"\u001b[39m\u001b[38;5;124mlow_price\u001b[39m\u001b[38;5;124m\"\u001b[39m: \u001b[38;5;124m\"\u001b[39m\u001b[38;5;124mlow\u001b[39m\u001b[38;5;124m\"\u001b[39m,\n\u001b[0;32m    137\u001b[0m                         \u001b[38;5;124m\"\u001b[39m\u001b[38;5;124mtrade_price\u001b[39m\u001b[38;5;124m\"\u001b[39m: \u001b[38;5;124m\"\u001b[39m\u001b[38;5;124mclose\u001b[39m\u001b[38;5;124m\"\u001b[39m,\n\u001b[0;32m    138\u001b[0m                         \u001b[38;5;124m\"\u001b[39m\u001b[38;5;124mcandle_acc_trade_volume\u001b[39m\u001b[38;5;124m\"\u001b[39m: \u001b[38;5;124m\"\u001b[39m\u001b[38;5;124mvolume\u001b[39m\u001b[38;5;124m\"\u001b[39m,\n\u001b[0;32m    139\u001b[0m                         \u001b[38;5;124m\"\u001b[39m\u001b[38;5;124mcandle_acc_trade_price\u001b[39m\u001b[38;5;124m\"\u001b[39m: \u001b[38;5;124m\"\u001b[39m\u001b[38;5;124mvalue\u001b[39m\u001b[38;5;124m\"\u001b[39m})\n",
      "\u001b[1;31mKeyboardInterrupt\u001b[0m: "
     ]
    }
   ],
   "source": [
    "import pyupbit\n",
    "import pandas as pd\n",
    "from datetime import date, datetime\n",
    "import time\n",
    "\n",
    "# API 요청 속도 제한\n",
    "REQUESTS_PER_SECOND = 10\n",
    "\n",
    "btc_krw = 'KRW-BTC'\n",
    "btc_krw_df = pd.DataFrame()  # Initialize with an empty DataFrame\n",
    "count = 2000000\n",
    "\n",
    "today = date.today()\n",
    "date_today = today.strftime(\"%Y-%m-%d\")\n",
    "date_start = datetime(2017, 9, 25)\n",
    "\n",
    "# API 요청 속도 제한을 고려하여 데이터 가져오기\n",
    "request_count = 0  # API 요청 횟수 초기화\n",
    "start_time = time.time()  # 시작 시간 기록\n",
    "\n",
    "while True:\n",
    "    # 요청 횟수가 제한에 도달한 경우, 일정 시간만큼 대기\n",
    "    if request_count >= REQUESTS_PER_SECOND:\n",
    "        elapsed_time = time.time() - start_time\n",
    "        if elapsed_time < 1:\n",
    "            time.sleep(1 - elapsed_time)\n",
    "        request_count = 0  # 요청 횟수 초기화\n",
    "        start_time = time.time()  # 시작 시간 갱신\n",
    "\n",
    "    data = pyupbit.get_ohlcv(btc_krw, interval=\"minute1\", count=count, to=date_today)\n",
    "    if data is None:\n",
    "        break\n",
    "    if btc_krw_df.empty:\n",
    "        btc_krw_df = data\n",
    "    else:\n",
    "        btc_krw_df = pd.concat([btc_krw_df, data])\n",
    "        last_timestamp = data.index[-1]\n",
    "        count += 200\n",
    "    if len(data) < count:\n",
    "        break\n",
    "    \n",
    "    request_count += 1  # API 요청 횟수 증가\n",
    "\n",
    "print(btc_krw_df.shape)\n",
    "print(btc_krw_df)\n"
   ]
  },
  {
   "cell_type": "code",
   "execution_count": null,
   "id": "61e9de79-e1b5-41e3-a5a1-17b71f26e8c2",
   "metadata": {
    "tags": []
   },
   "outputs": [],
   "source": [
    "import pyupbit\n",
    "import pandas as pd\n",
    "from datetime import date, datetime\n",
    "import time\n",
    "\n",
    "btc_krw = 'KRW-BTC'\n",
    "btc_krw_df = pd.DataFrame() # Initialize with an empty DataFrame\n",
    "batch_size = 10000 # Number of data to fetch in each API request\n",
    "total_count = 2000000 # Total number of data to fetch\n",
    "date_today = date.today().strftime(\"%Y-%m-%d\")\n",
    "date_start = datetime(2017, 9, 25)\n",
    "\n",
    "num_batches = total_count // batch_size # Calculate the number of batches\n",
    "\n",
    "for i in range(num_batches):\n",
    "    count = batch_size # Set count for current batch\n",
    "    data = pyupbit.get_ohlcv(btc_krw, interval=\"minute1\", count=count, to=date_today)\n",
    "    if data is None:\n",
    "        break\n",
    "    if btc_krw_df.empty:\n",
    "        btc_krw_df = data\n",
    "    else:\n",
    "    btc_krw_df = pd.concat([btc_krw_df, data])\n",
    "    last_timestamp = data.index[-1]\n",
    "    time.sleep(1) # Pause for 1 second between API requests\n",
    "\n",
    "    remaining_count = total_count % batch_size # Calculate the remaining count for the last batch\n",
    "    if remaining_count > 0:\n",
    "        count = remaining_count # Set count for the last batch\n",
    "        data = pyupbit.get_ohlcv(btc_krw, interval=\"minute1\", count=count, to=date_today)\n",
    "    if data is not None:\n",
    "        btc_krw_df = pd.concat([btc_krw_df, data])\n",
    "\n",
    "print(btc_krw_df.shape)\n",
    "print(btc_krw_df)"
   ]
  },
  {
   "cell_type": "code",
   "execution_count": null,
   "id": "2ed246ad-c58d-41c7-bf1a-8a15c4ec5f36",
   "metadata": {},
   "outputs": [],
   "source": [
    "import pyupbit\n",
    "import multiprocessing\n",
    "\n",
    "def fetch_ohlcv(ticker):\n",
    "    count = 10000000\n",
    "    df = pyupbit.get_ohlcv(ticker=ticker, interval=\"minute1\", count=count)\n",
    "    return df\n",
    "\n",
    "if __name__ == '__main__':\n",
    "    ticker = \"KRW-XRP\"\n",
    "    num_processes = 100  # 병렬 처리할 프로세스 수\n",
    "\n",
    "    pool = multiprocessing.Pool(processes=num_processes)\n",
    "    results = pool.map(fetch_ohlcv, [ticker] * num_processes)\n",
    "    pool.close()\n",
    "    pool.join()\n",
    "\n",
    "    # 결과 합치기\n",
    "    df = pd.concat(results)\n",
    "\n",
    "    print(df)\n"
   ]
  },
  {
   "cell_type": "code",
   "execution_count": null,
   "id": "09234995-eda4-4127-a6ac-c5f498bdd278",
   "metadata": {
    "tags": []
   },
   "outputs": [],
   "source": [
    "print(df)"
   ]
  },
  {
   "cell_type": "code",
   "execution_count": 2,
   "id": "248b84b3-cd53-4d8f-ab22-393808cd8901",
   "metadata": {
    "tags": []
   },
   "outputs": [
    {
     "ename": "KeyboardInterrupt",
     "evalue": "",
     "output_type": "error",
     "traceback": [
      "\u001b[1;31m---------------------------------------------------------------------------\u001b[0m",
      "\u001b[1;31mKeyboardInterrupt\u001b[0m                         Traceback (most recent call last)",
      "Cell \u001b[1;32mIn[2], line 3\u001b[0m\n\u001b[0;32m      1\u001b[0m \u001b[38;5;28;01mimport\u001b[39;00m \u001b[38;5;21;01mpyupbit\u001b[39;00m\n\u001b[1;32m----> 3\u001b[0m df \u001b[38;5;241m=\u001b[39m \u001b[43mpyupbit\u001b[49m\u001b[38;5;241;43m.\u001b[39;49m\u001b[43mget_ohlcv\u001b[49m\u001b[43m(\u001b[49m\u001b[38;5;124;43m\"\u001b[39;49m\u001b[38;5;124;43mKRW-BTC\u001b[39;49m\u001b[38;5;124;43m\"\u001b[39;49m\u001b[43m,\u001b[49m\u001b[43m \u001b[49m\u001b[43minterval\u001b[49m\u001b[38;5;241;43m=\u001b[39;49m\u001b[38;5;124;43m\"\u001b[39;49m\u001b[38;5;124;43mminute1\u001b[39;49m\u001b[38;5;124;43m\"\u001b[39;49m\u001b[43m,\u001b[49m\u001b[43m \u001b[49m\u001b[43mcount\u001b[49m\u001b[43m \u001b[49m\u001b[38;5;241;43m=\u001b[39;49m\u001b[43m \u001b[49m\u001b[38;5;241;43m300000\u001b[39;49m\u001b[43m)\u001b[49m\n\u001b[0;32m      4\u001b[0m \u001b[38;5;28mprint\u001b[39m(df)\n",
      "File \u001b[1;32m~\\Desktop\\time-series-da-main\\venv\\lib\\site-packages\\pyupbit\\quotation_api.py:103\u001b[0m, in \u001b[0;36mget_ohlcv\u001b[1;34m(ticker, interval, count, to, period)\u001b[0m\n\u001b[0;32m     99\u001b[0m query_count \u001b[38;5;241m=\u001b[39m \u001b[38;5;28mmin\u001b[39m(MAX_CALL_COUNT, pos)\n\u001b[0;32m    101\u001b[0m to \u001b[38;5;241m=\u001b[39m to\u001b[38;5;241m.\u001b[39mstrftime(\u001b[38;5;124m\"\u001b[39m\u001b[38;5;124m%\u001b[39m\u001b[38;5;124mY-\u001b[39m\u001b[38;5;124m%\u001b[39m\u001b[38;5;124mm-\u001b[39m\u001b[38;5;132;01m%d\u001b[39;00m\u001b[38;5;124m \u001b[39m\u001b[38;5;124m%\u001b[39m\u001b[38;5;124mH:\u001b[39m\u001b[38;5;124m%\u001b[39m\u001b[38;5;124mM:\u001b[39m\u001b[38;5;124m%\u001b[39m\u001b[38;5;124mS\u001b[39m\u001b[38;5;124m\"\u001b[39m)\n\u001b[1;32m--> 103\u001b[0m contents, _ \u001b[38;5;241m=\u001b[39m \u001b[43m_call_public_api\u001b[49m\u001b[43m(\u001b[49m\n\u001b[0;32m    104\u001b[0m \u001b[43m    \u001b[49m\u001b[43murl\u001b[49m\u001b[43m,\u001b[49m\u001b[43m \u001b[49m\u001b[43mmarket\u001b[49m\u001b[38;5;241;43m=\u001b[39;49m\u001b[43mticker\u001b[49m\u001b[43m,\u001b[49m\u001b[43m \u001b[49m\u001b[43mcount\u001b[49m\u001b[38;5;241;43m=\u001b[39;49m\u001b[43mquery_count\u001b[49m\u001b[43m,\u001b[49m\u001b[43m \u001b[49m\u001b[43mto\u001b[49m\u001b[38;5;241;43m=\u001b[39;49m\u001b[43mto\u001b[49m\u001b[43m)\u001b[49m\n\u001b[0;32m    106\u001b[0m dt_list \u001b[38;5;241m=\u001b[39m []\n\u001b[0;32m    107\u001b[0m \u001b[38;5;28;01mfor\u001b[39;00m x \u001b[38;5;129;01min\u001b[39;00m contents:\n",
      "File \u001b[1;32m~\\Desktop\\time-series-da-main\\venv\\lib\\site-packages\\pyupbit\\request_api.py:64\u001b[0m, in \u001b[0;36m_call_public_api\u001b[1;34m(url, **params)\u001b[0m\n\u001b[0;32m     55\u001b[0m \u001b[38;5;28;01mdef\u001b[39;00m \u001b[38;5;21m_call_public_api\u001b[39m(url: \u001b[38;5;28mstr\u001b[39m, \u001b[38;5;241m*\u001b[39m\u001b[38;5;241m*\u001b[39mparams: Any) \u001b[38;5;241m-\u001b[39m\u001b[38;5;241m>\u001b[39m Tuple[Any, Dict[\u001b[38;5;28mstr\u001b[39m, Any]]:\n\u001b[0;32m     56\u001b[0m \u001b[38;5;250m    \u001b[39m\u001b[38;5;124;03m\"\"\"Call Upbit public api\u001b[39;00m\n\u001b[0;32m     57\u001b[0m \n\u001b[0;32m     58\u001b[0m \u001b[38;5;124;03m    Args:\u001b[39;00m\n\u001b[1;32m   (...)\u001b[0m\n\u001b[0;32m     62\u001b[0m \u001b[38;5;124;03m        The contents of requested url, parsed remaining requests count info\u001b[39;00m\n\u001b[0;32m     63\u001b[0m \u001b[38;5;124;03m    \"\"\"\u001b[39;00m\n\u001b[1;32m---> 64\u001b[0m     resp \u001b[38;5;241m=\u001b[39m \u001b[43m_call_get\u001b[49m\u001b[43m(\u001b[49m\u001b[43murl\u001b[49m\u001b[43m,\u001b[49m\u001b[43m \u001b[49m\u001b[43mparams\u001b[49m\u001b[38;5;241;43m=\u001b[39;49m\u001b[43mparams\u001b[49m\u001b[43m)\u001b[49m\n\u001b[0;32m     65\u001b[0m     data \u001b[38;5;241m=\u001b[39m resp\u001b[38;5;241m.\u001b[39mjson()\n\u001b[0;32m     66\u001b[0m     remaining_req \u001b[38;5;241m=\u001b[39m resp\u001b[38;5;241m.\u001b[39mheaders\u001b[38;5;241m.\u001b[39mget(\u001b[38;5;124m\"\u001b[39m\u001b[38;5;124mRemaining-Req\u001b[39m\u001b[38;5;124m\"\u001b[39m, \u001b[38;5;124m\"\u001b[39m\u001b[38;5;124m\"\u001b[39m)\n",
      "File \u001b[1;32m~\\Desktop\\time-series-da-main\\venv\\lib\\site-packages\\pyupbit\\errors.py:165\u001b[0m, in \u001b[0;36merror_handler.<locals>.wrapper\u001b[1;34m(*args, **kwargs)\u001b[0m\n\u001b[0;32m    162\u001b[0m \u001b[38;5;28;01mdef\u001b[39;00m \u001b[38;5;21mwrapper\u001b[39m(\u001b[38;5;241m*\u001b[39margs: Any, \u001b[38;5;241m*\u001b[39m\u001b[38;5;241m*\u001b[39mkwargs: Dict[\u001b[38;5;28mstr\u001b[39m, Any]) \u001b[38;5;241m-\u001b[39m\u001b[38;5;241m>\u001b[39m Response:\n\u001b[0;32m    163\u001b[0m     message, name \u001b[38;5;241m=\u001b[39m \u001b[38;5;124m\"\u001b[39m\u001b[38;5;124m\"\u001b[39m, \u001b[38;5;124m\"\u001b[39m\u001b[38;5;124m\"\u001b[39m\n\u001b[1;32m--> 165\u001b[0m     resp \u001b[38;5;241m=\u001b[39m func(\u001b[38;5;241m*\u001b[39margs, \u001b[38;5;241m*\u001b[39m\u001b[38;5;241m*\u001b[39mkwargs)\n\u001b[0;32m    166\u001b[0m     \u001b[38;5;28;01mif\u001b[39;00m resp\u001b[38;5;241m.\u001b[39mok:\n\u001b[0;32m    167\u001b[0m         \u001b[38;5;28;01mreturn\u001b[39;00m resp\n",
      "File \u001b[1;32m~\\Desktop\\time-series-da-main\\venv\\lib\\site-packages\\pyupbit\\request_api.py:42\u001b[0m, in \u001b[0;36m_call_get\u001b[1;34m(url, **kwargs)\u001b[0m\n\u001b[0;32m     40\u001b[0m \u001b[38;5;129m@error_handler\u001b[39m\n\u001b[0;32m     41\u001b[0m \u001b[38;5;28;01mdef\u001b[39;00m \u001b[38;5;21m_call_get\u001b[39m(url: \u001b[38;5;28mstr\u001b[39m, \u001b[38;5;241m*\u001b[39m\u001b[38;5;241m*\u001b[39mkwargs: Any) \u001b[38;5;241m-\u001b[39m\u001b[38;5;241m>\u001b[39m Response:\n\u001b[1;32m---> 42\u001b[0m     \u001b[38;5;28;01mreturn\u001b[39;00m requests\u001b[38;5;241m.\u001b[39mget(url, \u001b[38;5;241m*\u001b[39m\u001b[38;5;241m*\u001b[39mkwargs)\n",
      "File \u001b[1;32m~\\Desktop\\time-series-da-main\\venv\\lib\\site-packages\\requests\\api.py:73\u001b[0m, in \u001b[0;36mget\u001b[1;34m(url, params, **kwargs)\u001b[0m\n\u001b[0;32m     62\u001b[0m \u001b[38;5;28;01mdef\u001b[39;00m \u001b[38;5;21mget\u001b[39m(url, params\u001b[38;5;241m=\u001b[39m\u001b[38;5;28;01mNone\u001b[39;00m, \u001b[38;5;241m*\u001b[39m\u001b[38;5;241m*\u001b[39mkwargs):\n\u001b[0;32m     63\u001b[0m \u001b[38;5;250m    \u001b[39m\u001b[38;5;124mr\u001b[39m\u001b[38;5;124;03m\"\"\"Sends a GET request.\u001b[39;00m\n\u001b[0;32m     64\u001b[0m \n\u001b[0;32m     65\u001b[0m \u001b[38;5;124;03m    :param url: URL for the new :class:`Request` object.\u001b[39;00m\n\u001b[1;32m   (...)\u001b[0m\n\u001b[0;32m     70\u001b[0m \u001b[38;5;124;03m    :rtype: requests.Response\u001b[39;00m\n\u001b[0;32m     71\u001b[0m \u001b[38;5;124;03m    \"\"\"\u001b[39;00m\n\u001b[1;32m---> 73\u001b[0m     \u001b[38;5;28;01mreturn\u001b[39;00m request(\u001b[38;5;124m\"\u001b[39m\u001b[38;5;124mget\u001b[39m\u001b[38;5;124m\"\u001b[39m, url, params\u001b[38;5;241m=\u001b[39mparams, \u001b[38;5;241m*\u001b[39m\u001b[38;5;241m*\u001b[39mkwargs)\n",
      "File \u001b[1;32m~\\Desktop\\time-series-da-main\\venv\\lib\\site-packages\\requests\\api.py:59\u001b[0m, in \u001b[0;36mrequest\u001b[1;34m(method, url, **kwargs)\u001b[0m\n\u001b[0;32m     55\u001b[0m \u001b[38;5;66;03m# By using the 'with' statement we are sure the session is closed, thus we\u001b[39;00m\n\u001b[0;32m     56\u001b[0m \u001b[38;5;66;03m# avoid leaving sockets open which can trigger a ResourceWarning in some\u001b[39;00m\n\u001b[0;32m     57\u001b[0m \u001b[38;5;66;03m# cases, and look like a memory leak in others.\u001b[39;00m\n\u001b[0;32m     58\u001b[0m \u001b[38;5;28;01mwith\u001b[39;00m sessions\u001b[38;5;241m.\u001b[39mSession() \u001b[38;5;28;01mas\u001b[39;00m session:\n\u001b[1;32m---> 59\u001b[0m     \u001b[38;5;28;01mreturn\u001b[39;00m session\u001b[38;5;241m.\u001b[39mrequest(method\u001b[38;5;241m=\u001b[39mmethod, url\u001b[38;5;241m=\u001b[39murl, \u001b[38;5;241m*\u001b[39m\u001b[38;5;241m*\u001b[39mkwargs)\n",
      "File \u001b[1;32m~\\Desktop\\time-series-da-main\\venv\\lib\\site-packages\\requests\\sessions.py:587\u001b[0m, in \u001b[0;36mSession.request\u001b[1;34m(self, method, url, params, data, headers, cookies, files, auth, timeout, allow_redirects, proxies, hooks, stream, verify, cert, json)\u001b[0m\n\u001b[0;32m    582\u001b[0m send_kwargs \u001b[38;5;241m=\u001b[39m {\n\u001b[0;32m    583\u001b[0m     \u001b[38;5;124m\"\u001b[39m\u001b[38;5;124mtimeout\u001b[39m\u001b[38;5;124m\"\u001b[39m: timeout,\n\u001b[0;32m    584\u001b[0m     \u001b[38;5;124m\"\u001b[39m\u001b[38;5;124mallow_redirects\u001b[39m\u001b[38;5;124m\"\u001b[39m: allow_redirects,\n\u001b[0;32m    585\u001b[0m }\n\u001b[0;32m    586\u001b[0m send_kwargs\u001b[38;5;241m.\u001b[39mupdate(settings)\n\u001b[1;32m--> 587\u001b[0m resp \u001b[38;5;241m=\u001b[39m \u001b[38;5;28mself\u001b[39m\u001b[38;5;241m.\u001b[39msend(prep, \u001b[38;5;241m*\u001b[39m\u001b[38;5;241m*\u001b[39msend_kwargs)\n\u001b[0;32m    589\u001b[0m \u001b[38;5;28;01mreturn\u001b[39;00m resp\n",
      "File \u001b[1;32m~\\Desktop\\time-series-da-main\\venv\\lib\\site-packages\\requests\\sessions.py:701\u001b[0m, in \u001b[0;36mSession.send\u001b[1;34m(self, request, **kwargs)\u001b[0m\n\u001b[0;32m    698\u001b[0m start \u001b[38;5;241m=\u001b[39m preferred_clock()\n\u001b[0;32m    700\u001b[0m \u001b[38;5;66;03m# Send the request\u001b[39;00m\n\u001b[1;32m--> 701\u001b[0m r \u001b[38;5;241m=\u001b[39m adapter\u001b[38;5;241m.\u001b[39msend(request, \u001b[38;5;241m*\u001b[39m\u001b[38;5;241m*\u001b[39mkwargs)\n\u001b[0;32m    703\u001b[0m \u001b[38;5;66;03m# Total elapsed time of the request (approximately)\u001b[39;00m\n\u001b[0;32m    704\u001b[0m elapsed \u001b[38;5;241m=\u001b[39m preferred_clock() \u001b[38;5;241m-\u001b[39m start\n",
      "File \u001b[1;32m~\\Desktop\\time-series-da-main\\venv\\lib\\site-packages\\requests\\adapters.py:486\u001b[0m, in \u001b[0;36mHTTPAdapter.send\u001b[1;34m(self, request, stream, timeout, verify, cert, proxies)\u001b[0m\n\u001b[0;32m    483\u001b[0m     timeout \u001b[38;5;241m=\u001b[39m TimeoutSauce(connect\u001b[38;5;241m=\u001b[39mtimeout, read\u001b[38;5;241m=\u001b[39mtimeout)\n\u001b[0;32m    485\u001b[0m \u001b[38;5;28;01mtry\u001b[39;00m:\n\u001b[1;32m--> 486\u001b[0m     resp \u001b[38;5;241m=\u001b[39m \u001b[43mconn\u001b[49m\u001b[38;5;241;43m.\u001b[39;49m\u001b[43murlopen\u001b[49m\u001b[43m(\u001b[49m\n\u001b[0;32m    487\u001b[0m \u001b[43m        \u001b[49m\u001b[43mmethod\u001b[49m\u001b[38;5;241;43m=\u001b[39;49m\u001b[43mrequest\u001b[49m\u001b[38;5;241;43m.\u001b[39;49m\u001b[43mmethod\u001b[49m\u001b[43m,\u001b[49m\n\u001b[0;32m    488\u001b[0m \u001b[43m        \u001b[49m\u001b[43murl\u001b[49m\u001b[38;5;241;43m=\u001b[39;49m\u001b[43murl\u001b[49m\u001b[43m,\u001b[49m\n\u001b[0;32m    489\u001b[0m \u001b[43m        \u001b[49m\u001b[43mbody\u001b[49m\u001b[38;5;241;43m=\u001b[39;49m\u001b[43mrequest\u001b[49m\u001b[38;5;241;43m.\u001b[39;49m\u001b[43mbody\u001b[49m\u001b[43m,\u001b[49m\n\u001b[0;32m    490\u001b[0m \u001b[43m        \u001b[49m\u001b[43mheaders\u001b[49m\u001b[38;5;241;43m=\u001b[39;49m\u001b[43mrequest\u001b[49m\u001b[38;5;241;43m.\u001b[39;49m\u001b[43mheaders\u001b[49m\u001b[43m,\u001b[49m\n\u001b[0;32m    491\u001b[0m \u001b[43m        \u001b[49m\u001b[43mredirect\u001b[49m\u001b[38;5;241;43m=\u001b[39;49m\u001b[38;5;28;43;01mFalse\u001b[39;49;00m\u001b[43m,\u001b[49m\n\u001b[0;32m    492\u001b[0m \u001b[43m        \u001b[49m\u001b[43massert_same_host\u001b[49m\u001b[38;5;241;43m=\u001b[39;49m\u001b[38;5;28;43;01mFalse\u001b[39;49;00m\u001b[43m,\u001b[49m\n\u001b[0;32m    493\u001b[0m \u001b[43m        \u001b[49m\u001b[43mpreload_content\u001b[49m\u001b[38;5;241;43m=\u001b[39;49m\u001b[38;5;28;43;01mFalse\u001b[39;49;00m\u001b[43m,\u001b[49m\n\u001b[0;32m    494\u001b[0m \u001b[43m        \u001b[49m\u001b[43mdecode_content\u001b[49m\u001b[38;5;241;43m=\u001b[39;49m\u001b[38;5;28;43;01mFalse\u001b[39;49;00m\u001b[43m,\u001b[49m\n\u001b[0;32m    495\u001b[0m \u001b[43m        \u001b[49m\u001b[43mretries\u001b[49m\u001b[38;5;241;43m=\u001b[39;49m\u001b[38;5;28;43mself\u001b[39;49m\u001b[38;5;241;43m.\u001b[39;49m\u001b[43mmax_retries\u001b[49m\u001b[43m,\u001b[49m\n\u001b[0;32m    496\u001b[0m \u001b[43m        \u001b[49m\u001b[43mtimeout\u001b[49m\u001b[38;5;241;43m=\u001b[39;49m\u001b[43mtimeout\u001b[49m\u001b[43m,\u001b[49m\n\u001b[0;32m    497\u001b[0m \u001b[43m        \u001b[49m\u001b[43mchunked\u001b[49m\u001b[38;5;241;43m=\u001b[39;49m\u001b[43mchunked\u001b[49m\u001b[43m,\u001b[49m\n\u001b[0;32m    498\u001b[0m \u001b[43m    \u001b[49m\u001b[43m)\u001b[49m\n\u001b[0;32m    500\u001b[0m \u001b[38;5;28;01mexcept\u001b[39;00m (ProtocolError, \u001b[38;5;167;01mOSError\u001b[39;00m) \u001b[38;5;28;01mas\u001b[39;00m err:\n\u001b[0;32m    501\u001b[0m     \u001b[38;5;28;01mraise\u001b[39;00m \u001b[38;5;167;01mConnectionError\u001b[39;00m(err, request\u001b[38;5;241m=\u001b[39mrequest)\n",
      "File \u001b[1;32m~\\Desktop\\time-series-da-main\\venv\\lib\\site-packages\\urllib3\\connectionpool.py:790\u001b[0m, in \u001b[0;36mHTTPConnectionPool.urlopen\u001b[1;34m(self, method, url, body, headers, retries, redirect, assert_same_host, timeout, pool_timeout, release_conn, chunked, body_pos, preload_content, decode_content, **response_kw)\u001b[0m\n\u001b[0;32m    787\u001b[0m response_conn \u001b[38;5;241m=\u001b[39m conn \u001b[38;5;28;01mif\u001b[39;00m \u001b[38;5;129;01mnot\u001b[39;00m release_conn \u001b[38;5;28;01melse\u001b[39;00m \u001b[38;5;28;01mNone\u001b[39;00m\n\u001b[0;32m    789\u001b[0m \u001b[38;5;66;03m# Make the request on the HTTPConnection object\u001b[39;00m\n\u001b[1;32m--> 790\u001b[0m response \u001b[38;5;241m=\u001b[39m \u001b[38;5;28mself\u001b[39m\u001b[38;5;241m.\u001b[39m_make_request(\n\u001b[0;32m    791\u001b[0m     conn,\n\u001b[0;32m    792\u001b[0m     method,\n\u001b[0;32m    793\u001b[0m     url,\n\u001b[0;32m    794\u001b[0m     timeout\u001b[38;5;241m=\u001b[39mtimeout_obj,\n\u001b[0;32m    795\u001b[0m     body\u001b[38;5;241m=\u001b[39mbody,\n\u001b[0;32m    796\u001b[0m     headers\u001b[38;5;241m=\u001b[39mheaders,\n\u001b[0;32m    797\u001b[0m     chunked\u001b[38;5;241m=\u001b[39mchunked,\n\u001b[0;32m    798\u001b[0m     retries\u001b[38;5;241m=\u001b[39mretries,\n\u001b[0;32m    799\u001b[0m     response_conn\u001b[38;5;241m=\u001b[39mresponse_conn,\n\u001b[0;32m    800\u001b[0m     preload_content\u001b[38;5;241m=\u001b[39mpreload_content,\n\u001b[0;32m    801\u001b[0m     decode_content\u001b[38;5;241m=\u001b[39mdecode_content,\n\u001b[0;32m    802\u001b[0m     \u001b[38;5;241m*\u001b[39m\u001b[38;5;241m*\u001b[39mresponse_kw,\n\u001b[0;32m    803\u001b[0m )\n\u001b[0;32m    805\u001b[0m \u001b[38;5;66;03m# Everything went great!\u001b[39;00m\n\u001b[0;32m    806\u001b[0m clean_exit \u001b[38;5;241m=\u001b[39m \u001b[38;5;28;01mTrue\u001b[39;00m\n",
      "File \u001b[1;32m~\\Desktop\\time-series-da-main\\venv\\lib\\site-packages\\urllib3\\connectionpool.py:467\u001b[0m, in \u001b[0;36mHTTPConnectionPool._make_request\u001b[1;34m(self, conn, method, url, body, headers, retries, timeout, chunked, response_conn, preload_content, decode_content, enforce_content_length)\u001b[0m\n\u001b[0;32m    464\u001b[0m \u001b[38;5;28;01mtry\u001b[39;00m:\n\u001b[0;32m    465\u001b[0m     \u001b[38;5;66;03m# Trigger any extra validation we need to do.\u001b[39;00m\n\u001b[0;32m    466\u001b[0m     \u001b[38;5;28;01mtry\u001b[39;00m:\n\u001b[1;32m--> 467\u001b[0m         \u001b[38;5;28;43mself\u001b[39;49m\u001b[38;5;241;43m.\u001b[39;49m\u001b[43m_validate_conn\u001b[49m\u001b[43m(\u001b[49m\u001b[43mconn\u001b[49m\u001b[43m)\u001b[49m\n\u001b[0;32m    468\u001b[0m     \u001b[38;5;28;01mexcept\u001b[39;00m (SocketTimeout, BaseSSLError) \u001b[38;5;28;01mas\u001b[39;00m e:\n\u001b[0;32m    469\u001b[0m         \u001b[38;5;28mself\u001b[39m\u001b[38;5;241m.\u001b[39m_raise_timeout(err\u001b[38;5;241m=\u001b[39me, url\u001b[38;5;241m=\u001b[39murl, timeout_value\u001b[38;5;241m=\u001b[39mconn\u001b[38;5;241m.\u001b[39mtimeout)\n",
      "File \u001b[1;32m~\\Desktop\\time-series-da-main\\venv\\lib\\site-packages\\urllib3\\connectionpool.py:1092\u001b[0m, in \u001b[0;36mHTTPSConnectionPool._validate_conn\u001b[1;34m(self, conn)\u001b[0m\n\u001b[0;32m   1090\u001b[0m \u001b[38;5;66;03m# Force connect early to allow us to validate the connection.\u001b[39;00m\n\u001b[0;32m   1091\u001b[0m \u001b[38;5;28;01mif\u001b[39;00m conn\u001b[38;5;241m.\u001b[39mis_closed:\n\u001b[1;32m-> 1092\u001b[0m     \u001b[43mconn\u001b[49m\u001b[38;5;241;43m.\u001b[39;49m\u001b[43mconnect\u001b[49m\u001b[43m(\u001b[49m\u001b[43m)\u001b[49m\n\u001b[0;32m   1094\u001b[0m \u001b[38;5;28;01mif\u001b[39;00m \u001b[38;5;129;01mnot\u001b[39;00m conn\u001b[38;5;241m.\u001b[39mis_verified:\n\u001b[0;32m   1095\u001b[0m     warnings\u001b[38;5;241m.\u001b[39mwarn(\n\u001b[0;32m   1096\u001b[0m         (\n\u001b[0;32m   1097\u001b[0m             \u001b[38;5;124mf\u001b[39m\u001b[38;5;124m\"\u001b[39m\u001b[38;5;124mUnverified HTTPS request is being made to host \u001b[39m\u001b[38;5;124m'\u001b[39m\u001b[38;5;132;01m{\u001b[39;00mconn\u001b[38;5;241m.\u001b[39mhost\u001b[38;5;132;01m}\u001b[39;00m\u001b[38;5;124m'\u001b[39m\u001b[38;5;124m. \u001b[39m\u001b[38;5;124m\"\u001b[39m\n\u001b[1;32m   (...)\u001b[0m\n\u001b[0;32m   1102\u001b[0m         InsecureRequestWarning,\n\u001b[0;32m   1103\u001b[0m     )\n",
      "File \u001b[1;32m~\\Desktop\\time-series-da-main\\venv\\lib\\site-packages\\urllib3\\connection.py:604\u001b[0m, in \u001b[0;36mHTTPSConnection.connect\u001b[1;34m(self)\u001b[0m\n\u001b[0;32m    602\u001b[0m \u001b[38;5;28;01mdef\u001b[39;00m \u001b[38;5;21mconnect\u001b[39m(\u001b[38;5;28mself\u001b[39m) \u001b[38;5;241m-\u001b[39m\u001b[38;5;241m>\u001b[39m \u001b[38;5;28;01mNone\u001b[39;00m:\n\u001b[0;32m    603\u001b[0m     sock: socket\u001b[38;5;241m.\u001b[39msocket \u001b[38;5;241m|\u001b[39m ssl\u001b[38;5;241m.\u001b[39mSSLSocket\n\u001b[1;32m--> 604\u001b[0m     \u001b[38;5;28mself\u001b[39m\u001b[38;5;241m.\u001b[39msock \u001b[38;5;241m=\u001b[39m sock \u001b[38;5;241m=\u001b[39m \u001b[38;5;28;43mself\u001b[39;49m\u001b[38;5;241;43m.\u001b[39;49m\u001b[43m_new_conn\u001b[49m\u001b[43m(\u001b[49m\u001b[43m)\u001b[49m\n\u001b[0;32m    605\u001b[0m     server_hostname: \u001b[38;5;28mstr\u001b[39m \u001b[38;5;241m=\u001b[39m \u001b[38;5;28mself\u001b[39m\u001b[38;5;241m.\u001b[39mhost\n\u001b[0;32m    606\u001b[0m     tls_in_tls \u001b[38;5;241m=\u001b[39m \u001b[38;5;28;01mFalse\u001b[39;00m\n",
      "File \u001b[1;32m~\\Desktop\\time-series-da-main\\venv\\lib\\site-packages\\urllib3\\connection.py:200\u001b[0m, in \u001b[0;36mHTTPConnection._new_conn\u001b[1;34m(self)\u001b[0m\n\u001b[0;32m    195\u001b[0m \u001b[38;5;250m\u001b[39m\u001b[38;5;124;03m\"\"\"Establish a socket connection and set nodelay settings on it.\u001b[39;00m\n\u001b[0;32m    196\u001b[0m \n\u001b[0;32m    197\u001b[0m \u001b[38;5;124;03m:return: New socket connection.\u001b[39;00m\n\u001b[0;32m    198\u001b[0m \u001b[38;5;124;03m\"\"\"\u001b[39;00m\n\u001b[0;32m    199\u001b[0m \u001b[38;5;28;01mtry\u001b[39;00m:\n\u001b[1;32m--> 200\u001b[0m     sock \u001b[38;5;241m=\u001b[39m \u001b[43mconnection\u001b[49m\u001b[38;5;241;43m.\u001b[39;49m\u001b[43mcreate_connection\u001b[49m\u001b[43m(\u001b[49m\n\u001b[0;32m    201\u001b[0m \u001b[43m        \u001b[49m\u001b[43m(\u001b[49m\u001b[38;5;28;43mself\u001b[39;49m\u001b[38;5;241;43m.\u001b[39;49m\u001b[43m_dns_host\u001b[49m\u001b[43m,\u001b[49m\u001b[43m \u001b[49m\u001b[38;5;28;43mself\u001b[39;49m\u001b[38;5;241;43m.\u001b[39;49m\u001b[43mport\u001b[49m\u001b[43m)\u001b[49m\u001b[43m,\u001b[49m\n\u001b[0;32m    202\u001b[0m \u001b[43m        \u001b[49m\u001b[38;5;28;43mself\u001b[39;49m\u001b[38;5;241;43m.\u001b[39;49m\u001b[43mtimeout\u001b[49m\u001b[43m,\u001b[49m\n\u001b[0;32m    203\u001b[0m \u001b[43m        \u001b[49m\u001b[43msource_address\u001b[49m\u001b[38;5;241;43m=\u001b[39;49m\u001b[38;5;28;43mself\u001b[39;49m\u001b[38;5;241;43m.\u001b[39;49m\u001b[43msource_address\u001b[49m\u001b[43m,\u001b[49m\n\u001b[0;32m    204\u001b[0m \u001b[43m        \u001b[49m\u001b[43msocket_options\u001b[49m\u001b[38;5;241;43m=\u001b[39;49m\u001b[38;5;28;43mself\u001b[39;49m\u001b[38;5;241;43m.\u001b[39;49m\u001b[43msocket_options\u001b[49m\u001b[43m,\u001b[49m\n\u001b[0;32m    205\u001b[0m \u001b[43m    \u001b[49m\u001b[43m)\u001b[49m\n\u001b[0;32m    206\u001b[0m \u001b[38;5;28;01mexcept\u001b[39;00m socket\u001b[38;5;241m.\u001b[39mgaierror \u001b[38;5;28;01mas\u001b[39;00m e:\n\u001b[0;32m    207\u001b[0m     \u001b[38;5;28;01mraise\u001b[39;00m NameResolutionError(\u001b[38;5;28mself\u001b[39m\u001b[38;5;241m.\u001b[39mhost, \u001b[38;5;28mself\u001b[39m, e) \u001b[38;5;28;01mfrom\u001b[39;00m \u001b[38;5;21;01me\u001b[39;00m\n",
      "File \u001b[1;32m~\\Desktop\\time-series-da-main\\venv\\lib\\site-packages\\urllib3\\util\\connection.py:73\u001b[0m, in \u001b[0;36mcreate_connection\u001b[1;34m(address, timeout, source_address, socket_options)\u001b[0m\n\u001b[0;32m     71\u001b[0m \u001b[38;5;28;01mif\u001b[39;00m source_address:\n\u001b[0;32m     72\u001b[0m     sock\u001b[38;5;241m.\u001b[39mbind(source_address)\n\u001b[1;32m---> 73\u001b[0m \u001b[43msock\u001b[49m\u001b[38;5;241;43m.\u001b[39;49m\u001b[43mconnect\u001b[49m\u001b[43m(\u001b[49m\u001b[43msa\u001b[49m\u001b[43m)\u001b[49m\n\u001b[0;32m     74\u001b[0m \u001b[38;5;66;03m# Break explicitly a reference cycle\u001b[39;00m\n\u001b[0;32m     75\u001b[0m err \u001b[38;5;241m=\u001b[39m \u001b[38;5;28;01mNone\u001b[39;00m\n",
      "\u001b[1;31mKeyboardInterrupt\u001b[0m: "
     ]
    }
   ],
   "source": [
    "import pyupbit\n",
    "\n",
    "df = pyupbit.get_ohlcv(\"KRW-BTC\", interval=\"minute1\", count = 300000)\n",
    "print(df)"
   ]
  },
  {
   "cell_type": "code",
   "execution_count": 2,
   "id": "10ebcb05-e3de-46fb-9056-83b679eaf00c",
   "metadata": {
    "tags": []
   },
   "outputs": [
    {
     "name": "stdout",
     "output_type": "stream",
     "text": [
      "   candle_date_time_kst  opening_price  high_price   low_price  trade_price   \n",
      "0   2023-05-30T19:15:00     37213000.0  37213000.0  37200000.0   37203000.0  \\\n",
      "1   2023-05-30T19:16:00     37203000.0  37215000.0  37200000.0   37215000.0   \n",
      "2   2023-05-30T19:17:00     37216000.0  37238000.0  37215000.0   37238000.0   \n",
      "3   2023-05-30T19:18:00     37237000.0  37248000.0  37235000.0   37247000.0   \n",
      "4   2023-05-30T19:19:00     37247000.0  37253000.0  37247000.0   37251000.0   \n",
      "..                  ...            ...         ...         ...          ...   \n",
      "25  2023-06-01T17:13:00     35962000.0  35970000.0  35962000.0   35962000.0   \n",
      "26  2023-06-01T17:14:00     35964000.0  35977000.0  35963000.0   35964000.0   \n",
      "27  2023-06-01T17:15:00     35977000.0  35978000.0  35965000.0   35968000.0   \n",
      "28  2023-06-01T17:16:00     35966000.0  35978000.0  35964000.0   35964000.0   \n",
      "29  2023-06-01T17:17:00     35963000.0  35980000.0  35962000.0   35963000.0   \n",
      "\n",
      "    candle_acc_trade_price  candle_acc_trade_volume  \n",
      "0             1.004070e+08                 2.698993  \n",
      "1             4.257396e+07                 1.144132  \n",
      "2             1.049734e+08                 2.820155  \n",
      "3             8.637001e+07                 2.319439  \n",
      "4             8.504999e+07                 2.283148  \n",
      "..                     ...                      ...  \n",
      "25            1.617052e+07                 0.449647  \n",
      "26            2.396888e+07                 0.666422  \n",
      "27            4.207990e+07                 1.169761  \n",
      "28            3.266310e+07                 0.908185  \n",
      "29            3.572712e+07                 0.993370  \n",
      "\n",
      "[1039280 rows x 7 columns]\n"
     ]
    }
   ],
   "source": [
    "import tensorflow as tf\n",
    "import pandas as pd\n",
    "import numpy as np\n",
    "import matplotlib.pyplot as plt\n",
    "import logging\n",
    "import datetime\n",
    "from sklearn.preprocessing import MinMaxScaler\n",
    "from sklearn.model_selection import train_test_split\n",
    "from keras.models import Sequential\n",
    "from keras.layers import Conv1D, MaxPooling1D, LSTM, Dense, Flatten, Dropout, Reshape\n",
    "\n",
    "data = pd.read_csv('../data/data.csv')\n",
    "\n",
    "# 기존 CSV 파일 읽어오기\n",
    "existing_data = pd.read_csv('../data/bitcoin2023.csv')\n",
    "# 신규 데이터\n",
    "new_data = pd.DataFrame(data)\n",
    "\n",
    "#기존 데이터를 신규데이터랑 합치기\n",
    "marged_data = pd.concat([existing_data, new_data])\n",
    "\n",
    "# 데이터 프레임으로 변환\n",
    "df = pd.DataFrame(marged_data)\n",
    "\n",
    "print(df)"
   ]
  },
  {
   "cell_type": "code",
   "execution_count": 3,
   "id": "3fff0b13-6d6d-4af8-bc83-90c7ca5ff67e",
   "metadata": {
    "tags": []
   },
   "outputs": [
    {
     "name": "stdout",
     "output_type": "stream",
     "text": [
      "Epoch 1/100\n",
      "25982/25982 [==============================] - 328s 13ms/step - loss: 1.8469e-04 - val_loss: 2.2698e-05\n",
      "Epoch 2/100\n",
      "25982/25982 [==============================] - 326s 13ms/step - loss: 2.0783e-05 - val_loss: 1.9680e-05\n",
      "Epoch 3/100\n",
      "25982/25982 [==============================] - 322s 12ms/step - loss: 1.6397e-05 - val_loss: 1.2977e-05\n",
      "Epoch 4/100\n",
      "25982/25982 [==============================] - 321s 12ms/step - loss: 1.4706e-05 - val_loss: 1.2869e-05\n",
      "Epoch 5/100\n",
      "25982/25982 [==============================] - 322s 12ms/step - loss: 1.3310e-05 - val_loss: 1.2741e-05\n",
      "Epoch 6/100\n",
      "25982/25982 [==============================] - 325s 13ms/step - loss: 1.2289e-05 - val_loss: 1.2396e-05\n",
      "Epoch 7/100\n",
      "25982/25982 [==============================] - 334s 13ms/step - loss: 1.1317e-05 - val_loss: 1.0426e-05\n",
      "Epoch 8/100\n",
      "25982/25982 [==============================] - 326s 13ms/step - loss: 1.0644e-05 - val_loss: 1.4576e-05\n",
      "Epoch 9/100\n",
      "25982/25982 [==============================] - 315s 12ms/step - loss: 1.0025e-05 - val_loss: 1.0159e-05\n",
      "Epoch 10/100\n",
      "25982/25982 [==============================] - 316s 12ms/step - loss: 9.5883e-06 - val_loss: 1.6556e-05\n",
      "Epoch 11/100\n",
      "25982/25982 [==============================] - 330s 13ms/step - loss: 9.2131e-06 - val_loss: 1.3262e-05\n",
      "Epoch 12/100\n",
      "25982/25982 [==============================] - 330s 13ms/step - loss: 8.8580e-06 - val_loss: 1.3582e-05\n",
      "Epoch 13/100\n",
      "25982/25982 [==============================] - 369s 14ms/step - loss: 8.4568e-06 - val_loss: 1.2898e-05\n",
      "Epoch 14/100\n",
      "25982/25982 [==============================] - 403s 16ms/step - loss: 7.9561e-06 - val_loss: 4.0455e-05\n",
      "Epoch 15/100\n",
      "25982/25982 [==============================] - 402s 15ms/step - loss: 7.3396e-06 - val_loss: 1.1428e-04\n",
      "Epoch 16/100\n",
      "25982/25982 [==============================] - 403s 16ms/step - loss: 6.5459e-06 - val_loss: 3.0828e-04\n",
      "Epoch 17/100\n",
      "25982/25982 [==============================] - 401s 15ms/step - loss: 5.7904e-06 - val_loss: 4.6891e-04\n",
      "Epoch 18/100\n",
      "25982/25982 [==============================] - 404s 16ms/step - loss: 5.2250e-06 - val_loss: 6.2799e-04\n",
      "Epoch 19/100\n",
      "25982/25982 [==============================] - 404s 16ms/step - loss: 4.6778e-06 - val_loss: 7.1017e-04\n",
      "Epoch 20/100\n",
      "25982/25982 [==============================] - 406s 16ms/step - loss: 4.2650e-06 - val_loss: 8.2227e-04\n",
      "Epoch 21/100\n",
      "25982/25982 [==============================] - 411s 16ms/step - loss: 3.7955e-06 - val_loss: 8.9879e-04\n",
      "Epoch 22/100\n",
      "25982/25982 [==============================] - 405s 16ms/step - loss: 3.4629e-06 - val_loss: 9.3602e-04\n",
      "Epoch 23/100\n",
      "25982/25982 [==============================] - 406s 16ms/step - loss: 3.2173e-06 - val_loss: 9.9733e-04\n",
      "Epoch 24/100\n",
      "25982/25982 [==============================] - 404s 16ms/step - loss: 2.9995e-06 - val_loss: 0.0013\n",
      "Epoch 25/100\n",
      "25982/25982 [==============================] - 405s 16ms/step - loss: 2.7383e-06 - val_loss: 0.0012\n",
      "Epoch 26/100\n",
      "25982/25982 [==============================] - 405s 16ms/step - loss: 2.5562e-06 - val_loss: 0.0012\n",
      "Epoch 27/100\n",
      "25982/25982 [==============================] - 404s 16ms/step - loss: 2.4212e-06 - val_loss: 0.0013\n",
      "Epoch 28/100\n",
      "25982/25982 [==============================] - 410s 16ms/step - loss: 2.2802e-06 - val_loss: 0.0015\n",
      "Epoch 29/100\n",
      "25982/25982 [==============================] - 405s 16ms/step - loss: 2.1798e-06 - val_loss: 0.0015\n",
      "Epoch 30/100\n",
      "25982/25982 [==============================] - 406s 16ms/step - loss: 2.0454e-06 - val_loss: 0.0014\n",
      "Epoch 31/100\n",
      "25982/25982 [==============================] - 401s 15ms/step - loss: 1.9436e-06 - val_loss: 0.0015\n",
      "Epoch 32/100\n",
      "25982/25982 [==============================] - 404s 16ms/step - loss: 1.8688e-06 - val_loss: 0.0014\n",
      "Epoch 33/100\n",
      "25982/25982 [==============================] - 415s 16ms/step - loss: 1.8074e-06 - val_loss: 0.0014\n",
      "Epoch 34/100\n",
      "25982/25982 [==============================] - 409s 16ms/step - loss: 1.7548e-06 - val_loss: 0.0015\n",
      "Epoch 35/100\n",
      "25982/25982 [==============================] - 402s 15ms/step - loss: 1.6895e-06 - val_loss: 0.0014\n",
      "Epoch 36/100\n",
      "25982/25982 [==============================] - 400s 15ms/step - loss: 1.6680e-06 - val_loss: 0.0014\n",
      "Epoch 37/100\n",
      "25982/25982 [==============================] - 401s 15ms/step - loss: 1.6640e-06 - val_loss: 0.0014\n",
      "Epoch 38/100\n",
      "25982/25982 [==============================] - 410s 16ms/step - loss: 1.6553e-06 - val_loss: 0.0015\n",
      "Epoch 39/100\n",
      "25982/25982 [==============================] - 403s 16ms/step - loss: 1.5892e-06 - val_loss: 0.0016\n",
      "Epoch 40/100\n",
      "25982/25982 [==============================] - 414s 16ms/step - loss: 1.5473e-06 - val_loss: 0.0016\n",
      "Epoch 41/100\n",
      "25982/25982 [==============================] - 405s 16ms/step - loss: 1.5652e-06 - val_loss: 0.0015\n",
      "Epoch 42/100\n",
      "25982/25982 [==============================] - 404s 16ms/step - loss: 1.4839e-06 - val_loss: 0.0015\n",
      "Epoch 43/100\n",
      "25982/25982 [==============================] - 403s 16ms/step - loss: 1.4691e-06 - val_loss: 0.0014\n",
      "Epoch 44/100\n",
      "25982/25982 [==============================] - 406s 16ms/step - loss: 1.4486e-06 - val_loss: 0.0014\n",
      "Epoch 45/100\n",
      "25982/25982 [==============================] - 409s 16ms/step - loss: 1.4475e-06 - val_loss: 0.0015\n",
      "Epoch 46/100\n",
      "25982/25982 [==============================] - 411s 16ms/step - loss: 1.4148e-06 - val_loss: 0.0016\n",
      "Epoch 47/100\n",
      "25982/25982 [==============================] - 415s 16ms/step - loss: 1.4004e-06 - val_loss: 0.0015\n",
      "Epoch 48/100\n",
      "25982/25982 [==============================] - 412s 16ms/step - loss: 1.3727e-06 - val_loss: 0.0015\n",
      "Epoch 49/100\n",
      "25982/25982 [==============================] - 414s 16ms/step - loss: 1.3589e-06 - val_loss: 0.0015\n",
      "Epoch 50/100\n",
      "25982/25982 [==============================] - 411s 16ms/step - loss: 1.3577e-06 - val_loss: 0.0015\n",
      "Epoch 51/100\n",
      "25982/25982 [==============================] - 411s 16ms/step - loss: 1.3156e-06 - val_loss: 0.0014\n",
      "Epoch 52/100\n",
      "25982/25982 [==============================] - 412s 16ms/step - loss: 1.3019e-06 - val_loss: 0.0015\n",
      "Epoch 53/100\n",
      "25982/25982 [==============================] - 411s 16ms/step - loss: 1.3009e-06 - val_loss: 0.0015\n",
      "Epoch 54/100\n",
      "25982/25982 [==============================] - 411s 16ms/step - loss: 1.2799e-06 - val_loss: 0.0015\n",
      "Epoch 55/100\n",
      "25982/25982 [==============================] - 413s 16ms/step - loss: 1.2665e-06 - val_loss: 0.0014\n",
      "Epoch 56/100\n",
      "25982/25982 [==============================] - 422s 16ms/step - loss: 1.2651e-06 - val_loss: 0.0014\n",
      "Epoch 57/100\n",
      "25982/25982 [==============================] - 412s 16ms/step - loss: 1.2492e-06 - val_loss: 0.0015\n",
      "Epoch 58/100\n",
      "25982/25982 [==============================] - 414s 16ms/step - loss: 1.2200e-06 - val_loss: 0.0015\n",
      "Epoch 59/100\n",
      "25982/25982 [==============================] - 414s 16ms/step - loss: 1.2134e-06 - val_loss: 0.0015\n",
      "Epoch 60/100\n",
      "25982/25982 [==============================] - 415s 16ms/step - loss: 1.2125e-06 - val_loss: 0.0015\n",
      "Epoch 61/100\n",
      "25982/25982 [==============================] - 413s 16ms/step - loss: 1.2069e-06 - val_loss: 0.0014\n",
      "Epoch 62/100\n",
      "25982/25982 [==============================] - 415s 16ms/step - loss: 1.1908e-06 - val_loss: 0.0015\n",
      "Epoch 63/100\n",
      "25982/25982 [==============================] - 414s 16ms/step - loss: 1.1766e-06 - val_loss: 0.0016\n",
      "Epoch 64/100\n",
      "25982/25982 [==============================] - 416s 16ms/step - loss: 1.1773e-06 - val_loss: 0.0016\n",
      "Epoch 65/100\n",
      "25982/25982 [==============================] - 417s 16ms/step - loss: 1.1724e-06 - val_loss: 0.0015\n",
      "Epoch 66/100\n",
      "25982/25982 [==============================] - 420s 16ms/step - loss: 1.1723e-06 - val_loss: 0.0015\n",
      "Epoch 67/100\n",
      "25982/25982 [==============================] - 433s 17ms/step - loss: 1.1561e-06 - val_loss: 0.0016\n",
      "Epoch 68/100\n",
      "25982/25982 [==============================] - 422s 16ms/step - loss: 1.1522e-06 - val_loss: 0.0016\n",
      "Epoch 69/100\n",
      "25982/25982 [==============================] - 420s 16ms/step - loss: 1.1380e-06 - val_loss: 0.0015\n",
      "Epoch 70/100\n",
      "25982/25982 [==============================] - 422s 16ms/step - loss: 1.1434e-06 - val_loss: 0.0016\n",
      "Epoch 71/100\n",
      "25982/25982 [==============================] - 413s 16ms/step - loss: 1.1297e-06 - val_loss: 0.0015\n",
      "Epoch 72/100\n",
      "25982/25982 [==============================] - 409s 16ms/step - loss: 1.1225e-06 - val_loss: 0.0015\n",
      "Epoch 73/100\n",
      "25982/25982 [==============================] - 419s 16ms/step - loss: 1.1180e-06 - val_loss: 0.0015\n",
      "Epoch 74/100\n",
      "25982/25982 [==============================] - 412s 16ms/step - loss: 1.1186e-06 - val_loss: 0.0015\n",
      "Epoch 75/100\n",
      "25982/25982 [==============================] - 412s 16ms/step - loss: 1.1047e-06 - val_loss: 0.0016\n",
      "Epoch 76/100\n",
      "25982/25982 [==============================] - 418s 16ms/step - loss: 1.1158e-06 - val_loss: 0.0015\n",
      "Epoch 77/100\n",
      "25982/25982 [==============================] - 413s 16ms/step - loss: 1.1074e-06 - val_loss: 0.0015\n",
      "Epoch 78/100\n",
      "25982/25982 [==============================] - 412s 16ms/step - loss: 1.0992e-06 - val_loss: 0.0015\n",
      "Epoch 79/100\n",
      "25982/25982 [==============================] - 411s 16ms/step - loss: 1.0910e-06 - val_loss: 0.0015\n",
      "Epoch 80/100\n",
      "25982/25982 [==============================] - 411s 16ms/step - loss: 1.0997e-06 - val_loss: 0.0015\n",
      "Epoch 81/100\n",
      "25982/25982 [==============================] - 411s 16ms/step - loss: 1.0996e-06 - val_loss: 0.0016\n",
      "Epoch 82/100\n",
      "25982/25982 [==============================] - 412s 16ms/step - loss: 1.0918e-06 - val_loss: 0.0016\n",
      "Epoch 83/100\n",
      "25982/25982 [==============================] - 411s 16ms/step - loss: 1.0830e-06 - val_loss: 0.0014\n",
      "Epoch 84/100\n",
      "25982/25982 [==============================] - 337s 13ms/step - loss: 1.0890e-06 - val_loss: 0.0015\n",
      "Epoch 85/100\n",
      "25982/25982 [==============================] - 327s 13ms/step - loss: 1.0709e-06 - val_loss: 0.0015\n",
      "Epoch 86/100\n",
      "25982/25982 [==============================] - 327s 13ms/step - loss: 1.0897e-06 - val_loss: 0.0014\n",
      "Epoch 87/100\n",
      "25982/25982 [==============================] - 328s 13ms/step - loss: 1.0661e-06 - val_loss: 0.0014\n",
      "Epoch 88/100\n",
      "25982/25982 [==============================] - 328s 13ms/step - loss: 1.0720e-06 - val_loss: 0.0015\n",
      "Epoch 89/100\n",
      "25982/25982 [==============================] - 327s 13ms/step - loss: 1.0657e-06 - val_loss: 0.0015\n",
      "Epoch 90/100\n",
      "25982/25982 [==============================] - 326s 13ms/step - loss: 1.0605e-06 - val_loss: 0.0016\n",
      "Epoch 91/100\n",
      "25982/25982 [==============================] - 328s 13ms/step - loss: 1.0690e-06 - val_loss: 0.0015\n",
      "Epoch 92/100\n",
      "25982/25982 [==============================] - 332s 13ms/step - loss: 1.0585e-06 - val_loss: 0.0015\n",
      "Epoch 93/100\n",
      "25982/25982 [==============================] - 329s 13ms/step - loss: 1.0636e-06 - val_loss: 0.0015\n",
      "Epoch 94/100\n",
      "25982/25982 [==============================] - 328s 13ms/step - loss: 1.0613e-06 - val_loss: 0.0016\n",
      "Epoch 95/100\n",
      "25982/25982 [==============================] - 329s 13ms/step - loss: 1.0590e-06 - val_loss: 0.0015\n",
      "Epoch 96/100\n",
      "25982/25982 [==============================] - 328s 13ms/step - loss: 1.0607e-06 - val_loss: 0.0015\n",
      "Epoch 97/100\n",
      "25982/25982 [==============================] - 329s 13ms/step - loss: 1.0472e-06 - val_loss: 0.0015\n",
      "Epoch 98/100\n",
      "25982/25982 [==============================] - 328s 13ms/step - loss: 1.0473e-06 - val_loss: 0.0015\n",
      "Epoch 99/100\n",
      "25982/25982 [==============================] - 329s 13ms/step - loss: 1.0532e-06 - val_loss: 0.0015\n",
      "Epoch 100/100\n",
      "25982/25982 [==============================] - 330s 13ms/step - loss: 1.0504e-06 - val_loss: 0.0015\n",
      "32477/32477 [==============================] - 136s 4ms/step - loss: 8.6733e-04\n",
      "32477/32477 [==============================] - 133s 4ms/step\n"
     ]
    },
    {
     "name": "stderr",
     "output_type": "stream",
     "text": [
      "IOPub data rate exceeded.\n",
      "The Jupyter server will temporarily stop sending output\n",
      "to the client in order to avoid crashing it.\n",
      "To change this limit, set the config variable\n",
      "`--ServerApp.iopub_data_rate_limit`.\n",
      "\n",
      "Current values:\n",
      "ServerApp.iopub_data_rate_limit=1000000.0 (bytes/sec)\n",
      "ServerApp.rate_limit_window=3.0 (secs)\n",
      "\n"
     ]
    }
   ],
   "source": [
    "import tensorflow as tf\n",
    "import pandas as pd\n",
    "import numpy as np\n",
    "import matplotlib.pyplot as plt\n",
    "import logging\n",
    "import datetime\n",
    "from sklearn.preprocessing import MinMaxScaler\n",
    "from sklearn.model_selection import train_test_split\n",
    "from keras.models import Sequential\n",
    "from keras.layers import Conv1D, MaxPooling1D, LSTM, Dense, Flatten, Dropout, Reshape, GlobalMaxPooling1D\n",
    "from tensorflow.keras.optimizers import Adam\n",
    "\n",
    "# 데이터 전처리\n",
    "df['candle_date_time_kst'] = pd.to_datetime(df['candle_date_time_kst'], format='%Y-%m-%dT%H:%M:%S')\n",
    "df.set_index('candle_date_time_kst', inplace=True)\n",
    "\n",
    "# 데이터 정규화\n",
    "scaler = MinMaxScaler()\n",
    "scale_cols = ['trade_price']\n",
    "scaled = scaler.fit_transform(df[scale_cols])\n",
    "test_scaled = scaler.transform(df[scale_cols])\n",
    "\n",
    "# 데이터 분할\n",
    "train_size = int(len(df) * 0.8)\n",
    "train_data = df[:train_size]\n",
    "test_data = df[train_size:]\n",
    "\n",
    "# 시퀀스 길이\n",
    "sequence_length = 30\n",
    "\n",
    "# 데이터셋 생성\n",
    "def create_dataset(data, sequence_length):\n",
    "    X, y = [], []\n",
    "    for i in range(len(data) - sequence_length):\n",
    "        X.append(data[i:(i + sequence_length)])\n",
    "        y.append(data[i + sequence_length][0])\n",
    "    return np.array(X), np.array(y)\n",
    "\n",
    "X_train, y_train = create_dataset(scaled, sequence_length)\n",
    "X_test, y_test = create_dataset(test_scaled, sequence_length)\n",
    "\n",
    "# CNN 모델과 LSTM 모델\n",
    "\n",
    "model = Sequential()\n",
    "model.add(Conv1D(filters=32, kernel_size=3, activation='relu', input_shape=(sequence_length, 1)))\n",
    "model.add(Conv1D(filters=32, kernel_size=3, activation='relu'))\n",
    "model.add(Dropout(0.1))\n",
    "model.add(LSTM(units=64, activation='tanh', return_sequences=True))\n",
    "model.add(LSTM(units=64, activation='tanh'))\n",
    "model.add(Dense(units=128, activation='relu'))\n",
    "model.add(Dense(units=1))\n",
    "model.compile(optimizer=Adam(learning_rate=0.0001), loss='mean_squared_error')\n",
    "\n",
    "# 모델 학습하기\n",
    "history = model.fit(X_train, y_train, validation_split=0.2, epochs=100, batch_size=32)\n",
    "\n",
    "# 모델 평가하기\n",
    "score = model.evaluate(X_test, y_test)\n",
    "\n",
    "# 모델 예측하기\n",
    "y_pred = model.predict(X_train)\n",
    "\n",
    "def reverse_min_max_scaling(org_x, x):\n",
    "    org_x_np = np.asarray(org_x)\n",
    "    x_np = np.asarray(x)\n",
    "    return (x_np * (org_x_np.max() - org_x_np.min() + 1e-7)) + org_x_np.min()\n",
    "\n",
    "# 예측 결과 역변환\n",
    "y_pred_original = reverse_min_max_scaling(df['trade_price'], y_pred)\n",
    "\n",
    "# 미래 날짜 계산\n",
    "current_date = df.index[-1].to_pydatetime()\n",
    "future_dates = [current_date + datetime.timedelta(hours=i+1) for i in range(1)]\n",
    "\n",
    "# 예측 결과를 저장할 딕셔너리\n",
    "y_pred_dict = {\n",
    "    'trade_date': future_dates,\n",
    "    'prediction': y_pred_original.flatten().tolist()\n",
    "}\n",
    "\n",
    "print(y_pred_dict)\n"
   ]
  },
  {
   "cell_type": "code",
   "execution_count": 65,
   "id": "ec741c7e-89c1-410b-b157-3c500d88d361",
   "metadata": {
    "tags": []
   },
   "outputs": [
    {
     "name": "stdout",
     "output_type": "stream",
     "text": [
      "(1039273, 7, 6)\n",
      "(1039273, 7, 6)\n",
      "(1039273,)\n",
      "(1039273,)\n"
     ]
    }
   ],
   "source": [
    "model.save(\"../my_model.h5\")"
   ]
  },
  {
   "cell_type": "code",
   "execution_count": 78,
   "id": "6b90a4d2-dbe4-4265-8b1c-e8668118cbd2",
   "metadata": {
    "tags": []
   },
   "outputs": [
    {
     "name": "stdout",
     "output_type": "stream",
     "text": [
      "[[20322524.]\n",
      " [20322572.]\n",
      " [20322642.]\n",
      " ...\n",
      " [20357144.]\n",
      " [20357692.]\n",
      " [20357542.]]\n"
     ]
    }
   ],
   "source": [
    "print(y_pred_original)"
   ]
  },
  {
   "cell_type": "code",
   "execution_count": 1,
   "id": "9e3934cb-168c-40b1-bee8-a888da1a3c93",
   "metadata": {},
   "outputs": [],
   "source": [
    "#다음 뉴스 클로링\n",
    "import requests\n",
    "from bs4 import BeautifulSoup as bs"
   ]
  },
  {
   "cell_type": "code",
   "execution_count": 38,
   "id": "0b948ccb-2ef8-40a7-bce9-56d1cf6913c2",
   "metadata": {
    "tags": []
   },
   "outputs": [
    {
     "data": {
      "text/plain": [
       "<Response [200]>"
      ]
     },
     "execution_count": 38,
     "metadata": {},
     "output_type": "execute_result"
    }
   ],
   "source": [
    "url = \"https://search.daum.net/search?w=news&nil_search=btn&DA=PGD&enc=utf8&cluster=y&cluster_page=1&q=%EB%B9%84%ED%8A%B8%EC%BD%94%EC%9D%B8&p=1\"\n",
    "res = requests.get(url)\n",
    "res"
   ]
  },
  {
   "cell_type": "raw",
   "id": "daa10a89-fd13-4aea-8ae0-ecf6b8ed63d8",
   "metadata": {},
   "source": [
    "print(res.text)"
   ]
  },
  {
   "cell_type": "code",
   "execution_count": 49,
   "id": "6a1a3436-74ca-4b18-8b3c-4cc70ea732fb",
   "metadata": {
    "tags": []
   },
   "outputs": [
    {
     "name": "stdout",
     "output_type": "stream",
     "text": [
      "1\n",
      "('[속보] 우크라 대반격 시작 러시아 본토 진격… 뉴욕증시 비트코인 흔들', '10시간전')\n"
     ]
    }
   ],
   "source": [
    "list = []\n",
    "soup = bs(res.text, 'html')\n",
    "ul = soup.find(\"div\", {\"class\":\"wrap_cont\"})\n",
    "\n",
    "titles = ul.findAll(\"a\", {\"class\":\"tit_main fn_tit_u\"})\n",
    "days = ul.findAll(\"span\", {\"class\":\"f_nb\"})  # 클래스를 \"cont_info\"로 수정합니다.\n",
    "\n",
    "for title, day in zip(titles, days):\n",
    "    title_text = title.text.strip()\n",
    "    day_text = day.text.strip()\n",
    "    data = (title_text, day_text)\n",
    "    list.append(data)\n",
    "\n",
    "print(len(list))  # links의 개수 출력\n",
    "\n",
    "for item in list:\n",
    "    print(item)"
   ]
  },
  {
   "cell_type": "code",
   "execution_count": 52,
   "id": "7ffe47ae-beb2-4ee5-bd50-c0f4a2ca3ed1",
   "metadata": {
    "tags": []
   },
   "outputs": [
    {
     "name": "stdout",
     "output_type": "stream",
     "text": [
      "('[속보] 우크라 대반격 시작 러시아 본토 진격… 뉴욕증시 비트코인 흔들', '10시간전')\n"
     ]
    }
   ],
   "source": [
    "print(item)"
   ]
  },
  {
   "cell_type": "code",
   "execution_count": 56,
   "id": "23b78aab-95e0-4c7e-acea-859b33040f15",
   "metadata": {
    "tags": []
   },
   "outputs": [
    {
     "name": "stdout",
     "output_type": "stream",
     "text": [
      "데이터가 news_data.csv 파일에 저장되었습니다.\n"
     ]
    }
   ],
   "source": [
    "import csv\n",
    "\n",
    "list = []\n",
    "\n",
    "for page in range(1, 10000):  # 페이지 범위 설정 (1부터 5까지)\n",
    "    url = f\"https://search.daum.net/search?w=news&nil_search=btn&DA=PGD&enc=utf8&cluster=y&cluster_page=1&q=%EB%B9%84%ED%8A%B8%EC%BD%94%EC%9D%B8&p={page}\"\n",
    "    res = requests.get(url)\n",
    "    soup = bs(res.text, 'html')\n",
    "    uls = soup.findAll(\"ul\", {\"class\":\"list_news\"})\n",
    "\n",
    "    for ul in uls:\n",
    "        titles = ul.findAll(\"a\", {\"class\":\"tit_main fn_tit_u\"})\n",
    "        days = ul.findAll(\"span\", {\"class\":\"f_nb\"})\n",
    "\n",
    "        for title, day in zip(titles, days):\n",
    "            title_text = title.text.strip()\n",
    "            day_text = day.text.strip()\n",
    "            data = (title_text, day_text)\n",
    "            list.append(data)\n",
    "\n",
    "# CSV 파일에 저장\n",
    "filename = \"news_data.csv\"\n",
    "with open(filename, 'w', newline='', encoding='utf-8') as file:\n",
    "    writer = csv.writer(file)\n",
    "    writer.writerow([\"Title\", \"Day\"])  # 헤더 쓰기\n",
    "\n",
    "    for item in list:\n",
    "        writer.writerow(item)\n",
    "\n",
    "print(f\"데이터가 {filename} 파일에 저장되었습니다.\")\n"
   ]
  },
  {
   "cell_type": "code",
   "execution_count": 5,
   "id": "bd581436-4495-4e2c-9f4b-ca65ceabd185",
   "metadata": {
    "tags": []
   },
   "outputs": [
    {
     "data": {
      "text/plain": [
       "'[속보] 우크라 대반격 시작 러시아 본토 진격… 뉴욕증시 비트코인 흔들\\n비트코인, 3500만원대 깰까…FOMC 관망\\n비트코인, 2만7천달러대 횡보...\"FOMC 주목\" [코인브리핑]\\n2만7000달러에 갇힌 비트코인…美 CPI·FOMC 주목\\n[Weekly Coin] ‘부채한도’ 불안 털어냈지만...반등 힘든 비트코인\\n비트멕스 공동 창업자 \"비트코인, 올 하반기 강세장 시작 전망\"\\n[코인시황] 비트코인 상승 2만7255달러, 리플 4% 급등 이더리움↑1901달러\\n\"안전자산 아닌데…\" 금 뛸 때 덩달아 오른 비트코인\\n미증시 랠리에도 비트코인 0.5% 하락, 2만7000달러 붕괴\\n[크립토 브리핑] 3500만원대에 달라 붙은 비트코인...리플은 700원 돌파\\n김남국 후폭풍?...비트코인 거래대금 두달만에 반토막\\n美 부채한도 타결에 상승한 비트코인 \"2만8000달러 핵심 저항선\" [강민승의 트레이드나우]\\n美 하원 부채한도 합의 통과에 비트코인 ‘하락’…왜?\\n가상자산 첫 거래 기념하는 ‘비트코인 피자데이’\\n금 가격과 연동하는 \\'비트코인\\'…안전자산으로 격상?\\n러시아 정부 관리, 비트코인으로 2800만 달러 상당 뇌물 수수 혐의\\n이더리움 NFT→비트코인 NFT로 바꿔주는 표준 등장\\n미 디폴트 ‘피난처’ 찾는 투자자들…금, 미국채, 비트코인 그리고 일본 증시?\\n비트코인 3500만 원대 유지, 바이낸스 시장 점유율 43%로 하락 소식\\n비트코인 올해 70% 폭등...월가 전문가들이 내다본 하반기 방향성\\n비트코인 3500만 원대 유지, 미 블룸버그 분석가 가상화폐 약세 전망\\n美증시와 디커플링되는 비트코인…中주도 추세로 전환되나 [한경 코알라]\\n비트코인 가격 변동을 알고 싶으면 금 시세를 보라?\\n美 부채 한도 합의에 비트코인도 반짝 상승…상승분 일부 반납[코인브리핑]\\n비트코인, 챗GPT에 밀렸다\\n美부채협상 타결, 비트코인 한때 2만8000달러 돌파\\n비트코인 인스크립션 1000만 개 돌파\\n하반기, 비트코인 가격도 상승세 이어갈까\\n[코인시황] 비트코인 하락 2만6880달러, 리플↓ 이더리움 1866달러\\n비트코인, 디폴트 우려에 소폭 상승…3600만원대 회복\\n테더, 비트코인 채굴 산업 투자 계획 발표\\n비트코인 가격, 5월 첫 하락 마감\\n美 부채 한도 협상 난항에 비트코인 한달 만에 \\'최저\\'[코인브리핑]\\n비트코인, 미증시 따라 \\'출렁\\'…3500만원대\\n[오늘의 비트코인] 27k깨진 비트코인…알트코인 상황은?\\n\\'비트코인\\' 3만달러 가나\\n비트코인 3600만 원대 지켜, 금리인상 가능성이 비트코인 하락 압력 가중 분석\\n5월 비트코인 채굴 수익, 전월比 13.7% 상승\\n美 디폴트 선언하면 정말 비트코인 뜰까 [아카이브]\\n비트코인 고래, 암호화폐 거래소 포기?\\n비트코인, 인플레이션 우려로 하락…라이트코인 강세\\n\"금리 인상 멈출 이유 없다\" 매파 연준…비트코인 약세\\n국내 투자자 거의 절반 \"비트코인, 금주 상승 전망\"...62% \"美 부채한도 합의, BTC 4천만원 안착 가능\"\\n金 따라가는 비트코인?…안전자산 금과 가격 동조화\\n[온체인시황] 글래스노드 \"비트코인 신규 투자자 유입…전형적인 사이클 전환점\"\\n비트코인, 미국 디폴트 가능성에 대세상승 꿈꾼다 [윤호의 크립토뷰]\\n스테이블코인 테더, 우루과이에서 비트코인 채굴...재생 에너지 사용\\n비트코인 오디널스 강세에 살아나는 NFT 시장...주간 판매량 50% UP\\n김남국 후폭풍인가…비트코인 거래대금 두달새 반토막, 업비트서 4조원↓ [윤호의 크립토뷰]\\n블룸버그 전략가, 비트코인 붕괴 예측...\"BTC, 최악의 시간 아직 끝나지 않았다\"\\n비트코인 네트워크 대혼란…\\'BRC-20\\'이 뭐길래?\\n반감기 앞둔 라이트코인…월간 성과 비트코인·이더리움 넘었다\\n\\'돈나무언니\\' 비트코인 규제 멈춰 \\'비트코인 주말 상승\\'\\n\\ufeff[시장분석] \"비트코인 박스권 탈피…반등 신호 \\'하방 쐐기\\' 패턴도\"\\n박스권에 갇힌 ‘비트코인’, 반등을 위한 마지막 퍼즐은...\\n[코인 시황] 비트코인, 고용지표 기다리며 27K 하회\\n이더리움 NFT를 비트코인 NFT로 변환…\\'BRC-721E\\' 표준 공개\\n[코인 시황] 비트코인, 올해 첫 월간 하락...27K도 \\'위태\\'\\n비트코인·이더리움 나란히 하락세\\nAI에 밀려 시들해진 비트코인?…올 들어 첫 月기준 하락\\n제이피모건, 비트코인 시세 4만 5천 달러 예상\\n[오늘의 비트코인] 2만7000달러 깨진 비트코인 \\'주요코인\\' 롱·숏 비율 현황은?\\n비트코인, 부채한도 협상안 통과 불확실성에 2만7000달러 대로 후퇴\\n비트코인, 거래량 감소로 소폭 하락\\n코빗리서치센터, “비트코인 ‘오디널스’와 ‘인스크립션’이 혁신의 첫 단계 될 것”\\n비트코인, 美부채협상 타결에 급등 후 조정...한때 2만8천달러대까지 올라 [코인브리핑]\\n비트코인, 부채한도 상향 합의안 통과에도 2만7000달러 선 반납\\n[장범석의 일본 톺아보기] 벼룩시장에서 거래되는 비트코인\\n[속보] 우크라 대반격 첫 전투 \"푸틴 러시아 압승\" 타스통신 긴급보도… 뉴욕증시 비트코인 흔들\\n\"1만 비트코인으로 피자 두판 사 먹던 시절\"…코인업계 기념 이벤트\\n\\'돈나무\\' 캐시우드 \"과도한 규제로 미국의 비트코인 주도권 흔들\"\\n다가오는 \\'비트코인 피자데이\\'…국내 거래소가 피자 쏘는 이유\\n두나무 실적 비트코인 시세 따라 들쭉날쭉, 이석우 사업다각화 성과 언제쯤\\n비트코인 올 들어 첫 월간 하락 기록...5% ↓\\n테더, 비트코인 2억 달러 이상 매입…\"준비금 다각화\"\\n바이낸스 호주, 비트코인 5000달러 할인 판매\\n비트코인 채굴 난이도, 사상 첫 \\'50T\\' 돌파...올 들어 9회 상향 조정\\n마이크 노보그라츠, 비트코인 연말 상승 전망 낙관\\n잇따른 뱅크런에 비트코인으로 ‘피난’ [’안전한 위험자산’ 비트코인]\\n[오늘의 비트코인] \"27k깨졌다\"어제오늘 같은시간에 비트코인 주요구간 이탈\\n거래소 비트코인 잔액 감소...반감기 앞두고 장기 보유 경향 강해\\n비트코인 시세 당분간 반등 어려워, \"2만 달러선 지키기 불안\" 전망도\\n아시아 비트코인 공급, 약세장에도 급증…2016년 이후 최고 수준\\n비트코인 올해 첫 월간 하락세…\"추가 상승 어려울 수도\"\\n권도형 \\'비트코인 1만개 은닉\\' 사실이었나···美소송에 \\'초호화 변호인단\\'\\n[오늘의 비트코인] 앤비디아에 쏠린 관심, 비트코인은 2만7000달러 깨졌다…FOMC금리 인상 확률 61.9%\\n비트코인 채굴세 부과 계획 물거품 될 듯\\n비트코인, 미 부채 한도 표결 경계감·경기 침체 우려에 하락\\n[코인 시황] 비트코인 27K 횡보…부채한도 표결 주시\\nAI에 관심 뺏긴 비트코인, 올들어 첫 ‘월간 하락’\\n\"글로벌 은행이 金시세 조작한다는데\"…비트코인은? [한경 코알라]\\n[크립토 브리핑] 닷새 연속 하락한 비트코인...다시 3500만원대로\\n[비트코인 지금]美 부채한도 협상 잠정 합의 소식에 1.3% ↑\\n프로쉐어즈 비트코인 선물 ETF 실적, 현물 대비 저조\\n비트코인 6월 강세장 가능할까...\"달러 강세 끝나면 3만달러 회복 가능\", 반감기도 주목\\n[오늘의 비트코인] 27k안착실패, 뒷심부족한 비트코인\\n[코인시황] 비트코인 다시 2만8000달러 아래로…불확실성 지속\\n[오늘의 비트코인] 5월 월봉 마감에 방향성 갈려\\n미국 부채한도 인상안 합의에 비트코인 시세 상승\\n비트코인, 美 규제 압박에 주춤…3600만원대\\n빗썸경제연구소 \"비트코인 \\'반등\\' 예상…부채한도가 변수\"\\n[코인 시황] 비트코인 28K 하회...연준으로 시선 이동\\n김용만, 비트코인 투자 실패?...김성주 \"동현이 죽인다고\" (\\'뭉친TV\\')\\n비트코인, 부채한도 협상 앞두고 \\'박스권\\'…3600만원대\\n노보그라츠 \"비트코인 횡보…암호화폐의 \\'복날\\' 일찍 시작돼\"\\n유정주 \"비트코인 자체가 사회악 되고 있어…안타깝다\"\\n[오늘의 비트코인] 27k 지키더니 3만달러 도전하는 비트코인\\n비트코인 3% 급락, 연준 통화 긴축 발언에 2만7000달러 붕괴\\n다시 오르는 비트코인\\n\"미국 디폴트 위기, 부채 한도 상향 시 비트코인 가격엔 \\'호재\\'\"\\n[아주경제 코이너스 브리핑] 견고한 노동시장에···비트코인 2만7000달러 턱걸이\\n[글래스노드] 비트코인, 균형을 원하다\\n비트코인, 2만7천달러대 횡보...엔비디아에 AI 코인 상승세 [코인브리핑]\\n상승동력 사라진 비트코인, 3600만원대 횡보\\n비트코인, 美 디폴트 우려에 상승…증시와 ‘디커플링’\\n비트코인. 미 부채 한도 의회 의결 앞두고 횡보…리플 강세\\n비트코인, 디폴트 우려 속 주춤…3600만원대\\n비트코인 NFT \\'오디널스\\', 6개월 만에 1000만개 돌파\\n[오늘의 비트코인] 26k찍고 반등시작 \\'롱포지션 증가\\'\\n[글로벌 비즈 브리핑] \"美 사상 최대 리콜에 기아 400만 대 영향\"·비트코인, 챗GPT에 밀렸다 外\\n[코인시황] 비트코인 상승 2만7731달러, 리플 5% 급등 이더리움↑ 1904달러\\n미 부채한도 협상 난관에 충격 받은 비트코인 [코인브리핑]\\n비트코인, 횡보세...\"가격 이미 정점 도달?\" [코인브리핑]\\n비트코인 3500만 원대 유지, 에너지 효율 높일 새 채굴 방식 담은 논문 나와\\n비트코인 시세에 \\'유동성 쇼크\\' 다가온다, 미국정부 부채한도 상향 여파\\n비트코인, 소폭 오름세… 2만6000달러 대서 횡보\\n비트코인 일주일새 3.85% 하락\\n비트코인 투자자 이탈 행렬 지속...\"암호화폐 거래량 2020년 이후 최저\"\\n[Weekly Coin] 미국 부채한도 협상 진통...비트코인, 약세 이어져\\n금·비트코인 부채협상 피난처?…\"아직은 관망 상태\"\\n비트코인 상승에 두나무 1Q 순이익 54.9%↑\\n스테이블코인 발행사 테더, 비트코인 3천억원어치 매입\\n뉴욕증시 비트코인 와르르 급락, 부채한도 하원 표결 삐거덕 FOMC 금리인상\\n해외계좌 ‘과태료 폭탄’ 요주의...올해부터 비트코인도 포함돼요\\n비트코인, 美 부채한도 협상 주시하며 횡보세\\n비트코인 투심 위축 속 5월 음봉 마감 전망...\"큰 손 투자자들 BTC 매집 중\"\\n비트코인, 3500만원대 매물벽 사리지며 강세 추세 전환\\n비트코인 3600만 원대 공방, 에르도안 재선 가상화폐 상승세에 도움 분석도\\n바이든 \"가상자산 투자자 세금 감면 반대\"…비트코인 ‘휘청’\\n[속보] 미국 부채한도 합의안 하원 운영위 정면 충돌… 뉴욕증시 비트코인 리플 흔들\\n테더, 우루과이서 친환경 비트코인 채굴\\n[크립토 주간 브리핑] 하락하는 비트코인, 버티는 이더리움...美 부채한도 조정에 쏠린 눈\\n‘부채협상 교착’ 비트코인 3% 하락, 2만6000달러 초반까지 밀려\\n뉴욕증시 비트코인 흔들 부채한도 상원 투표 예상밖 혼선… FOMC 금리인상 급선회 피치 신용등급 강등\\n美 부채한도 협상에 흔들리는 비트코인\\n비트코인 6월 전에 팔아라?…과거 데이터 따져 보니 [한경 코알라]\\n[코인 빅데이터] \\'톱2\\' 암호화폐 하드포크...이더리움클래식(ETC) vs 비트코인캐시(BCH) 트렌드\\n\"올해 비트코인 오른다\"…\"美 부채한도 협상 주목\"\\n[코인시황] 비트코인 상승 2만6446달러, 리플↑ 이더리움↑1806달러\\n[코인시황] 비트코인 폭등 2만8116달러, 리플↑ 이더리움 4%↑ 1910달러\\n비트코인 상승에 두나무 1Q 순이익 54.9%↑\\n스테이블코인 발행사 테더, 비트코인 3천억원어치 매입\\n뉴욕증시 비트코인 와르르 급락, 부채한도 하원 표결 삐거덕 FOMC 금리인상\\n해외계좌 ‘과태료 폭탄’ 요주의...올해부터 비트코인도 포함돼요\\n비트코인, 美 부채한도 협상 주시하며 횡보세\\n비트코인 투심 위축 속 5월 음봉 마감 전망...\"큰 손 투자자들 BTC 매집 중\"\\n비트코인, 3500만원대 매물벽 사리지며 강세 추세 전환\\n비트코인 3600만 원대 공방, 에르도안 재선 가상화폐 상승세에 도움 분석도\\n바이든 \"가상자산 투자자 세금 감면 반대\"…비트코인 ‘휘청’\\n[속보] 미국 부채한도 합의안 하원 운영위 정면 충돌… 뉴욕증시 비트코인 리플 흔들\\n테더, 우루과이서 친환경 비트코인 채굴\\n[크립토 주간 브리핑] 하락하는 비트코인, 버티는 이더리움...美 부채한도 조정에 쏠린 눈\\n‘부채협상 교착’ 비트코인 3% 하락, 2만6000달러 초반까지 밀려\\n뉴욕증시 비트코인 흔들 부채한도 상원 투표 예상밖 혼선… FOMC 금리인상 급선회 피치 신용등급 강등\\n美 부채한도 협상에 흔들리는 비트코인\\n비트코인 6월 전에 팔아라?…과거 데이터 따져 보니 [한경 코알라]\\n[코인 빅데이터] \\'톱2\\' 암호화폐 하드포크...이더리움클래식(ETC) vs 비트코인캐시(BCH) 트렌드\\n\"올해 비트코인 오른다\"…\"美 부채한도 협상 주목\"\\n[코인시황] 비트코인 상승 2만6446달러, 리플↑ 이더리움↑1806달러\\n[코인시황] 비트코인 폭등 2만8116달러, 리플↑ 이더리움 4%↑ 1910달러\\n[코인시황] 비트코인, 美 긴축 우려·中 제조업 위축에 \\'약세\\'\\n비트코인, 中 증시 상관관계 심화...암호화폐 시장 영향력 증가\\n[크립토 브리핑] 소폭 반등한 비트코인...中 증시와 상관관계 높아지나\\n비트코인, 美 부채협상 타결 후 2만8000달러 돌파 후 횡보…전망은?\\n비트코인(BTC) 시세 낙관론 전망 계속 \\'올해 3분기 6만 달러\\'\\n[코인 시황] 비트코인, 美 디폴트 주시하며 26K 횡보\\n[저녁브리핑] 금감원 가상자산 감독체계 구축, 비트코인 인스크립션 1000만개 돌파\\n미국 부채협상 타결, 비트코인 당분간 약세 못 면한다\\n밈코인 강세, 비트코인 약세 시그널일까…데이터 분석 결과는\\n페페 모방 광풍, 비트코인의 새 숙제\\n비트코인, 2만7000달러 무너져…네트워크혼잡·규제 강화 겹악재\\n비트코인, 美 부채한도 협상 타결에도 하락세...향후 전망은 낙관적?\\n신나야 할 ‘비트코인 피자데이’ 김남국 사태에 씁쓸[경제 블로그]\\n비트코인 수수료 폭등에…주목받는 라이트닝 네트워크\\n비트코인, 2만7000달러 아래로…글로벌 규제 강화 분위기 영향\\n추적 피하기 쉽고, 계좌 정지 어려워… 마약범죄 기축통화된 ‘비트코인’ [무법지대 코인 리포트]\\n[이슈 PICK+] 경기불황에 다시 뜨는 안전자산···금·비트코인 하반기도 ‘낙관적’\\n비트코인, 올해 들어 월 기준 첫 하락…챗GPT에 밀렸다\\n마이클 세일러 \"비트코인 바닥 쳤다…상승장 시작\"\\n[속보] 바이든 부채한도 서명했지만… 피치 신용등급 \"부정적\" 뉴욕증시 비트코인 \" 디폴트\"\\n박스권 갇힌 비트코인...\"美 부채 협상 난항에 투자자들 초조\" [코인브리핑]\\n비트코인 3500만 원대 지켜, 5주 동안 비트코인 3천억 유출 소식도\\n[코인시황] 비트코인 상승 2만7172달러, 솔라나 6% 폭등 이더리움↑ 1859달러\\n뉴욕증시 비트코인 흔들, 부채한도 미국 하원 투표 \"반란\" FOMC 금리인상 암호 가상화폐 디폴트 발작\\n비트코인, 2만7천달러대 회복...\"美 부채 협상 불확실성 여전\" [코인브리핑]\\n비트코인, 부채한도 표결 앞두고 약보합…3600만원대\\n비트코인, 부채한도 협상 난항에도 반등 시도\\n[코인시황] 비트코인 급락 2만6352달러, 리플↓ 이더리움↓1799달러\\n비트코인, 2만7000달러서 횡보…6월 FOMC 주시\\n[코인시장은 지금] 27k선 아슬한 비트코인, 다음지지선 25k선...中 \\'홍콩 효과\\'로 블록체인주 강세\\n[신상준의 돈 이야기 <22>] 비트코인, 스테이블코인, 금본위제\\n[코툰] \"암호화폐 산업 활성화 선봉장은 비트코인 아닌 이더리움\"\\n비트코인 2만7천달러선 하회…미 부채협상 따른 국채 발행 급증 우려\\n비트코인, 美 부채한도 해결에 2만7천달러선 회복...\"6월장, 기관 매수에 달렸다\"\\n\"피자 쏜다\"…코인 거래소, 22일 \\'비트코인 피자데이\\'\\n비트코인 3600만 원대 하락, 러시아 통합 가상화폐 거래소 계획 폐기\\n비트코인 2만8000달러 돌파...미 부채 한도 협상 타결 영향\\n비트코인 \\'저가매수\\' 줄고 \\'손절\\' 늘었다, 2만3천 달러까지 하락 전망도\\n[코툰] \"비트코인 역사적 상승장 들어섰다\"\\n\"상승 모멘텀 잃었다\"…주춤하는 비트코인, 3600만원대[코인브리핑]\\n비트코인, \\'AI 테마\\' 강세에 출렁…3500만원대\\n뉴욕증시, 금주 연준 금리 경로 주목…유가·비트코인 상승 [출근전 꼭 글로벌브리핑]\\n비트코인 선물거래량 하락…악재인가\\n연준, 향후 금리인상 놓고 분열…비트코인, 3% 하락\\n글래스노드 공동설립자, “비트코인 골든크로스 반등구간 접어들어”\\n미국 대선 후보 디샌티스, 비트코인·디지털 통화 지지 선언\\n[코인시황] 미국 부채한도 협상 교착에 비트코인 보합세\\n비트코인, 축제는 끝났다? [엠블록레터]\\n3700만원대 육박하는 비트코인\\n3700만원대 육박하는 비트코인\\n“비트코인보다 더 뜨겁다”...올 82% 상승한 ‘찐’ 수혜주[박윤예의 글로벌주 열전]\\n빗썸경제연구소 \"올해 비트코인 오른다… 美 부채한도 협상 변수\"\\n비트코인 약세흐름 지속…변동성 장세 우려\\n희소성은 ‘금’·거래 방식은 ‘주식’ 닮아 [‘안전한 위험자산’ 비트코인]\\n비트코인, 온체인 거래량 급감...\"비트코인 보유자들 장기 보유 의지 견고\"\\n세계 최대 스테이블코인 발행사, 비트코인 대량 매입\\n비트코인 2만8000달러 등락...분위기는?\\n다시 고개든 장밋빛 전망…\\'비트코인\\' 어떨까\\n내년에 비트코인 \\'반감기\\' 온다구요?[금알못]\\n[08:41 가상자산] 비트코인, 자본시장 AI 테마 변경 시도에 하락세\\n비트코인 단기 보유자 \\'수익\\' 매도 구간 진입...\"단기 가격에 긍정적 지표\"\\n[속보] OPEC+ 자발적 감산 연장 뉴욕증시 국제유가 비트코인 흔들…대체 무슨 일?\\n테더, 비트코인 3000억원어치 매입\\nJP모건 애널리스트 \"비트코인, 4만 5000달러에 거래돼야 해\"\\n비트코인 3600만 원대 하락, 미 연준 베이비스텝 결정 전망 나와\\n[비트코인 지금]바이든 부채한도 합의안 서명에도 약세…투심 \\'중립\\'\\n비트코인, 12월 금리인상 기조 전환 전 8월초 랠리\\n모간스탠리 “비트코인은 정점...알트코인의 시즌이 돌아왔다”\\n[코인시황] 비트코인 침체 지속…옐런 또다시 디폴트 경고\\n테라 권도형, ‘비트코인 1만개’ 은닉설 진짜?…美소송에 초호화 변호인단 출격 [투자360]\\n[코툰] \"사상 최대 \\'富의 대이동\\' 온다…비트코인 엄청난 수혜 입을 것\"\\n[코인시황] 비트코인 상승 2만7202달러, 리플↑ 이더리움↑1852달러\\n[저녁브리핑] 마이클 세일러 \"비트코인 상승장 시작\", 스테픈 애플페이 도입\\n[코인시황] 비트코인, 이익실현 매출 출회에 3700만원 초반으로↓\\n비트코인 3500만 원대 하락, 국세청 신고 5억 초과 해외계좌에 가상화폐 포함\\n비트코인 3500만 원대 공방, 유럽연구기관 가상화폐에 증권규제 적용 주장\\n비트코인, 2만6천달러대로 하락...규제 리스크에 약세 [코인브리핑]\\n[속보] 뉴욕증시 비트코인 FOMC 금리인상 \"발작\" …튀르키예 통화정책 대전환\\nFOMC에 떠는 비트코인…상승세 꺾이나\\n비트코인, 3600만원선 깨져…DAXA, 표준 내부통제기준 마련\\n5월 비트코인 거래 수수료 비중 확대...2년 최고치\\n비트코인 3500만 원대 하락, 비트코인 가격 재상승 시도 전 휴식기 분석도\\n뉴욕증시 비트코인 \"2차 폭발\" 부채합의 마침내 하원 운영위 통과 + 연준 FOMC 금리인상\\n비트코인, 은행위기에도 하락세 지속…3600만원대\\n미국 부채협상 타결 소식, 비트코인 3600만원 돌파\\n美 금리 재인상 전망 우세...비트코인 5월 음봉 마감 가능성 커\\n[코인 빅데이터] 비트코인 캐시 하드포크...BCH vs BSV 트렌드\\n비트코인 결제 앱 스트라이크, 테더 통합 지원\\n비트코인, 부채한도 협상 앞두고 \\'박스권\\'…3700만원대\\n미국 부채한도 협상이 비트코인에 미치는 영향은?\\n비트코인, 美 부채한도 협상 난항에 3% 대 급락세\\n미국 부채한도 협상 타결에 올랐던 비트코인 시세, 하락 전환\\n비트코인 NFT 열풍, 채굴 수익 구조까지 바꾸나\\n[속보] 미국 공화당 부채한도 합의 거부, 하원 운영위 \"매카시 사퇴\" 뉴욕증시 리플 비트코인 흔들\\n美부채한도 상향 협상에 비트코인 2만8000달러 회복\\n지지부진한 美 부채한도 협상…‘디폴트에 비트코인 급등’ 예측도\\n빗썸, “‘오디널스’와 ‘비알씨-20’ 표준이 비트코인 네트워크 지표 급등 일조”\\n비트코인 3600만 원대 유지, 미국 긴축중단 시사 비트코인 시세에 긍정적\\n‘美 정부, 비트코인 1만개 팔았다’ 루머에 비트코인 약세\\n비트코인 3700만 원대 상승, 미 정부 부채 한도 협상 성공에 시세 오름세\\n[코인췍] 비트코인 하락세···\"2만 5200달러 지지가 관건\"\\n[걸어서 코인속으로] 비트코인 가격의 차트와 온체인 분석을 통해 보는 코인시장의 현주소\\n비트코인도 \\'셀 인 메이?\\'…이달 수익률 -8.7%, 올들어 최악\\nJP모건, \\'비트코인\\' 안전자산 지위 인정시 상승 잠재력 분석 내놔\\n[가상화폐 시황] 비트코인 2만7000달러 지속…리플 5.8% 급등\\n페페코인 유행이 비트코인 시세도 높인다, 투자자 진입장벽 낮춰 긍정적\\n[코인 시황] 비트코인, 美 부채협상 타결에 28K 상회\\n[코인시황] 부채 한도 우려 속 비트코인 여전히 2만6500달러 하회\\n비트코인 가격 전망 \\'하락세 이어질까? 반등할까?\\'\\n빗썸경제연구소 \"美 부채한도 상향 시 비트코인 가격에 호재\"\\n미국증시 · 美 국채금리 ·장중 비트코인 \\'뚝\\' vs 금값 · 은값 \\'상승\\'\\n[코인시황] 비트코인 상승 2만6891달러, 리플↑ 이더리움↑1820달러\\n올해도 우울한 \\'피자데이\\'...비트코인 하락세에 거래량도 \\'뚝\\'\\n모간스탠리 \"비트코인 이미 고점 도달...투자자 관심 알트코인 이동\"\\n비트코인, 2만6000달러 횡보…美 부채한도 협상 주시\\n[코인시황] 비트코인 여전히 2만7000달러 아래로…부채한도 상향안 통과로 주식은 반등\\n마이클 세일러 \"비트코인, AI 주도 사이버 보안 위협 해결책\"\\n미국 디폴트와 비트코인\\n\"비트코인도 들어갑니다\"…5억 넘는 해외계좌 신고해야\\n코인 부자에 규제 들이미는 바이든…CPI 발표 앞둔 비트코인[코인브리핑]\\n비트코인 결제 앱 \\'스트라이크\\', 65개국으로 서비스 확대\\n스테이블코인 발행 기관 \\'테더\\', 우루과이 지속 가능한 비트코인 채굴 계획에 투자\\n테더 \"이번달부터 순익 15% 비트코인에 투자\"\\n[시장분석] 글래스노드 \"비트코인, 곧 높은 변동성 발생할 수도\"\\n\\u200b[아주경제 코이너스 브리핑] 비트코인 2만7800달러 횡보…6월 FOMC에 이목 집중\\n줄어든 비트코인 변동성, 6월 다시 확대되나…리플은 6% 상승[코인브리핑]\\n마이클 세일러 \"비트코인 바닥쳤다...강세장 시작될 것\"\\n[코인시황] 비트코인, 부채한도 협상 불확실성에 3600만원대로 추락\\n[코인뉴스] 美 부채한도 협상 불확실성에 투자자 경계...비트코인 약세\\n비트코인, 美 CPI 발표 이후 \\'출렁\\'…3700만원대\\n[코인뉴스] “美 부채한도 상향 관련 시나리오 모두 비트코인에 호재”\\n[코인시장은 지금] 美 연준 \"금리인상 멈춰야만 하는 이유 모르겠다\"...비트코인 27k선 하회\\n[코인시황] 비트코인 하락 2만6772달러, 리플 급락 이더리움↓1805달러\\n[코인 시황] 비트코인, 홍콩발 호재에 27K 회복\\n스테이블코인 발행사 테더 “비트코인 3천억원어치 매입”\\n美 부채협상 난항에 악화한 투심…비트코인 \\'급락\\'\\n미국 가상화폐 법안 발의 의원, 비트코인 채굴 과세 반대의사 표명\\n비트코인 0.4% 하락속 암호화폐 혼조\\n비트코인 3700만 원대 상승, 미 대통령 선거에 가상화폐 시세 움직임 달려\\n델리오, 비트코인 피자데이 이벤트\\n코인원, ‘비트코인 피자데이’ 기념 이벤트 실시\\n비트코인 3600만 원대 지켜, 스테이블코인 발행사 테더 비트코인 3천억 구매\\n델리오, 비트코인 피자데이 기념 사내 이벤트 개최\\n[코인 빅데이터] \\'빅2\\' 암호화폐, 반등은 언제쯤...비트코인(BTC) vs 이더리움(ETH) 트렌드\\n비트코인 3600만 원대 지켜, 미국 부채한도 합의 비트코인 상승 장담 못해\\n中 펜타닐 밀매 기업, 비트코인·테더로 2700만달러 상당 결제\\n[비트코인 지금]2만7000달러대 유지…투심 \\'중립\\'\\n[아주경제 코이너스 브리핑] 비트코인, 2.6만 달러 선도 깨지나...美 부채한도 협상 난항 속 하락세\\n테더, 준비금으로 비트코인 매입 계획 발표\\n테더 순이익 15% 상당 3000억원 비트코인 매입[글로벌포스트]\\n美 디폴트 위기…비트코인에 호재일까 악재일까 [한경 코알라]\\n비트코인, 바이낸스 출금 중단에 \\'미끌\\'…3700만원대\\n비트코인, 3534만원 넘지 못하면 상당폭 하락 전망\\n美 부채협상 합의, 피벗 종료 기대감…비트코인 상승랠리 탈까\\n[트윗시황] 비트코인 채굴자 수수료 수익률 급락…2주만에 35%↓\\n\\'美 부채한도 협상 최종 타결\\' 비트코인 2만8천달러선 돌파...연준 금리인상 주목\\n미국 부채한도 협의 소식에 비트코인(BTC) 시세 소폭 상승\\n비트코인 채굴 난이도, 최초로 50조 돌파...역대 최고가 기록\\n美 부채한도·英 고물가에 흔들린 암호화폐 시장...비트코인 2만6500 달러 아래로\\n비트코인 장기보유자 역대 최고치…\"잠재적 강세 신호\"\\nAI 열풍에 밀린 비트코인…올해 첫 월간 하락\\n美 은행발 위기 지속에도 ‘비트코인’ 3500만원 후반대로 하락\\n비트코인, 美 디폴트 우려에 ‘주춤’… 반등 기대는 높아\\n비트코인 3600만 원대로 올라, 바이낸스 태국에서 사업 인가 취득\\n비트코인, 美 부채한도 협상 난항에 ‘휘청’\\n비트코인, 파월 연설 앞두고 2만7천달러 밑돌아\\n미증시 랠리에 비트코인 1.14% 상승, 2만7000달러 회복\\n[아주경제 코이너스 브리핑] 비트코인, 3600만원대 회복…美 부채한도 협상 타결 호재\\n비트코인 시세 2만3천 달러로 하락 전망, \"신규 매수 뛰어들 시점 아니다\"\\n부족한 오디널스 또는 불안정한 블록체인...비트코인 \\'토큰\\' 생태계 꽃피울 수 있을까\\n美 헤지펀드 전설 \"비트코인 매수는 초창기 빅테크 투자와 비슷\"\\n[트윗시황] 테더, 매 분기 비트코인 매수…\"시장에 긍정적 영향\"\\n비트코인 5% 급락하자 마이크로스트러티지 10% 폭락\\n[가상화폐 시황] 비트코인 2만7000달러 횡보…주요 알트코인 약세\\n올 들어 비트코인 가격 60%↑…향후 방향성은\\n\\'롤러코스터\\' 비트코인…\\'알파\\' 시세 급등에 투자 \\'유의\\'\\nJP모건 \"금 상승세 따라 비트코인 4만5000달러 도달할 것\"\\n비트코인, 2만7천달러대 회복...\"美 부채한도 협상이 변수\" [코인브리핑]\\n너무 뜨거운 고용보고서 FOMC 금리인상 …뉴욕증시 비트코인 대체 무슨 일?\\n비트코인 피자데이, \\'밈코인\\'에 낚인 투자자들\\n미국 4월 PCE 발표, 비트코인 2만6000달러...상황은?\\n[크립토 줌인] 한달째 숨고르기 거듭하는 비트코인… 재상승 탄력받을까\\n비트코인 관심도 \\'뚝\\' vs 라이트코인 \\'쑥\\'\\n美 공화당 유력 대선 후보 \"대통령 당선되면 비트코인 보호할 것\"\\n[가상화폐 시황] 비트코인 2만7000달러 중반…리플 2% 상승\\n[글로벌] 인구 80만 명 부탄, 비트코인 채굴‧블록체인 경제 전환 모색\\n빗썸, 2023년 비트코인 전망 보고서 발간\\n비트코인 장기 투자자 비중 역대 최고치, 조사기관 \"강세장 진입 신호\"\\n플랫타익스체인지, 비트코인 피자데이 기념 이벤트 진행\\n美 정부가 비트코인 판다고?…\"가짜 뉴스에 대규모 롱포지션 청산\"\\n\\'피자 데이\\' 1만 개 비트코인은 현재 얼마일까?\\n‘비트코인 피자데이’ 맞아 가상자산업계 쿠폰 증정 등 행사\\n[가상화폐 시황] 비트코인 다시 2만6000달러대로…리플·솔라나 1%↓\\n‘유동성 위기설’에 약세 이어지는 비트코인...2만7000달러 선도 붕괴\\n테더, 우루과이서 재생에너지에 투자...지속 가능성 비트코인 채굴 계획 지원\\n비트코인, 본격 반등 전망 나와...숏 포지션 매도세 약화\\n비트코인 2만6000달러...언제까지 횡보?\\n비트코인, 부채한도 협상 앞두고 2만7000달러 횡보\\n[08:26 가상자산] 비트코인, 美 부채한도 협상 잡음에 횡보세\\n비트코인 공급 휴면량 사상 최고치 기록\\n오늘부터 홍콩 가상자산사업자 규제안 시행…비트코인 하락[코인브리핑]\\n다시 오르는 비트코인…4000만원 돌파하나\\n다가오는 \\'비트코인 피자데이\\'...코빗, 이벤트 진행\\n이더리움의 도전, 비트코인의 응전\\n비트코인, 규제 불확실성에 하락…블록체인 SNS 마스크네트워크 급등\\n비트코인 수익 투자자 비율, 2월 대비 1% 감소\\n비트코인, 이전 상승세 이어 간다...중장기 낙관적 전망 나와\\n\"함께해요, 비트코인 피자데이\"...빗썸, 피자 기프티콘 지급 이벤트\\n비트코인, 상승 동력 잃었나...美 부채한도 협상 난항에 약세 [코인브리핑]\\n[속보] 미국 부채합의 공화당 \"반발\" 의회 표결 삐거덕 뉴욕증시 비트코인 디폴트 발작\\n[코인뉴스] 비트코인, 美 부채한도 협상 앞두고 횡보\\n비트코인 시세 4만5천 달러까지 오를 잠재력, JP모건 \"금값 상승이 근거\"\\n비트코인, 큰 폭 랠리 직전일 수 있다?...비트멕스 공동창업자 “내년 7만달러 돌파 예상\"\\n비트코인, 정말 \\'1억\\' 갈까\\n비트코인, 기관 투자자·펀드 매니저 대체 투자 전략 자산으로 주목\\n[크립토 브리핑] 3500만원대에 달라 붙은 비트코인...美 주식과 상관지수는 최저\\n커지는 규제 리스크...비트코인, 유동성 위기에 약세 [코인브리핑]\\n국내 암호화폐 거래소 \\'비트코인 피자데이\\' 이벤트 풍성\\n마이크로BT, 태양광 발전 기반 비트코인 채굴 솔루션 약속\\n美 부채한도·규제 저울질에 비트코인 2만7000 달러선 아래로\\n비트코인 챗GPT에 밀렸다…올 들어 첫 월간 하락\\n글래스노드 \"비트코인, 중앙화 거래소 월렛 예치 물량 순감소\"\\n[글래스노드] 비트코인 블록 수요 증가...수수료 급등\\n고피자, ‘비트코인 피자데이’ 프로모션 진행\\n[오늘의 비트코인] 주요코인 롱·숏 비율 현황은?\\n[시장분석] \"비트코인, 6~7월엔 강세장 올 것\"\\n비트코인, 2만 6000달러 선 붕괴...2만 4000달러 선 하락 가능성 제기\\n비트코인, 美 부채한도 협상 낙관론에 2만7000달러 회복\\n국내 블록체인 업체들, 비트코인 피자데이 맞아 이벤트 풍성\\n미증시, 부채한도 협상 진통...비트코인 가격 하락\\n[코인 시황] 비트코인, 26K 부근서 조정 지속\\n교착상태 빠진 美 부채한도 협상… 비트코인, 2만6000달러 대 지속\\n[미장브리핑] 떨어지는 비트코인·이더리움 가격…美 증시 혼조 마감\\n[속보] OPEC+ 기습 감산, 사우디 뉴욕증시 공매도 전쟁 선포 …국제유가 비트코인 암호 가상화폐 흔들\\n가상화폐 가격 소폭 하락...\"비트코인 2만 6000달러까지 떨어질 수도\"\\n로버트 케네디 미국 민주당 대선경선 후보, 비트코인 생태계 지지\\n[코인 시황] 비트코인, 디폴트 불안 속 26K로 후퇴\\n비트코인 3600만 원대 유지, 미 부채한도 상향은 비트코인에 호재 분석도\\n비트코인, 미 증시와 동반 상승..조정 가능성 여전\\n비트코인, 활성 주소 급감…트랜잭션 수는 사상 최고치\\n비트코인, 美 부채 한도 상향시 하락 전망 나와\\n[크립토 브리핑] 약세 계속되는 비트코인...3600만원선 붕괴\\n비트코인·美 주식 상관관계 17개월來 최저\\n업비트·빗썸·코인원·코빗, 비트코인 피자데이 이벤트 실시\\n테더, 수익 15% 비트코인에 투자\\n[속보] 미국 끝내 디폴트, 제롬파월 부채한도협상 채무불이행 경고… 뉴욕증시 비트코인 흔들\\n\\'美 디폴트 모면\\' 비트코인, 2만7천달러선 회복...블룸버그 전략가 \"위험자산 랠리 가능성 커\"\\n[저녁브리핑] 비트코인 \\'호들러\\' 역대 최고치, 솔라나 챗GPT 플러그인 출시\\n2만8000달러 무너진 비트코인…바이낸스 출금 중단 영향\\n비트코인, 연준 긴축 경계감에 2만6000달러 대로 후퇴\\n비트코인, 2개월 만에 최저가 기록\\n두나무, 비트코인 피자데이 이벤트 \\'주목\\'\\n비트코인 안전자산으로 가치 더 높아져, 가계부채 증가에 피난처로 주목\\n미 긴축 \\'불씨\\'…비트코인, 3500만원선도 \\'위태\\'\\n비트코인 투자 상품, 5주 연속 자금 유출\\n비트코인, 2만7000달러 등락… \\'박스권\\' 분위기 반전 시도\\n[크립토 월간 브리핑] 봄 지나도 이어지는 \\'크립토윈터\\'...\\'비트코인\\' 빠지고 \\'리플\\' 홀로 올랐다\\n[코인시황] 비트코인 급락 2만6879달러, 리플↑ 이더리움↓1809달러\\n비트코인, 부채한도 협상 불확실성 속 2만7000달러 위태\\n[인사이드 스토리]\\'개구리 코인\\'이 뭐길래? 비트코인도 영향권\\n[오늘의 비트코인] 비트코인 하락에 이더리움도 공매도 증가\\n[토큰포스트 연휴 브리핑] 美 부채한도 협상 잠정 합의에 시장 \\'안도\\'...비트코인 2만7000 달러선 회복 外\\n비트코인, 구글 검색 2년 만에 최저 기록...대중 관심 \\'뚝\\'\\n나스닥 강세, 비트코인 3만달러 견인한다?\\n[오늘의 비트코인] 27k→28k 힘부족한 비트코인 \\'주말매수세 이어질까\\'\\nBRC 펌핑: 비트코인 기반 토큰에 베팅하지 말라\\n[속보] 미국 고용보고서 예상밖 \"폭발\\' 뉴욕증시 비트코인 흔들… 연준 FOMC 금리인상 급선회\\n비트코인 3500만 원대 지켜, 미국 부채협상 난항에 3300만 원대 하락 분석도\\n[코인시황] 비트코인, 美 디폴트 우려에 3500만원대 초반 하락\\n은행 위기에 웃던 비트코인, 이번엔 동반 하락… “왜?”\\n빗썸 \"美 부채한도 상향시, 비트코인 가격 호재\"\\n美은행주 위기에 뜨는 비트코인… 대안자산 될 수 있을까\\n[속보] 미국 국가 신용등급 끝내 \"강등\" 피치 특별성명 뉴욕중시 비트코인 흔들\\n빗썸, 비트코인 피자데이 맞아 대한적십자사에 2000만원 기부\\n\"22일 비트코인 피자데이\"…플랫타익스체인지, 기념행사 실시\\n비트코인 5억원 이상 보유하면 신고해야…김남국 해외코인 보유 여부 주목\\n美 부채한도 협상 잠정 합의에 시장 \\'안도\\'...비트코인 2만7000 달러선 회복\\n[08:23 가상자산]비트코인, 美 부채한도 최종 합의 소식에 3700만원 선\\n빚투에 물려 한탕 나섰나…20대 코인 지갑엔 비트코인 빼고 이것\\n비트코인 2만7000달러...어떨까?\\n마라톤, 비트코인 개발자 위해 50만 달러 기부\\n비트코인 상승, 2만7000달러 회복…홍콩 소매 암호화폐 거래 일부 허용 여파\\n비트코인 3500만 원대 공방, 브라질 가상화폐 도입 참여기관 14곳 선정\\n비트코인, 상승랠리 징후 출현…7월 5300만 원 돌파\\nIMF, \\'비트코인 법정통화 채택 1년\\' 중앙아프리카공화국 성장률 낙관...왜?\\n비트코인 하락세 지속…2만6000달러에서 횡보세\\n미 CPI 2년래 최저에도 비트코인 2만7000달러 붕괴\\n[비트코인 지금]일주일 동안 7% 넘게 추락…투심 \\'중립\\'\\n비트코인 2만6000달러 붕괴, 한주간 10%↓…올 들어 최악의 한주\\n“은행 위기엔 비트코인”이라더니…한달새 최저 수준으로 ‘뚝’ 왜? [윤호의 크립토뷰]\\n[아주경제 코이너스 브리핑] 비트코인 2만6000달러대 \\'약보합\\'···美 부채한도 협상 주목\\n[속보] 일본 도쿄증시· 비트코인 \" 동반 폭발\" 부채한도협상 최종 타결 \"디폴트 상황 종료\"\\n[크립토 브리핑] 美 디폴트 \\'D-7\\'...비트코인·이더리움은 여전히 횡보\\n이번주 전망, 추천주..삼성전자,삼성전기,한전 주목..금리 살피며 FOMC 준비 필요..비트코인 박스권\\n스테이블코인 발행사 테더, 3천억원 규모 비트코인 매입\\n[코인췍] 비트코인 하락, 6개월 만 최대 낙폭···반등 가능성은?\\n[크립토 주간 브리핑] \\'힌먼 연설\\' 공개 임박에 급등한 리플...비트코인·이더리움은 여전히 횡보\\n세계최대 스테이블코인 회사는 왜 비트코인 3000억원어치를 샀을까 [투자360]\\n[속보] 미국 부채한도 하원 표결 민주당 \"전원 반대\" 뉴욕증시 비트코인 리플 \"디폴트 발작\"\\n\\'비트코인 기반 NFT\\' 고속 성장…비트코인 가격 변동성은 완화[코인브리핑]\\n[코툰] \"비트코인 이외 암호화폐에 먹구름 드리운다\"\\n[코툰] \"거시경제 불확실성 시기, 알트코인보다 비트코인이 더 매력적\"\\n비트코인 급락, 3월 중순 이후 최저치 기록\\n세계 최대 스테이블코인 발행사 \"비트코인 3천억 원어치 매입\"\\n“비트코인 몇 주안에 50% 가량 오를 수 있다.”…마이클 반 드 포프 전망\\n바이낸스 인출 중단에 비트코인 3% 급락...2만8000달러 선 붕괴\\n비트코인, 지난 주 11% 급락…BTC 가격 전망은?\\n비트코인 3500만 원대 유지, 바이낸스 미국의 북한 범죄자금 회수 지원\\n[시장분석] \"비트코인 상승장 올 것…알트 수익 돌려라\"\\n디지털 안전자산? 은행 위기 때마다 반등하는 비트코인\\n비트코인-이더리움 상관관계, 2021년 11월 이후 최저 기록\\n바이낸스서 한때 비트코인 출금 중단 사태\\n비트코인, 2만6천달러대 횡보...\"규제 명확성 보일 때까지 하락 압력 지속\" [코인브리핑]\\n[크립토 브리핑] 서서히 하락하는 비트코인...\"긴축에 약세 더 심해질 것\"\\n“알라딘 전자책 100만권 해킹” 35억 상당 비트코인 요구\\n바이낸스, 하루 두 차례나 비트코인 인출 중단…비트코인 \\'미끌\\'\\n업비트·빗썸, \\'비트코인 피자데이\\' 맞아 고객몰이...\"흥행은 불투명\"\\n\"피자 먹으면 비트코인 줘요~\"...고피자, ‘비트코인 피자데이’ 프로모션\\n美 디폴트 위기감 속 비트코인 장중 26,000달러선 붕괴...\"BTC-미 주식 상관관계 17개월래 최저\"\\n비트코인, 2만7천달러대 횡보...美 CPI 주목 [코인브리핑]\\nJP모건 \"비트코인, 현재 금 시세 감안할 때 45,000달러에 거래돼야\"\\n[08:07 가상자산] 비트코인, 美 정치권 불협화음에 강보합권 등락\\n“비트코인·피자데이 함께해요”...가상자산 거래소, 다양한 이벤트 진행\\n밈 NFT 바람 타고 비트코인 NFT 시장 성장세 뚜렷\\n미 CPI 발표 앞두고 비트코인 가격 전일과 비슷...비트코인SV 급등\\n비트코인, 2만 7,000달러 붕괴...\"암호화폐 유동성 위기 고조\"\\nNFT 신흥강자로 떠오르는 \\'비트코인\\'…판매량 2위에 올라\\n[크립토 브리핑] 홍콩, 개인 가상자산 거래 허용하나...비트코인·이더리움 1%대 상승\\n테더, 스테이블코인 USDT 지원 위해 비트코인 2억 2200만 달러 매입\\n엔비디아 훈풍에 \\'AI 코인\\' 강세 …비트코인은 횡보\\n[코인시황] 비트코인 하락 2만6990달러, 리플↑ 이더리움 1824달러 횡보\\n바이낸스 거래 일시중지, 비트코인 5% 급락…2만8000달러 붕괴\\n비트코인 4% 급락, 영국 근원 CPI 1992년 이후 최고치로 금리 인상 압박 가중\\n[코인시황] 비트코인, 3600만원대 중반 \\'반등\\'…美 부채한도 협상 관망\\n스테이블코인 발행사 테더, 비트코인 3000억원 매입 나선다\\n[코인 시황] 비트코인, 조정 부담 속 27K 횡보\\n\\'영끌\\' 투자한 비트코인, 두 사람의 욕심이 부른 결말\\nCoinEx, 비트코인 피자데이 기념 이벤트 4종 마련\\n‘美디폴트 위기’ 요동치는 비트코인…반등 변수는 ‘부채한도 협상’\\n[오늘의 비트코인] 28k돌파 실패, 27k도 위험\\n[크립토 주간 브리핑] 미 디폴트 우려 해소에도 비트코인 횡보...리플은 10% \\'UP\\'\\n테더 “비트코인 3000억 원어치 매입 예정…USDT 지원”\\n빗썸경제연구소, 비트코인 낙관론…\"美부채한도 협상이 변수\"\\n비트코인·이더리움 4일 연속 하락…美 CPI 주시\\n[속보] 미국 공화당 부채한도 합의안 \\'\"반대\" 하원 운영위 덜커덩 뉴욕증시 비트코인 흔들\\n[코인 시황] 비트코인, 투심 위축에 다시 26K로 후퇴\\n글래스노드 \"비트코인 전체 공급량 약 40%, \\'휴면\\' 상태\"\\n비트코인 3500만 원대로 하락, 홍콩 가상화폐 거래 허용에 CFX토큰 껑충\\n[코인시황] 비트코인 상승 2만7315달러, 리플↑ 이더리움↓1820달러\\n[딜링룸 백브리핑] \\'곰\\'은 안돼!…규모 대폭 축소한 비트코인 컨퍼런스\\n업비트·빗썸·코빗, \\'비트코인 피자데이\\' 기념 이벤트\\n비트코인 시세 하방압력 커진다, 거시경제 불확실성에 돈 빼는 투자자 늘어\\n[더벨]빗썸, 비트코인 가격 상승에 매출도 순이익도 호조\\n빗썸 “비트코인 단기 반등… 美 부채 한도 상향 승인 변수”\\n[코인시황] 비트코인, 고래 매도 경계감에 3600만원선 아래로↓\\n비트코인, 美 부채 한도 협상 불확실성에 소폭 하락…라이트코인 강세\\n[글로벌 비즈] 바이낸스, 하루 두 차례나 비트코인 인출 중단\\n미증시 랠리에도 비트코인 2.17% 하락, 2만6832달러에 거래돼\\n대형주 선순환 필요..삼성전자,삼성전기 추천..비트코인 박스권, FOMC와 금리 중요.. 안정감은 높아져\\n\\'1박2일\\' 불법복제영상 배포, 돈 대신 비트코인 4억원치 챙겼다\\n스테이블코인 발행사 테더, 비트코인 3천억원어치 매입\\n업비트, ‘비트코인 피자데이\\' 기념...2023명에게 피자를\\n비트코인 3% 넘게 하락, 2만6000달러 초반까지 밀렸다\\n비트코인, 2만8000달러 횡보…밈코인 인기에 거래수수료 급등\\n비트코인, 상승세 전환...부채한도 협상 기대감 반영한 듯\\n비트코인 출금하려는 투자자, 막으려는 바이낸스 [한경 코알라]\\n국내 가상자산 거래소, \\'비트코인 피자데이\\' 맞아 이벤트 진행\\n반감기 앞둔 비트코인 또 뛰나\\n스탠다드차타드 \"비트코인, 내년 말 10만 달러 간다\"\\n[아주경제 코이너스 브리핑] 비트코인 2만7000달러대…전일 대비 소폭 상승\\n\"흔들리는 가상자산\"…글로벌 규제강화에 비트코인 \\'뚝\\'\\n비트코인, CPI 경계감 속 2만7000달러 공방 지속\\n[코인시황] 비트코인 상승 2만6925달러, 리플↑이더리움↓1800달러\\n박스권 갇힌 비트코인…부채한도 협상 주시\\n“비트코인 전망, 美 국회 부채 한도 상향 승인에 주목해야”\\n비트코인 펀드 5주 연속 유출…지난 주 총 3200만달러 인출\\n비트코인 캐시 5% 급등, 15일 \\'캐시토큰\\' 업그레이드 실행\\nSVB 사태 후 2개월 동안 미국 기관투자자들 비트코인 대신 이것 사들였다\\n“비트코인 단기 반등, 부채 한도 상향 승인 美 국회 합의 주목해야”\\n비트코인 3700만 원대 유지, 미 정부 비트코인 4천억 판매 소문 퍼져\\n비트코인-이더리움 수수료 급등에 솔라나 이용자 증가\\n비트코인, 3600만원선 탈환…\\'웨이브\\' 유의종목 지정 해제에 급등\\n뉴욕증시 끝내 \"디폴트\" 로이터 긴급보도… 비트코인 국채금리 달러환율 채무불이행 쇼크\\n[코툰] \"모든 대형은행, 비트코인 서비스 제공하게 될 것\"\\n뉴욕증시 비트코인 폭발 , 바이든 디폴트 특별기자회견…타깃 월마트 실적 발표\\n테더, USDT 안정화 위해 2억달러 상당 비트코인 매입\\n4월 CPI \\'예상치 하회\\'에도 비트코인 보합…FTX는 \\'과세 폭탄\\'[코인브리핑]\\n빗썸경제연구소, \\'가상자산 시장\\' 중간 점검 · \\'비트코인 가격\\' 전망\\n비트코인 시세 미국 부채한도 협상 타결 전망에 2만 7000달러 회복\\n비트코인, 나스닥 급등에 2만6천달러선 회복...오늘 34억달러 상당 BTC·ETH 옵션 만기\\n바이낸스, 거래량 폭증 따른 비트코인 출금 차단 해제...비트코인 3% 급락\\n캐나다 가상화폐 펀드 발행사, “가상화폐 거품 감소로 ‘비트코인 투자 기회 포착에 대한 두려움’ 줄어”\\na16z, 英재무부에 \"디파이 전용 규제 필요\"…비트코인은 흔들[코인브리핑]\\n美·EU 금리 인상에 비트코인 상승세 주춤\\n비트코인 10만 달러 간다? 신중론도 만만찮다\\n비트코인 횡보세...美 투자은행 \"단기 상승랠리 온다\" [코인브리핑]\\n\\'은행 위기 종결설\\' 비트코인 급락…3700만원대\\n[가상화폐 시세] 비트코인 3500만원선으로 하락…도지코인 95원선, 이더리움 240만원선 거래\\n[코인시황] 비트코인 상승 2만7324달러, 리플↑ 이더리움↑1823달러\\n비트코인 1만개 보관했다던 권도형, 경제상태 질문에 “미디엄”\\n[코인시황] 비트코인 다시 2만7000달러 아래로…부채 한도 난항 속 주식은 상승세\\n비트코인 2024년 4월까지 500% 상승할 수 있다?...BTC 반감기 기대감 여전\\n[속보] 미국 끝내 디폴트, 무디스 \"뉴욕증시 비트코인 20% 폭락\" 경고\\n美법원, 비트코인 사기꾼에 \"4조5천억 배상\"…역대 최대\\n[코인시황] 비트코인, 3600만원선 안팎 등락…美 디폴트 공포 지속\\n비트코인 2만6000달러 벽 붕괴, 美 가상화폐 규제 강화 영향\\n[크립토 브리핑] 3600만원대서 버티는 비트코인...움츠러드는 투심\\n두나무, \\'비트코인 피자데이\\' 맞이 피자 이벤트 실시\\n“비트코인 단기 반등-부채한도 상향 승인 美 국회 합의 주목해야”\\n테슬라, 엔비디아 시장 견인..환율,금리 안정..금융주 혼조,비트코인 반등..대형주 순환매 필요한 시기\\n[글로벌 비즈 브리핑] 비트코인, 바이낸스 인출 중단에 \\'미끌\\'·애플, 50억 달러 회사채 발행 外\\n비트코인 2만7000달러 회복, 7일 만에 안정세\\n[크립토 브리핑] 가상자산 시장 옥죄는 美...힘 빠지는 비트코인\\n[가상화폐 시황] 비트코인, 2만6000달러 횡보…폴리곤 1.8%↑\\n[코인췍] 비트코인 혼조세···\"추가 하락 가능성 열어둬야\"\\n美은행위기 재부상에도 비트코인 3% 하락, 2만7000달러 붕괴\\n비트코인 두 배 뛴다는데…\"이때 매수하라\" 전문가 조언\\n[가상화폐 시황] 비트코인 2만7000달러 상회…리플·솔라나 4% 상승\\n미 증시 관망 짙어..엔비디아,삼성전자 의존 낮춰야...비트코인 조정, 시장 속도 조절 후 안정 찾을 듯\\n“비트코인 단기 반등, 부채 한도 상향 승인 美 국회 합의 주목해야”\\n“美 은행위기 안 끝났다…금·비트코인 강세 계속될 것”\\n나스닥 선물 상승 반전, 대형주 선순환 필요..비트코인 동력 상실..시장은 속도 조절 후 재상승 예상돼\\n빗썸경제연구소 “비트코인, 부채 한도 상향 승인 美 국회 합의 주목해야”\\n비트코인 3600만 원대 유지, 미국 부채 한도 협상과 가상화폐 규제 영향\\n비트코인, 2만7천달러선 회복…연준 행보 주목\\n테라, 자산운용사와 계약 맺고 UST 가격 조작…비트코인 횡보[코인브리핑]\\n비트코인, 고래 626억 상당 거래소 이체에 \\'하락 반전\\'\\n[속보] 미국 끝내 디폴트, 무디스신용평가 채무불이행 공개 경고 뉴욕증시 비트코인 흔들\\n[속보] 백악관 부채한도협상 급물살, 매카시 긴급 기자회견 … 뉴욕증시 비트코인 환호\\n미증시 떨어지자 비트코인도 \\'출렁\\'…2만6000달러선 무너져\\n“비트코인 단기 반등, 부채 한도 상향 승인 美 국회 합의 주목해야”\\n美 CPI 2년새 최저지만...비트코인, 2만7천달러대 횡보 [코인브리핑]\\n12년 만에 지갑 교체한 \\'사토시 시대\\' 비트코인\\n[속보] 암호 가상화폐 \"폭풍전야\" 사상 첫 비트코인 MiCA 규제법 발동 … 뉴욕증시 나스닥 다우 흔들\\n빗썸경제연구소 \"대장 \\'비트코인\\' 중심으로 가상자산 시작 회복될 것\"\\n코인거래소 바이낸스, 비트코인 인출 멈췄다 [코인브리핑]\\n빗썸경제연구소 \"부채한도 조정 시, 비트코인 호재로 작용할 것\"\\n빗썸 \"비트코인 상승여력 충분···美부채한도 협상이 변수\"\\n\"비트코인, 美금리 인하 기대 높아지면 조정 진입 예상\"\\n\"비트코인, 현재 상승장 초입구간\" 낙관론 솔솔...맥스 카이저 \"BTC 외 모든 암호화폐는 증권\"\\n美 투자은행 \"비트코인 단기 상승랠리 예상...최대 32% 급등 가능\"\\n주간 NFT 거래자 70% 급증...비트코인 시장 점유율 \\'24%\\'\\n[초점] 비트코인 오늘 왜 하락했나?...미국 고용지표와 연준 매파적 발언 여파\\n“비트코인 단기 반등, 부채 한도 상향 승인 美 국회 합의 주목해야”\\n[속보] 뉴욕증시 돌연 휴장 부채합의 의회투표 앞두고 거래중단 왜? 비트코인 달러환율 흔들\\n“비트코인 단기 반등 전망.... 부채 한도 상향 승인 美 국회 합의가 변수”\\n빗썸경제연구소 “비트코인 단기 반등 전망...美부채 한도 상향법 변수”\\n국내 투자자 38% \"비트코인, 이번주 상승 전망\"...53% \"해외 5억 이상 코인 보유 과세 신고 동의\"\\nIMF, CAR 가상자산 정책·경제 성장에 ‘낙관론’··· 비트코인 채택 긍정\\n비트코인, 반감기 앞두고 고래 증가율 상승 의미는?\\n[가상화폐 시세] 비트코인 3600만원선…도지코인 95원선, 이더리움 250만원선 거래\\n[크립토 주간 브리핑] 비트코인-이더리움 7% 하락...美 규제 움직임에 \\'긴장\\'\\n비트코인, 단기 변동성 줄고 \\'상승세 복귀\\' 전망 나와\\n[가상화폐 시세] 비트코인 3600만원선으로 하락…도지코인 96원선, 이더리움 250만원선 거래\\n비트코인 지난주 11% 넘게 급락…이익실현 추정\\n[코인췍] 비트코인, 美 부채한도 협상 타결 기대감에 상승···하락 가능성 여전\\n일주일간 7% 넘게 하락…비트코인 가격 2만6755달러\\n[가상화폐 시세] 비트코인 3700만원선 위태…도지코인 96원선, 이더리움 250만원선 거래\\n비트코인, \\'은행주 불안\\'에 깜짝 반등…3800만원대\\n숨 고르는 시장, 삼성전자 조정..법안 표결 논란..비트코인 횡보, 에코프로 반등..대형주 중심 관심 필요\\n플랫타익스체인지, ‘비트코인 피자데이’ 기념 이벤트 연다\\n체이널리시스, “불법 마약 거래에 비트코인·테더 지불수단으로 악용”\\n델리오, 비트코인 피자데이 이벤트 실시\\n美 은행위기·금리인하 기대감 확대에도…비트코인 2만6000달러 대로 추락\\n비트코인 첫 현물거래 기념 5월 22일 ‘피자데이’…피자가 처음이 아닐 수도 있다?\\n[속보] 부채한도협상 합의안 도출, 뉴욕증시 비트코인 그래도 디폴트 공포 … 대체 무슨 사연?\\n비트코인 3700만 원대 상승, 비트코인 가격 CPI 발표 뒤 하락 전망도\\n지지부진한 비트코인…\\'정점론\\' 나오자 투자자 이목 집중\\n[코인 시황] \\'모멘텀 상실\\' 비트코인 \"본격 조정 시 25K까지 후퇴\"\\n뉴욕에선...달러 \\'절상\\' vs 금값·은값·구리·美증시 \\'뚝\\', 비트코인 \\'장중급락\\'\\n비트코인 4% 하락…기술적으로 추가 약세 우려\\n비트코인 결제앱 스트라이크, 글로벌 확장...테더 USDT도 지원\\n비트코인 4개월 연속 상승, 반감기 앞두고 10만달러 돌파 가능\\n비트코인 트랜잭션 늘었는데 \\'활성 거래자\\' 줄어...\"높은 수수료에 거래 주저\"\\n[코인시황] 관망세 이어지는 비트코인…3700만원 앞두고 횡보\\n비트코인 네트워크 정체로 바이낸스 비트코인 출금 일시 중단\\n\"비트코인 1억 간다\"...\\'BTC 10만달러설\\' 왜 자꾸 나올까 [코인브리핑]\\n빗썸경제연구소가 본 올해 비트코인 가격 상승 이유 3가지\\n비트코인, 2만9천달러대...FOMC 촉각 [코인브리핑]\\n플랫타익스체인지, 비트코인 피자데이 기념 이벤트 진행\\n\\'사토시 시대\\' 비트코인 지갑, 휴면 12년 만에 지갑 교체\\n코빗, ‘비트코인 피자데이’ 기념 고객 이벤트\\n빗썸, “비트코인 단기 반등, 부채 한도 상향 승인 美 국회 합의 주목해야”\\n비트코인 시세 조정구간 더 깊어진다, 2만5천 달러에서 저점 형성 전망\\n美 디폴트 우려에 비트코인 2%대 급락...\"BTC 매도 리스크 지표 최저치 근접, 곧 큰 방향성 나올듯\"\\n비트코인 3500만 원대 공방, 미국 부채협상 교착과 금리인상 가능성 경계 심리\\n\"비트코인, 美 디폴트 시 달러보다 신뢰받을 것\"\\n비트코인, 규제 강화 기조에 \\'박스권 장세\\'…3600만원대\\n암호화폐 채굴기업 마라톤, 비트코인 개발에 50만달러 매칭 펀드 조성\\n2만7천달러로 주저앉은 비트코인, 상승 반전의 조건 [매일 돈이 보이는 습관 M+]\\n코빗리서치센터, “미국 부채 한도 이슈로 인한 비트코인 급락 가능성 낮아”\\n블룸버그 \"비트코인, 내년 10만 달러 돌파한다…4개월 연속 월간 상승\"\\n테더, 매달 영업이익 최대 15% 비트코인에 투자\\n[가상화폐 시황] 비트코인 2만7000달러 돌파…이더리움 2%↑\\n바이낸스 NFT, \\'비트코인 오디널스\\' 지원\\n비트코인 3600만 원대 상승, 미국 부채한도 협상 결렬땐 시세 급락 분석 나와\\n플랫타익스체인지, 비트코인 피자데이 기념 이벤트 진행\\n비트코인, \\'은행 불안\\' 지속에 상승세…3800만원대\\n[코인시황] 비트코인, 美 부채한도 협상 앞두고 횡보세…3600만원선 \\'등락\\'\\n[코인 시황] 비트코인, \\'페페\\' 인기 추락 속 부담...27K 하회\\n비트코인 3600만 원대 공방, 미 플랫폼 잘못 청구한 수수료 57억 상환 명령\\n비트코인, 미국·EU 금리 인상에 주춤…3800만원대\\nFOMC 소화한 비트코인, 4000만원 돌파 시도\\n[코툰] \"연준의 돈 찍어내기, 역겨워...비트코인·이더리움 매수해야\"\\n테슬라와 엔비디아 하락, JP모건 등 금융주 불안..FOMC 의사록 집중, 비트코인 부진, 미 금리 안정\\n바이낸스, 비트코인 기반 대체불가토큰 거래 지원 예정\\n비트코인 약세장 지속, 투심도 위축...\"BTC, 9월 1만2천달러까지 지속 하락 전망\" 주장도\\n코빗, 비트코인 피자데이 기념 고객 이벤트 진행\\n[아주경제 코이너스 브리핑] 비트코인, 3600만원대 횡보세…美 부채한도 협상 타결 기대감↑\\n\"그놈의 비트코인 1만개\"…390억 날렸다, 지옥이 시작됐다[코인지옥①]\\n스테이블코인 발행사 테더, 3천억원 규모 비트코인 매입\\n크립토밸리 스위스 \\'추크\\' 주, 비트코인·이더리움 납세 한도 상향 조정\\n코빗, \\'비트코인 피자데이\\' 기념 고객 이벤트\\n\\u200b[아주경제 코이너스 브리핑] 비트코인 2만7000달러대 횡보…美 부채한도 협상 난항 영향\\n비트코인, 미 CPI 예상치 하회에도 횡보…유동성 부족?\\n코빗, ‘비트코인 피자데이’ 기념 고객 이벤트\\n美 지역은행주 줄줄이 하락에 비트코인 상승\\n[가상화폐 시세] 비트코인 3500만원선…도지코인 97원선, 이더리움 240만원선 거래\\n비트코인-이더리움 상관관계, 2021년 이후 최저치...암호화폐 시장 변화하나?\\n[오전브리핑] 테더 비트코인 투자, 엑시인피니티 앱스토어 출시\\n\\'테더 비트코인 3000억 규모 매입\" BTC 시세 소폭 상승\\n매크로 전문가 \"암호화폐·기술주, 폭발적 랠리 준비 중\"...\"비트코인, 최고 수익률 보여줄 것\"\\n대형주 선순환 필요..엔비디아,삼성전자 의존 지나쳐..금리인상 우려, 비트코인 부진, 나스닥 선물 상승\\n빗썸경제연구소, “비트코인 단기 반등은 부채 한도 상향 승인 주목할 것\"\\n\"비트코인, 2만9500달러 돌파 못하면 큰 하락\" 경고한 이유 [강민승의 트레이드나우]\\n빗썸경제연구소 \"비트코인 단기 반등, 부채 한도 상향 승인 美 국회 합의 주목해야\"\\n최종 합의 보도, 금리인상 불가피해..삼성전자,엔비디아 의존 낮춰야..비트코인, 테슬라,애플 반등세\\n빗썸경제연구소 “미국 부채한도 상향 시 비트코인 가격 호재로 작용할 것”\\n은행 위기 진정세에…비트코인 가격 4% 하락\\n빗썸경제연구소, 美 부채 한도 상향 시나리오별 비트코인 동향 분석\\n[크립토 브리핑] 추락하는 비트코인...3600만원선도 위태\\n[코인 빅데이터] \\'빅2\\' 암호화폐, 반등이냐 추가하락이냐...비트코인(BTC) vs 이더리움(ETH) 트렌드\\n비트코인 약세장 속 리플·라이트코인 선전\\n비트코인 1% 하락…오안다 \"빅랠리 이후 조정은 타당\"\\n비트코인, 3700만원 돌파 실패에도 강세신호 \\'계속\\'\\nBAYC 제치고 비트코인 개구리 NFT 컬렉션 인기 1위\\n비트코인 시세 ‘고난의 주간’ 겪는다, 단기 불확실성이 중장기 상승추세 압박\\n\\u200b[아주경제 코이너스 브리핑] 소폭 반등세 보인 비트코인···2만7600달러대\\n비트코인 26,000달러선 횡보, 투심은 \\'중립\\' 유지... \"美 부채 한도 상향되면, BTC 하락할 수도\"\\n코인베이스 인스티튜셔널, 디폴트에 따른 비트코인 거래범위 전망 내놔\\n비트코인, 2만7천달러대 유지...\"美 대선에 비트코인 성공 달렸다\" [코인브리핑]\\n[속보] 미국 끝내 디폴트, 무디스 국가신용등급 \"하향 조정\" 경고…뉴욕증시 비트코인 흔들\\n[Weekly Coin] CPI 우려 넘었지만···비트코인, 잇단 \\'악재\\'로 약세\\n[시장분석] \"비트코인, 분명한 강세장\" vs. \"방어적 자세 취해야\"\\n[코인시황] 비트코인 상승 2만7260달러, 리플 3% 급등 이더리움↑1906달러\\n비트코인, 美 디폴트 시 최소 2700만원 추가 상승\\n코빗, \\'비트코인 피자데이\\' 기념 고객 이벤트 실시\\n연준, 美 부채해결 위해 \\'금리 인하 불가피 \\'비트코인 UP\\'\\n바이낸스 출금 중단에 비트코인 시세 하락\\n비트코인, 바이낸스US에서 700달러 프리미엄 판매\\nSEC 고발한 코인베이스…가상자산 증권성 둘러싼 5가지 장면[비트코인A to Z]\\n퍼스트리퍼블릭 사태 진정국면에 비트코인 급락\\n미국 發 은행 위기에 급등한 비트코인, 5월 들어 주춤.. 왜?\\n\"내년 비트코인 1억원 간다\"…은행서 이런 보고서 나온 이유\\n델리오, 비트코인 피자데이 맞아 추첨으로 피자 제공\\n[속보] 미국 국가 신용등급 끝내 \"강등\" 부채한도 하원 통과 했지만… 뉴욕증시 비트코인 \"디폴트 발작\"\\n비트코인, 미 CPI 발표 앞두고 관망세…페페코인 급등\\n테더, 자산 준비금 2% ‘비트코인’으로 구성\\n투자은행 번스타인 \"비트코인 단기 하락은 저가매수 기회\"\\n[속보] 러시아 핵무기 벨라루스 이전 배치, 푸틴 마지막 승부수? 뉴욕증시 비트코인 흔들\\n[코인 시황] 비트코인, 부채협상·유동성 경계감 속 27K 회복\\n바이낸스, 12시간 만에 비트코인 인출 두 번째 중단\\n뉴욕증시 비트코인 와르르 급락 \"미국 끝내 디폴트\" 국채금리 달러환율 암호가상화폐 부도발작\\n[도예리의 NFT 레이더] 비트코인 기반 NFT가 뜬다···\\'오디널스 프로토콜\\'이란?\\n[초점] BRC-20 토큰 비트코인 발목잡나?…BTC 수수료 급증·거래 적체 가중\\n빗썸, 비트코인 관련 \"부채 한도 상향 승인 美 국회 합의 주목해야”\\n베트남, 암호화폐 강도에 중형 선고...158만달러 상당 비트코인 탈취\\n비트코인, 2만7천달러대...\"비트코인은 여전히 매력적\" [코인브리핑]\\n빗썸경제연구소, “비트코인 단기 반등, 부채 한도 상향 승인 美 국회 합의 주목해야”\\n스탠더드 차터드 “비트코인 겨울 끝…내년 말 10만달러 간다”\\n되살아난 은행 공포에 피난처 부상?…비트코인, 3% 상승\\n구글 인기 검색 키워드… \\'AI\\' 보단 \\'비트코인\\'\\n마운트곡스發 매도 루머에 \\'롤러코스터\\' 탄 비트코인 [코인브리핑]\\n코빗, ‘비트코인 피자데이’ 기념 고객 이벤트 실시\\n비트코인 2만5천 달러로 하락 가능성, 조사기관 \"상승 모멘텀 찾기 어렵다\"\\n빗썸 경제연구소 \"미국 부채한도 상향 조정시 비트코인 가격 호재 가능성\"\\n[속보] 푸틴 특별명령 \"핵무기\" F-16 맞대응 우크라-러시아 전면전…뉴욕증시 비트코인 휘청\\n美 물가안정 호재에도…비트코인 2만7000달러 대 횡보 지속\\n비트코인 사놓고 가야 할까?...\\'장밋빛 전망\\' 일색\\n비트코인 2만7천달러선 회복, 투심 개선...\"美 부채 한도 상향 이슈, BTC 가격에 제한적\"\\n빗썸, \\'비트코인 피자데이\\' 맞아 위기가정에 긴급 지원금 전달\\n[코인시황] 비트코인, 美 부채한도 협상 낙관론에 반등…3600만원대 후반으로↑\\n비트코인 3600만 원대 유지, 한국은행 암호자산 취약점 평가 보고서 내\\n비트코인, 우호적 경제 지표에도 하락세…페페코인은 급락\\n비트코인 가격 약세...미국 부채한도 협상 주시\\n코빗, 비트코인 피자데이 기념 이용자 이벤트\\n[가상화폐 시세] 비트코인 3700만원선 회복…도지코인 97원선, 이더리움 250만원선 거래\\n비트코인, 美 디폴트 우려 등에 1.6% 하락…스테이블 코인 생태계도 위협\\n\\'바이낸스 인출 중단\\' 여파로 비트코인 3% 하락\\n빗썸경제연구소 \"부채 한도 상향 승인 美 합의에 따라 비트코인 호재 될수도\"\\n비트코인 올해 80% 급등… “포모 심리 주의보”\\n파산은행 매각과 비트코인 거래량 신기록의 의미\\n글래스노드 공동창업자 \"비트코인 급등 가능성\" vs JP모건 CEO \"약세장 지속될 것\"\\nSC, 내년 말 비트코인 10만달러 간다…“암호화폐 겨울 끝났다”\\n흔들리는 비트코인\\n흔들리는 비트코인\\n코빗, ‘비트코인 피자데이’ 기념 고객 이벤트 실시\\n[코인시황] 비트코인 하락 2만8835달러, 리플↓ 이더리움↑1912달러\\n코빗, ‘비트코인 피자데이’ 기념 고객 이벤트 실시\\n[코인 시황] \\'유동성 축소\\' 비트코인, 27K 아래로\\n코빗, \\'비트코인 피자데이\\' 기념 고객 이벤트\\n비트코인 3600만 원대 머물러, 미국 가상화폐 규제 단속에 제한적 등락\\n2만7442달러까지 떨어진 비트코인 내년 10만 달러 가나?\\n[가상화폐 시황] 비트코인 3% 하락…하루 만에 2만6000달러 후퇴\\n비트코인 4개월 연속 \\'랠리\\'…\"내년 1억원 간다\"\\n비트코인, 파월 \\'매파\\' 발언에도 상승세…3800만원대\\n비트코인 2개월래 최저...베테랑 트레이더 \"BTC 급락보다 급등 가능성 높아\"\\n\"연내 금리 인하 없다\" 파월 발언에도 비트코인 상승…왜?\\n[코인시황] 비트코인 2만7000달러 회복, 부채 한도 협상이 관건\\n[코인시황] 비트코인 급락 2만6978달러, 리플↓이더리움 2%↓1794달러\\n코빗, ‘비트코인 피자데이’ 기념 고객 이벤트 실시\\n비트코인, \\'EU 규제\\' 이후 횡보 지속…3600만원대\\n미국 소비자물가지수 예상치 하회에 비트코인 일시적 반등\\n비트코인 반락에도 “전망 여전히 밝아”\\n비트코인, 바이낸스 인출 중단 여파에 2만7000달러 선 후퇴\\n부채 협상 기대감..테슬라,아마존,금융주 상승..PCE 예상 상회..비트코인 횡보, 종목 순환 대비 필요\\n비트코인, 일주일 새 10% 하락…美은행 위기·규제 강화 \\'영향\\'\\n코빗, \\'비트코인 피자데이\\'…522명 추첨 피자 증정\\n텍사스, 플레어 가스 재활용해 친환경 비트코인 채굴한다\\n[코인 시황] 비트코인, 유동성 우려 속 27K 일시 붕괴\\n[속보] 부채한도협상 \" 곧 타결\" 바이든 디폴트 기자회견… 뉴욕증시 비트코인 엔비디아 폭발\\n비트코인 가격 \\'장중 강세\\', 2만7000달러선 회복\\n[코인시황] 비트코인, 美 고용지표 발표 앞두고 3600만원선 \\'등락\\'\\n[오늘의 비트코인] \\'주말 시황\\'비트코인 27k, 알트코인 현재상황은?\\n달러·美국채금리 \\'뚝\\', 비트코인 \\'장중하락\\' vs 금·은·구리·美증시 \\'활짝\\'\\n삼성전자 포함 대형주 순환 상승 기대..다우와 은행주 상승 인상적..비트코인 주춤, FOMC 주목 필요\\n美부채한도 협상은 됐는데…비트코인(BTC) 가격은 약보합\\n부채 협상 선반영 우려, 대형주 순환 기대..삼성전자,POSCO홀딩스 추천..비트코인 횡보,FOMC 주목\\n증시 안정 더할 것..FOMC 주목 필요, 삼성전자와 대형주 순환매 예상..골디락스 기대, 비트코인 횡보\\n다우와 대형 은행주 상승 큰 의미.. 골디락스 기대.. 비트코인 주춤, 한국 증시 대형주 순환매 기대\\n[속보] 부채한도협상 \" 곧 타결\" 바이든 디폴트 기자회견… 뉴욕증시 비트코인 엔비디아 폭발\\n비트코인 가격 \\'장중 강세\\', 2만7000달러선 회복\\n[코인시황] 비트코인, 美 고용지표 발표 앞두고 3600만원선 \\'등락\\'\\n[오늘의 비트코인] \\'주말 시황\\'비트코인 27k, 알트코인 현재상황은?\\n달러·美국채금리 \\'뚝\\', 비트코인 \\'장중하락\\' vs 금·은·구리·美증시 \\'활짝\\'\\n삼성전자 포함 대형주 순환 상승 기대..다우와 은행주 상승 인상적..비트코인 주춤, FOMC 주목 필요\\n美부채한도 협상은 됐는데…비트코인(BTC) 가격은 약보합\\n부채 협상 선반영 우려, 대형주 순환 기대..삼성전자,POSCO홀딩스 추천..비트코인 횡보,FOMC 주목\\n증시 안정 더할 것..FOMC 주목 필요, 삼성전자와 대형주 순환매 예상..골디락스 기대, 비트코인 횡보\\n다우와 대형 은행주 상승 큰 의미.. 골디락스 기대.. 비트코인 주춤, 한국 증시 대형주 순환매 기대\\n[속보] 부채한도협상 \" 곧 타결\" 바이든 디폴트 기자회견… 뉴욕증시 비트코인 엔비디아 폭발\\n비트코인 가격 \\'장중 강세\\', 2만7000달러선 회복\\n[코인시황] 비트코인, 美 고용지표 발표 앞두고 3600만원선 \\'등락\\'\\n[오늘의 비트코인] \\'주말 시황\\'비트코인 27k, 알트코인 현재상황은?\\n달러·美국채금리 \\'뚝\\', 비트코인 \\'장중하락\\' vs 금·은·구리·美증시 \\'활짝\\'\\n삼성전자 포함 대형주 순환 상승 기대..다우와 은행주 상승 인상적..비트코인 주춤, FOMC 주목 필요\\n美부채한도 협상은 됐는데…비트코인(BTC) 가격은 약보합\\n부채 협상 선반영 우려, 대형주 순환 기대..삼성전자,POSCO홀딩스 추천..비트코인 횡보,FOMC 주목\\n증시 안정 더할 것..FOMC 주목 필요, 삼성전자와 대형주 순환매 예상..골디락스 기대, 비트코인 횡보\\n다우와 대형 은행주 상승 큰 의미.. 골디락스 기대.. 비트코인 주춤, 한국 증시 대형주 순환매 기대\\n[속보] 부채한도협상 \" 곧 타결\" 바이든 디폴트 기자회견… 뉴욕증시 비트코인 엔비디아 폭발\\n비트코인 가격 \\'장중 강세\\', 2만7000달러선 회복\\n[코인시황] 비트코인, 美 고용지표 발표 앞두고 3600만원선 \\'등락\\'\\n[오늘의 비트코인] \\'주말 시황\\'비트코인 27k, 알트코인 현재상황은?\\n달러·美국채금리 \\'뚝\\', 비트코인 \\'장중하락\\' vs 금·은·구리·美증시 \\'활짝\\'\\n삼성전자 포함 대형주 순환 상승 기대..다우와 은행주 상승 인상적..비트코인 주춤, FOMC 주목 필요\\n美부채한도 협상은 됐는데…비트코인(BTC) 가격은 약보합\\n부채 협상 선반영 우려, 대형주 순환 기대..삼성전자,POSCO홀딩스 추천..비트코인 횡보,FOMC 주목\\n증시 안정 더할 것..FOMC 주목 필요, 삼성전자와 대형주 순환매 예상..골디락스 기대, 비트코인 횡보\\n다우와 대형 은행주 상승 큰 의미.. 골디락스 기대.. 비트코인 주춤, 한국 증시 대형주 순환매 기대\\n[속보] 부채한도협상 \" 곧 타결\" 바이든 디폴트 기자회견… 뉴욕증시 비트코인 엔비디아 폭발\\n비트코인 가격 \\'장중 강세\\', 2만7000달러선 회복\\n[코인시황] 비트코인, 美 고용지표 발표 앞두고 3600만원선 \\'등락\\'\\n[오늘의 비트코인] \\'주말 시황\\'비트코인 27k, 알트코인 현재상황은?\\n달러·美국채금리 \\'뚝\\', 비트코인 \\'장중하락\\' vs 금·은·구리·美증시 \\'활짝\\'\\n삼성전자 포함 대형주 순환 상승 기대..다우와 은행주 상승 인상적..비트코인 주춤, FOMC 주목 필요\\n美부채한도 협상은 됐는데…비트코인(BTC) 가격은 약보합\\n부채 협상 선반영 우려, 대형주 순환 기대..삼성전자,POSCO홀딩스 추천..비트코인 횡보,FOMC 주목\\n증시 안정 더할 것..FOMC 주목 필요, 삼성전자와 대형주 순환매 예상..골디락스 기대, 비트코인 횡보\\n다우와 대형 은행주 상승 큰 의미.. 골디락스 기대.. 비트코인 주춤, 한국 증시 대형주 순환매 기대\\n[속보] 부채한도협상 \" 곧 타결\" 바이든 디폴트 기자회견… 뉴욕증시 비트코인 엔비디아 폭발\\n비트코인 가격 \\'장중 강세\\', 2만7000달러선 회복\\n[코인시황] 비트코인, 美 고용지표 발표 앞두고 3600만원선 \\'등락\\'\\n[오늘의 비트코인] \\'주말 시황\\'비트코인 27k, 알트코인 현재상황은?\\n달러·美국채금리 \\'뚝\\', 비트코인 \\'장중하락\\' vs 금·은·구리·美증시 \\'활짝\\'\\n삼성전자 포함 대형주 순환 상승 기대..다우와 은행주 상승 인상적..비트코인 주춤, FOMC 주목 필요\\n美부채한도 협상은 됐는데…비트코인(BTC) 가격은 약보합\\n부채 협상 선반영 우려, 대형주 순환 기대..삼성전자,POSCO홀딩스 추천..비트코인 횡보,FOMC 주목\\n증시 안정 더할 것..FOMC 주목 필요, 삼성전자와 대형주 순환매 예상..골디락스 기대, 비트코인 횡보\\n다우와 대형 은행주 상승 큰 의미.. 골디락스 기대.. 비트코인 주춤, 한국 증시 대형주 순환매 기대\\n[속보] 부채한도협상 \" 곧 타결\" 바이든 디폴트 기자회견… 뉴욕증시 비트코인 엔비디아 폭발\\n비트코인 가격 \\'장중 강세\\', 2만7000달러선 회복\\n[코인시황] 비트코인, 美 고용지표 발표 앞두고 3600만원선 \\'등락\\'\\n[오늘의 비트코인] \\'주말 시황\\'비트코인 27k, 알트코인 현재상황은?\\n달러·美국채금리 \\'뚝\\', 비트코인 \\'장중하락\\' vs 금·은·구리·美증시 \\'활짝\\'\\n삼성전자 포함 대형주 순환 상승 기대..다우와 은행주 상승 인상적..비트코인 주춤, FOMC 주목 필요\\n美부채한도 협상은 됐는데…비트코인(BTC) 가격은 약보합\\n부채 협상 선반영 우려, 대형주 순환 기대..삼성전자,POSCO홀딩스 추천..비트코인 횡보,FOMC 주목\\n증시 안정 더할 것..FOMC 주목 필요, 삼성전자와 대형주 순환매 예상..골디락스 기대, 비트코인 횡보\\n다우와 대형 은행주 상승 큰 의미.. 골디락스 기대.. 비트코인 주춤, 한국 증시 대형주 순환매 기대\\n[속보] 부채한도협상 \" 곧 타결\" 바이든 디폴트 기자회견… 뉴욕증시 비트코인 엔비디아 폭발\\n비트코인 가격 \\'장중 강세\\', 2만7000달러선 회복\\n[코인시황] 비트코인, 美 고용지표 발표 앞두고 3600만원선 \\'등락\\'\\n[오늘의 비트코인] \\'주말 시황\\'비트코인 27k, 알트코인 현재상황은?\\n달러·美국채금리 \\'뚝\\', 비트코인 \\'장중하락\\' vs 금·은·구리·美증시 \\'활짝\\'\\n삼성전자 포함 대형주 순환 상승 기대..다우와 은행주 상승 인상적..비트코인 주춤, FOMC 주목 필요\\n美부채한도 협상은 됐는데…비트코인(BTC) 가격은 약보합\\n부채 협상 선반영 우려, 대형주 순환 기대..삼성전자,POSCO홀딩스 추천..비트코인 횡보,FOMC 주목\\n증시 안정 더할 것..FOMC 주목 필요, 삼성전자와 대형주 순환매 예상..골디락스 기대, 비트코인 횡보\\n다우와 대형 은행주 상승 큰 의미.. 골디락스 기대.. 비트코인 주춤, 한국 증시 대형주 순환매 기대\\n[속보] 부채한도협상 \" 곧 타결\" 바이든 디폴트 기자회견… 뉴욕증시 비트코인 엔비디아 폭발\\n비트코인 가격 \\'장중 강세\\', 2만7000달러선 회복\\n[코인시황] 비트코인, 美 고용지표 발표 앞두고 3600만원선 \\'등락\\'\\n[오늘의 비트코인] \\'주말 시황\\'비트코인 27k, 알트코인 현재상황은?\\n달러·美국채금리 \\'뚝\\', 비트코인 \\'장중하락\\' vs 금·은·구리·美증시 \\'활짝\\'\\n삼성전자 포함 대형주 순환 상승 기대..다우와 은행주 상승 인상적..비트코인 주춤, FOMC 주목 필요\\n美부채한도 협상은 됐는데…비트코인(BTC) 가격은 약보합\\n부채 협상 선반영 우려, 대형주 순환 기대..삼성전자,POSCO홀딩스 추천..비트코인 횡보,FOMC 주목\\n증시 안정 더할 것..FOMC 주목 필요, 삼성전자와 대형주 순환매 예상..골디락스 기대, 비트코인 횡보\\n다우와 대형 은행주 상승 큰 의미.. 골디락스 기대.. 비트코인 주춤, 한국 증시 대형주 순환매 기대\\n[속보] 부채한도협상 \" 곧 타결\" 바이든 디폴트 기자회견… 뉴욕증시 비트코인 엔비디아 폭발\\n비트코인 가격 \\'장중 강세\\', 2만7000달러선 회복\\n[코인시황] 비트코인, 美 고용지표 발표 앞두고 3600만원선 \\'등락\\'\\n[오늘의 비트코인] \\'주말 시황\\'비트코인 27k, 알트코인 현재상황은?\\n달러·美국채금리 \\'뚝\\', 비트코인 \\'장중하락\\' vs 금·은·구리·美증시 \\'활짝\\'\\n삼성전자 포함 대형주 순환 상승 기대..다우와 은행주 상승 인상적..비트코인 주춤, FOMC 주목 필요\\n美부채한도 협상은 됐는데…비트코인(BTC) 가격은 약보합\\n부채 협상 선반영 우려, 대형주 순환 기대..삼성전자,POSCO홀딩스 추천..비트코인 횡보,FOMC 주목\\n증시 안정 더할 것..FOMC 주목 필요, 삼성전자와 대형주 순환매 예상..골디락스 기대, 비트코인 횡보\\n다우와 대형 은행주 상승 큰 의미.. 골디락스 기대.. 비트코인 주춤, 한국 증시 대형주 순환매 기대\\n[속보] 부채한도협상 \" 곧 타결\" 바이든 디폴트 기자회견… 뉴욕증시 비트코인 엔비디아 폭발\\n비트코인 가격 \\'장중 강세\\', 2만7000달러선 회복\\n[코인시황] 비트코인, 美 고용지표 발표 앞두고 3600만원선 \\'등락\\'\\n[오늘의 비트코인] \\'주말 시황\\'비트코인 27k, 알트코인 현재상황은?\\n달러·美국채금리 \\'뚝\\', 비트코인 \\'장중하락\\' vs 금·은·구리·美증시 \\'활짝\\'\\n삼성전자 포함 대형주 순환 상승 기대..다우와 은행주 상승 인상적..비트코인 주춤, FOMC 주목 필요\\n美부채한도 협상은 됐는데…비트코인(BTC) 가격은 약보합\\n부채 협상 선반영 우려, 대형주 순환 기대..삼성전자,POSCO홀딩스 추천..비트코인 횡보,FOMC 주목\\n증시 안정 더할 것..FOMC 주목 필요, 삼성전자와 대형주 순환매 예상..골디락스 기대, 비트코인 횡보\\n다우와 대형 은행주 상승 큰 의미.. 골디락스 기대.. 비트코인 주춤, 한국 증시 대형주 순환매 기대\\n[속보] 부채한도협상 \" 곧 타결\" 바이든 디폴트 기자회견… 뉴욕증시 비트코인 엔비디아 폭발\\n비트코인 가격 \\'장중 강세\\', 2만7000달러선 회복\\n[코인시황] 비트코인, 美 고용지표 발표 앞두고 3600만원선 \\'등락\\'\\n[오늘의 비트코인] \\'주말 시황\\'비트코인 27k, 알트코인 현재상황은?\\n달러·美국채금리 \\'뚝\\', 비트코인 \\'장중하락\\' vs 금·은·구리·美증시 \\'활짝\\'\\n삼성전자 포함 대형주 순환 상승 기대..다우와 은행주 상승 인상적..비트코인 주춤, FOMC 주목 필요\\n美부채한도 협상은 됐는데…비트코인(BTC) 가격은 약보합\\n부채 협상 선반영 우려, 대형주 순환 기대..삼성전자,POSCO홀딩스 추천..비트코인 횡보,FOMC 주목\\n증시 안정 더할 것..FOMC 주목 필요, 삼성전자와 대형주 순환매 예상..골디락스 기대, 비트코인 횡보\\n다우와 대형 은행주 상승 큰 의미.. 골디락스 기대.. 비트코인 주춤, 한국 증시 대형주 순환매 기대\\n[속보] 부채한도협상 \" 곧 타결\" 바이든 디폴트 기자회견… 뉴욕증시 비트코인 엔비디아 폭발\\n비트코인 가격 \\'장중 강세\\', 2만7000달러선 회복\\n[코인시황] 비트코인, 美 고용지표 발표 앞두고 3600만원선 \\'등락\\'\\n[오늘의 비트코인] \\'주말 시황\\'비트코인 27k, 알트코인 현재상황은?\\n달러·美국채금리 \\'뚝\\', 비트코인 \\'장중하락\\' vs 금·은·구리·美증시 \\'활짝\\'\\n삼성전자 포함 대형주 순환 상승 기대..다우와 은행주 상승 인상적..비트코인 주춤, FOMC 주목 필요\\n美부채한도 협상은 됐는데…비트코인(BTC) 가격은 약보합\\n부채 협상 선반영 우려, 대형주 순환 기대..삼성전자,POSCO홀딩스 추천..비트코인 횡보,FOMC 주목\\n증시 안정 더할 것..FOMC 주목 필요, 삼성전자와 대형주 순환매 예상..골디락스 기대, 비트코인 횡보\\n다우와 대형 은행주 상승 큰 의미.. 골디락스 기대.. 비트코인 주춤, 한국 증시 대형주 순환매 기대\\n[속보] 부채한도협상 \" 곧 타결\" 바이든 디폴트 기자회견… 뉴욕증시 비트코인 엔비디아 폭발\\n비트코인 가격 \\'장중 강세\\', 2만7000달러선 회복\\n[코인시황] 비트코인, 美 고용지표 발표 앞두고 3600만원선 \\'등락\\'\\n[오늘의 비트코인] \\'주말 시황\\'비트코인 27k, 알트코인 현재상황은?\\n달러·美국채금리 \\'뚝\\', 비트코인 \\'장중하락\\' vs 금·은·구리·美증시 \\'활짝\\'\\n삼성전자 포함 대형주 순환 상승 기대..다우와 은행주 상승 인상적..비트코인 주춤, FOMC 주목 필요\\n美부채한도 협상은 됐는데…비트코인(BTC) 가격은 약보합\\n부채 협상 선반영 우려, 대형주 순환 기대..삼성전자,POSCO홀딩스 추천..비트코인 횡보,FOMC 주목\\n증시 안정 더할 것..FOMC 주목 필요, 삼성전자와 대형주 순환매 예상..골디락스 기대, 비트코인 횡보\\n다우와 대형 은행주 상승 큰 의미.. 골디락스 기대.. 비트코인 주춤, 한국 증시 대형주 순환매 기대\\n[속보] 부채한도협상 \" 곧 타결\" 바이든 디폴트 기자회견… 뉴욕증시 비트코인 엔비디아 폭발\\n비트코인 가격 \\'장중 강세\\', 2만7000달러선 회복\\n[코인시황] 비트코인, 美 고용지표 발표 앞두고 3600만원선 \\'등락\\'\\n[오늘의 비트코인] \\'주말 시황\\'비트코인 27k, 알트코인 현재상황은?\\n달러·美국채금리 \\'뚝\\', 비트코인 \\'장중하락\\' vs 금·은·구리·美증시 \\'활짝\\'\\n삼성전자 포함 대형주 순환 상승 기대..다우와 은행주 상승 인상적..비트코인 주춤, FOMC 주목 필요\\n美부채한도 협상은 됐는데…비트코인(BTC) 가격은 약보합\\n부채 협상 선반영 우려, 대형주 순환 기대..삼성전자,POSCO홀딩스 추천..비트코인 횡보,FOMC 주목\\n증시 안정 더할 것..FOMC 주목 필요, 삼성전자와 대형주 순환매 예상..골디락스 기대, 비트코인 횡보\\n다우와 대형 은행주 상승 큰 의미.. 골디락스 기대.. 비트코인 주춤, 한국 증시 대형주 순환매 기대\\n[속보] 부채한도협상 \" 곧 타결\" 바이든 디폴트 기자회견… 뉴욕증시 비트코인 엔비디아 폭발\\n비트코인 가격 \\'장중 강세\\', 2만7000달러선 회복\\n[코인시황] 비트코인, 美 고용지표 발표 앞두고 3600만원선 \\'등락\\'\\n[오늘의 비트코인] \\'주말 시황\\'비트코인 27k, 알트코인 현재상황은?\\n달러·美국채금리 \\'뚝\\', 비트코인 \\'장중하락\\' vs 금·은·구리·美증시 \\'활짝\\'\\n삼성전자 포함 대형주 순환 상승 기대..다우와 은행주 상승 인상적..비트코인 주춤, FOMC 주목 필요\\n美부채한도 협상은 됐는데…비트코인(BTC) 가격은 약보합\\n부채 협상 선반영 우려, 대형주 순환 기대..삼성전자,POSCO홀딩스 추천..비트코인 횡보,FOMC 주목\\n증시 안정 더할 것..FOMC 주목 필요, 삼성전자와 대형주 순환매 예상..골디락스 기대, 비트코인 횡보\\n다우와 대형 은행주 상승 큰 의미.. 골디락스 기대.. 비트코인 주춤, 한국 증시 대형주 순환매 기대\\n[속보] 부채한도협상 \" 곧 타결\" 바이든 디폴트 기자회견… 뉴욕증시 비트코인 엔비디아 폭발\\n비트코인 가격 \\'장중 강세\\', 2만7000달러선 회복\\n[코인시황] 비트코인, 美 고용지표 발표 앞두고 3600만원선 \\'등락\\'\\n[오늘의 비트코인] \\'주말 시황\\'비트코인 27k, 알트코인 현재상황은?\\n달러·美국채금리 \\'뚝\\', 비트코인 \\'장중하락\\' vs 금·은·구리·美증시 \\'활짝\\'\\n삼성전자 포함 대형주 순환 상승 기대..다우와 은행주 상승 인상적..비트코인 주춤, FOMC 주목 필요\\n美부채한도 협상은 됐는데…비트코인(BTC) 가격은 약보합\\n부채 협상 선반영 우려, 대형주 순환 기대..삼성전자,POSCO홀딩스 추천..비트코인 횡보,FOMC 주목\\n증시 안정 더할 것..FOMC 주목 필요, 삼성전자와 대형주 순환매 예상..골디락스 기대, 비트코인 횡보\\n다우와 대형 은행주 상승 큰 의미.. 골디락스 기대.. 비트코인 주춤, 한국 증시 대형주 순환매 기대\\n[속보] 부채한도협상 \" 곧 타결\" 바이든 디폴트 기자회견… 뉴욕증시 비트코인 엔비디아 폭발\\n비트코인 가격 \\'장중 강세\\', 2만7000달러선 회복\\n[코인시황] 비트코인, 美 고용지표 발표 앞두고 3600만원선 \\'등락\\'\\n[오늘의 비트코인] \\'주말 시황\\'비트코인 27k, 알트코인 현재상황은?\\n달러·美국채금리 \\'뚝\\', 비트코인 \\'장중하락\\' vs 금·은·구리·美증시 \\'활짝\\'\\n삼성전자 포함 대형주 순환 상승 기대..다우와 은행주 상승 인상적..비트코인 주춤, FOMC 주목 필요\\n美부채한도 협상은 됐는데…비트코인(BTC) 가격은 약보합\\n부채 협상 선반영 우려, 대형주 순환 기대..삼성전자,POSCO홀딩스 추천..비트코인 횡보,FOMC 주목\\n증시 안정 더할 것..FOMC 주목 필요, 삼성전자와 대형주 순환매 예상..골디락스 기대, 비트코인 횡보\\n다우와 대형 은행주 상승 큰 의미.. 골디락스 기대.. 비트코인 주춤, 한국 증시 대형주 순환매 기대\\n[속보] 부채한도협상 \" 곧 타결\" 바이든 디폴트 기자회견… 뉴욕증시 비트코인 엔비디아 폭발\\n비트코인 가격 \\'장중 강세\\', 2만7000달러선 회복\\n[코인시황] 비트코인, 美 고용지표 발표 앞두고 3600만원선 \\'등락\\'\\n[오늘의 비트코인] \\'주말 시황\\'비트코인 27k, 알트코인 현재상황은?\\n달러·美국채금리 \\'뚝\\', 비트코인 \\'장중하락\\' vs 금·은·구리·美증시 \\'활짝\\'\\n삼성전자 포함 대형주 순환 상승 기대..다우와 은행주 상승 인상적..비트코인 주춤, FOMC 주목 필요\\n美부채한도 협상은 됐는데…비트코인(BTC) 가격은 약보합\\n부채 협상 선반영 우려, 대형주 순환 기대..삼성전자,POSCO홀딩스 추천..비트코인 횡보,FOMC 주목\\n증시 안정 더할 것..FOMC 주목 필요, 삼성전자와 대형주 순환매 예상..골디락스 기대, 비트코인 횡보\\n다우와 대형 은행주 상승 큰 의미.. 골디락스 기대.. 비트코인 주춤, 한국 증시 대형주 순환매 기대\\n[속보] 부채한도협상 \" 곧 타결\" 바이든 디폴트 기자회견… 뉴욕증시 비트코인 엔비디아 폭발\\n비트코인 가격 \\'장중 강세\\', 2만7000달러선 회복\\n[코인시황] 비트코인, 美 고용지표 발표 앞두고 3600만원선 \\'등락\\'\\n[오늘의 비트코인] \\'주말 시황\\'비트코인 27k, 알트코인 현재상황은?\\n달러·美국채금리 \\'뚝\\', 비트코인 \\'장중하락\\' vs 금·은·구리·美증시 \\'활짝\\'\\n삼성전자 포함 대형주 순환 상승 기대..다우와 은행주 상승 인상적..비트코인 주춤, FOMC 주목 필요\\n美부채한도 협상은 됐는데…비트코인(BTC) 가격은 약보합\\n부채 협상 선반영 우려, 대형주 순환 기대..삼성전자,POSCO홀딩스 추천..비트코인 횡보,FOMC 주목\\n증시 안정 더할 것..FOMC 주목 필요, 삼성전자와 대형주 순환매 예상..골디락스 기대, 비트코인 횡보\\n다우와 대형 은행주 상승 큰 의미.. 골디락스 기대.. 비트코인 주춤, 한국 증시 대형주 순환매 기대\\n[속보] 부채한도협상 \" 곧 타결\" 바이든 디폴트 기자회견… 뉴욕증시 비트코인 엔비디아 폭발\\n비트코인 가격 \\'장중 강세\\', 2만7000달러선 회복\\n[코인시황] 비트코인, 美 고용지표 발표 앞두고 3600만원선 \\'등락\\'\\n[오늘의 비트코인] \\'주말 시황\\'비트코인 27k, 알트코인 현재상황은?\\n달러·美국채금리 \\'뚝\\', 비트코인 \\'장중하락\\' vs 금·은·구리·美증시 \\'활짝\\'\\n삼성전자 포함 대형주 순환 상승 기대..다우와 은행주 상승 인상적..비트코인 주춤, FOMC 주목 필요\\n美부채한도 협상은 됐는데…비트코인(BTC) 가격은 약보합\\n부채 협상 선반영 우려, 대형주 순환 기대..삼성전자,POSCO홀딩스 추천..비트코인 횡보,FOMC 주목\\n증시 안정 더할 것..FOMC 주목 필요, 삼성전자와 대형주 순환매 예상..골디락스 기대, 비트코인 횡보\\n다우와 대형 은행주 상승 큰 의미.. 골디락스 기대.. 비트코인 주춤, 한국 증시 대형주 순환매 기대\\n[속보] 부채한도협상 \" 곧 타결\" 바이든 디폴트 기자회견… 뉴욕증시 비트코인 엔비디아 폭발\\n비트코인 가격 \\'장중 강세\\', 2만7000달러선 회복\\n[코인시황] 비트코인, 美 고용지표 발표 앞두고 3600만원선 \\'등락\\'\\n[오늘의 비트코인] \\'주말 시황\\'비트코인 27k, 알트코인 현재상황은?\\n달러·美국채금리 \\'뚝\\', 비트코인 \\'장중하락\\' vs 금·은·구리·美증시 \\'활짝\\'\\n삼성전자 포함 대형주 순환 상승 기대..다우와 은행주 상승 인상적..비트코인 주춤, FOMC 주목 필요\\n美부채한도 협상은 됐는데…비트코인(BTC) 가격은 약보합\\n부채 협상 선반영 우려, 대형주 순환 기대..삼성전자,POSCO홀딩스 추천..비트코인 횡보,FOMC 주목\\n증시 안정 더할 것..FOMC 주목 필요, 삼성전자와 대형주 순환매 예상..골디락스 기대, 비트코인 횡보\\n다우와 대형 은행주 상승 큰 의미.. 골디락스 기대.. 비트코인 주춤, 한국 증시 대형주 순환매 기대\\n[속보] 부채한도협상 \" 곧 타결\" 바이든 디폴트 기자회견… 뉴욕증시 비트코인 엔비디아 폭발\\n비트코인 가격 \\'장중 강세\\', 2만7000달러선 회복\\n[코인시황] 비트코인, 美 고용지표 발표 앞두고 3600만원선 \\'등락\\'\\n[오늘의 비트코인] \\'주말 시황\\'비트코인 27k, 알트코인 현재상황은?\\n달러·美국채금리 \\'뚝\\', 비트코인 \\'장중하락\\' vs 금·은·구리·美증시 \\'활짝\\'\\n삼성전자 포함 대형주 순환 상승 기대..다우와 은행주 상승 인상적..비트코인 주춤, FOMC 주목 필요\\n美부채한도 협상은 됐는데…비트코인(BTC) 가격은 약보합\\n부채 협상 선반영 우려, 대형주 순환 기대..삼성전자,POSCO홀딩스 추천..비트코인 횡보,FOMC 주목\\n증시 안정 더할 것..FOMC 주목 필요, 삼성전자와 대형주 순환매 예상..골디락스 기대, 비트코인 횡보\\n다우와 대형 은행주 상승 큰 의미.. 골디락스 기대.. 비트코인 주춤, 한국 증시 대형주 순환매 기대\\n[속보] 부채한도협상 \" 곧 타결\" 바이든 디폴트 기자회견… 뉴욕증시 비트코인 엔비디아 폭발\\n비트코인 가격 \\'장중 강세\\', 2만7000달러선 회복\\n[코인시황] 비트코인, 美 고용지표 발표 앞두고 3600만원선 \\'등락\\'\\n[오늘의 비트코인] \\'주말 시황\\'비트코인 27k, 알트코인 현재상황은?\\n달러·美국채금리 \\'뚝\\', 비트코인 \\'장중하락\\' vs 금·은·구리·美증시 \\'활짝\\'\\n삼성전자 포함 대형주 순환 상승 기대..다우와 은행주 상승 인상적..비트코인 주춤, FOMC 주목 필요\\n美부채한도 협상은 됐는데…비트코인(BTC) 가격은 약보합\\n부채 협상 선반영 우려, 대형주 순환 기대..삼성전자,POSCO홀딩스 추천..비트코인 횡보,FOMC 주목\\n증시 안정 더할 것..FOMC 주목 필요, 삼성전자와 대형주 순환매 예상..골디락스 기대, 비트코인 횡보\\n다우와 대형 은행주 상승 큰 의미.. 골디락스 기대.. 비트코인 주춤, 한국 증시 대형주 순환매 기대\\n[속보] 부채한도협상 \" 곧 타결\" 바이든 디폴트 기자회견… 뉴욕증시 비트코인 엔비디아 폭발\\n비트코인 가격 \\'장중 강세\\', 2만7000달러선 회복\\n[코인시황] 비트코인, 美 고용지표 발표 앞두고 3600만원선 \\'등락\\'\\n[오늘의 비트코인] \\'주말 시황\\'비트코인 27k, 알트코인 현재상황은?\\n달러·美국채금리 \\'뚝\\', 비트코인 \\'장중하락\\' vs 금·은·구리·美증시 \\'활짝\\'\\n삼성전자 포함 대형주 순환 상승 기대..다우와 은행주 상승 인상적..비트코인 주춤, FOMC 주목 필요\\n美부채한도 협상은 됐는데…비트코인(BTC) 가격은 약보합\\n부채 협상 선반영 우려, 대형주 순환 기대..삼성전자,POSCO홀딩스 추천..비트코인 횡보,FOMC 주목\\n증시 안정 더할 것..FOMC 주목 필요, 삼성전자와 대형주 순환매 예상..골디락스 기대, 비트코인 횡보\\n다우와 대형 은행주 상승 큰 의미.. 골디락스 기대.. 비트코인 주춤, 한국 증시 대형주 순환매 기대\\n[속보] 부채한도협상 \" 곧 타결\" 바이든 디폴트 기자회견… 뉴욕증시 비트코인 엔비디아 폭발\\n비트코인 가격 \\'장중 강세\\', 2만7000달러선 회복\\n[코인시황] 비트코인, 美 고용지표 발표 앞두고 3600만원선 \\'등락\\'\\n[오늘의 비트코인] \\'주말 시황\\'비트코인 27k, 알트코인 현재상황은?\\n달러·美국채금리 \\'뚝\\', 비트코인 \\'장중하락\\' vs 금·은·구리·美증시 \\'활짝\\'\\n삼성전자 포함 대형주 순환 상승 기대..다우와 은행주 상승 인상적..비트코인 주춤, FOMC 주목 필요\\n美부채한도 협상은 됐는데…비트코인(BTC) 가격은 약보합\\n부채 협상 선반영 우려, 대형주 순환 기대..삼성전자,POSCO홀딩스 추천..비트코인 횡보,FOMC 주목\\n증시 안정 더할 것..FOMC 주목 필요, 삼성전자와 대형주 순환매 예상..골디락스 기대, 비트코인 횡보\\n다우와 대형 은행주 상승 큰 의미.. 골디락스 기대.. 비트코인 주춤, 한국 증시 대형주 순환매 기대\\n[속보] 부채한도협상 \" 곧 타결\" 바이든 디폴트 기자회견… 뉴욕증시 비트코인 엔비디아 폭발\\n비트코인 가격 \\'장중 강세\\', 2만7000달러선 회복\\n[코인시황] 비트코인, 美 고용지표 발표 앞두고 3600만원선 \\'등락\\'\\n[오늘의 비트코인] \\'주말 시황\\'비트코인 27k, 알트코인 현재상황은?\\n달러·美국채금리 \\'뚝\\', 비트코인 \\'장중하락\\' vs 금·은·구리·美증시 \\'활짝\\'\\n삼성전자 포함 대형주 순환 상승 기대..다우와 은행주 상승 인상적..비트코인 주춤, FOMC 주목 필요\\n美부채한도 협상은 됐는데…비트코인(BTC) 가격은 약보합\\n부채 협상 선반영 우려, 대형주 순환 기대..삼성전자,POSCO홀딩스 추천..비트코인 횡보,FOMC 주목\\n증시 안정 더할 것..FOMC 주목 필요, 삼성전자와 대형주 순환매 예상..골디락스 기대, 비트코인 횡보\\n다우와 대형 은행주 상승 큰 의미.. 골디락스 기대.. 비트코인 주춤, 한국 증시 대형주 순환매 기대\\n[속보] 부채한도협상 \" 곧 타결\" 바이든 디폴트 기자회견… 뉴욕증시 비트코인 엔비디아 폭발\\n비트코인 가격 \\'장중 강세\\', 2만7000달러선 회복\\n[코인시황] 비트코인, 美 고용지표 발표 앞두고 3600만원선 \\'등락\\'\\n[오늘의 비트코인] \\'주말 시황\\'비트코인 27k, 알트코인 현재상황은?\\n달러·美국채금리 \\'뚝\\', 비트코인 \\'장중하락\\' vs 금·은·구리·美증시 \\'활짝\\'\\n삼성전자 포함 대형주 순환 상승 기대..다우와 은행주 상승 인상적..비트코인 주춤, FOMC 주목 필요\\n美부채한도 협상은 됐는데…비트코인(BTC) 가격은 약보합\\n부채 협상 선반영 우려, 대형주 순환 기대..삼성전자,POSCO홀딩스 추천..비트코인 횡보,FOMC 주목\\n증시 안정 더할 것..FOMC 주목 필요, 삼성전자와 대형주 순환매 예상..골디락스 기대, 비트코인 횡보\\n다우와 대형 은행주 상승 큰 의미.. 골디락스 기대.. 비트코인 주춤, 한국 증시 대형주 순환매 기대\\n[속보] 부채한도협상 \" 곧 타결\" 바이든 디폴트 기자회견… 뉴욕증시 비트코인 엔비디아 폭발\\n비트코인 가격 \\'장중 강세\\', 2만7000달러선 회복\\n[코인시황] 비트코인, 美 고용지표 발표 앞두고 3600만원선 \\'등락\\'\\n[오늘의 비트코인] \\'주말 시황\\'비트코인 27k, 알트코인 현재상황은?\\n달러·美국채금리 \\'뚝\\', 비트코인 \\'장중하락\\' vs 금·은·구리·美증시 \\'활짝\\'\\n삼성전자 포함 대형주 순환 상승 기대..다우와 은행주 상승 인상적..비트코인 주춤, FOMC 주목 필요\\n美부채한도 협상은 됐는데…비트코인(BTC) 가격은 약보합\\n부채 협상 선반영 우려, 대형주 순환 기대..삼성전자,POSCO홀딩스 추천..비트코인 횡보,FOMC 주목\\n증시 안정 더할 것..FOMC 주목 필요, 삼성전자와 대형주 순환매 예상..골디락스 기대, 비트코인 횡보\\n다우와 대형 은행주 상승 큰 의미.. 골디락스 기대.. 비트코인 주춤, 한국 증시 대형주 순환매 기대\\n[속보] 부채한도협상 \" 곧 타결\" 바이든 디폴트 기자회견… 뉴욕증시 비트코인 엔비디아 폭발\\n비트코인 가격 \\'장중 강세\\', 2만7000달러선 회복\\n[코인시황] 비트코인, 美 고용지표 발표 앞두고 3600만원선 \\'등락\\'\\n[오늘의 비트코인] \\'주말 시황\\'비트코인 27k, 알트코인 현재상황은?\\n달러·美국채금리 \\'뚝\\', 비트코인 \\'장중하락\\' vs 금·은·구리·美증시 \\'활짝\\'\\n삼성전자 포함 대형주 순환 상승 기대..다우와 은행주 상승 인상적..비트코인 주춤, FOMC 주목 필요\\n美부채한도 협상은 됐는데…비트코인(BTC) 가격은 약보합\\n부채 협상 선반영 우려, 대형주 순환 기대..삼성전자,POSCO홀딩스 추천..비트코인 횡보,FOMC 주목\\n증시 안정 더할 것..FOMC 주목 필요, 삼성전자와 대형주 순환매 예상..골디락스 기대, 비트코인 횡보\\n다우와 대형 은행주 상승 큰 의미.. 골디락스 기대.. 비트코인 주춤, 한국 증시 대형주 순환매 기대\\n[속보] 부채한도협상 \" 곧 타결\" 바이든 디폴트 기자회견… 뉴욕증시 비트코인 엔비디아 폭발\\n비트코인 가격 \\'장중 강세\\', 2만7000달러선 회복\\n[코인시황] 비트코인, 美 고용지표 발표 앞두고 3600만원선 \\'등락\\'\\n[오늘의 비트코인] \\'주말 시황\\'비트코인 27k, 알트코인 현재상황은?\\n달러·美국채금리 \\'뚝\\', 비트코인 \\'장중하락\\' vs 금·은·구리·美증시 \\'활짝\\'\\n삼성전자 포함 대형주 순환 상승 기대..다우와 은행주 상승 인상적..비트코인 주춤, FOMC 주목 필요\\n美부채한도 협상은 됐는데…비트코인(BTC) 가격은 약보합\\n부채 협상 선반영 우려, 대형주 순환 기대..삼성전자,POSCO홀딩스 추천..비트코인 횡보,FOMC 주목\\n증시 안정 더할 것..FOMC 주목 필요, 삼성전자와 대형주 순환매 예상..골디락스 기대, 비트코인 횡보\\n다우와 대형 은행주 상승 큰 의미.. 골디락스 기대.. 비트코인 주춤, 한국 증시 대형주 순환매 기대\\n[속보] 부채한도협상 \" 곧 타결\" 바이든 디폴트 기자회견… 뉴욕증시 비트코인 엔비디아 폭발\\n비트코인 가격 \\'장중 강세\\', 2만7000달러선 회복\\n[코인시황] 비트코인, 美 고용지표 발표 앞두고 3600만원선 \\'등락\\'\\n[오늘의 비트코인] \\'주말 시황\\'비트코인 27k, 알트코인 현재상황은?\\n달러·美국채금리 \\'뚝\\', 비트코인 \\'장중하락\\' vs 금·은·구리·美증시 \\'활짝\\'\\n삼성전자 포함 대형주 순환 상승 기대..다우와 은행주 상승 인상적..비트코인 주춤, FOMC 주목 필요\\n美부채한도 협상은 됐는데…비트코인(BTC) 가격은 약보합\\n부채 협상 선반영 우려, 대형주 순환 기대..삼성전자,POSCO홀딩스 추천..비트코인 횡보,FOMC 주목\\n증시 안정 더할 것..FOMC 주목 필요, 삼성전자와 대형주 순환매 예상..골디락스 기대, 비트코인 횡보\\n다우와 대형 은행주 상승 큰 의미.. 골디락스 기대.. 비트코인 주춤, 한국 증시 대형주 순환매 기대\\n[속보] 부채한도협상 \" 곧 타결\" 바이든 디폴트 기자회견… 뉴욕증시 비트코인 엔비디아 폭발\\n비트코인 가격 \\'장중 강세\\', 2만7000달러선 회복\\n[코인시황] 비트코인, 美 고용지표 발표 앞두고 3600만원선 \\'등락\\'\\n[오늘의 비트코인] \\'주말 시황\\'비트코인 27k, 알트코인 현재상황은?\\n달러·美국채금리 \\'뚝\\', 비트코인 \\'장중하락\\' vs 금·은·구리·美증시 \\'활짝\\'\\n삼성전자 포함 대형주 순환 상승 기대..다우와 은행주 상승 인상적..비트코인 주춤, FOMC 주목 필요\\n美부채한도 협상은 됐는데…비트코인(BTC) 가격은 약보합\\n부채 협상 선반영 우려, 대형주 순환 기대..삼성전자,POSCO홀딩스 추천..비트코인 횡보,FOMC 주목\\n증시 안정 더할 것..FOMC 주목 필요, 삼성전자와 대형주 순환매 예상..골디락스 기대, 비트코인 횡보\\n다우와 대형 은행주 상승 큰 의미.. 골디락스 기대.. 비트코인 주춤, 한국 증시 대형주 순환매 기대\\n[속보] 부채한도협상 \" 곧 타결\" 바이든 디폴트 기자회견… 뉴욕증시 비트코인 엔비디아 폭발\\n비트코인 가격 \\'장중 강세\\', 2만7000달러선 회복\\n[코인시황] 비트코인, 美 고용지표 발표 앞두고 3600만원선 \\'등락\\'\\n[오늘의 비트코인] \\'주말 시황\\'비트코인 27k, 알트코인 현재상황은?\\n달러·美국채금리 \\'뚝\\', 비트코인 \\'장중하락\\' vs 금·은·구리·美증시 \\'활짝\\'\\n삼성전자 포함 대형주 순환 상승 기대..다우와 은행주 상승 인상적..비트코인 주춤, FOMC 주목 필요\\n美부채한도 협상은 됐는데…비트코인(BTC) 가격은 약보합\\n부채 협상 선반영 우려, 대형주 순환 기대..삼성전자,POSCO홀딩스 추천..비트코인 횡보,FOMC 주목\\n증시 안정 더할 것..FOMC 주목 필요, 삼성전자와 대형주 순환매 예상..골디락스 기대, 비트코인 횡보\\n다우와 대형 은행주 상승 큰 의미.. 골디락스 기대.. 비트코인 주춤, 한국 증시 대형주 순환매 기대\\n[속보] 부채한도협상 \" 곧 타결\" 바이든 디폴트 기자회견… 뉴욕증시 비트코인 엔비디아 폭발\\n비트코인 가격 \\'장중 강세\\', 2만7000달러선 회복\\n[코인시황] 비트코인, 美 고용지표 발표 앞두고 3600만원선 \\'등락\\'\\n[오늘의 비트코인] \\'주말 시황\\'비트코인 27k, 알트코인 현재상황은?\\n달러·美국채금리 \\'뚝\\', 비트코인 \\'장중하락\\' vs 금·은·구리·美증시 \\'활짝\\'\\n삼성전자 포함 대형주 순환 상승 기대..다우와 은행주 상승 인상적..비트코인 주춤, FOMC 주목 필요\\n美부채한도 협상은 됐는데…비트코인(BTC) 가격은 약보합\\n부채 협상 선반영 우려, 대형주 순환 기대..삼성전자,POSCO홀딩스 추천..비트코인 횡보,FOMC 주목\\n증시 안정 더할 것..FOMC 주목 필요, 삼성전자와 대형주 순환매 예상..골디락스 기대, 비트코인 횡보\\n다우와 대형 은행주 상승 큰 의미.. 골디락스 기대.. 비트코인 주춤, 한국 증시 대형주 순환매 기대\\n[속보] 부채한도협상 \" 곧 타결\" 바이든 디폴트 기자회견… 뉴욕증시 비트코인 엔비디아 폭발\\n비트코인 가격 \\'장중 강세\\', 2만7000달러선 회복\\n[코인시황] 비트코인, 美 고용지표 발표 앞두고 3600만원선 \\'등락\\'\\n[오늘의 비트코인] \\'주말 시황\\'비트코인 27k, 알트코인 현재상황은?\\n달러·美국채금리 \\'뚝\\', 비트코인 \\'장중하락\\' vs 금·은·구리·美증시 \\'활짝\\'\\n삼성전자 포함 대형주 순환 상승 기대..다우와 은행주 상승 인상적..비트코인 주춤, FOMC 주목 필요\\n美부채한도 협상은 됐는데…비트코인(BTC) 가격은 약보합\\n부채 협상 선반영 우려, 대형주 순환 기대..삼성전자,POSCO홀딩스 추천..비트코인 횡보,FOMC 주목\\n증시 안정 더할 것..FOMC 주목 필요, 삼성전자와 대형주 순환매 예상..골디락스 기대, 비트코인 횡보\\n다우와 대형 은행주 상승 큰 의미.. 골디락스 기대.. 비트코인 주춤, 한국 증시 대형주 순환매 기대\\n[속보] 부채한도협상 \" 곧 타결\" 바이든 디폴트 기자회견… 뉴욕증시 비트코인 엔비디아 폭발\\n비트코인 가격 \\'장중 강세\\', 2만7000달러선 회복\\n[코인시황] 비트코인, 美 고용지표 발표 앞두고 3600만원선 \\'등락\\'\\n[오늘의 비트코인] \\'주말 시황\\'비트코인 27k, 알트코인 현재상황은?\\n달러·美국채금리 \\'뚝\\', 비트코인 \\'장중하락\\' vs 금·은·구리·美증시 \\'활짝\\'\\n삼성전자 포함 대형주 순환 상승 기대..다우와 은행주 상승 인상적..비트코인 주춤, FOMC 주목 필요\\n美부채한도 협상은 됐는데…비트코인(BTC) 가격은 약보합\\n부채 협상 선반영 우려, 대형주 순환 기대..삼성전자,POSCO홀딩스 추천..비트코인 횡보,FOMC 주목\\n증시 안정 더할 것..FOMC 주목 필요, 삼성전자와 대형주 순환매 예상..골디락스 기대, 비트코인 횡보\\n다우와 대형 은행주 상승 큰 의미.. 골디락스 기대.. 비트코인 주춤, 한국 증시 대형주 순환매 기대\\n[속보] 부채한도협상 \" 곧 타결\" 바이든 디폴트 기자회견… 뉴욕증시 비트코인 엔비디아 폭발\\n비트코인 가격 \\'장중 강세\\', 2만7000달러선 회복\\n[코인시황] 비트코인, 美 고용지표 발표 앞두고 3600만원선 \\'등락\\'\\n[오늘의 비트코인] \\'주말 시황\\'비트코인 27k, 알트코인 현재상황은?\\n달러·美국채금리 \\'뚝\\', 비트코인 \\'장중하락\\' vs 금·은·구리·美증시 \\'활짝\\'\\n삼성전자 포함 대형주 순환 상승 기대..다우와 은행주 상승 인상적..비트코인 주춤, FOMC 주목 필요\\n美부채한도 협상은 됐는데…비트코인(BTC) 가격은 약보합\\n부채 협상 선반영 우려, 대형주 순환 기대..삼성전자,POSCO홀딩스 추천..비트코인 횡보,FOMC 주목\\n증시 안정 더할 것..FOMC 주목 필요, 삼성전자와 대형주 순환매 예상..골디락스 기대, 비트코인 횡보\\n다우와 대형 은행주 상승 큰 의미.. 골디락스 기대.. 비트코인 주춤, 한국 증시 대형주 순환매 기대\\n[속보] 부채한도협상 \" 곧 타결\" 바이든 디폴트 기자회견… 뉴욕증시 비트코인 엔비디아 폭발\\n비트코인 가격 \\'장중 강세\\', 2만7000달러선 회복\\n[코인시황] 비트코인, 美 고용지표 발표 앞두고 3600만원선 \\'등락\\'\\n[오늘의 비트코인] \\'주말 시황\\'비트코인 27k, 알트코인 현재상황은?\\n달러·美국채금리 \\'뚝\\', 비트코인 \\'장중하락\\' vs 금·은·구리·美증시 \\'활짝\\'\\n삼성전자 포함 대형주 순환 상승 기대..다우와 은행주 상승 인상적..비트코인 주춤, FOMC 주목 필요\\n美부채한도 협상은 됐는데…비트코인(BTC) 가격은 약보합\\n부채 협상 선반영 우려, 대형주 순환 기대..삼성전자,POSCO홀딩스 추천..비트코인 횡보,FOMC 주목\\n증시 안정 더할 것..FOMC 주목 필요, 삼성전자와 대형주 순환매 예상..골디락스 기대, 비트코인 횡보\\n다우와 대형 은행주 상승 큰 의미.. 골디락스 기대.. 비트코인 주춤, 한국 증시 대형주 순환매 기대\\n[속보] 부채한도협상 \" 곧 타결\" 바이든 디폴트 기자회견… 뉴욕증시 비트코인 엔비디아 폭발\\n비트코인 가격 \\'장중 강세\\', 2만7000달러선 회복\\n[코인시황] 비트코인, 美 고용지표 발표 앞두고 3600만원선 \\'등락\\'\\n[오늘의 비트코인] \\'주말 시황\\'비트코인 27k, 알트코인 현재상황은?\\n달러·美국채금리 \\'뚝\\', 비트코인 \\'장중하락\\' vs 금·은·구리·美증시 \\'활짝\\'\\n삼성전자 포함 대형주 순환 상승 기대..다우와 은행주 상승 인상적..비트코인 주춤, FOMC 주목 필요\\n美부채한도 협상은 됐는데…비트코인(BTC) 가격은 약보합\\n부채 협상 선반영 우려, 대형주 순환 기대..삼성전자,POSCO홀딩스 추천..비트코인 횡보,FOMC 주목\\n증시 안정 더할 것..FOMC 주목 필요, 삼성전자와 대형주 순환매 예상..골디락스 기대, 비트코인 횡보\\n다우와 대형 은행주 상승 큰 의미.. 골디락스 기대.. 비트코인 주춤, 한국 증시 대형주 순환매 기대\\n[속보] 부채한도협상 \" 곧 타결\" 바이든 디폴트 기자회견… 뉴욕증시 비트코인 엔비디아 폭발\\n비트코인 가격 \\'장중 강세\\', 2만7000달러선 회복\\n[코인시황] 비트코인, 美 고용지표 발표 앞두고 3600만원선 \\'등락\\'\\n[오늘의 비트코인] \\'주말 시황\\'비트코인 27k, 알트코인 현재상황은?\\n달러·美국채금리 \\'뚝\\', 비트코인 \\'장중하락\\' vs 금·은·구리·美증시 \\'활짝\\'\\n삼성전자 포함 대형주 순환 상승 기대..다우와 은행주 상승 인상적..비트코인 주춤, FOMC 주목 필요\\n美부채한도 협상은 됐는데…비트코인(BTC) 가격은 약보합\\n부채 협상 선반영 우려, 대형주 순환 기대..삼성전자,POSCO홀딩스 추천..비트코인 횡보,FOMC 주목\\n증시 안정 더할 것..FOMC 주목 필요, 삼성전자와 대형주 순환매 예상..골디락스 기대, 비트코인 횡보\\n다우와 대형 은행주 상승 큰 의미.. 골디락스 기대.. 비트코인 주춤, 한국 증시 대형주 순환매 기대\\n[속보] 부채한도협상 \" 곧 타결\" 바이든 디폴트 기자회견… 뉴욕증시 비트코인 엔비디아 폭발\\n비트코인 가격 \\'장중 강세\\', 2만7000달러선 회복\\n[코인시황] 비트코인, 美 고용지표 발표 앞두고 3600만원선 \\'등락\\'\\n[오늘의 비트코인] \\'주말 시황\\'비트코인 27k, 알트코인 현재상황은?\\n달러·美국채금리 \\'뚝\\', 비트코인 \\'장중하락\\' vs 금·은·구리·美증시 \\'활짝\\'\\n삼성전자 포함 대형주 순환 상승 기대..다우와 은행주 상승 인상적..비트코인 주춤, FOMC 주목 필요\\n美부채한도 협상은 됐는데…비트코인(BTC) 가격은 약보합\\n부채 협상 선반영 우려, 대형주 순환 기대..삼성전자,POSCO홀딩스 추천..비트코인 횡보,FOMC 주목\\n증시 안정 더할 것..FOMC 주목 필요, 삼성전자와 대형주 순환매 예상..골디락스 기대, 비트코인 횡보\\n다우와 대형 은행주 상승 큰 의미.. 골디락스 기대.. 비트코인 주춤, 한국 증시 대형주 순환매 기대\\n[속보] 부채한도협상 \" 곧 타결\" 바이든 디폴트 기자회견… 뉴욕증시 비트코인 엔비디아 폭발\\n비트코인 가격 \\'장중 강세\\', 2만7000달러선 회복\\n[코인시황] 비트코인, 美 고용지표 발표 앞두고 3600만원선 \\'등락\\'\\n[오늘의 비트코인] \\'주말 시황\\'비트코인 27k, 알트코인 현재상황은?\\n달러·美국채금리 \\'뚝\\', 비트코인 \\'장중하락\\' vs 금·은·구리·美증시 \\'활짝\\'\\n삼성전자 포함 대형주 순환 상승 기대..다우와 은행주 상승 인상적..비트코인 주춤, FOMC 주목 필요\\n美부채한도 협상은 됐는데…비트코인(BTC) 가격은 약보합\\n부채 협상 선반영 우려, 대형주 순환 기대..삼성전자,POSCO홀딩스 추천..비트코인 횡보,FOMC 주목\\n증시 안정 더할 것..FOMC 주목 필요, 삼성전자와 대형주 순환매 예상..골디락스 기대, 비트코인 횡보\\n다우와 대형 은행주 상승 큰 의미.. 골디락스 기대.. 비트코인 주춤, 한국 증시 대형주 순환매 기대\\n[속보] 부채한도협상 \" 곧 타결\" 바이든 디폴트 기자회견… 뉴욕증시 비트코인 엔비디아 폭발\\n비트코인 가격 \\'장중 강세\\', 2만7000달러선 회복\\n[코인시황] 비트코인, 美 고용지표 발표 앞두고 3600만원선 \\'등락\\'\\n[오늘의 비트코인] \\'주말 시황\\'비트코인 27k, 알트코인 현재상황은?\\n달러·美국채금리 \\'뚝\\', 비트코인 \\'장중하락\\' vs 금·은·구리·美증시 \\'활짝\\'\\n삼성전자 포함 대형주 순환 상승 기대..다우와 은행주 상승 인상적..비트코인 주춤, FOMC 주목 필요\\n美부채한도 협상은 됐는데…비트코인(BTC) 가격은 약보합\\n부채 협상 선반영 우려, 대형주 순환 기대..삼성전자,POSCO홀딩스 추천..비트코인 횡보,FOMC 주목\\n증시 안정 더할 것..FOMC 주목 필요, 삼성전자와 대형주 순환매 예상..골디락스 기대, 비트코인 횡보\\n다우와 대형 은행주 상승 큰 의미.. 골디락스 기대.. 비트코인 주춤, 한국 증시 대형주 순환매 기대\\n[속보] 부채한도협상 \" 곧 타결\" 바이든 디폴트 기자회견… 뉴욕증시 비트코인 엔비디아 폭발\\n비트코인 가격 \\'장중 강세\\', 2만7000달러선 회복\\n[코인시황] 비트코인, 美 고용지표 발표 앞두고 3600만원선 \\'등락\\'\\n[오늘의 비트코인] \\'주말 시황\\'비트코인 27k, 알트코인 현재상황은?\\n달러·美국채금리 \\'뚝\\', 비트코인 \\'장중하락\\' vs 금·은·구리·美증시 \\'활짝\\'\\n삼성전자 포함 대형주 순환 상승 기대..다우와 은행주 상승 인상적..비트코인 주춤, FOMC 주목 필요\\n美부채한도 협상은 됐는데…비트코인(BTC) 가격은 약보합\\n부채 협상 선반영 우려, 대형주 순환 기대..삼성전자,POSCO홀딩스 추천..비트코인 횡보,FOMC 주목\\n증시 안정 더할 것..FOMC 주목 필요, 삼성전자와 대형주 순환매 예상..골디락스 기대, 비트코인 횡보\\n다우와 대형 은행주 상승 큰 의미.. 골디락스 기대.. 비트코인 주춤, 한국 증시 대형주 순환매 기대\\n[속보] 부채한도협상 \" 곧 타결\" 바이든 디폴트 기자회견… 뉴욕증시 비트코인 엔비디아 폭발\\n비트코인 가격 \\'장중 강세\\', 2만7000달러선 회복\\n[코인시황] 비트코인, 美 고용지표 발표 앞두고 3600만원선 \\'등락\\'\\n[오늘의 비트코인] \\'주말 시황\\'비트코인 27k, 알트코인 현재상황은?\\n달러·美국채금리 \\'뚝\\', 비트코인 \\'장중하락\\' vs 금·은·구리·美증시 \\'활짝\\'\\n삼성전자 포함 대형주 순환 상승 기대..다우와 은행주 상승 인상적..비트코인 주춤, FOMC 주목 필요\\n美부채한도 협상은 됐는데…비트코인(BTC) 가격은 약보합\\n부채 협상 선반영 우려, 대형주 순환 기대..삼성전자,POSCO홀딩스 추천..비트코인 횡보,FOMC 주목\\n증시 안정 더할 것..FOMC 주목 필요, 삼성전자와 대형주 순환매 예상..골디락스 기대, 비트코인 횡보\\n다우와 대형 은행주 상승 큰 의미.. 골디락스 기대.. 비트코인 주춤, 한국 증시 대형주 순환매 기대\\n[속보] 부채한도협상 \" 곧 타결\" 바이든 디폴트 기자회견… 뉴욕증시 비트코인 엔비디아 폭발\\n비트코인 가격 \\'장중 강세\\', 2만7000달러선 회복\\n[코인시황] 비트코인, 美 고용지표 발표 앞두고 3600만원선 \\'등락\\'\\n[오늘의 비트코인] \\'주말 시황\\'비트코인 27k, 알트코인 현재상황은?\\n달러·美국채금리 \\'뚝\\', 비트코인 \\'장중하락\\' vs 금·은·구리·美증시 \\'활짝\\'\\n삼성전자 포함 대형주 순환 상승 기대..다우와 은행주 상승 인상적..비트코인 주춤, FOMC 주목 필요\\n美부채한도 협상은 됐는데…비트코인(BTC) 가격은 약보합\\n부채 협상 선반영 우려, 대형주 순환 기대..삼성전자,POSCO홀딩스 추천..비트코인 횡보,FOMC 주목\\n증시 안정 더할 것..FOMC 주목 필요, 삼성전자와 대형주 순환매 예상..골디락스 기대, 비트코인 횡보\\n다우와 대형 은행주 상승 큰 의미.. 골디락스 기대.. 비트코인 주춤, 한국 증시 대형주 순환매 기대\\n[속보] 부채한도협상 \" 곧 타결\" 바이든 디폴트 기자회견… 뉴욕증시 비트코인 엔비디아 폭발\\n비트코인 가격 \\'장중 강세\\', 2만7000달러선 회복\\n[코인시황] 비트코인, 美 고용지표 발표 앞두고 3600만원선 \\'등락\\'\\n[오늘의 비트코인] \\'주말 시황\\'비트코인 27k, 알트코인 현재상황은?\\n달러·美국채금리 \\'뚝\\', 비트코인 \\'장중하락\\' vs 금·은·구리·美증시 \\'활짝\\'\\n삼성전자 포함 대형주 순환 상승 기대..다우와 은행주 상승 인상적..비트코인 주춤, FOMC 주목 필요\\n美부채한도 협상은 됐는데…비트코인(BTC) 가격은 약보합\\n부채 협상 선반영 우려, 대형주 순환 기대..삼성전자,POSCO홀딩스 추천..비트코인 횡보,FOMC 주목\\n증시 안정 더할 것..FOMC 주목 필요, 삼성전자와 대형주 순환매 예상..골디락스 기대, 비트코인 횡보\\n다우와 대형 은행주 상승 큰 의미.. 골디락스 기대.. 비트코인 주춤, 한국 증시 대형주 순환매 기대\\n[속보] 부채한도협상 \" 곧 타결\" 바이든 디폴트 기자회견… 뉴욕증시 비트코인 엔비디아 폭발\\n비트코인 가격 \\'장중 강세\\', 2만7000달러선 회복\\n[코인시황] 비트코인, 美 고용지표 발표 앞두고 3600만원선 \\'등락\\'\\n[오늘의 비트코인] \\'주말 시황\\'비트코인 27k, 알트코인 현재상황은?\\n달러·美국채금리 \\'뚝\\', 비트코인 \\'장중하락\\' vs 금·은·구리·美증시 \\'활짝\\'\\n삼성전자 포함 대형주 순환 상승 기대..다우와 은행주 상승 인상적..비트코인 주춤, FOMC 주목 필요\\n美부채한도 협상은 됐는데…비트코인(BTC) 가격은 약보합\\n부채 협상 선반영 우려, 대형주 순환 기대..삼성전자,POSCO홀딩스 추천..비트코인 횡보,FOMC 주목\\n증시 안정 더할 것..FOMC 주목 필요, 삼성전자와 대형주 순환매 예상..골디락스 기대, 비트코인 횡보\\n다우와 대형 은행주 상승 큰 의미.. 골디락스 기대.. 비트코인 주춤, 한국 증시 대형주 순환매 기대\\n[속보] 부채한도협상 \" 곧 타결\" 바이든 디폴트 기자회견… 뉴욕증시 비트코인 엔비디아 폭발\\n비트코인 가격 \\'장중 강세\\', 2만7000달러선 회복\\n[코인시황] 비트코인, 美 고용지표 발표 앞두고 3600만원선 \\'등락\\'\\n[오늘의 비트코인] \\'주말 시황\\'비트코인 27k, 알트코인 현재상황은?\\n달러·美국채금리 \\'뚝\\', 비트코인 \\'장중하락\\' vs 금·은·구리·美증시 \\'활짝\\'\\n삼성전자 포함 대형주 순환 상승 기대..다우와 은행주 상승 인상적..비트코인 주춤, FOMC 주목 필요\\n美부채한도 협상은 됐는데…비트코인(BTC) 가격은 약보합\\n부채 협상 선반영 우려, 대형주 순환 기대..삼성전자,POSCO홀딩스 추천..비트코인 횡보,FOMC 주목\\n증시 안정 더할 것..FOMC 주목 필요, 삼성전자와 대형주 순환매 예상..골디락스 기대, 비트코인 횡보\\n다우와 대형 은행주 상승 큰 의미.. 골디락스 기대.. 비트코인 주춤, 한국 증시 대형주 순환매 기대\\n[속보] 부채한도협상 \" 곧 타결\" 바이든 디폴트 기자회견… 뉴욕증시 비트코인 엔비디아 폭발\\n비트코인 가격 \\'장중 강세\\', 2만7000달러선 회복\\n[코인시황] 비트코인, 美 고용지표 발표 앞두고 3600만원선 \\'등락\\'\\n[오늘의 비트코인] \\'주말 시황\\'비트코인 27k, 알트코인 현재상황은?\\n달러·美국채금리 \\'뚝\\', 비트코인 \\'장중하락\\' vs 금·은·구리·美증시 \\'활짝\\'\\n삼성전자 포함 대형주 순환 상승 기대..다우와 은행주 상승 인상적..비트코인 주춤, FOMC 주목 필요\\n美부채한도 협상은 됐는데…비트코인(BTC) 가격은 약보합\\n부채 협상 선반영 우려, 대형주 순환 기대..삼성전자,POSCO홀딩스 추천..비트코인 횡보,FOMC 주목\\n증시 안정 더할 것..FOMC 주목 필요, 삼성전자와 대형주 순환매 예상..골디락스 기대, 비트코인 횡보\\n다우와 대형 은행주 상승 큰 의미.. 골디락스 기대.. 비트코인 주춤, 한국 증시 대형주 순환매 기대\\n[속보] 부채한도협상 \" 곧 타결\" 바이든 디폴트 기자회견… 뉴욕증시 비트코인 엔비디아 폭발\\n비트코인 가격 \\'장중 강세\\', 2만7000달러선 회복\\n[코인시황] 비트코인, 美 고용지표 발표 앞두고 3600만원선 \\'등락\\'\\n[오늘의 비트코인] \\'주말 시황\\'비트코인 27k, 알트코인 현재상황은?\\n달러·美국채금리 \\'뚝\\', 비트코인 \\'장중하락\\' vs 금·은·구리·美증시 \\'활짝\\'\\n삼성전자 포함 대형주 순환 상승 기대..다우와 은행주 상승 인상적..비트코인 주춤, FOMC 주목 필요\\n美부채한도 협상은 됐는데…비트코인(BTC) 가격은 약보합\\n부채 협상 선반영 우려, 대형주 순환 기대..삼성전자,POSCO홀딩스 추천..비트코인 횡보,FOMC 주목\\n증시 안정 더할 것..FOMC 주목 필요, 삼성전자와 대형주 순환매 예상..골디락스 기대, 비트코인 횡보\\n다우와 대형 은행주 상승 큰 의미.. 골디락스 기대.. 비트코인 주춤, 한국 증시 대형주 순환매 기대\\n[속보] 부채한도협상 \" 곧 타결\" 바이든 디폴트 기자회견… 뉴욕증시 비트코인 엔비디아 폭발\\n비트코인 가격 \\'장중 강세\\', 2만7000달러선 회복\\n[코인시황] 비트코인, 美 고용지표 발표 앞두고 3600만원선 \\'등락\\'\\n[오늘의 비트코인] \\'주말 시황\\'비트코인 27k, 알트코인 현재상황은?\\n달러·美국채금리 \\'뚝\\', 비트코인 \\'장중하락\\' vs 금·은·구리·美증시 \\'활짝\\'\\n삼성전자 포함 대형주 순환 상승 기대..다우와 은행주 상승 인상적..비트코인 주춤, FOMC 주목 필요\\n美부채한도 협상은 됐는데…비트코인(BTC) 가격은 약보합\\n부채 협상 선반영 우려, 대형주 순환 기대..삼성전자,POSCO홀딩스 추천..비트코인 횡보,FOMC 주목\\n증시 안정 더할 것..FOMC 주목 필요, 삼성전자와 대형주 순환매 예상..골디락스 기대, 비트코인 횡보\\n다우와 대형 은행주 상승 큰 의미.. 골디락스 기대.. 비트코인 주춤, 한국 증시 대형주 순환매 기대\\n[속보] 부채한도협상 \" 곧 타결\" 바이든 디폴트 기자회견… 뉴욕증시 비트코인 엔비디아 폭발\\n비트코인 가격 \\'장중 강세\\', 2만7000달러선 회복\\n[코인시황] 비트코인, 美 고용지표 발표 앞두고 3600만원선 \\'등락\\'\\n[오늘의 비트코인] \\'주말 시황\\'비트코인 27k, 알트코인 현재상황은?\\n달러·美국채금리 \\'뚝\\', 비트코인 \\'장중하락\\' vs 금·은·구리·美증시 \\'활짝\\'\\n삼성전자 포함 대형주 순환 상승 기대..다우와 은행주 상승 인상적..비트코인 주춤, FOMC 주목 필요\\n美부채한도 협상은 됐는데…비트코인(BTC) 가격은 약보합\\n부채 협상 선반영 우려, 대형주 순환 기대..삼성전자,POSCO홀딩스 추천..비트코인 횡보,FOMC 주목\\n증시 안정 더할 것..FOMC 주목 필요, 삼성전자와 대형주 순환매 예상..골디락스 기대, 비트코인 횡보\\n다우와 대형 은행주 상승 큰 의미.. 골디락스 기대.. 비트코인 주춤, 한국 증시 대형주 순환매 기대\\n[속보] 부채한도협상 \" 곧 타결\" 바이든 디폴트 기자회견… 뉴욕증시 비트코인 엔비디아 폭발\\n비트코인 가격 \\'장중 강세\\', 2만7000달러선 회복\\n[코인시황] 비트코인, 美 고용지표 발표 앞두고 3600만원선 \\'등락\\'\\n[오늘의 비트코인] \\'주말 시황\\'비트코인 27k, 알트코인 현재상황은?\\n달러·美국채금리 \\'뚝\\', 비트코인 \\'장중하락\\' vs 금·은·구리·美증시 \\'활짝\\'\\n삼성전자 포함 대형주 순환 상승 기대..다우와 은행주 상승 인상적..비트코인 주춤, FOMC 주목 필요\\n美부채한도 협상은 됐는데…비트코인(BTC) 가격은 약보합\\n부채 협상 선반영 우려, 대형주 순환 기대..삼성전자,POSCO홀딩스 추천..비트코인 횡보,FOMC 주목\\n증시 안정 더할 것..FOMC 주목 필요, 삼성전자와 대형주 순환매 예상..골디락스 기대, 비트코인 횡보\\n다우와 대형 은행주 상승 큰 의미.. 골디락스 기대.. 비트코인 주춤, 한국 증시 대형주 순환매 기대\\n[속보] 부채한도협상 \" 곧 타결\" 바이든 디폴트 기자회견… 뉴욕증시 비트코인 엔비디아 폭발\\n비트코인 가격 \\'장중 강세\\', 2만7000달러선 회복\\n[코인시황] 비트코인, 美 고용지표 발표 앞두고 3600만원선 \\'등락\\'\\n[오늘의 비트코인] \\'주말 시황\\'비트코인 27k, 알트코인 현재상황은?\\n달러·美국채금리 \\'뚝\\', 비트코인 \\'장중하락\\' vs 금·은·구리·美증시 \\'활짝\\'\\n삼성전자 포함 대형주 순환 상승 기대..다우와 은행주 상승 인상적..비트코인 주춤, FOMC 주목 필요\\n美부채한도 협상은 됐는데…비트코인(BTC) 가격은 약보합\\n부채 협상 선반영 우려, 대형주 순환 기대..삼성전자,POSCO홀딩스 추천..비트코인 횡보,FOMC 주목\\n증시 안정 더할 것..FOMC 주목 필요, 삼성전자와 대형주 순환매 예상..골디락스 기대, 비트코인 횡보\\n다우와 대형 은행주 상승 큰 의미.. 골디락스 기대.. 비트코인 주춤, 한국 증시 대형주 순환매 기대\\n[속보] 부채한도협상 \" 곧 타결\" 바이든 디폴트 기자회견… 뉴욕증시 비트코인 엔비디아 폭발\\n비트코인 가격 \\'장중 강세\\', 2만7000달러선 회복\\n[코인시황] 비트코인, 美 고용지표 발표 앞두고 3600만원선 \\'등락\\'\\n[오늘의 비트코인] \\'주말 시황\\'비트코인 27k, 알트코인 현재상황은?\\n달러·美국채금리 \\'뚝\\', 비트코인 \\'장중하락\\' vs 금·은·구리·美증시 \\'활짝\\'\\n삼성전자 포함 대형주 순환 상승 기대..다우와 은행주 상승 인상적..비트코인 주춤, FOMC 주목 필요\\n美부채한도 협상은 됐는데…비트코인(BTC) 가격은 약보합\\n부채 협상 선반영 우려, 대형주 순환 기대..삼성전자,POSCO홀딩스 추천..비트코인 횡보,FOMC 주목\\n증시 안정 더할 것..FOMC 주목 필요, 삼성전자와 대형주 순환매 예상..골디락스 기대, 비트코인 횡보\\n다우와 대형 은행주 상승 큰 의미.. 골디락스 기대.. 비트코인 주춤, 한국 증시 대형주 순환매 기대\\n[속보] 부채한도협상 \" 곧 타결\" 바이든 디폴트 기자회견… 뉴욕증시 비트코인 엔비디아 폭발\\n비트코인 가격 \\'장중 강세\\', 2만7000달러선 회복\\n[코인시황] 비트코인, 美 고용지표 발표 앞두고 3600만원선 \\'등락\\'\\n[오늘의 비트코인] \\'주말 시황\\'비트코인 27k, 알트코인 현재상황은?\\n달러·美국채금리 \\'뚝\\', 비트코인 \\'장중하락\\' vs 금·은·구리·美증시 \\'활짝\\'\\n삼성전자 포함 대형주 순환 상승 기대..다우와 은행주 상승 인상적..비트코인 주춤, FOMC 주목 필요\\n美부채한도 협상은 됐는데…비트코인(BTC) 가격은 약보합\\n부채 협상 선반영 우려, 대형주 순환 기대..삼성전자,POSCO홀딩스 추천..비트코인 횡보,FOMC 주목\\n증시 안정 더할 것..FOMC 주목 필요, 삼성전자와 대형주 순환매 예상..골디락스 기대, 비트코인 횡보\\n다우와 대형 은행주 상승 큰 의미.. 골디락스 기대.. 비트코인 주춤, 한국 증시 대형주 순환매 기대\\n[속보] 부채한도협상 \" 곧 타결\" 바이든 디폴트 기자회견… 뉴욕증시 비트코인 엔비디아 폭발\\n비트코인 가격 \\'장중 강세\\', 2만7000달러선 회복\\n[코인시황] 비트코인, 美 고용지표 발표 앞두고 3600만원선 \\'등락\\'\\n[오늘의 비트코인] \\'주말 시황\\'비트코인 27k, 알트코인 현재상황은?\\n달러·美국채금리 \\'뚝\\', 비트코인 \\'장중하락\\' vs 금·은·구리·美증시 \\'활짝\\'\\n삼성전자 포함 대형주 순환 상승 기대..다우와 은행주 상승 인상적..비트코인 주춤, FOMC 주목 필요\\n美부채한도 협상은 됐는데…비트코인(BTC) 가격은 약보합\\n부채 협상 선반영 우려, 대형주 순환 기대..삼성전자,POSCO홀딩스 추천..비트코인 횡보,FOMC 주목\\n증시 안정 더할 것..FOMC 주목 필요, 삼성전자와 대형주 순환매 예상..골디락스 기대, 비트코인 횡보\\n다우와 대형 은행주 상승 큰 의미.. 골디락스 기대.. 비트코인 주춤, 한국 증시 대형주 순환매 기대\\n[속보] 부채한도협상 \" 곧 타결\" 바이든 디폴트 기자회견… 뉴욕증시 비트코인 엔비디아 폭발\\n비트코인 가격 \\'장중 강세\\', 2만7000달러선 회복\\n[코인시황] 비트코인, 美 고용지표 발표 앞두고 3600만원선 \\'등락\\'\\n[오늘의 비트코인] \\'주말 시황\\'비트코인 27k, 알트코인 현재상황은?\\n달러·美국채금리 \\'뚝\\', 비트코인 \\'장중하락\\' vs 금·은·구리·美증시 \\'활짝\\'\\n삼성전자 포함 대형주 순환 상승 기대..다우와 은행주 상승 인상적..비트코인 주춤, FOMC 주목 필요\\n美부채한도 협상은 됐는데…비트코인(BTC) 가격은 약보합\\n부채 협상 선반영 우려, 대형주 순환 기대..삼성전자,POSCO홀딩스 추천..비트코인 횡보,FOMC 주목\\n증시 안정 더할 것..FOMC 주목 필요, 삼성전자와 대형주 순환매 예상..골디락스 기대, 비트코인 횡보\\n다우와 대형 은행주 상승 큰 의미.. 골디락스 기대.. 비트코인 주춤, 한국 증시 대형주 순환매 기대\\n[속보] 부채한도협상 \" 곧 타결\" 바이든 디폴트 기자회견… 뉴욕증시 비트코인 엔비디아 폭발\\n비트코인 가격 \\'장중 강세\\', 2만7000달러선 회복\\n[코인시황] 비트코인, 美 고용지표 발표 앞두고 3600만원선 \\'등락\\'\\n[오늘의 비트코인] \\'주말 시황\\'비트코인 27k, 알트코인 현재상황은?\\n달러·美국채금리 \\'뚝\\', 비트코인 \\'장중하락\\' vs 금·은·구리·美증시 \\'활짝\\'\\n삼성전자 포함 대형주 순환 상승 기대..다우와 은행주 상승 인상적..비트코인 주춤, FOMC 주목 필요\\n美부채한도 협상은 됐는데…비트코인(BTC) 가격은 약보합\\n부채 협상 선반영 우려, 대형주 순환 기대..삼성전자,POSCO홀딩스 추천..비트코인 횡보,FOMC 주목\\n증시 안정 더할 것..FOMC 주목 필요, 삼성전자와 대형주 순환매 예상..골디락스 기대, 비트코인 횡보\\n다우와 대형 은행주 상승 큰 의미.. 골디락스 기대.. 비트코인 주춤, 한국 증시 대형주 순환매 기대\\n[속보] 부채한도협상 \" 곧 타결\" 바이든 디폴트 기자회견… 뉴욕증시 비트코인 엔비디아 폭발\\n비트코인 가격 \\'장중 강세\\', 2만7000달러선 회복\\n[코인시황] 비트코인, 美 고용지표 발표 앞두고 3600만원선 \\'등락\\'\\n[오늘의 비트코인] \\'주말 시황\\'비트코인 27k, 알트코인 현재상황은?\\n달러·美국채금리 \\'뚝\\', 비트코인 \\'장중하락\\' vs 금·은·구리·美증시 \\'활짝\\'\\n삼성전자 포함 대형주 순환 상승 기대..다우와 은행주 상승 인상적..비트코인 주춤, FOMC 주목 필요\\n美부채한도 협상은 됐는데…비트코인(BTC) 가격은 약보합\\n부채 협상 선반영 우려, 대형주 순환 기대..삼성전자,POSCO홀딩스 추천..비트코인 횡보,FOMC 주목\\n증시 안정 더할 것..FOMC 주목 필요, 삼성전자와 대형주 순환매 예상..골디락스 기대, 비트코인 횡보\\n다우와 대형 은행주 상승 큰 의미.. 골디락스 기대.. 비트코인 주춤, 한국 증시 대형주 순환매 기대\\n[속보] 부채한도협상 \" 곧 타결\" 바이든 디폴트 기자회견… 뉴욕증시 비트코인 엔비디아 폭발\\n비트코인 가격 \\'장중 강세\\', 2만7000달러선 회복\\n[코인시황] 비트코인, 美 고용지표 발표 앞두고 3600만원선 \\'등락\\'\\n[오늘의 비트코인] \\'주말 시황\\'비트코인 27k, 알트코인 현재상황은?\\n달러·美국채금리 \\'뚝\\', 비트코인 \\'장중하락\\' vs 금·은·구리·美증시 \\'활짝\\'\\n삼성전자 포함 대형주 순환 상승 기대..다우와 은행주 상승 인상적..비트코인 주춤, FOMC 주목 필요\\n美부채한도 협상은 됐는데…비트코인(BTC) 가격은 약보합\\n부채 협상 선반영 우려, 대형주 순환 기대..삼성전자,POSCO홀딩스 추천..비트코인 횡보,FOMC 주목\\n증시 안정 더할 것..FOMC 주목 필요, 삼성전자와 대형주 순환매 예상..골디락스 기대, 비트코인 횡보\\n다우와 대형 은행주 상승 큰 의미.. 골디락스 기대.. 비트코인 주춤, 한국 증시 대형주 순환매 기대\\n[속보] 부채한도협상 \" 곧 타결\" 바이든 디폴트 기자회견… 뉴욕증시 비트코인 엔비디아 폭발\\n비트코인 가격 \\'장중 강세\\', 2만7000달러선 회복\\n[코인시황] 비트코인, 美 고용지표 발표 앞두고 3600만원선 \\'등락\\'\\n[오늘의 비트코인] \\'주말 시황\\'비트코인 27k, 알트코인 현재상황은?\\n달러·美국채금리 \\'뚝\\', 비트코인 \\'장중하락\\' vs 금·은·구리·美증시 \\'활짝\\'\\n삼성전자 포함 대형주 순환 상승 기대..다우와 은행주 상승 인상적..비트코인 주춤, FOMC 주목 필요\\n美부채한도 협상은 됐는데…비트코인(BTC) 가격은 약보합\\n부채 협상 선반영 우려, 대형주 순환 기대..삼성전자,POSCO홀딩스 추천..비트코인 횡보,FOMC 주목\\n증시 안정 더할 것..FOMC 주목 필요, 삼성전자와 대형주 순환매 예상..골디락스 기대, 비트코인 횡보\\n다우와 대형 은행주 상승 큰 의미.. 골디락스 기대.. 비트코인 주춤, 한국 증시 대형주 순환매 기대\\n[속보] 부채한도협상 \" 곧 타결\" 바이든 디폴트 기자회견… 뉴욕증시 비트코인 엔비디아 폭발\\n비트코인 가격 \\'장중 강세\\', 2만7000달러선 회복\\n[코인시황] 비트코인, 美 고용지표 발표 앞두고 3600만원선 \\'등락\\'\\n[오늘의 비트코인] \\'주말 시황\\'비트코인 27k, 알트코인 현재상황은?\\n달러·美국채금리 \\'뚝\\', 비트코인 \\'장중하락\\' vs 금·은·구리·美증시 \\'활짝\\'\\n삼성전자 포함 대형주 순환 상승 기대..다우와 은행주 상승 인상적..비트코인 주춤, FOMC 주목 필요\\n美부채한도 협상은 됐는데…비트코인(BTC) 가격은 약보합\\n부채 협상 선반영 우려, 대형주 순환 기대..삼성전자,POSCO홀딩스 추천..비트코인 횡보,FOMC 주목\\n증시 안정 더할 것..FOMC 주목 필요, 삼성전자와 대형주 순환매 예상..골디락스 기대, 비트코인 횡보\\n다우와 대형 은행주 상승 큰 의미.. 골디락스 기대.. 비트코인 주춤, 한국 증시 대형주 순환매 기대\\n[속보] 부채한도협상 \" 곧 타결\" 바이든 디폴트 기자회견… 뉴욕증시 비트코인 엔비디아 폭발\\n비트코인 가격 \\'장중 강세\\', 2만7000달러선 회복\\n[코인시황] 비트코인, 美 고용지표 발표 앞두고 3600만원선 \\'등락\\'\\n[오늘의 비트코인] \\'주말 시황\\'비트코인 27k, 알트코인 현재상황은?\\n달러·美국채금리 \\'뚝\\', 비트코인 \\'장중하락\\' vs 금·은·구리·美증시 \\'활짝\\'\\n삼성전자 포함 대형주 순환 상승 기대..다우와 은행주 상승 인상적..비트코인 주춤, FOMC 주목 필요\\n美부채한도 협상은 됐는데…비트코인(BTC) 가격은 약보합\\n부채 협상 선반영 우려, 대형주 순환 기대..삼성전자,POSCO홀딩스 추천..비트코인 횡보,FOMC 주목\\n증시 안정 더할 것..FOMC 주목 필요, 삼성전자와 대형주 순환매 예상..골디락스 기대, 비트코인 횡보\\n다우와 대형 은행주 상승 큰 의미.. 골디락스 기대.. 비트코인 주춤, 한국 증시 대형주 순환매 기대\\n[속보] 부채한도협상 \" 곧 타결\" 바이든 디폴트 기자회견… 뉴욕증시 비트코인 엔비디아 폭발\\n비트코인 가격 \\'장중 강세\\', 2만7000달러선 회복\\n[코인시황] 비트코인, 美 고용지표 발표 앞두고 3600만원선 \\'등락\\'\\n[오늘의 비트코인] \\'주말 시황\\'비트코인 27k, 알트코인 현재상황은?\\n달러·美국채금리 \\'뚝\\', 비트코인 \\'장중하락\\' vs 금·은·구리·美증시 \\'활짝\\'\\n삼성전자 포함 대형주 순환 상승 기대..다우와 은행주 상승 인상적..비트코인 주춤, FOMC 주목 필요\\n美부채한도 협상은 됐는데…비트코인(BTC) 가격은 약보합\\n부채 협상 선반영 우려, 대형주 순환 기대..삼성전자,POSCO홀딩스 추천..비트코인 횡보,FOMC 주목\\n증시 안정 더할 것..FOMC 주목 필요, 삼성전자와 대형주 순환매 예상..골디락스 기대, 비트코인 횡보\\n다우와 대형 은행주 상승 큰 의미.. 골디락스 기대.. 비트코인 주춤, 한국 증시 대형주 순환매 기대\\n[속보] 부채한도협상 \" 곧 타결\" 바이든 디폴트 기자회견… 뉴욕증시 비트코인 엔비디아 폭발\\n비트코인 가격 \\'장중 강세\\', 2만7000달러선 회복\\n[코인시황] 비트코인, 美 고용지표 발표 앞두고 3600만원선 \\'등락\\'\\n[오늘의 비트코인] \\'주말 시황\\'비트코인 27k, 알트코인 현재상황은?\\n달러·美국채금리 \\'뚝\\', 비트코인 \\'장중하락\\' vs 금·은·구리·美증시 \\'활짝\\'\\n삼성전자 포함 대형주 순환 상승 기대..다우와 은행주 상승 인상적..비트코인 주춤, FOMC 주목 필요\\n美부채한도 협상은 됐는데…비트코인(BTC) 가격은 약보합\\n부채 협상 선반영 우려, 대형주 순환 기대..삼성전자,POSCO홀딩스 추천..비트코인 횡보,FOMC 주목\\n증시 안정 더할 것..FOMC 주목 필요, 삼성전자와 대형주 순환매 예상..골디락스 기대, 비트코인 횡보\\n다우와 대형 은행주 상승 큰 의미.. 골디락스 기대.. 비트코인 주춤, 한국 증시 대형주 순환매 기대\\n[속보] 부채한도협상 \" 곧 타결\" 바이든 디폴트 기자회견… 뉴욕증시 비트코인 엔비디아 폭발\\n비트코인 가격 \\'장중 강세\\', 2만7000달러선 회복\\n[코인시황] 비트코인, 美 고용지표 발표 앞두고 3600만원선 \\'등락\\'\\n[오늘의 비트코인] \\'주말 시황\\'비트코인 27k, 알트코인 현재상황은?\\n달러·美국채금리 \\'뚝\\', 비트코인 \\'장중하락\\' vs 금·은·구리·美증시 \\'활짝\\'\\n삼성전자 포함 대형주 순환 상승 기대..다우와 은행주 상승 인상적..비트코인 주춤, FOMC 주목 필요\\n美부채한도 협상은 됐는데…비트코인(BTC) 가격은 약보합\\n부채 협상 선반영 우려, 대형주 순환 기대..삼성전자,POSCO홀딩스 추천..비트코인 횡보,FOMC 주목\\n증시 안정 더할 것..FOMC 주목 필요, 삼성전자와 대형주 순환매 예상..골디락스 기대, 비트코인 횡보\\n다우와 대형 은행주 상승 큰 의미.. 골디락스 기대.. 비트코인 주춤, 한국 증시 대형주 순환매 기대\\n[속보] 부채한도협상 \" 곧 타결\" 바이든 디폴트 기자회견… 뉴욕증시 비트코인 엔비디아 폭발\\n비트코인 가격 \\'장중 강세\\', 2만7000달러선 회복\\n[코인시황] 비트코인, 美 고용지표 발표 앞두고 3600만원선 \\'등락\\'\\n[오늘의 비트코인] \\'주말 시황\\'비트코인 27k, 알트코인 현재상황은?\\n달러·美국채금리 \\'뚝\\', 비트코인 \\'장중하락\\' vs 금·은·구리·美증시 \\'활짝\\'\\n삼성전자 포함 대형주 순환 상승 기대..다우와 은행주 상승 인상적..비트코인 주춤, FOMC 주목 필요\\n美부채한도 협상은 됐는데…비트코인(BTC) 가격은 약보합\\n부채 협상 선반영 우려, 대형주 순환 기대..삼성전자,POSCO홀딩스 추천..비트코인 횡보,FOMC 주목\\n증시 안정 더할 것..FOMC 주목 필요, 삼성전자와 대형주 순환매 예상..골디락스 기대, 비트코인 횡보\\n다우와 대형 은행주 상승 큰 의미.. 골디락스 기대.. 비트코인 주춤, 한국 증시 대형주 순환매 기대\\n[속보] 부채한도협상 \" 곧 타결\" 바이든 디폴트 기자회견… 뉴욕증시 비트코인 엔비디아 폭발\\n비트코인 가격 \\'장중 강세\\', 2만7000달러선 회복\\n[코인시황] 비트코인, 美 고용지표 발표 앞두고 3600만원선 \\'등락\\'\\n[오늘의 비트코인] \\'주말 시황\\'비트코인 27k, 알트코인 현재상황은?\\n달러·美국채금리 \\'뚝\\', 비트코인 \\'장중하락\\' vs 금·은·구리·美증시 \\'활짝\\'\\n삼성전자 포함 대형주 순환 상승 기대..다우와 은행주 상승 인상적..비트코인 주춤, FOMC 주목 필요\\n美부채한도 협상은 됐는데…비트코인(BTC) 가격은 약보합\\n부채 협상 선반영 우려, 대형주 순환 기대..삼성전자,POSCO홀딩스 추천..비트코인 횡보,FOMC 주목\\n증시 안정 더할 것..FOMC 주목 필요, 삼성전자와 대형주 순환매 예상..골디락스 기대, 비트코인 횡보\\n다우와 대형 은행주 상승 큰 의미.. 골디락스 기대.. 비트코인 주춤, 한국 증시 대형주 순환매 기대\\n[속보] 부채한도협상 \" 곧 타결\" 바이든 디폴트 기자회견… 뉴욕증시 비트코인 엔비디아 폭발\\n비트코인 가격 \\'장중 강세\\', 2만7000달러선 회복\\n[코인시황] 비트코인, 美 고용지표 발표 앞두고 3600만원선 \\'등락\\'\\n[오늘의 비트코인] \\'주말 시황\\'비트코인 27k, 알트코인 현재상황은?\\n달러·美국채금리 \\'뚝\\', 비트코인 \\'장중하락\\' vs 금·은·구리·美증시 \\'활짝\\'\\n삼성전자 포함 대형주 순환 상승 기대..다우와 은행주 상승 인상적..비트코인 주춤, FOMC 주목 필요\\n美부채한도 협상은 됐는데…비트코인(BTC) 가격은 약보합\\n부채 협상 선반영 우려, 대형주 순환 기대..삼성전자,POSCO홀딩스 추천..비트코인 횡보,FOMC 주목\\n증시 안정 더할 것..FOMC 주목 필요, 삼성전자와 대형주 순환매 예상..골디락스 기대, 비트코인 횡보\\n다우와 대형 은행주 상승 큰 의미.. 골디락스 기대.. 비트코인 주춤, 한국 증시 대형주 순환매 기대\\n[속보] 부채한도협상 \" 곧 타결\" 바이든 디폴트 기자회견… 뉴욕증시 비트코인 엔비디아 폭발\\n비트코인 가격 \\'장중 강세\\', 2만7000달러선 회복\\n[코인시황] 비트코인, 美 고용지표 발표 앞두고 3600만원선 \\'등락\\'\\n[오늘의 비트코인] \\'주말 시황\\'비트코인 27k, 알트코인 현재상황은?\\n달러·美국채금리 \\'뚝\\', 비트코인 \\'장중하락\\' vs 금·은·구리·美증시 \\'활짝\\'\\n삼성전자 포함 대형주 순환 상승 기대..다우와 은행주 상승 인상적..비트코인 주춤, FOMC 주목 필요\\n美부채한도 협상은 됐는데…비트코인(BTC) 가격은 약보합\\n부채 협상 선반영 우려, 대형주 순환 기대..삼성전자,POSCO홀딩스 추천..비트코인 횡보,FOMC 주목\\n증시 안정 더할 것..FOMC 주목 필요, 삼성전자와 대형주 순환매 예상..골디락스 기대, 비트코인 횡보\\n다우와 대형 은행주 상승 큰 의미.. 골디락스 기대.. 비트코인 주춤, 한국 증시 대형주 순환매 기대\\n[속보] 부채한도협상 \" 곧 타결\" 바이든 디폴트 기자회견… 뉴욕증시 비트코인 엔비디아 폭발\\n비트코인 가격 \\'장중 강세\\', 2만7000달러선 회복\\n[코인시황] 비트코인, 美 고용지표 발표 앞두고 3600만원선 \\'등락\\'\\n[오늘의 비트코인] \\'주말 시황\\'비트코인 27k, 알트코인 현재상황은?\\n달러·美국채금리 \\'뚝\\', 비트코인 \\'장중하락\\' vs 금·은·구리·美증시 \\'활짝\\'\\n삼성전자 포함 대형주 순환 상승 기대..다우와 은행주 상승 인상적..비트코인 주춤, FOMC 주목 필요\\n美부채한도 협상은 됐는데…비트코인(BTC) 가격은 약보합\\n부채 협상 선반영 우려, 대형주 순환 기대..삼성전자,POSCO홀딩스 추천..비트코인 횡보,FOMC 주목\\n증시 안정 더할 것..FOMC 주목 필요, 삼성전자와 대형주 순환매 예상..골디락스 기대, 비트코인 횡보\\n다우와 대형 은행주 상승 큰 의미.. 골디락스 기대.. 비트코인 주춤, 한국 증시 대형주 순환매 기대\\n[속보] 부채한도협상 \" 곧 타결\" 바이든 디폴트 기자회견… 뉴욕증시 비트코인 엔비디아 폭발\\n비트코인 가격 \\'장중 강세\\', 2만7000달러선 회복\\n[코인시황] 비트코인, 美 고용지표 발표 앞두고 3600만원선 \\'등락\\'\\n[오늘의 비트코인] \\'주말 시황\\'비트코인 27k, 알트코인 현재상황은?\\n달러·美국채금리 \\'뚝\\', 비트코인 \\'장중하락\\' vs 금·은·구리·美증시 \\'활짝\\'\\n삼성전자 포함 대형주 순환 상승 기대..다우와 은행주 상승 인상적..비트코인 주춤, FOMC 주목 필요\\n美부채한도 협상은 됐는데…비트코인(BTC) 가격은 약보합\\n부채 협상 선반영 우려, 대형주 순환 기대..삼성전자,POSCO홀딩스 추천..비트코인 횡보,FOMC 주목\\n증시 안정 더할 것..FOMC 주목 필요, 삼성전자와 대형주 순환매 예상..골디락스 기대, 비트코인 횡보\\n다우와 대형 은행주 상승 큰 의미.. 골디락스 기대.. 비트코인 주춤, 한국 증시 대형주 순환매 기대\\n[속보] 부채한도협상 \" 곧 타결\" 바이든 디폴트 기자회견… 뉴욕증시 비트코인 엔비디아 폭발\\n비트코인 가격 \\'장중 강세\\', 2만7000달러선 회복\\n[코인시황] 비트코인, 美 고용지표 발표 앞두고 3600만원선 \\'등락\\'\\n[오늘의 비트코인] \\'주말 시황\\'비트코인 27k, 알트코인 현재상황은?\\n달러·美국채금리 \\'뚝\\', 비트코인 \\'장중하락\\' vs 금·은·구리·美증시 \\'활짝\\'\\n삼성전자 포함 대형주 순환 상승 기대..다우와 은행주 상승 인상적..비트코인 주춤, FOMC 주목 필요\\n美부채한도 협상은 됐는데…비트코인(BTC) 가격은 약보합\\n부채 협상 선반영 우려, 대형주 순환 기대..삼성전자,POSCO홀딩스 추천..비트코인 횡보,FOMC 주목\\n증시 안정 더할 것..FOMC 주목 필요, 삼성전자와 대형주 순환매 예상..골디락스 기대, 비트코인 횡보\\n다우와 대형 은행주 상승 큰 의미.. 골디락스 기대.. 비트코인 주춤, 한국 증시 대형주 순환매 기대\\n[속보] 부채한도협상 \" 곧 타결\" 바이든 디폴트 기자회견… 뉴욕증시 비트코인 엔비디아 폭발\\n비트코인 가격 \\'장중 강세\\', 2만7000달러선 회복\\n[코인시황] 비트코인, 美 고용지표 발표 앞두고 3600만원선 \\'등락\\'\\n[오늘의 비트코인] \\'주말 시황\\'비트코인 27k, 알트코인 현재상황은?\\n달러·美국채금리 \\'뚝\\', 비트코인 \\'장중하락\\' vs 금·은·구리·美증시 \\'활짝\\'\\n삼성전자 포함 대형주 순환 상승 기대..다우와 은행주 상승 인상적..비트코인 주춤, FOMC 주목 필요\\n美부채한도 협상은 됐는데…비트코인(BTC) 가격은 약보합\\n부채 협상 선반영 우려, 대형주 순환 기대..삼성전자,POSCO홀딩스 추천..비트코인 횡보,FOMC 주목\\n증시 안정 더할 것..FOMC 주목 필요, 삼성전자와 대형주 순환매 예상..골디락스 기대, 비트코인 횡보\\n다우와 대형 은행주 상승 큰 의미.. 골디락스 기대.. 비트코인 주춤, 한국 증시 대형주 순환매 기대\\n[속보] 부채한도협상 \" 곧 타결\" 바이든 디폴트 기자회견… 뉴욕증시 비트코인 엔비디아 폭발\\n비트코인 가격 \\'장중 강세\\', 2만7000달러선 회복\\n[코인시황] 비트코인, 美 고용지표 발표 앞두고 3600만원선 \\'등락\\'\\n[오늘의 비트코인] \\'주말 시황\\'비트코인 27k, 알트코인 현재상황은?\\n달러·美국채금리 \\'뚝\\', 비트코인 \\'장중하락\\' vs 금·은·구리·美증시 \\'활짝\\'\\n삼성전자 포함 대형주 순환 상승 기대..다우와 은행주 상승 인상적..비트코인 주춤, FOMC 주목 필요\\n美부채한도 협상은 됐는데…비트코인(BTC) 가격은 약보합\\n부채 협상 선반영 우려, 대형주 순환 기대..삼성전자,POSCO홀딩스 추천..비트코인 횡보,FOMC 주목\\n증시 안정 더할 것..FOMC 주목 필요, 삼성전자와 대형주 순환매 예상..골디락스 기대, 비트코인 횡보\\n다우와 대형 은행주 상승 큰 의미.. 골디락스 기대.. 비트코인 주춤, 한국 증시 대형주 순환매 기대\\n[속보] 부채한도협상 \" 곧 타결\" 바이든 디폴트 기자회견… 뉴욕증시 비트코인 엔비디아 폭발\\n비트코인 가격 \\'장중 강세\\', 2만7000달러선 회복\\n[코인시황] 비트코인, 美 고용지표 발표 앞두고 3600만원선 \\'등락\\'\\n[오늘의 비트코인] \\'주말 시황\\'비트코인 27k, 알트코인 현재상황은?\\n달러·美국채금리 \\'뚝\\', 비트코인 \\'장중하락\\' vs 금·은·구리·美증시 \\'활짝\\'\\n삼성전자 포함 대형주 순환 상승 기대..다우와 은행주 상승 인상적..비트코인 주춤, FOMC 주목 필요\\n美부채한도 협상은 됐는데…비트코인(BTC) 가격은 약보합\\n부채 협상 선반영 우려, 대형주 순환 기대..삼성전자,POSCO홀딩스 추천..비트코인 횡보,FOMC 주목\\n증시 안정 더할 것..FOMC 주목 필요, 삼성전자와 대형주 순환매 예상..골디락스 기대, 비트코인 횡보\\n다우와 대형 은행주 상승 큰 의미.. 골디락스 기대.. 비트코인 주춤, 한국 증시 대형주 순환매 기대\\n[속보] 부채한도협상 \" 곧 타결\" 바이든 디폴트 기자회견… 뉴욕증시 비트코인 엔비디아 폭발\\n비트코인 가격 \\'장중 강세\\', 2만7000달러선 회복\\n[코인시황] 비트코인, 美 고용지표 발표 앞두고 3600만원선 \\'등락\\'\\n[오늘의 비트코인] \\'주말 시황\\'비트코인 27k, 알트코인 현재상황은?\\n달러·美국채금리 \\'뚝\\', 비트코인 \\'장중하락\\' vs 금·은·구리·美증시 \\'활짝\\'\\n삼성전자 포함 대형주 순환 상승 기대..다우와 은행주 상승 인상적..비트코인 주춤, FOMC 주목 필요\\n美부채한도 협상은 됐는데…비트코인(BTC) 가격은 약보합\\n부채 협상 선반영 우려, 대형주 순환 기대..삼성전자,POSCO홀딩스 추천..비트코인 횡보,FOMC 주목\\n증시 안정 더할 것..FOMC 주목 필요, 삼성전자와 대형주 순환매 예상..골디락스 기대, 비트코인 횡보\\n다우와 대형 은행주 상승 큰 의미.. 골디락스 기대.. 비트코인 주춤, 한국 증시 대형주 순환매 기대\\n[속보] 부채한도협상 \" 곧 타결\" 바이든 디폴트 기자회견… 뉴욕증시 비트코인 엔비디아 폭발\\n비트코인 가격 \\'장중 강세\\', 2만7000달러선 회복\\n[코인시황] 비트코인, 美 고용지표 발표 앞두고 3600만원선 \\'등락\\'\\n[오늘의 비트코인] \\'주말 시황\\'비트코인 27k, 알트코인 현재상황은?\\n달러·美국채금리 \\'뚝\\', 비트코인 \\'장중하락\\' vs 금·은·구리·美증시 \\'활짝\\'\\n삼성전자 포함 대형주 순환 상승 기대..다우와 은행주 상승 인상적..비트코인 주춤, FOMC 주목 필요\\n美부채한도 협상은 됐는데…비트코인(BTC) 가격은 약보합\\n부채 협상 선반영 우려, 대형주 순환 기대..삼성전자,POSCO홀딩스 추천..비트코인 횡보,FOMC 주목\\n증시 안정 더할 것..FOMC 주목 필요, 삼성전자와 대형주 순환매 예상..골디락스 기대, 비트코인 횡보\\n다우와 대형 은행주 상승 큰 의미.. 골디락스 기대.. 비트코인 주춤, 한국 증시 대형주 순환매 기대\\n[속보] 부채한도협상 \" 곧 타결\" 바이든 디폴트 기자회견… 뉴욕증시 비트코인 엔비디아 폭발\\n비트코인 가격 \\'장중 강세\\', 2만7000달러선 회복\\n[코인시황] 비트코인, 美 고용지표 발표 앞두고 3600만원선 \\'등락\\'\\n[오늘의 비트코인] \\'주말 시황\\'비트코인 27k, 알트코인 현재상황은?\\n달러·美국채금리 \\'뚝\\', 비트코인 \\'장중하락\\' vs 금·은·구리·美증시 \\'활짝\\'\\n삼성전자 포함 대형주 순환 상승 기대..다우와 은행주 상승 인상적..비트코인 주춤, FOMC 주목 필요\\n美부채한도 협상은 됐는데…비트코인(BTC) 가격은 약보합\\n부채 협상 선반영 우려, 대형주 순환 기대..삼성전자,POSCO홀딩스 추천..비트코인 횡보,FOMC 주목\\n증시 안정 더할 것..FOMC 주목 필요, 삼성전자와 대형주 순환매 예상..골디락스 기대, 비트코인 횡보\\n다우와 대형 은행주 상승 큰 의미.. 골디락스 기대.. 비트코인 주춤, 한국 증시 대형주 순환매 기대\\n[속보] 부채한도협상 \" 곧 타결\" 바이든 디폴트 기자회견… 뉴욕증시 비트코인 엔비디아 폭발\\n비트코인 가격 \\'장중 강세\\', 2만7000달러선 회복\\n[코인시황] 비트코인, 美 고용지표 발표 앞두고 3600만원선 \\'등락\\'\\n[오늘의 비트코인] \\'주말 시황\\'비트코인 27k, 알트코인 현재상황은?\\n달러·美국채금리 \\'뚝\\', 비트코인 \\'장중하락\\' vs 금·은·구리·美증시 \\'활짝\\'\\n삼성전자 포함 대형주 순환 상승 기대..다우와 은행주 상승 인상적..비트코인 주춤, FOMC 주목 필요\\n美부채한도 협상은 됐는데…비트코인(BTC) 가격은 약보합\\n부채 협상 선반영 우려, 대형주 순환 기대..삼성전자,POSCO홀딩스 추천..비트코인 횡보,FOMC 주목\\n증시 안정 더할 것..FOMC 주목 필요, 삼성전자와 대형주 순환매 예상..골디락스 기대, 비트코인 횡보\\n다우와 대형 은행주 상승 큰 의미.. 골디락스 기대.. 비트코인 주춤, 한국 증시 대형주 순환매 기대\\n[속보] 부채한도협상 \" 곧 타결\" 바이든 디폴트 기자회견… 뉴욕증시 비트코인 엔비디아 폭발\\n비트코인 가격 \\'장중 강세\\', 2만7000달러선 회복\\n[코인시황] 비트코인, 美 고용지표 발표 앞두고 3600만원선 \\'등락\\'\\n[오늘의 비트코인] \\'주말 시황\\'비트코인 27k, 알트코인 현재상황은?\\n달러·美국채금리 \\'뚝\\', 비트코인 \\'장중하락\\' vs 금·은·구리·美증시 \\'활짝\\'\\n삼성전자 포함 대형주 순환 상승 기대..다우와 은행주 상승 인상적..비트코인 주춤, FOMC 주목 필요\\n美부채한도 협상은 됐는데…비트코인(BTC) 가격은 약보합\\n부채 협상 선반영 우려, 대형주 순환 기대..삼성전자,POSCO홀딩스 추천..비트코인 횡보,FOMC 주목\\n증시 안정 더할 것..FOMC 주목 필요, 삼성전자와 대형주 순환매 예상..골디락스 기대, 비트코인 횡보\\n다우와 대형 은행주 상승 큰 의미.. 골디락스 기대.. 비트코인 주춤, 한국 증시 대형주 순환매 기대\\n[속보] 부채한도협상 \" 곧 타결\" 바이든 디폴트 기자회견… 뉴욕증시 비트코인 엔비디아 폭발\\n비트코인 가격 \\'장중 강세\\', 2만7000달러선 회복\\n[코인시황] 비트코인, 美 고용지표 발표 앞두고 3600만원선 \\'등락\\'\\n[오늘의 비트코인] \\'주말 시황\\'비트코인 27k, 알트코인 현재상황은?\\n달러·美국채금리 \\'뚝\\', 비트코인 \\'장중하락\\' vs 금·은·구리·美증시 \\'활짝\\'\\n삼성전자 포함 대형주 순환 상승 기대..다우와 은행주 상승 인상적..비트코인 주춤, FOMC 주목 필요\\n美부채한도 협상은 됐는데…비트코인(BTC) 가격은 약보합\\n부채 협상 선반영 우려, 대형주 순환 기대..삼성전자,POSCO홀딩스 추천..비트코인 횡보,FOMC 주목\\n증시 안정 더할 것..FOMC 주목 필요, 삼성전자와 대형주 순환매 예상..골디락스 기대, 비트코인 횡보\\n다우와 대형 은행주 상승 큰 의미.. 골디락스 기대.. 비트코인 주춤, 한국 증시 대형주 순환매 기대\\n[속보] 부채한도협상 \" 곧 타결\" 바이든 디폴트 기자회견… 뉴욕증시 비트코인 엔비디아 폭발\\n비트코인 가격 \\'장중 강세\\', 2만7000달러선 회복\\n[코인시황] 비트코인, 美 고용지표 발표 앞두고 3600만원선 \\'등락\\'\\n[오늘의 비트코인] \\'주말 시황\\'비트코인 27k, 알트코인 현재상황은?\\n달러·美국채금리 \\'뚝\\', 비트코인 \\'장중하락\\' vs 금·은·구리·美증시 \\'활짝\\'\\n삼성전자 포함 대형주 순환 상승 기대..다우와 은행주 상승 인상적..비트코인 주춤, FOMC 주목 필요\\n美부채한도 협상은 됐는데…비트코인(BTC) 가격은 약보합\\n부채 협상 선반영 우려, 대형주 순환 기대..삼성전자,POSCO홀딩스 추천..비트코인 횡보,FOMC 주목\\n증시 안정 더할 것..FOMC 주목 필요, 삼성전자와 대형주 순환매 예상..골디락스 기대, 비트코인 횡보\\n다우와 대형 은행주 상승 큰 의미.. 골디락스 기대.. 비트코인 주춤, 한국 증시 대형주 순환매 기대\\n[속보] 부채한도협상 \" 곧 타결\" 바이든 디폴트 기자회견… 뉴욕증시 비트코인 엔비디아 폭발\\n비트코인 가격 \\'장중 강세\\', 2만7000달러선 회복\\n[코인시황] 비트코인, 美 고용지표 발표 앞두고 3600만원선 \\'등락\\'\\n[오늘의 비트코인] \\'주말 시황\\'비트코인 27k, 알트코인 현재상황은?\\n달러·美국채금리 \\'뚝\\', 비트코인 \\'장중하락\\' vs 금·은·구리·美증시 \\'활짝\\'\\n삼성전자 포함 대형주 순환 상승 기대..다우와 은행주 상승 인상적..비트코인 주춤, FOMC 주목 필요\\n美부채한도 협상은 됐는데…비트코인(BTC) 가격은 약보합\\n부채 협상 선반영 우려, 대형주 순환 기대..삼성전자,POSCO홀딩스 추천..비트코인 횡보,FOMC 주목\\n증시 안정 더할 것..FOMC 주목 필요, 삼성전자와 대형주 순환매 예상..골디락스 기대, 비트코인 횡보\\n다우와 대형 은행주 상승 큰 의미.. 골디락스 기대.. 비트코인 주춤, 한국 증시 대형주 순환매 기대\\n[속보] 부채한도협상 \" 곧 타결\" 바이든 디폴트 기자회견… 뉴욕증시 비트코인 엔비디아 폭발\\n비트코인 가격 \\'장중 강세\\', 2만7000달러선 회복\\n[코인시황] 비트코인, 美 고용지표 발표 앞두고 3600만원선 \\'등락\\'\\n[오늘의 비트코인] \\'주말 시황\\'비트코인 27k, 알트코인 현재상황은?\\n달러·美국채금리 \\'뚝\\', 비트코인 \\'장중하락\\' vs 금·은·구리·美증시 \\'활짝\\'\\n삼성전자 포함 대형주 순환 상승 기대..다우와 은행주 상승 인상적..비트코인 주춤, FOMC 주목 필요\\n美부채한도 협상은 됐는데…비트코인(BTC) 가격은 약보합\\n부채 협상 선반영 우려, 대형주 순환 기대..삼성전자,POSCO홀딩스 추천..비트코인 횡보,FOMC 주목\\n증시 안정 더할 것..FOMC 주목 필요, 삼성전자와 대형주 순환매 예상..골디락스 기대, 비트코인 횡보\\n다우와 대형 은행주 상승 큰 의미.. 골디락스 기대.. 비트코인 주춤, 한국 증시 대형주 순환매 기대\\n[속보] 부채한도협상 \" 곧 타결\" 바이든 디폴트 기자회견… 뉴욕증시 비트코인 엔비디아 폭발\\n비트코인 가격 \\'장중 강세\\', 2만7000달러선 회복\\n[코인시황] 비트코인, 美 고용지표 발표 앞두고 3600만원선 \\'등락\\'\\n[오늘의 비트코인] \\'주말 시황\\'비트코인 27k, 알트코인 현재상황은?\\n달러·美국채금리 \\'뚝\\', 비트코인 \\'장중하락\\' vs 금·은·구리·美증시 \\'활짝\\'\\n삼성전자 포함 대형주 순환 상승 기대..다우와 은행주 상승 인상적..비트코인 주춤, FOMC 주목 필요\\n美부채한도 협상은 됐는데…비트코인(BTC) 가격은 약보합\\n부채 협상 선반영 우려, 대형주 순환 기대..삼성전자,POSCO홀딩스 추천..비트코인 횡보,FOMC 주목\\n증시 안정 더할 것..FOMC 주목 필요, 삼성전자와 대형주 순환매 예상..골디락스 기대, 비트코인 횡보\\n다우와 대형 은행주 상승 큰 의미.. 골디락스 기대.. 비트코인 주춤, 한국 증시 대형주 순환매 기대\\n[속보] 부채한도협상 \" 곧 타결\" 바이든 디폴트 기자회견… 뉴욕증시 비트코인 엔비디아 폭발\\n비트코인 가격 \\'장중 강세\\', 2만7000달러선 회복\\n[코인시황] 비트코인, 美 고용지표 발표 앞두고 3600만원선 \\'등락\\'\\n[오늘의 비트코인] \\'주말 시황\\'비트코인 27k, 알트코인 현재상황은?\\n달러·美국채금리 \\'뚝\\', 비트코인 \\'장중하락\\' vs 금·은·구리·美증시 \\'활짝\\'\\n삼성전자 포함 대형주 순환 상승 기대..다우와 은행주 상승 인상적..비트코인 주춤, FOMC 주목 필요\\n美부채한도 협상은 됐는데…비트코인(BTC) 가격은 약보합\\n부채 협상 선반영 우려, 대형주 순환 기대..삼성전자,POSCO홀딩스 추천..비트코인 횡보,FOMC 주목\\n증시 안정 더할 것..FOMC 주목 필요, 삼성전자와 대형주 순환매 예상..골디락스 기대, 비트코인 횡보\\n다우와 대형 은행주 상승 큰 의미.. 골디락스 기대.. 비트코인 주춤, 한국 증시 대형주 순환매 기대\\n[속보] 부채한도협상 \" 곧 타결\" 바이든 디폴트 기자회견… 뉴욕증시 비트코인 엔비디아 폭발\\n비트코인 가격 \\'장중 강세\\', 2만7000달러선 회복\\n[코인시황] 비트코인, 美 고용지표 발표 앞두고 3600만원선 \\'등락\\'\\n[오늘의 비트코인] \\'주말 시황\\'비트코인 27k, 알트코인 현재상황은?\\n달러·美국채금리 \\'뚝\\', 비트코인 \\'장중하락\\' vs 금·은·구리·美증시 \\'활짝\\'\\n삼성전자 포함 대형주 순환 상승 기대..다우와 은행주 상승 인상적..비트코인 주춤, FOMC 주목 필요\\n美부채한도 협상은 됐는데…비트코인(BTC) 가격은 약보합\\n부채 협상 선반영 우려, 대형주 순환 기대..삼성전자,POSCO홀딩스 추천..비트코인 횡보,FOMC 주목\\n증시 안정 더할 것..FOMC 주목 필요, 삼성전자와 대형주 순환매 예상..골디락스 기대, 비트코인 횡보\\n다우와 대형 은행주 상승 큰 의미.. 골디락스 기대.. 비트코인 주춤, 한국 증시 대형주 순환매 기대\\n[속보] 부채한도협상 \" 곧 타결\" 바이든 디폴트 기자회견… 뉴욕증시 비트코인 엔비디아 폭발\\n비트코인 가격 \\'장중 강세\\', 2만7000달러선 회복\\n[코인시황] 비트코인, 美 고용지표 발표 앞두고 3600만원선 \\'등락\\'\\n[오늘의 비트코인] \\'주말 시황\\'비트코인 27k, 알트코인 현재상황은?\\n달러·美국채금리 \\'뚝\\', 비트코인 \\'장중하락\\' vs 금·은·구리·美증시 \\'활짝\\'\\n삼성전자 포함 대형주 순환 상승 기대..다우와 은행주 상승 인상적..비트코인 주춤, FOMC 주목 필요\\n美부채한도 협상은 됐는데…비트코인(BTC) 가격은 약보합\\n부채 협상 선반영 우려, 대형주 순환 기대..삼성전자,POSCO홀딩스 추천..비트코인 횡보,FOMC 주목\\n증시 안정 더할 것..FOMC 주목 필요, 삼성전자와 대형주 순환매 예상..골디락스 기대, 비트코인 횡보\\n다우와 대형 은행주 상승 큰 의미.. 골디락스 기대.. 비트코인 주춤, 한국 증시 대형주 순환매 기대\\n[속보] 부채한도협상 \" 곧 타결\" 바이든 디폴트 기자회견… 뉴욕증시 비트코인 엔비디아 폭발\\n비트코인 가격 \\'장중 강세\\', 2만7000달러선 회복\\n[코인시황] 비트코인, 美 고용지표 발표 앞두고 3600만원선 \\'등락\\'\\n[오늘의 비트코인] \\'주말 시황\\'비트코인 27k, 알트코인 현재상황은?\\n달러·美국채금리 \\'뚝\\', 비트코인 \\'장중하락\\' vs 금·은·구리·美증시 \\'활짝\\'\\n삼성전자 포함 대형주 순환 상승 기대..다우와 은행주 상승 인상적..비트코인 주춤, FOMC 주목 필요\\n美부채한도 협상은 됐는데…비트코인(BTC) 가격은 약보합\\n부채 협상 선반영 우려, 대형주 순환 기대..삼성전자,POSCO홀딩스 추천..비트코인 횡보,FOMC 주목\\n증시 안정 더할 것..FOMC 주목 필요, 삼성전자와 대형주 순환매 예상..골디락스 기대, 비트코인 횡보\\n다우와 대형 은행주 상승 큰 의미.. 골디락스 기대.. 비트코인 주춤, 한국 증시 대형주 순환매 기대\\n[속보] 부채한도협상 \" 곧 타결\" 바이든 디폴트 기자회견… 뉴욕증시 비트코인 엔비디아 폭발\\n비트코인 가격 \\'장중 강세\\', 2만7000달러선 회복\\n[코인시황] 비트코인, 美 고용지표 발표 앞두고 3600만원선 \\'등락\\'\\n[오늘의 비트코인] \\'주말 시황\\'비트코인 27k, 알트코인 현재상황은?\\n달러·美국채금리 \\'뚝\\', 비트코인 \\'장중하락\\' vs 금·은·구리·美증시 \\'활짝\\'\\n삼성전자 포함 대형주 순환 상승 기대..다우와 은행주 상승 인상적..비트코인 주춤, FOMC 주목 필요\\n美부채한도 협상은 됐는데…비트코인(BTC) 가격은 약보합\\n부채 협상 선반영 우려, 대형주 순환 기대..삼성전자,POSCO홀딩스 추천..비트코인 횡보,FOMC 주목\\n증시 안정 더할 것..FOMC 주목 필요, 삼성전자와 대형주 순환매 예상..골디락스 기대, 비트코인 횡보\\n다우와 대형 은행주 상승 큰 의미.. 골디락스 기대.. 비트코인 주춤, 한국 증시 대형주 순환매 기대\\n[속보] 부채한도협상 \" 곧 타결\" 바이든 디폴트 기자회견… 뉴욕증시 비트코인 엔비디아 폭발\\n비트코인 가격 \\'장중 강세\\', 2만7000달러선 회복\\n[코인시황] 비트코인, 美 고용지표 발표 앞두고 3600만원선 \\'등락\\'\\n[오늘의 비트코인] \\'주말 시황\\'비트코인 27k, 알트코인 현재상황은?\\n달러·美국채금리 \\'뚝\\', 비트코인 \\'장중하락\\' vs 금·은·구리·美증시 \\'활짝\\'\\n삼성전자 포함 대형주 순환 상승 기대..다우와 은행주 상승 인상적..비트코인 주춤, FOMC 주목 필요\\n美부채한도 협상은 됐는데…비트코인(BTC) 가격은 약보합\\n부채 협상 선반영 우려, 대형주 순환 기대..삼성전자,POSCO홀딩스 추천..비트코인 횡보,FOMC 주목\\n증시 안정 더할 것..FOMC 주목 필요, 삼성전자와 대형주 순환매 예상..골디락스 기대, 비트코인 횡보\\n다우와 대형 은행주 상승 큰 의미.. 골디락스 기대.. 비트코인 주춤, 한국 증시 대형주 순환매 기대\\n[속보] 부채한도협상 \" 곧 타결\" 바이든 디폴트 기자회견… 뉴욕증시 비트코인 엔비디아 폭발\\n비트코인 가격 \\'장중 강세\\', 2만7000달러선 회복\\n[코인시황] 비트코인, 美 고용지표 발표 앞두고 3600만원선 \\'등락\\'\\n[오늘의 비트코인] \\'주말 시황\\'비트코인 27k, 알트코인 현재상황은?\\n달러·美국채금리 \\'뚝\\', 비트코인 \\'장중하락\\' vs 금·은·구리·美증시 \\'활짝\\'\\n삼성전자 포함 대형주 순환 상승 기대..다우와 은행주 상승 인상적..비트코인 주춤, FOMC 주목 필요\\n美부채한도 협상은 됐는데…비트코인(BTC) 가격은 약보합\\n부채 협상 선반영 우려, 대형주 순환 기대..삼성전자,POSCO홀딩스 추천..비트코인 횡보,FOMC 주목\\n증시 안정 더할 것..FOMC 주목 필요, 삼성전자와 대형주 순환매 예상..골디락스 기대, 비트코인 횡보\\n다우와 대형 은행주 상승 큰 의미.. 골디락스 기대.. 비트코인 주춤, 한국 증시 대형주 순환매 기대\\n[속보] 부채한도협상 \" 곧 타결\" 바이든 디폴트 기자회견… 뉴욕증시 비트코인 엔비디아 폭발\\n비트코인 가격 \\'장중 강세\\', 2만7000달러선 회복\\n[코인시황] 비트코인, 美 고용지표 발표 앞두고 3600만원선 \\'등락\\'\\n[오늘의 비트코인] \\'주말 시황\\'비트코인 27k, 알트코인 현재상황은?\\n달러·美국채금리 \\'뚝\\', 비트코인 \\'장중하락\\' vs 금·은·구리·美증시 \\'활짝\\'\\n삼성전자 포함 대형주 순환 상승 기대..다우와 은행주 상승 인상적..비트코인 주춤, FOMC 주목 필요\\n美부채한도 협상은 됐는데…비트코인(BTC) 가격은 약보합\\n부채 협상 선반영 우려, 대형주 순환 기대..삼성전자,POSCO홀딩스 추천..비트코인 횡보,FOMC 주목\\n증시 안정 더할 것..FOMC 주목 필요, 삼성전자와 대형주 순환매 예상..골디락스 기대, 비트코인 횡보\\n다우와 대형 은행주 상승 큰 의미.. 골디락스 기대.. 비트코인 주춤, 한국 증시 대형주 순환매 기대\\n[속보] 부채한도협상 \" 곧 타결\" 바이든 디폴트 기자회견… 뉴욕증시 비트코인 엔비디아 폭발\\n비트코인 가격 \\'장중 강세\\', 2만7000달러선 회복\\n[코인시황] 비트코인, 美 고용지표 발표 앞두고 3600만원선 \\'등락\\'\\n[오늘의 비트코인] \\'주말 시황\\'비트코인 27k, 알트코인 현재상황은?\\n달러·美국채금리 \\'뚝\\', 비트코인 \\'장중하락\\' vs 금·은·구리·美증시 \\'활짝\\'\\n삼성전자 포함 대형주 순환 상승 기대..다우와 은행주 상승 인상적..비트코인 주춤, FOMC 주목 필요\\n美부채한도 협상은 됐는데…비트코인(BTC) 가격은 약보합\\n부채 협상 선반영 우려, 대형주 순환 기대..삼성전자,POSCO홀딩스 추천..비트코인 횡보,FOMC 주목\\n증시 안정 더할 것..FOMC 주목 필요, 삼성전자와 대형주 순환매 예상..골디락스 기대, 비트코인 횡보\\n다우와 대형 은행주 상승 큰 의미.. 골디락스 기대.. 비트코인 주춤, 한국 증시 대형주 순환매 기대\\n[속보] 부채한도협상 \" 곧 타결\" 바이든 디폴트 기자회견… 뉴욕증시 비트코인 엔비디아 폭발\\n비트코인 가격 \\'장중 강세\\', 2만7000달러선 회복\\n[코인시황] 비트코인, 美 고용지표 발표 앞두고 3600만원선 \\'등락\\'\\n[오늘의 비트코인] \\'주말 시황\\'비트코인 27k, 알트코인 현재상황은?\\n달러·美국채금리 \\'뚝\\', 비트코인 \\'장중하락\\' vs 금·은·구리·美증시 \\'활짝\\'\\n삼성전자 포함 대형주 순환 상승 기대..다우와 은행주 상승 인상적..비트코인 주춤, FOMC 주목 필요\\n美부채한도 협상은 됐는데…비트코인(BTC) 가격은 약보합\\n부채 협상 선반영 우려, 대형주 순환 기대..삼성전자,POSCO홀딩스 추천..비트코인 횡보,FOMC 주목\\n증시 안정 더할 것..FOMC 주목 필요, 삼성전자와 대형주 순환매 예상..골디락스 기대, 비트코인 횡보\\n다우와 대형 은행주 상승 큰 의미.. 골디락스 기대.. 비트코인 주춤, 한국 증시 대형주 순환매 기대\\n[속보] 부채한도협상 \" 곧 타결\" 바이든 디폴트 기자회견… 뉴욕증시 비트코인 엔비디아 폭발\\n비트코인 가격 \\'장중 강세\\', 2만7000달러선 회복\\n[코인시황] 비트코인, 美 고용지표 발표 앞두고 3600만원선 \\'등락\\'\\n[오늘의 비트코인] \\'주말 시황\\'비트코인 27k, 알트코인 현재상황은?\\n달러·美국채금리 \\'뚝\\', 비트코인 \\'장중하락\\' vs 금·은·구리·美증시 \\'활짝\\'\\n삼성전자 포함 대형주 순환 상승 기대..다우와 은행주 상승 인상적..비트코인 주춤, FOMC 주목 필요\\n美부채한도 협상은 됐는데…비트코인(BTC) 가격은 약보합\\n부채 협상 선반영 우려, 대형주 순환 기대..삼성전자,POSCO홀딩스 추천..비트코인 횡보,FOMC 주목\\n증시 안정 더할 것..FOMC 주목 필요, 삼성전자와 대형주 순환매 예상..골디락스 기대, 비트코인 횡보\\n다우와 대형 은행주 상승 큰 의미.. 골디락스 기대.. 비트코인 주춤, 한국 증시 대형주 순환매 기대\\n[속보] 부채한도협상 \" 곧 타결\" 바이든 디폴트 기자회견… 뉴욕증시 비트코인 엔비디아 폭발\\n비트코인 가격 \\'장중 강세\\', 2만7000달러선 회복\\n[코인시황] 비트코인, 美 고용지표 발표 앞두고 3600만원선 \\'등락\\'\\n[오늘의 비트코인] \\'주말 시황\\'비트코인 27k, 알트코인 현재상황은?\\n달러·美국채금리 \\'뚝\\', 비트코인 \\'장중하락\\' vs 금·은·구리·美증시 \\'활짝\\'\\n삼성전자 포함 대형주 순환 상승 기대..다우와 은행주 상승 인상적..비트코인 주춤, FOMC 주목 필요\\n美부채한도 협상은 됐는데…비트코인(BTC) 가격은 약보합\\n부채 협상 선반영 우려, 대형주 순환 기대..삼성전자,POSCO홀딩스 추천..비트코인 횡보,FOMC 주목\\n증시 안정 더할 것..FOMC 주목 필요, 삼성전자와 대형주 순환매 예상..골디락스 기대, 비트코인 횡보\\n다우와 대형 은행주 상승 큰 의미.. 골디락스 기대.. 비트코인 주춤, 한국 증시 대형주 순환매 기대\\n[속보] 부채한도협상 \" 곧 타결\" 바이든 디폴트 기자회견… 뉴욕증시 비트코인 엔비디아 폭발\\n비트코인 가격 \\'장중 강세\\', 2만7000달러선 회복\\n[코인시황] 비트코인, 美 고용지표 발표 앞두고 3600만원선 \\'등락\\'\\n[오늘의 비트코인] \\'주말 시황\\'비트코인 27k, 알트코인 현재상황은?\\n달러·美국채금리 \\'뚝\\', 비트코인 \\'장중하락\\' vs 금·은·구리·美증시 \\'활짝\\'\\n삼성전자 포함 대형주 순환 상승 기대..다우와 은행주 상승 인상적..비트코인 주춤, FOMC 주목 필요\\n美부채한도 협상은 됐는데…비트코인(BTC) 가격은 약보합\\n부채 협상 선반영 우려, 대형주 순환 기대..삼성전자,POSCO홀딩스 추천..비트코인 횡보,FOMC 주목\\n증시 안정 더할 것..FOMC 주목 필요, 삼성전자와 대형주 순환매 예상..골디락스 기대, 비트코인 횡보\\n다우와 대형 은행주 상승 큰 의미.. 골디락스 기대.. 비트코인 주춤, 한국 증시 대형주 순환매 기대\\n[속보] 부채한도협상 \" 곧 타결\" 바이든 디폴트 기자회견… 뉴욕증시 비트코인 엔비디아 폭발\\n비트코인 가격 \\'장중 강세\\', 2만7000달러선 회복\\n[코인시황] 비트코인, 美 고용지표 발표 앞두고 3600만원선 \\'등락\\'\\n[오늘의 비트코인] \\'주말 시황\\'비트코인 27k, 알트코인 현재상황은?\\n달러·美국채금리 \\'뚝\\', 비트코인 \\'장중하락\\' vs 금·은·구리·美증시 \\'활짝\\'\\n삼성전자 포함 대형주 순환 상승 기대..다우와 은행주 상승 인상적..비트코인 주춤, FOMC 주목 필요\\n美부채한도 협상은 됐는데…비트코인(BTC) 가격은 약보합\\n부채 협상 선반영 우려, 대형주 순환 기대..삼성전자,POSCO홀딩스 추천..비트코인 횡보,FOMC 주목\\n증시 안정 더할 것..FOMC 주목 필요, 삼성전자와 대형주 순환매 예상..골디락스 기대, 비트코인 횡보\\n다우와 대형 은행주 상승 큰 의미.. 골디락스 기대.. 비트코인 주춤, 한국 증시 대형주 순환매 기대\\n[속보] 부채한도협상 \" 곧 타결\" 바이든 디폴트 기자회견… 뉴욕증시 비트코인 엔비디아 폭발\\n비트코인 가격 \\'장중 강세\\', 2만7000달러선 회복\\n[코인시황] 비트코인, 美 고용지표 발표 앞두고 3600만원선 \\'등락\\'\\n[오늘의 비트코인] \\'주말 시황\\'비트코인 27k, 알트코인 현재상황은?\\n달러·美국채금리 \\'뚝\\', 비트코인 \\'장중하락\\' vs 금·은·구리·美증시 \\'활짝\\'\\n삼성전자 포함 대형주 순환 상승 기대..다우와 은행주 상승 인상적..비트코인 주춤, FOMC 주목 필요\\n美부채한도 협상은 됐는데…비트코인(BTC) 가격은 약보합\\n부채 협상 선반영 우려, 대형주 순환 기대..삼성전자,POSCO홀딩스 추천..비트코인 횡보,FOMC 주목\\n증시 안정 더할 것..FOMC 주목 필요, 삼성전자와 대형주 순환매 예상..골디락스 기대, 비트코인 횡보\\n다우와 대형 은행주 상승 큰 의미.. 골디락스 기대.. 비트코인 주춤, 한국 증시 대형주 순환매 기대\\n[속보] 부채한도협상 \" 곧 타결\" 바이든 디폴트 기자회견… 뉴욕증시 비트코인 엔비디아 폭발\\n비트코인 가격 \\'장중 강세\\', 2만7000달러선 회복\\n[코인시황] 비트코인, 美 고용지표 발표 앞두고 3600만원선 \\'등락\\'\\n[오늘의 비트코인] \\'주말 시황\\'비트코인 27k, 알트코인 현재상황은?\\n달러·美국채금리 \\'뚝\\', 비트코인 \\'장중하락\\' vs 금·은·구리·美증시 \\'활짝\\'\\n삼성전자 포함 대형주 순환 상승 기대..다우와 은행주 상승 인상적..비트코인 주춤, FOMC 주목 필요\\n美부채한도 협상은 됐는데…비트코인(BTC) 가격은 약보합\\n부채 협상 선반영 우려, 대형주 순환 기대..삼성전자,POSCO홀딩스 추천..비트코인 횡보,FOMC 주목\\n증시 안정 더할 것..FOMC 주목 필요, 삼성전자와 대형주 순환매 예상..골디락스 기대, 비트코인 횡보\\n다우와 대형 은행주 상승 큰 의미.. 골디락스 기대.. 비트코인 주춤, 한국 증시 대형주 순환매 기대\\n[속보] 부채한도협상 \" 곧 타결\" 바이든 디폴트 기자회견… 뉴욕증시 비트코인 엔비디아 폭발\\n비트코인 가격 \\'장중 강세\\', 2만7000달러선 회복\\n[코인시황] 비트코인, 美 고용지표 발표 앞두고 3600만원선 \\'등락\\'\\n[오늘의 비트코인] \\'주말 시황\\'비트코인 27k, 알트코인 현재상황은?\\n달러·美국채금리 \\'뚝\\', 비트코인 \\'장중하락\\' vs 금·은·구리·美증시 \\'활짝\\'\\n삼성전자 포함 대형주 순환 상승 기대..다우와 은행주 상승 인상적..비트코인 주춤, FOMC 주목 필요\\n美부채한도 협상은 됐는데…비트코인(BTC) 가격은 약보합\\n부채 협상 선반영 우려, 대형주 순환 기대..삼성전자,POSCO홀딩스 추천..비트코인 횡보,FOMC 주목\\n증시 안정 더할 것..FOMC 주목 필요, 삼성전자와 대형주 순환매 예상..골디락스 기대, 비트코인 횡보\\n다우와 대형 은행주 상승 큰 의미.. 골디락스 기대.. 비트코인 주춤, 한국 증시 대형주 순환매 기대\\n[속보] 부채한도협상 \" 곧 타결\" 바이든 디폴트 기자회견… 뉴욕증시 비트코인 엔비디아 폭발\\n비트코인 가격 \\'장중 강세\\', 2만7000달러선 회복\\n[코인시황] 비트코인, 美 고용지표 발표 앞두고 3600만원선 \\'등락\\'\\n[오늘의 비트코인] \\'주말 시황\\'비트코인 27k, 알트코인 현재상황은?\\n달러·美국채금리 \\'뚝\\', 비트코인 \\'장중하락\\' vs 금·은·구리·美증시 \\'활짝\\'\\n삼성전자 포함 대형주 순환 상승 기대..다우와 은행주 상승 인상적..비트코인 주춤, FOMC 주목 필요\\n美부채한도 협상은 됐는데…비트코인(BTC) 가격은 약보합\\n부채 협상 선반영 우려, 대형주 순환 기대..삼성전자,POSCO홀딩스 추천..비트코인 횡보,FOMC 주목\\n증시 안정 더할 것..FOMC 주목 필요, 삼성전자와 대형주 순환매 예상..골디락스 기대, 비트코인 횡보\\n다우와 대형 은행주 상승 큰 의미.. 골디락스 기대.. 비트코인 주춤, 한국 증시 대형주 순환매 기대\\n[속보] 부채한도협상 \" 곧 타결\" 바이든 디폴트 기자회견… 뉴욕증시 비트코인 엔비디아 폭발\\n비트코인 가격 \\'장중 강세\\', 2만7000달러선 회복\\n[코인시황] 비트코인, 美 고용지표 발표 앞두고 3600만원선 \\'등락\\'\\n[오늘의 비트코인] \\'주말 시황\\'비트코인 27k, 알트코인 현재상황은?\\n달러·美국채금리 \\'뚝\\', 비트코인 \\'장중하락\\' vs 금·은·구리·美증시 \\'활짝\\'\\n삼성전자 포함 대형주 순환 상승 기대..다우와 은행주 상승 인상적..비트코인 주춤, FOMC 주목 필요\\n美부채한도 협상은 됐는데…비트코인(BTC) 가격은 약보합\\n부채 협상 선반영 우려, 대형주 순환 기대..삼성전자,POSCO홀딩스 추천..비트코인 횡보,FOMC 주목\\n증시 안정 더할 것..FOMC 주목 필요, 삼성전자와 대형주 순환매 예상..골디락스 기대, 비트코인 횡보\\n다우와 대형 은행주 상승 큰 의미.. 골디락스 기대.. 비트코인 주춤, 한국 증시 대형주 순환매 기대\\n[속보] 부채한도협상 \" 곧 타결\" 바이든 디폴트 기자회견… 뉴욕증시 비트코인 엔비디아 폭발\\n비트코인 가격 \\'장중 강세\\', 2만7000달러선 회복\\n[코인시황] 비트코인, 美 고용지표 발표 앞두고 3600만원선 \\'등락\\'\\n[오늘의 비트코인] \\'주말 시황\\'비트코인 27k, 알트코인 현재상황은?\\n달러·美국채금리 \\'뚝\\', 비트코인 \\'장중하락\\' vs 금·은·구리·美증시 \\'활짝\\'\\n삼성전자 포함 대형주 순환 상승 기대..다우와 은행주 상승 인상적..비트코인 주춤, FOMC 주목 필요\\n美부채한도 협상은 됐는데…비트코인(BTC) 가격은 약보합\\n부채 협상 선반영 우려, 대형주 순환 기대..삼성전자,POSCO홀딩스 추천..비트코인 횡보,FOMC 주목\\n증시 안정 더할 것..FOMC 주목 필요, 삼성전자와 대형주 순환매 예상..골디락스 기대, 비트코인 횡보\\n다우와 대형 은행주 상승 큰 의미.. 골디락스 기대.. 비트코인 주춤, 한국 증시 대형주 순환매 기대\\n[속보] 부채한도협상 \" 곧 타결\" 바이든 디폴트 기자회견… 뉴욕증시 비트코인 엔비디아 폭발\\n비트코인 가격 \\'장중 강세\\', 2만7000달러선 회복\\n[코인시황] 비트코인, 美 고용지표 발표 앞두고 3600만원선 \\'등락\\'\\n[오늘의 비트코인] \\'주말 시황\\'비트코인 27k, 알트코인 현재상황은?\\n달러·美국채금리 \\'뚝\\', 비트코인 \\'장중하락\\' vs 금·은·구리·美증시 \\'활짝\\'\\n삼성전자 포함 대형주 순환 상승 기대..다우와 은행주 상승 인상적..비트코인 주춤, FOMC 주목 필요\\n美부채한도 협상은 됐는데…비트코인(BTC) 가격은 약보합\\n부채 협상 선반영 우려, 대형주 순환 기대..삼성전자,POSCO홀딩스 추천..비트코인 횡보,FOMC 주목\\n증시 안정 더할 것..FOMC 주목 필요, 삼성전자와 대형주 순환매 예상..골디락스 기대, 비트코인 횡보\\n다우와 대형 은행주 상승 큰 의미.. 골디락스 기대.. 비트코인 주춤, 한국 증시 대형주 순환매 기대\\n[속보] 부채한도협상 \" 곧 타결\" 바이든 디폴트 기자회견… 뉴욕증시 비트코인 엔비디아 폭발\\n비트코인 가격 \\'장중 강세\\', 2만7000달러선 회복\\n[코인시황] 비트코인, 美 고용지표 발표 앞두고 3600만원선 \\'등락\\'\\n[오늘의 비트코인] \\'주말 시황\\'비트코인 27k, 알트코인 현재상황은?\\n달러·美국채금리 \\'뚝\\', 비트코인 \\'장중하락\\' vs 금·은·구리·美증시 \\'활짝\\'\\n삼성전자 포함 대형주 순환 상승 기대..다우와 은행주 상승 인상적..비트코인 주춤, FOMC 주목 필요\\n美부채한도 협상은 됐는데…비트코인(BTC) 가격은 약보합\\n부채 협상 선반영 우려, 대형주 순환 기대..삼성전자,POSCO홀딩스 추천..비트코인 횡보,FOMC 주목\\n증시 안정 더할 것..FOMC 주목 필요, 삼성전자와 대형주 순환매 예상..골디락스 기대, 비트코인 횡보\\n다우와 대형 은행주 상승 큰 의미.. 골디락스 기대.. 비트코인 주춤, 한국 증시 대형주 순환매 기대\\n[속보] 부채한도협상 \" 곧 타결\" 바이든 디폴트 기자회견… 뉴욕증시 비트코인 엔비디아 폭발\\n비트코인 가격 \\'장중 강세\\', 2만7000달러선 회복\\n[코인시황] 비트코인, 美 고용지표 발표 앞두고 3600만원선 \\'등락\\'\\n[오늘의 비트코인] \\'주말 시황\\'비트코인 27k, 알트코인 현재상황은?\\n달러·美국채금리 \\'뚝\\', 비트코인 \\'장중하락\\' vs 금·은·구리·美증시 \\'활짝\\'\\n삼성전자 포함 대형주 순환 상승 기대..다우와 은행주 상승 인상적..비트코인 주춤, FOMC 주목 필요\\n美부채한도 협상은 됐는데…비트코인(BTC) 가격은 약보합\\n부채 협상 선반영 우려, 대형주 순환 기대..삼성전자,POSCO홀딩스 추천..비트코인 횡보,FOMC 주목\\n증시 안정 더할 것..FOMC 주목 필요, 삼성전자와 대형주 순환매 예상..골디락스 기대, 비트코인 횡보\\n다우와 대형 은행주 상승 큰 의미.. 골디락스 기대.. 비트코인 주춤, 한국 증시 대형주 순환매 기대\\n[속보] 부채한도협상 \" 곧 타결\" 바이든 디폴트 기자회견… 뉴욕증시 비트코인 엔비디아 폭발\\n비트코인 가격 \\'장중 강세\\', 2만7000달러선 회복\\n[코인시황] 비트코인, 美 고용지표 발표 앞두고 3600만원선 \\'등락\\'\\n[오늘의 비트코인] \\'주말 시황\\'비트코인 27k, 알트코인 현재상황은?\\n달러·美국채금리 \\'뚝\\', 비트코인 \\'장중하락\\' vs 금·은·구리·美증시 \\'활짝\\'\\n삼성전자 포함 대형주 순환 상승 기대..다우와 은행주 상승 인상적..비트코인 주춤, FOMC 주목 필요\\n美부채한도 협상은 됐는데…비트코인(BTC) 가격은 약보합\\n부채 협상 선반영 우려, 대형주 순환 기대..삼성전자,POSCO홀딩스 추천..비트코인 횡보,FOMC 주목\\n증시 안정 더할 것..FOMC 주목 필요, 삼성전자와 대형주 순환매 예상..골디락스 기대, 비트코인 횡보\\n다우와 대형 은행주 상승 큰 의미.. 골디락스 기대.. 비트코인 주춤, 한국 증시 대형주 순환매 기대\\n[속보] 부채한도협상 \" 곧 타결\" 바이든 디폴트 기자회견… 뉴욕증시 비트코인 엔비디아 폭발\\n비트코인 가격 \\'장중 강세\\', 2만7000달러선 회복\\n[코인시황] 비트코인, 美 고용지표 발표 앞두고 3600만원선 \\'등락\\'\\n[오늘의 비트코인] \\'주말 시황\\'비트코인 27k, 알트코인 현재상황은?\\n달러·美국채금리 \\'뚝\\', 비트코인 \\'장중하락\\' vs 금·은·구리·美증시 \\'활짝\\'\\n삼성전자 포함 대형주 순환 상승 기대..다우와 은행주 상승 인상적..비트코인 주춤, FOMC 주목 필요\\n美부채한도 협상은 됐는데…비트코인(BTC) 가격은 약보합\\n부채 협상 선반영 우려, 대형주 순환 기대..삼성전자,POSCO홀딩스 추천..비트코인 횡보,FOMC 주목\\n증시 안정 더할 것..FOMC 주목 필요, 삼성전자와 대형주 순환매 예상..골디락스 기대, 비트코인 횡보\\n다우와 대형 은행주 상승 큰 의미.. 골디락스 기대.. 비트코인 주춤, 한국 증시 대형주 순환매 기대\\n[속보] 부채한도협상 \" 곧 타결\" 바이든 디폴트 기자회견… 뉴욕증시 비트코인 엔비디아 폭발\\n비트코인 가격 \\'장중 강세\\', 2만7000달러선 회복\\n[코인시황] 비트코인, 美 고용지표 발표 앞두고 3600만원선 \\'등락\\'\\n[오늘의 비트코인] \\'주말 시황\\'비트코인 27k, 알트코인 현재상황은?\\n달러·美국채금리 \\'뚝\\', 비트코인 \\'장중하락\\' vs 금·은·구리·美증시 \\'활짝\\'\\n삼성전자 포함 대형주 순환 상승 기대..다우와 은행주 상승 인상적..비트코인 주춤, FOMC 주목 필요\\n美부채한도 협상은 됐는데…비트코인(BTC) 가격은 약보합\\n부채 협상 선반영 우려, 대형주 순환 기대..삼성전자,POSCO홀딩스 추천..비트코인 횡보,FOMC 주목\\n증시 안정 더할 것..FOMC 주목 필요, 삼성전자와 대형주 순환매 예상..골디락스 기대, 비트코인 횡보\\n다우와 대형 은행주 상승 큰 의미.. 골디락스 기대.. 비트코인 주춤, 한국 증시 대형주 순환매 기대\\n[속보] 부채한도협상 \" 곧 타결\" 바이든 디폴트 기자회견… 뉴욕증시 비트코인 엔비디아 폭발\\n비트코인 가격 \\'장중 강세\\', 2만7000달러선 회복\\n[코인시황] 비트코인, 美 고용지표 발표 앞두고 3600만원선 \\'등락\\'\\n[오늘의 비트코인] \\'주말 시황\\'비트코인 27k, 알트코인 현재상황은?\\n달러·美국채금리 \\'뚝\\', 비트코인 \\'장중하락\\' vs 금·은·구리·美증시 \\'활짝\\'\\n삼성전자 포함 대형주 순환 상승 기대..다우와 은행주 상승 인상적..비트코인 주춤, FOMC 주목 필요\\n美부채한도 협상은 됐는데…비트코인(BTC) 가격은 약보합\\n부채 협상 선반영 우려, 대형주 순환 기대..삼성전자,POSCO홀딩스 추천..비트코인 횡보,FOMC 주목\\n증시 안정 더할 것..FOMC 주목 필요, 삼성전자와 대형주 순환매 예상..골디락스 기대, 비트코인 횡보\\n다우와 대형 은행주 상승 큰 의미.. 골디락스 기대.. 비트코인 주춤, 한국 증시 대형주 순환매 기대\\n[속보] 부채한도협상 \" 곧 타결\" 바이든 디폴트 기자회견… 뉴욕증시 비트코인 엔비디아 폭발\\n비트코인 가격 \\'장중 강세\\', 2만7000달러선 회복\\n[코인시황] 비트코인, 美 고용지표 발표 앞두고 3600만원선 \\'등락\\'\\n[오늘의 비트코인] \\'주말 시황\\'비트코인 27k, 알트코인 현재상황은?\\n달러·美국채금리 \\'뚝\\', 비트코인 \\'장중하락\\' vs 금·은·구리·美증시 \\'활짝\\'\\n삼성전자 포함 대형주 순환 상승 기대..다우와 은행주 상승 인상적..비트코인 주춤, FOMC 주목 필요\\n美부채한도 협상은 됐는데…비트코인(BTC) 가격은 약보합\\n부채 협상 선반영 우려, 대형주 순환 기대..삼성전자,POSCO홀딩스 추천..비트코인 횡보,FOMC 주목\\n증시 안정 더할 것..FOMC 주목 필요, 삼성전자와 대형주 순환매 예상..골디락스 기대, 비트코인 횡보\\n다우와 대형 은행주 상승 큰 의미.. 골디락스 기대.. 비트코인 주춤, 한국 증시 대형주 순환매 기대\\n[속보] 부채한도협상 \" 곧 타결\" 바이든 디폴트 기자회견… 뉴욕증시 비트코인 엔비디아 폭발\\n비트코인 가격 \\'장중 강세\\', 2만7000달러선 회복\\n[코인시황] 비트코인, 美 고용지표 발표 앞두고 3600만원선 \\'등락\\'\\n[오늘의 비트코인] \\'주말 시황\\'비트코인 27k, 알트코인 현재상황은?\\n달러·美국채금리 \\'뚝\\', 비트코인 \\'장중하락\\' vs 금·은·구리·美증시 \\'활짝\\'\\n삼성전자 포함 대형주 순환 상승 기대..다우와 은행주 상승 인상적..비트코인 주춤, FOMC 주목 필요\\n美부채한도 협상은 됐는데…비트코인(BTC) 가격은 약보합\\n부채 협상 선반영 우려, 대형주 순환 기대..삼성전자,POSCO홀딩스 추천..비트코인 횡보,FOMC 주목\\n증시 안정 더할 것..FOMC 주목 필요, 삼성전자와 대형주 순환매 예상..골디락스 기대, 비트코인 횡보\\n다우와 대형 은행주 상승 큰 의미.. 골디락스 기대.. 비트코인 주춤, 한국 증시 대형주 순환매 기대\\n[속보] 부채한도협상 \" 곧 타결\" 바이든 디폴트 기자회견… 뉴욕증시 비트코인 엔비디아 폭발\\n비트코인 가격 \\'장중 강세\\', 2만7000달러선 회복\\n[코인시황] 비트코인, 美 고용지표 발표 앞두고 3600만원선 \\'등락\\'\\n[오늘의 비트코인] \\'주말 시황\\'비트코인 27k, 알트코인 현재상황은?\\n달러·美국채금리 \\'뚝\\', 비트코인 \\'장중하락\\' vs 금·은·구리·美증시 \\'활짝\\'\\n삼성전자 포함 대형주 순환 상승 기대..다우와 은행주 상승 인상적..비트코인 주춤, FOMC 주목 필요\\n美부채한도 협상은 됐는데…비트코인(BTC) 가격은 약보합\\n부채 협상 선반영 우려, 대형주 순환 기대..삼성전자,POSCO홀딩스 추천..비트코인 횡보,FOMC 주목\\n증시 안정 더할 것..FOMC 주목 필요, 삼성전자와 대형주 순환매 예상..골디락스 기대, 비트코인 횡보\\n다우와 대형 은행주 상승 큰 의미.. 골디락스 기대.. 비트코인 주춤, 한국 증시 대형주 순환매 기대\\n[속보] 부채한도협상 \" 곧 타결\" 바이든 디폴트 기자회견… 뉴욕증시 비트코인 엔비디아 폭발\\n비트코인 가격 \\'장중 강세\\', 2만7000달러선 회복\\n[코인시황] 비트코인, 美 고용지표 발표 앞두고 3600만원선 \\'등락\\'\\n[오늘의 비트코인] \\'주말 시황\\'비트코인 27k, 알트코인 현재상황은?\\n달러·美국채금리 \\'뚝\\', 비트코인 \\'장중하락\\' vs 금·은·구리·美증시 \\'활짝\\'\\n삼성전자 포함 대형주 순환 상승 기대..다우와 은행주 상승 인상적..비트코인 주춤, FOMC 주목 필요\\n美부채한도 협상은 됐는데…비트코인(BTC) 가격은 약보합\\n부채 협상 선반영 우려, 대형주 순환 기대..삼성전자,POSCO홀딩스 추천..비트코인 횡보,FOMC 주목\\n증시 안정 더할 것..FOMC 주목 필요, 삼성전자와 대형주 순환매 예상..골디락스 기대, 비트코인 횡보\\n다우와 대형 은행주 상승 큰 의미.. 골디락스 기대.. 비트코인 주춤, 한국 증시 대형주 순환매 기대\\n[속보] 부채한도협상 \" 곧 타결\" 바이든 디폴트 기자회견… 뉴욕증시 비트코인 엔비디아 폭발\\n비트코인 가격 \\'장중 강세\\', 2만7000달러선 회복\\n[코인시황] 비트코인, 美 고용지표 발표 앞두고 3600만원선 \\'등락\\'\\n[오늘의 비트코인] \\'주말 시황\\'비트코인 27k, 알트코인 현재상황은?\\n달러·美국채금리 \\'뚝\\', 비트코인 \\'장중하락\\' vs 금·은·구리·美증시 \\'활짝\\'\\n삼성전자 포함 대형주 순환 상승 기대..다우와 은행주 상승 인상적..비트코인 주춤, FOMC 주목 필요\\n美부채한도 협상은 됐는데…비트코인(BTC) 가격은 약보합\\n부채 협상 선반영 우려, 대형주 순환 기대..삼성전자,POSCO홀딩스 추천..비트코인 횡보,FOMC 주목\\n증시 안정 더할 것..FOMC 주목 필요, 삼성전자와 대형주 순환매 예상..골디락스 기대, 비트코인 횡보\\n다우와 대형 은행주 상승 큰 의미.. 골디락스 기대.. 비트코인 주춤, 한국 증시 대형주 순환매 기대\\n[속보] 부채한도협상 \" 곧 타결\" 바이든 디폴트 기자회견… 뉴욕증시 비트코인 엔비디아 폭발\\n비트코인 가격 \\'장중 강세\\', 2만7000달러선 회복\\n[코인시황] 비트코인, 美 고용지표 발표 앞두고 3600만원선 \\'등락\\'\\n[오늘의 비트코인] \\'주말 시황\\'비트코인 27k, 알트코인 현재상황은?\\n달러·美국채금리 \\'뚝\\', 비트코인 \\'장중하락\\' vs 금·은·구리·美증시 \\'활짝\\'\\n삼성전자 포함 대형주 순환 상승 기대..다우와 은행주 상승 인상적..비트코인 주춤, FOMC 주목 필요\\n美부채한도 협상은 됐는데…비트코인(BTC) 가격은 약보합\\n부채 협상 선반영 우려, 대형주 순환 기대..삼성전자,POSCO홀딩스 추천..비트코인 횡보,FOMC 주목\\n증시 안정 더할 것..FOMC 주목 필요, 삼성전자와 대형주 순환매 예상..골디락스 기대, 비트코인 횡보\\n다우와 대형 은행주 상승 큰 의미.. 골디락스 기대.. 비트코인 주춤, 한국 증시 대형주 순환매 기대\\n[속보] 부채한도협상 \" 곧 타결\" 바이든 디폴트 기자회견… 뉴욕증시 비트코인 엔비디아 폭발\\n비트코인 가격 \\'장중 강세\\', 2만7000달러선 회복\\n[코인시황] 비트코인, 美 고용지표 발표 앞두고 3600만원선 \\'등락\\'\\n[오늘의 비트코인] \\'주말 시황\\'비트코인 27k, 알트코인 현재상황은?\\n달러·美국채금리 \\'뚝\\', 비트코인 \\'장중하락\\' vs 금·은·구리·美증시 \\'활짝\\'\\n삼성전자 포함 대형주 순환 상승 기대..다우와 은행주 상승 인상적..비트코인 주춤, FOMC 주목 필요\\n美부채한도 협상은 됐는데…비트코인(BTC) 가격은 약보합\\n부채 협상 선반영 우려, 대형주 순환 기대..삼성전자,POSCO홀딩스 추천..비트코인 횡보,FOMC 주목\\n증시 안정 더할 것..FOMC 주목 필요, 삼성전자와 대형주 순환매 예상..골디락스 기대, 비트코인 횡보\\n다우와 대형 은행주 상승 큰 의미.. 골디락스 기대.. 비트코인 주춤, 한국 증시 대형주 순환매 기대\\n[속보] 부채한도협상 \" 곧 타결\" 바이든 디폴트 기자회견… 뉴욕증시 비트코인 엔비디아 폭발\\n비트코인 가격 \\'장중 강세\\', 2만7000달러선 회복\\n[코인시황] 비트코인, 美 고용지표 발표 앞두고 3600만원선 \\'등락\\'\\n[오늘의 비트코인] \\'주말 시황\\'비트코인 27k, 알트코인 현재상황은?\\n달러·美국채금리 \\'뚝\\', 비트코인 \\'장중하락\\' vs 금·은·구리·美증시 \\'활짝\\'\\n삼성전자 포함 대형주 순환 상승 기대..다우와 은행주 상승 인상적..비트코인 주춤, FOMC 주목 필요\\n美부채한도 협상은 됐는데…비트코인(BTC) 가격은 약보합\\n부채 협상 선반영 우려, 대형주 순환 기대..삼성전자,POSCO홀딩스 추천..비트코인 횡보,FOMC 주목\\n증시 안정 더할 것..FOMC 주목 필요, 삼성전자와 대형주 순환매 예상..골디락스 기대, 비트코인 횡보\\n다우와 대형 은행주 상승 큰 의미.. 골디락스 기대.. 비트코인 주춤, 한국 증시 대형주 순환매 기대\\n[속보] 부채한도협상 \" 곧 타결\" 바이든 디폴트 기자회견… 뉴욕증시 비트코인 엔비디아 폭발\\n비트코인 가격 \\'장중 강세\\', 2만7000달러선 회복\\n[코인시황] 비트코인, 美 고용지표 발표 앞두고 3600만원선 \\'등락\\'\\n[오늘의 비트코인] \\'주말 시황\\'비트코인 27k, 알트코인 현재상황은?\\n달러·美국채금리 \\'뚝\\', 비트코인 \\'장중하락\\' vs 금·은·구리·美증시 \\'활짝\\'\\n삼성전자 포함 대형주 순환 상승 기대..다우와 은행주 상승 인상적..비트코인 주춤, FOMC 주목 필요\\n美부채한도 협상은 됐는데…비트코인(BTC) 가격은 약보합\\n부채 협상 선반영 우려, 대형주 순환 기대..삼성전자,POSCO홀딩스 추천..비트코인 횡보,FOMC 주목\\n증시 안정 더할 것..FOMC 주목 필요, 삼성전자와 대형주 순환매 예상..골디락스 기대, 비트코인 횡보\\n다우와 대형 은행주 상승 큰 의미.. 골디락스 기대.. 비트코인 주춤, 한국 증시 대형주 순환매 기대\\n[속보] 부채한도협상 \" 곧 타결\" 바이든 디폴트 기자회견… 뉴욕증시 비트코인 엔비디아 폭발\\n비트코인 가격 \\'장중 강세\\', 2만7000달러선 회복\\n[코인시황] 비트코인, 美 고용지표 발표 앞두고 3600만원선 \\'등락\\'\\n[오늘의 비트코인] \\'주말 시황\\'비트코인 27k, 알트코인 현재상황은?\\n달러·美국채금리 \\'뚝\\', 비트코인 \\'장중하락\\' vs 금·은·구리·美증시 \\'활짝\\'\\n삼성전자 포함 대형주 순환 상승 기대..다우와 은행주 상승 인상적..비트코인 주춤, FOMC 주목 필요\\n美부채한도 협상은 됐는데…비트코인(BTC) 가격은 약보합\\n부채 협상 선반영 우려, 대형주 순환 기대..삼성전자,POSCO홀딩스 추천..비트코인 횡보,FOMC 주목\\n증시 안정 더할 것..FOMC 주목 필요, 삼성전자와 대형주 순환매 예상..골디락스 기대, 비트코인 횡보\\n다우와 대형 은행주 상승 큰 의미.. 골디락스 기대.. 비트코인 주춤, 한국 증시 대형주 순환매 기대\\n[속보] 부채한도협상 \" 곧 타결\" 바이든 디폴트 기자회견… 뉴욕증시 비트코인 엔비디아 폭발\\n비트코인 가격 \\'장중 강세\\', 2만7000달러선 회복\\n[코인시황] 비트코인, 美 고용지표 발표 앞두고 3600만원선 \\'등락\\'\\n[오늘의 비트코인] \\'주말 시황\\'비트코인 27k, 알트코인 현재상황은?\\n달러·美국채금리 \\'뚝\\', 비트코인 \\'장중하락\\' vs 금·은·구리·美증시 \\'활짝\\'\\n삼성전자 포함 대형주 순환 상승 기대..다우와 은행주 상승 인상적..비트코인 주춤, FOMC 주목 필요\\n美부채한도 협상은 됐는데…비트코인(BTC) 가격은 약보합\\n부채 협상 선반영 우려, 대형주 순환 기대..삼성전자,POSCO홀딩스 추천..비트코인 횡보,FOMC 주목\\n증시 안정 더할 것..FOMC 주목 필요, 삼성전자와 대형주 순환매 예상..골디락스 기대, 비트코인 횡보\\n다우와 대형 은행주 상승 큰 의미.. 골디락스 기대.. 비트코인 주춤, 한국 증시 대형주 순환매 기대\\n[속보] 부채한도협상 \" 곧 타결\" 바이든 디폴트 기자회견… 뉴욕증시 비트코인 엔비디아 폭발\\n비트코인 가격 \\'장중 강세\\', 2만7000달러선 회복\\n[코인시황] 비트코인, 美 고용지표 발표 앞두고 3600만원선 \\'등락\\'\\n[오늘의 비트코인] \\'주말 시황\\'비트코인 27k, 알트코인 현재상황은?\\n달러·美국채금리 \\'뚝\\', 비트코인 \\'장중하락\\' vs 금·은·구리·美증시 \\'활짝\\'\\n삼성전자 포함 대형주 순환 상승 기대..다우와 은행주 상승 인상적..비트코인 주춤, FOMC 주목 필요\\n美부채한도 협상은 됐는데…비트코인(BTC) 가격은 약보합\\n부채 협상 선반영 우려, 대형주 순환 기대..삼성전자,POSCO홀딩스 추천..비트코인 횡보,FOMC 주목\\n증시 안정 더할 것..FOMC 주목 필요, 삼성전자와 대형주 순환매 예상..골디락스 기대, 비트코인 횡보\\n다우와 대형 은행주 상승 큰 의미.. 골디락스 기대.. 비트코인 주춤, 한국 증시 대형주 순환매 기대\\n[속보] 부채한도협상 \" 곧 타결\" 바이든 디폴트 기자회견… 뉴욕증시 비트코인 엔비디아 폭발\\n비트코인 가격 \\'장중 강세\\', 2만7000달러선 회복\\n[코인시황] 비트코인, 美 고용지표 발표 앞두고 3600만원선 \\'등락\\'\\n[오늘의 비트코인] \\'주말 시황\\'비트코인 27k, 알트코인 현재상황은?\\n달러·美국채금리 \\'뚝\\', 비트코인 \\'장중하락\\' vs 금·은·구리·美증시 \\'활짝\\'\\n삼성전자 포함 대형주 순환 상승 기대..다우와 은행주 상승 인상적..비트코인 주춤, FOMC 주목 필요\\n美부채한도 협상은 됐는데…비트코인(BTC) 가격은 약보합\\n부채 협상 선반영 우려, 대형주 순환 기대..삼성전자,POSCO홀딩스 추천..비트코인 횡보,FOMC 주목\\n증시 안정 더할 것..FOMC 주목 필요, 삼성전자와 대형주 순환매 예상..골디락스 기대, 비트코인 횡보\\n다우와 대형 은행주 상승 큰 의미.. 골디락스 기대.. 비트코인 주춤, 한국 증시 대형주 순환매 기대\\n[속보] 부채한도협상 \" 곧 타결\" 바이든 디폴트 기자회견… 뉴욕증시 비트코인 엔비디아 폭발\\n비트코인 가격 \\'장중 강세\\', 2만7000달러선 회복\\n[코인시황] 비트코인, 美 고용지표 발표 앞두고 3600만원선 \\'등락\\'\\n[오늘의 비트코인] \\'주말 시황\\'비트코인 27k, 알트코인 현재상황은?\\n달러·美국채금리 \\'뚝\\', 비트코인 \\'장중하락\\' vs 금·은·구리·美증시 \\'활짝\\'\\n삼성전자 포함 대형주 순환 상승 기대..다우와 은행주 상승 인상적..비트코인 주춤, FOMC 주목 필요\\n美부채한도 협상은 됐는데…비트코인(BTC) 가격은 약보합\\n부채 협상 선반영 우려, 대형주 순환 기대..삼성전자,POSCO홀딩스 추천..비트코인 횡보,FOMC 주목\\n증시 안정 더할 것..FOMC 주목 필요, 삼성전자와 대형주 순환매 예상..골디락스 기대, 비트코인 횡보\\n다우와 대형 은행주 상승 큰 의미.. 골디락스 기대.. 비트코인 주춤, 한국 증시 대형주 순환매 기대\\n[속보] 부채한도협상 \" 곧 타결\" 바이든 디폴트 기자회견… 뉴욕증시 비트코인 엔비디아 폭발\\n비트코인 가격 \\'장중 강세\\', 2만7000달러선 회복\\n[코인시황] 비트코인, 美 고용지표 발표 앞두고 3600만원선 \\'등락\\'\\n[오늘의 비트코인] \\'주말 시황\\'비트코인 27k, 알트코인 현재상황은?\\n달러·美국채금리 \\'뚝\\', 비트코인 \\'장중하락\\' vs 금·은·구리·美증시 \\'활짝\\'\\n삼성전자 포함 대형주 순환 상승 기대..다우와 은행주 상승 인상적..비트코인 주춤, FOMC 주목 필요\\n美부채한도 협상은 됐는데…비트코인(BTC) 가격은 약보합\\n부채 협상 선반영 우려, 대형주 순환 기대..삼성전자,POSCO홀딩스 추천..비트코인 횡보,FOMC 주목\\n증시 안정 더할 것..FOMC 주목 필요, 삼성전자와 대형주 순환매 예상..골디락스 기대, 비트코인 횡보\\n다우와 대형 은행주 상승 큰 의미.. 골디락스 기대.. 비트코인 주춤, 한국 증시 대형주 순환매 기대\\n[속보] 부채한도협상 \" 곧 타결\" 바이든 디폴트 기자회견… 뉴욕증시 비트코인 엔비디아 폭발\\n비트코인 가격 \\'장중 강세\\', 2만7000달러선 회복\\n[코인시황] 비트코인, 美 고용지표 발표 앞두고 3600만원선 \\'등락\\'\\n[오늘의 비트코인] \\'주말 시황\\'비트코인 27k, 알트코인 현재상황은?\\n달러·美국채금리 \\'뚝\\', 비트코인 \\'장중하락\\' vs 금·은·구리·美증시 \\'활짝\\'\\n삼성전자 포함 대형주 순환 상승 기대..다우와 은행주 상승 인상적..비트코인 주춤, FOMC 주목 필요\\n美부채한도 협상은 됐는데…비트코인(BTC) 가격은 약보합\\n부채 협상 선반영 우려, 대형주 순환 기대..삼성전자,POSCO홀딩스 추천..비트코인 횡보,FOMC 주목\\n증시 안정 더할 것..FOMC 주목 필요, 삼성전자와 대형주 순환매 예상..골디락스 기대, 비트코인 횡보\\n다우와 대형 은행주 상승 큰 의미.. 골디락스 기대.. 비트코인 주춤, 한국 증시 대형주 순환매 기대\\n[속보] 부채한도협상 \" 곧 타결\" 바이든 디폴트 기자회견… 뉴욕증시 비트코인 엔비디아 폭발\\n비트코인 가격 \\'장중 강세\\', 2만7000달러선 회복\\n[코인시황] 비트코인, 美 고용지표 발표 앞두고 3600만원선 \\'등락\\'\\n[오늘의 비트코인] \\'주말 시황\\'비트코인 27k, 알트코인 현재상황은?\\n달러·美국채금리 \\'뚝\\', 비트코인 \\'장중하락\\' vs 금·은·구리·美증시 \\'활짝\\'\\n삼성전자 포함 대형주 순환 상승 기대..다우와 은행주 상승 인상적..비트코인 주춤, FOMC 주목 필요\\n美부채한도 협상은 됐는데…비트코인(BTC) 가격은 약보합\\n부채 협상 선반영 우려, 대형주 순환 기대..삼성전자,POSCO홀딩스 추천..비트코인 횡보,FOMC 주목\\n증시 안정 더할 것..FOMC 주목 필요, 삼성전자와 대형주 순환매 예상..골디락스 기대, 비트코인 횡보\\n다우와 대형 은행주 상승 큰 의미.. 골디락스 기대.. 비트코인 주춤, 한국 증시 대형주 순환매 기대\\n[속보] 부채한도협상 \" 곧 타결\" 바이든 디폴트 기자회견… 뉴욕증시 비트코인 엔비디아 폭발\\n비트코인 가격 \\'장중 강세\\', 2만7000달러선 회복\\n[코인시황] 비트코인, 美 고용지표 발표 앞두고 3600만원선 \\'등락\\'\\n[오늘의 비트코인] \\'주말 시황\\'비트코인 27k, 알트코인 현재상황은?\\n달러·美국채금리 \\'뚝\\', 비트코인 \\'장중하락\\' vs 금·은·구리·美증시 \\'활짝\\'\\n삼성전자 포함 대형주 순환 상승 기대..다우와 은행주 상승 인상적..비트코인 주춤, FOMC 주목 필요\\n美부채한도 협상은 됐는데…비트코인(BTC) 가격은 약보합\\n부채 협상 선반영 우려, 대형주 순환 기대..삼성전자,POSCO홀딩스 추천..비트코인 횡보,FOMC 주목\\n증시 안정 더할 것..FOMC 주목 필요, 삼성전자와 대형주 순환매 예상..골디락스 기대, 비트코인 횡보\\n다우와 대형 은행주 상승 큰 의미.. 골디락스 기대.. 비트코인 주춤, 한국 증시 대형주 순환매 기대\\n[속보] 부채한도협상 \" 곧 타결\" 바이든 디폴트 기자회견… 뉴욕증시 비트코인 엔비디아 폭발\\n비트코인 가격 \\'장중 강세\\', 2만7000달러선 회복\\n[코인시황] 비트코인, 美 고용지표 발표 앞두고 3600만원선 \\'등락\\'\\n[오늘의 비트코인] \\'주말 시황\\'비트코인 27k, 알트코인 현재상황은?\\n달러·美국채금리 \\'뚝\\', 비트코인 \\'장중하락\\' vs 금·은·구리·美증시 \\'활짝\\'\\n삼성전자 포함 대형주 순환 상승 기대..다우와 은행주 상승 인상적..비트코인 주춤, FOMC 주목 필요\\n美부채한도 협상은 됐는데…비트코인(BTC) 가격은 약보합\\n부채 협상 선반영 우려, 대형주 순환 기대..삼성전자,POSCO홀딩스 추천..비트코인 횡보,FOMC 주목\\n증시 안정 더할 것..FOMC 주목 필요, 삼성전자와 대형주 순환매 예상..골디락스 기대, 비트코인 횡보\\n다우와 대형 은행주 상승 큰 의미.. 골디락스 기대.. 비트코인 주춤, 한국 증시 대형주 순환매 기대\\n[속보] 부채한도협상 \" 곧 타결\" 바이든 디폴트 기자회견… 뉴욕증시 비트코인 엔비디아 폭발\\n비트코인 가격 \\'장중 강세\\', 2만7000달러선 회복\\n[코인시황] 비트코인, 美 고용지표 발표 앞두고 3600만원선 \\'등락\\'\\n[오늘의 비트코인] \\'주말 시황\\'비트코인 27k, 알트코인 현재상황은?\\n달러·美국채금리 \\'뚝\\', 비트코인 \\'장중하락\\' vs 금·은·구리·美증시 \\'활짝\\'\\n삼성전자 포함 대형주 순환 상승 기대..다우와 은행주 상승 인상적..비트코인 주춤, FOMC 주목 필요\\n美부채한도 협상은 됐는데…비트코인(BTC) 가격은 약보합\\n부채 협상 선반영 우려, 대형주 순환 기대..삼성전자,POSCO홀딩스 추천..비트코인 횡보,FOMC 주목\\n증시 안정 더할 것..FOMC 주목 필요, 삼성전자와 대형주 순환매 예상..골디락스 기대, 비트코인 횡보\\n다우와 대형 은행주 상승 큰 의미.. 골디락스 기대.. 비트코인 주춤, 한국 증시 대형주 순환매 기대\\n[속보] 부채한도협상 \" 곧 타결\" 바이든 디폴트 기자회견… 뉴욕증시 비트코인 엔비디아 폭발\\n비트코인 가격 \\'장중 강세\\', 2만7000달러선 회복\\n[코인시황] 비트코인, 美 고용지표 발표 앞두고 3600만원선 \\'등락\\'\\n[오늘의 비트코인] \\'주말 시황\\'비트코인 27k, 알트코인 현재상황은?\\n달러·美국채금리 \\'뚝\\', 비트코인 \\'장중하락\\' vs 금·은·구리·美증시 \\'활짝\\'\\n삼성전자 포함 대형주 순환 상승 기대..다우와 은행주 상승 인상적..비트코인 주춤, FOMC 주목 필요\\n美부채한도 협상은 됐는데…비트코인(BTC) 가격은 약보합\\n부채 협상 선반영 우려, 대형주 순환 기대..삼성전자,POSCO홀딩스 추천..비트코인 횡보,FOMC 주목\\n증시 안정 더할 것..FOMC 주목 필요, 삼성전자와 대형주 순환매 예상..골디락스 기대, 비트코인 횡보\\n다우와 대형 은행주 상승 큰 의미.. 골디락스 기대.. 비트코인 주춤, 한국 증시 대형주 순환매 기대\\n[속보] 부채한도협상 \" 곧 타결\" 바이든 디폴트 기자회견… 뉴욕증시 비트코인 엔비디아 폭발\\n비트코인 가격 \\'장중 강세\\', 2만7000달러선 회복\\n[코인시황] 비트코인, 美 고용지표 발표 앞두고 3600만원선 \\'등락\\'\\n[오늘의 비트코인] \\'주말 시황\\'비트코인 27k, 알트코인 현재상황은?\\n달러·美국채금리 \\'뚝\\', 비트코인 \\'장중하락\\' vs 금·은·구리·美증시 \\'활짝\\'\\n삼성전자 포함 대형주 순환 상승 기대..다우와 은행주 상승 인상적..비트코인 주춤, FOMC 주목 필요\\n美부채한도 협상은 됐는데…비트코인(BTC) 가격은 약보합\\n부채 협상 선반영 우려, 대형주 순환 기대..삼성전자,POSCO홀딩스 추천..비트코인 횡보,FOMC 주목\\n증시 안정 더할 것..FOMC 주목 필요, 삼성전자와 대형주 순환매 예상..골디락스 기대, 비트코인 횡보\\n다우와 대형 은행주 상승 큰 의미.. 골디락스 기대.. 비트코인 주춤, 한국 증시 대형주 순환매 기대\\n[속보] 부채한도협상 \" 곧 타결\" 바이든 디폴트 기자회견… 뉴욕증시 비트코인 엔비디아 폭발\\n비트코인 가격 \\'장중 강세\\', 2만7000달러선 회복\\n[코인시황] 비트코인, 美 고용지표 발표 앞두고 3600만원선 \\'등락\\'\\n[오늘의 비트코인] \\'주말 시황\\'비트코인 27k, 알트코인 현재상황은?\\n달러·美국채금리 \\'뚝\\', 비트코인 \\'장중하락\\' vs 금·은·구리·美증시 \\'활짝\\'\\n삼성전자 포함 대형주 순환 상승 기대..다우와 은행주 상승 인상적..비트코인 주춤, FOMC 주목 필요\\n美부채한도 협상은 됐는데…비트코인(BTC) 가격은 약보합\\n부채 협상 선반영 우려, 대형주 순환 기대..삼성전자,POSCO홀딩스 추천..비트코인 횡보,FOMC 주목\\n증시 안정 더할 것..FOMC 주목 필요, 삼성전자와 대형주 순환매 예상..골디락스 기대, 비트코인 횡보\\n다우와 대형 은행주 상승 큰 의미.. 골디락스 기대.. 비트코인 주춤, 한국 증시 대형주 순환매 기대\\n[속보] 부채한도협상 \" 곧 타결\" 바이든 디폴트 기자회견… 뉴욕증시 비트코인 엔비디아 폭발\\n비트코인 가격 \\'장중 강세\\', 2만7000달러선 회복\\n[코인시황] 비트코인, 美 고용지표 발표 앞두고 3600만원선 \\'등락\\'\\n[오늘의 비트코인] \\'주말 시황\\'비트코인 27k, 알트코인 현재상황은?\\n달러·美국채금리 \\'뚝\\', 비트코인 \\'장중하락\\' vs 금·은·구리·美증시 \\'활짝\\'\\n삼성전자 포함 대형주 순환 상승 기대..다우와 은행주 상승 인상적..비트코인 주춤, FOMC 주목 필요\\n美부채한도 협상은 됐는데…비트코인(BTC) 가격은 약보합\\n부채 협상 선반영 우려, 대형주 순환 기대..삼성전자,POSCO홀딩스 추천..비트코인 횡보,FOMC 주목\\n증시 안정 더할 것..FOMC 주목 필요, 삼성전자와 대형주 순환매 예상..골디락스 기대, 비트코인 횡보\\n다우와 대형 은행주 상승 큰 의미.. 골디락스 기대.. 비트코인 주춤, 한국 증시 대형주 순환매 기대\\n[속보] 부채한도협상 \" 곧 타결\" 바이든 디폴트 기자회견… 뉴욕증시 비트코인 엔비디아 폭발\\n비트코인 가격 \\'장중 강세\\', 2만7000달러선 회복\\n[코인시황] 비트코인, 美 고용지표 발표 앞두고 3600만원선 \\'등락\\'\\n[오늘의 비트코인] \\'주말 시황\\'비트코인 27k, 알트코인 현재상황은?\\n달러·美국채금리 \\'뚝\\', 비트코인 \\'장중하락\\' vs 금·은·구리·美증시 \\'활짝\\'\\n삼성전자 포함 대형주 순환 상승 기대..다우와 은행주 상승 인상적..비트코인 주춤, FOMC 주목 필요\\n美부채한도 협상은 됐는데…비트코인(BTC) 가격은 약보합\\n부채 협상 선반영 우려, 대형주 순환 기대..삼성전자,POSCO홀딩스 추천..비트코인 횡보,FOMC 주목\\n증시 안정 더할 것..FOMC 주목 필요, 삼성전자와 대형주 순환매 예상..골디락스 기대, 비트코인 횡보\\n다우와 대형 은행주 상승 큰 의미.. 골디락스 기대.. 비트코인 주춤, 한국 증시 대형주 순환매 기대\\n[속보] 부채한도협상 \" 곧 타결\" 바이든 디폴트 기자회견… 뉴욕증시 비트코인 엔비디아 폭발\\n비트코인 가격 \\'장중 강세\\', 2만7000달러선 회복\\n[코인시황] 비트코인, 美 고용지표 발표 앞두고 3600만원선 \\'등락\\'\\n[오늘의 비트코인] \\'주말 시황\\'비트코인 27k, 알트코인 현재상황은?\\n달러·美국채금리 \\'뚝\\', 비트코인 \\'장중하락\\' vs 금·은·구리·美증시 \\'활짝\\'\\n삼성전자 포함 대형주 순환 상승 기대..다우와 은행주 상승 인상적..비트코인 주춤, FOMC 주목 필요\\n美부채한도 협상은 됐는데…비트코인(BTC) 가격은 약보합\\n부채 협상 선반영 우려, 대형주 순환 기대..삼성전자,POSCO홀딩스 추천..비트코인 횡보,FOMC 주목\\n증시 안정 더할 것..FOMC 주목 필요, 삼성전자와 대형주 순환매 예상..골디락스 기대, 비트코인 횡보\\n다우와 대형 은행주 상승 큰 의미.. 골디락스 기대.. 비트코인 주춤, 한국 증시 대형주 순환매 기대\\n[속보] 부채한도협상 \" 곧 타결\" 바이든 디폴트 기자회견… 뉴욕증시 비트코인 엔비디아 폭발\\n비트코인 가격 \\'장중 강세\\', 2만7000달러선 회복\\n[코인시황] 비트코인, 美 고용지표 발표 앞두고 3600만원선 \\'등락\\'\\n[오늘의 비트코인] \\'주말 시황\\'비트코인 27k, 알트코인 현재상황은?\\n달러·美국채금리 \\'뚝\\', 비트코인 \\'장중하락\\' vs 금·은·구리·美증시 \\'활짝\\'\\n삼성전자 포함 대형주 순환 상승 기대..다우와 은행주 상승 인상적..비트코인 주춤, FOMC 주목 필요\\n美부채한도 협상은 됐는데…비트코인(BTC) 가격은 약보합\\n부채 협상 선반영 우려, 대형주 순환 기대..삼성전자,POSCO홀딩스 추천..비트코인 횡보,FOMC 주목\\n증시 안정 더할 것..FOMC 주목 필요, 삼성전자와 대형주 순환매 예상..골디락스 기대, 비트코인 횡보\\n다우와 대형 은행주 상승 큰 의미.. 골디락스 기대.. 비트코인 주춤, 한국 증시 대형주 순환매 기대\\n[속보] 부채한도협상 \" 곧 타결\" 바이든 디폴트 기자회견… 뉴욕증시 비트코인 엔비디아 폭발\\n비트코인 가격 \\'장중 강세\\', 2만7000달러선 회복\\n[코인시황] 비트코인, 美 고용지표 발표 앞두고 3600만원선 \\'등락\\'\\n[오늘의 비트코인] \\'주말 시황\\'비트코인 27k, 알트코인 현재상황은?\\n달러·美국채금리 \\'뚝\\', 비트코인 \\'장중하락\\' vs 금·은·구리·美증시 \\'활짝\\'\\n삼성전자 포함 대형주 순환 상승 기대..다우와 은행주 상승 인상적..비트코인 주춤, FOMC 주목 필요\\n美부채한도 협상은 됐는데…비트코인(BTC) 가격은 약보합\\n부채 협상 선반영 우려, 대형주 순환 기대..삼성전자,POSCO홀딩스 추천..비트코인 횡보,FOMC 주목\\n증시 안정 더할 것..FOMC 주목 필요, 삼성전자와 대형주 순환매 예상..골디락스 기대, 비트코인 횡보\\n다우와 대형 은행주 상승 큰 의미.. 골디락스 기대.. 비트코인 주춤, 한국 증시 대형주 순환매 기대\\n[속보] 부채한도협상 \" 곧 타결\" 바이든 디폴트 기자회견… 뉴욕증시 비트코인 엔비디아 폭발\\n비트코인 가격 \\'장중 강세\\', 2만7000달러선 회복\\n[코인시황] 비트코인, 美 고용지표 발표 앞두고 3600만원선 \\'등락\\'\\n[오늘의 비트코인] \\'주말 시황\\'비트코인 27k, 알트코인 현재상황은?\\n달러·美국채금리 \\'뚝\\', 비트코인 \\'장중하락\\' vs 금·은·구리·美증시 \\'활짝\\'\\n삼성전자 포함 대형주 순환 상승 기대..다우와 은행주 상승 인상적..비트코인 주춤, FOMC 주목 필요\\n美부채한도 협상은 됐는데…비트코인(BTC) 가격은 약보합\\n부채 협상 선반영 우려, 대형주 순환 기대..삼성전자,POSCO홀딩스 추천..비트코인 횡보,FOMC 주목\\n증시 안정 더할 것..FOMC 주목 필요, 삼성전자와 대형주 순환매 예상..골디락스 기대, 비트코인 횡보\\n다우와 대형 은행주 상승 큰 의미.. 골디락스 기대.. 비트코인 주춤, 한국 증시 대형주 순환매 기대\\n[속보] 부채한도협상 \" 곧 타결\" 바이든 디폴트 기자회견… 뉴욕증시 비트코인 엔비디아 폭발\\n비트코인 가격 \\'장중 강세\\', 2만7000달러선 회복\\n[코인시황] 비트코인, 美 고용지표 발표 앞두고 3600만원선 \\'등락\\'\\n[오늘의 비트코인] \\'주말 시황\\'비트코인 27k, 알트코인 현재상황은?\\n달러·美국채금리 \\'뚝\\', 비트코인 \\'장중하락\\' vs 금·은·구리·美증시 \\'활짝\\'\\n삼성전자 포함 대형주 순환 상승 기대..다우와 은행주 상승 인상적..비트코인 주춤, FOMC 주목 필요\\n美부채한도 협상은 됐는데…비트코인(BTC) 가격은 약보합\\n부채 협상 선반영 우려, 대형주 순환 기대..삼성전자,POSCO홀딩스 추천..비트코인 횡보,FOMC 주목\\n증시 안정 더할 것..FOMC 주목 필요, 삼성전자와 대형주 순환매 예상..골디락스 기대, 비트코인 횡보\\n다우와 대형 은행주 상승 큰 의미.. 골디락스 기대.. 비트코인 주춤, 한국 증시 대형주 순환매 기대\\n[속보] 부채한도협상 \" 곧 타결\" 바이든 디폴트 기자회견… 뉴욕증시 비트코인 엔비디아 폭발\\n비트코인 가격 \\'장중 강세\\', 2만7000달러선 회복\\n[코인시황] 비트코인, 美 고용지표 발표 앞두고 3600만원선 \\'등락\\'\\n[오늘의 비트코인] \\'주말 시황\\'비트코인 27k, 알트코인 현재상황은?\\n달러·美국채금리 \\'뚝\\', 비트코인 \\'장중하락\\' vs 금·은·구리·美증시 \\'활짝\\'\\n삼성전자 포함 대형주 순환 상승 기대..다우와 은행주 상승 인상적..비트코인 주춤, FOMC 주목 필요\\n美부채한도 협상은 됐는데…비트코인(BTC) 가격은 약보합\\n부채 협상 선반영 우려, 대형주 순환 기대..삼성전자,POSCO홀딩스 추천..비트코인 횡보,FOMC 주목\\n증시 안정 더할 것..FOMC 주목 필요, 삼성전자와 대형주 순환매 예상..골디락스 기대, 비트코인 횡보\\n다우와 대형 은행주 상승 큰 의미.. 골디락스 기대.. 비트코인 주춤, 한국 증시 대형주 순환매 기대\\n[속보] 부채한도협상 \" 곧 타결\" 바이든 디폴트 기자회견… 뉴욕증시 비트코인 엔비디아 폭발\\n비트코인 가격 \\'장중 강세\\', 2만7000달러선 회복\\n[코인시황] 비트코인, 美 고용지표 발표 앞두고 3600만원선 \\'등락\\'\\n[오늘의 비트코인] \\'주말 시황\\'비트코인 27k, 알트코인 현재상황은?\\n달러·美국채금리 \\'뚝\\', 비트코인 \\'장중하락\\' vs 금·은·구리·美증시 \\'활짝\\'\\n삼성전자 포함 대형주 순환 상승 기대..다우와 은행주 상승 인상적..비트코인 주춤, FOMC 주목 필요\\n美부채한도 협상은 됐는데…비트코인(BTC) 가격은 약보합\\n부채 협상 선반영 우려, 대형주 순환 기대..삼성전자,POSCO홀딩스 추천..비트코인 횡보,FOMC 주목\\n증시 안정 더할 것..FOMC 주목 필요, 삼성전자와 대형주 순환매 예상..골디락스 기대, 비트코인 횡보\\n다우와 대형 은행주 상승 큰 의미.. 골디락스 기대.. 비트코인 주춤, 한국 증시 대형주 순환매 기대\\n[속보] 부채한도협상 \" 곧 타결\" 바이든 디폴트 기자회견… 뉴욕증시 비트코인 엔비디아 폭발\\n비트코인 가격 \\'장중 강세\\', 2만7000달러선 회복\\n[코인시황] 비트코인, 美 고용지표 발표 앞두고 3600만원선 \\'등락\\'\\n[오늘의 비트코인] \\'주말 시황\\'비트코인 27k, 알트코인 현재상황은?\\n달러·美국채금리 \\'뚝\\', 비트코인 \\'장중하락\\' vs 금·은·구리·美증시 \\'활짝\\'\\n삼성전자 포함 대형주 순환 상승 기대..다우와 은행주 상승 인상적..비트코인 주춤, FOMC 주목 필요\\n美부채한도 협상은 됐는데…비트코인(BTC) 가격은 약보합\\n부채 협상 선반영 우려, 대형주 순환 기대..삼성전자,POSCO홀딩스 추천..비트코인 횡보,FOMC 주목\\n증시 안정 더할 것..FOMC 주목 필요, 삼성전자와 대형주 순환매 예상..골디락스 기대, 비트코인 횡보\\n다우와 대형 은행주 상승 큰 의미.. 골디락스 기대.. 비트코인 주춤, 한국 증시 대형주 순환매 기대\\n[속보] 부채한도협상 \" 곧 타결\" 바이든 디폴트 기자회견… 뉴욕증시 비트코인 엔비디아 폭발\\n비트코인 가격 \\'장중 강세\\', 2만7000달러선 회복\\n[코인시황] 비트코인, 美 고용지표 발표 앞두고 3600만원선 \\'등락\\'\\n[오늘의 비트코인] \\'주말 시황\\'비트코인 27k, 알트코인 현재상황은?\\n달러·美국채금리 \\'뚝\\', 비트코인 \\'장중하락\\' vs 금·은·구리·美증시 \\'활짝\\'\\n삼성전자 포함 대형주 순환 상승 기대..다우와 은행주 상승 인상적..비트코인 주춤, FOMC 주목 필요\\n美부채한도 협상은 됐는데…비트코인(BTC) 가격은 약보합\\n부채 협상 선반영 우려, 대형주 순환 기대..삼성전자,POSCO홀딩스 추천..비트코인 횡보,FOMC 주목\\n증시 안정 더할 것..FOMC 주목 필요, 삼성전자와 대형주 순환매 예상..골디락스 기대, 비트코인 횡보\\n다우와 대형 은행주 상승 큰 의미.. 골디락스 기대.. 비트코인 주춤, 한국 증시 대형주 순환매 기대\\n[속보] 부채한도협상 \" 곧 타결\" 바이든 디폴트 기자회견… 뉴욕증시 비트코인 엔비디아 폭발\\n비트코인 가격 \\'장중 강세\\', 2만7000달러선 회복\\n[코인시황] 비트코인, 美 고용지표 발표 앞두고 3600만원선 \\'등락\\'\\n[오늘의 비트코인] \\'주말 시황\\'비트코인 27k, 알트코인 현재상황은?\\n달러·美국채금리 \\'뚝\\', 비트코인 \\'장중하락\\' vs 금·은·구리·美증시 \\'활짝\\'\\n삼성전자 포함 대형주 순환 상승 기대..다우와 은행주 상승 인상적..비트코인 주춤, FOMC 주목 필요\\n美부채한도 협상은 됐는데…비트코인(BTC) 가격은 약보합\\n부채 협상 선반영 우려, 대형주 순환 기대..삼성전자,POSCO홀딩스 추천..비트코인 횡보,FOMC 주목\\n증시 안정 더할 것..FOMC 주목 필요, 삼성전자와 대형주 순환매 예상..골디락스 기대, 비트코인 횡보\\n다우와 대형 은행주 상승 큰 의미.. 골디락스 기대.. 비트코인 주춤, 한국 증시 대형주 순환매 기대\\n[속보] 부채한도협상 \" 곧 타결\" 바이든 디폴트 기자회견… 뉴욕증시 비트코인 엔비디아 폭발\\n비트코인 가격 \\'장중 강세\\', 2만7000달러선 회복\\n[코인시황] 비트코인, 美 고용지표 발표 앞두고 3600만원선 \\'등락\\'\\n[오늘의 비트코인] \\'주말 시황\\'비트코인 27k, 알트코인 현재상황은?\\n달러·美국채금리 \\'뚝\\', 비트코인 \\'장중하락\\' vs 금·은·구리·美증시 \\'활짝\\'\\n삼성전자 포함 대형주 순환 상승 기대..다우와 은행주 상승 인상적..비트코인 주춤, FOMC 주목 필요\\n美부채한도 협상은 됐는데…비트코인(BTC) 가격은 약보합\\n부채 협상 선반영 우려, 대형주 순환 기대..삼성전자,POSCO홀딩스 추천..비트코인 횡보,FOMC 주목\\n증시 안정 더할 것..FOMC 주목 필요, 삼성전자와 대형주 순환매 예상..골디락스 기대, 비트코인 횡보\\n다우와 대형 은행주 상승 큰 의미.. 골디락스 기대.. 비트코인 주춤, 한국 증시 대형주 순환매 기대\\n[속보] 부채한도협상 \" 곧 타결\" 바이든 디폴트 기자회견… 뉴욕증시 비트코인 엔비디아 폭발\\n비트코인 가격 \\'장중 강세\\', 2만7000달러선 회복\\n[코인시황] 비트코인, 美 고용지표 발표 앞두고 3600만원선 \\'등락\\'\\n[오늘의 비트코인] \\'주말 시황\\'비트코인 27k, 알트코인 현재상황은?\\n달러·美국채금리 \\'뚝\\', 비트코인 \\'장중하락\\' vs 금·은·구리·美증시 \\'활짝\\'\\n삼성전자 포함 대형주 순환 상승 기대..다우와 은행주 상승 인상적..비트코인 주춤, FOMC 주목 필요\\n美부채한도 협상은 됐는데…비트코인(BTC) 가격은 약보합\\n부채 협상 선반영 우려, 대형주 순환 기대..삼성전자,POSCO홀딩스 추천..비트코인 횡보,FOMC 주목\\n증시 안정 더할 것..FOMC 주목 필요, 삼성전자와 대형주 순환매 예상..골디락스 기대, 비트코인 횡보\\n다우와 대형 은행주 상승 큰 의미.. 골디락스 기대.. 비트코인 주춤, 한국 증시 대형주 순환매 기대\\n[속보] 부채한도협상 \" 곧 타결\" 바이든 디폴트 기자회견… 뉴욕증시 비트코인 엔비디아 폭발\\n비트코인 가격 \\'장중 강세\\', 2만7000달러선 회복\\n[코인시황] 비트코인, 美 고용지표 발표 앞두고 3600만원선 \\'등락\\'\\n[오늘의 비트코인] \\'주말 시황\\'비트코인 27k, 알트코인 현재상황은?\\n달러·美국채금리 \\'뚝\\', 비트코인 \\'장중하락\\' vs 금·은·구리·美증시 \\'활짝\\'\\n삼성전자 포함 대형주 순환 상승 기대..다우와 은행주 상승 인상적..비트코인 주춤, FOMC 주목 필요\\n美부채한도 협상은 됐는데…비트코인(BTC) 가격은 약보합\\n부채 협상 선반영 우려, 대형주 순환 기대..삼성전자,POSCO홀딩스 추천..비트코인 횡보,FOMC 주목\\n증시 안정 더할 것..FOMC 주목 필요, 삼성전자와 대형주 순환매 예상..골디락스 기대, 비트코인 횡보\\n다우와 대형 은행주 상승 큰 의미.. 골디락스 기대.. 비트코인 주춤, 한국 증시 대형주 순환매 기대\\n[속보] 부채한도협상 \" 곧 타결\" 바이든 디폴트 기자회견… 뉴욕증시 비트코인 엔비디아 폭발\\n비트코인 가격 \\'장중 강세\\', 2만7000달러선 회복\\n[코인시황] 비트코인, 美 고용지표 발표 앞두고 3600만원선 \\'등락\\'\\n[오늘의 비트코인] \\'주말 시황\\'비트코인 27k, 알트코인 현재상황은?\\n달러·美국채금리 \\'뚝\\', 비트코인 \\'장중하락\\' vs 금·은·구리·美증시 \\'활짝\\'\\n삼성전자 포함 대형주 순환 상승 기대..다우와 은행주 상승 인상적..비트코인 주춤, FOMC 주목 필요\\n美부채한도 협상은 됐는데…비트코인(BTC) 가격은 약보합\\n부채 협상 선반영 우려, 대형주 순환 기대..삼성전자,POSCO홀딩스 추천..비트코인 횡보,FOMC 주목\\n증시 안정 더할 것..FOMC 주목 필요, 삼성전자와 대형주 순환매 예상..골디락스 기대, 비트코인 횡보\\n다우와 대형 은행주 상승 큰 의미.. 골디락스 기대.. 비트코인 주춤, 한국 증시 대형주 순환매 기대\\n[속보] 부채한도협상 \" 곧 타결\" 바이든 디폴트 기자회견… 뉴욕증시 비트코인 엔비디아 폭발\\n비트코인 가격 \\'장중 강세\\', 2만7000달러선 회복\\n[코인시황] 비트코인, 美 고용지표 발표 앞두고 3600만원선 \\'등락\\'\\n[오늘의 비트코인] \\'주말 시황\\'비트코인 27k, 알트코인 현재상황은?\\n달러·美국채금리 \\'뚝\\', 비트코인 \\'장중하락\\' vs 금·은·구리·美증시 \\'활짝\\'\\n삼성전자 포함 대형주 순환 상승 기대..다우와 은행주 상승 인상적..비트코인 주춤, FOMC 주목 필요\\n美부채한도 협상은 됐는데…비트코인(BTC) 가격은 약보합\\n부채 협상 선반영 우려, 대형주 순환 기대..삼성전자,POSCO홀딩스 추천..비트코인 횡보,FOMC 주목\\n증시 안정 더할 것..FOMC 주목 필요, 삼성전자와 대형주 순환매 예상..골디락스 기대, 비트코인 횡보\\n다우와 대형 은행주 상승 큰 의미.. 골디락스 기대.. 비트코인 주춤, 한국 증시 대형주 순환매 기대\\n[속보] 부채한도협상 \" 곧 타결\" 바이든 디폴트 기자회견… 뉴욕증시 비트코인 엔비디아 폭발\\n비트코인 가격 \\'장중 강세\\', 2만7000달러선 회복\\n[코인시황] 비트코인, 美 고용지표 발표 앞두고 3600만원선 \\'등락\\'\\n[오늘의 비트코인] \\'주말 시황\\'비트코인 27k, 알트코인 현재상황은?\\n달러·美국채금리 \\'뚝\\', 비트코인 \\'장중하락\\' vs 금·은·구리·美증시 \\'활짝\\'\\n삼성전자 포함 대형주 순환 상승 기대..다우와 은행주 상승 인상적..비트코인 주춤, FOMC 주목 필요\\n美부채한도 협상은 됐는데…비트코인(BTC) 가격은 약보합\\n부채 협상 선반영 우려, 대형주 순환 기대..삼성전자,POSCO홀딩스 추천..비트코인 횡보,FOMC 주목\\n증시 안정 더할 것..FOMC 주목 필요, 삼성전자와 대형주 순환매 예상..골디락스 기대, 비트코인 횡보\\n다우와 대형 은행주 상승 큰 의미.. 골디락스 기대.. 비트코인 주춤, 한국 증시 대형주 순환매 기대\\n[속보] 부채한도협상 \" 곧 타결\" 바이든 디폴트 기자회견… 뉴욕증시 비트코인 엔비디아 폭발\\n비트코인 가격 \\'장중 강세\\', 2만7000달러선 회복\\n[코인시황] 비트코인, 美 고용지표 발표 앞두고 3600만원선 \\'등락\\'\\n[오늘의 비트코인] \\'주말 시황\\'비트코인 27k, 알트코인 현재상황은?\\n달러·美국채금리 \\'뚝\\', 비트코인 \\'장중하락\\' vs 금·은·구리·美증시 \\'활짝\\'\\n삼성전자 포함 대형주 순환 상승 기대..다우와 은행주 상승 인상적..비트코인 주춤, FOMC 주목 필요\\n美부채한도 협상은 됐는데…비트코인(BTC) 가격은 약보합\\n부채 협상 선반영 우려, 대형주 순환 기대..삼성전자,POSCO홀딩스 추천..비트코인 횡보,FOMC 주목\\n증시 안정 더할 것..FOMC 주목 필요, 삼성전자와 대형주 순환매 예상..골디락스 기대, 비트코인 횡보\\n다우와 대형 은행주 상승 큰 의미.. 골디락스 기대.. 비트코인 주춤, 한국 증시 대형주 순환매 기대\\n[속보] 부채한도협상 \" 곧 타결\" 바이든 디폴트 기자회견… 뉴욕증시 비트코인 엔비디아 폭발\\n비트코인 가격 \\'장중 강세\\', 2만7000달러선 회복\\n[코인시황] 비트코인, 美 고용지표 발표 앞두고 3600만원선 \\'등락\\'\\n[오늘의 비트코인] \\'주말 시황\\'비트코인 27k, 알트코인 현재상황은?\\n달러·美국채금리 \\'뚝\\', 비트코인 \\'장중하락\\' vs 금·은·구리·美증시 \\'활짝\\'\\n삼성전자 포함 대형주 순환 상승 기대..다우와 은행주 상승 인상적..비트코인 주춤, FOMC 주목 필요\\n美부채한도 협상은 됐는데…비트코인(BTC) 가격은 약보합\\n부채 협상 선반영 우려, 대형주 순환 기대..삼성전자,POSCO홀딩스 추천..비트코인 횡보,FOMC 주목\\n증시 안정 더할 것..FOMC 주목 필요, 삼성전자와 대형주 순환매 예상..골디락스 기대, 비트코인 횡보\\n다우와 대형 은행주 상승 큰 의미.. 골디락스 기대.. 비트코인 주춤, 한국 증시 대형주 순환매 기대\\n[속보] 부채한도협상 \" 곧 타결\" 바이든 디폴트 기자회견… 뉴욕증시 비트코인 엔비디아 폭발\\n비트코인 가격 \\'장중 강세\\', 2만7000달러선 회복\\n[코인시황] 비트코인, 美 고용지표 발표 앞두고 3600만원선 \\'등락\\'\\n[오늘의 비트코인] \\'주말 시황\\'비트코인 27k, 알트코인 현재상황은?\\n달러·美국채금리 \\'뚝\\', 비트코인 \\'장중하락\\' vs 금·은·구리·美증시 \\'활짝\\'\\n삼성전자 포함 대형주 순환 상승 기대..다우와 은행주 상승 인상적..비트코인 주춤, FOMC 주목 필요\\n美부채한도 협상은 됐는데…비트코인(BTC) 가격은 약보합\\n부채 협상 선반영 우려, 대형주 순환 기대..삼성전자,POSCO홀딩스 추천..비트코인 횡보,FOMC 주목\\n증시 안정 더할 것..FOMC 주목 필요, 삼성전자와 대형주 순환매 예상..골디락스 기대, 비트코인 횡보\\n다우와 대형 은행주 상승 큰 의미.. 골디락스 기대.. 비트코인 주춤, 한국 증시 대형주 순환매 기대\\n[속보] 부채한도협상 \" 곧 타결\" 바이든 디폴트 기자회견… 뉴욕증시 비트코인 엔비디아 폭발\\n비트코인 가격 \\'장중 강세\\', 2만7000달러선 회복\\n[코인시황] 비트코인, 美 고용지표 발표 앞두고 3600만원선 \\'등락\\'\\n[오늘의 비트코인] \\'주말 시황\\'비트코인 27k, 알트코인 현재상황은?\\n달러·美국채금리 \\'뚝\\', 비트코인 \\'장중하락\\' vs 금·은·구리·美증시 \\'활짝\\'\\n삼성전자 포함 대형주 순환 상승 기대..다우와 은행주 상승 인상적..비트코인 주춤, FOMC 주목 필요\\n美부채한도 협상은 됐는데…비트코인(BTC) 가격은 약보합\\n부채 협상 선반영 우려, 대형주 순환 기대..삼성전자,POSCO홀딩스 추천..비트코인 횡보,FOMC 주목\\n증시 안정 더할 것..FOMC 주목 필요, 삼성전자와 대형주 순환매 예상..골디락스 기대, 비트코인 횡보\\n다우와 대형 은행주 상승 큰 의미.. 골디락스 기대.. 비트코인 주춤, 한국 증시 대형주 순환매 기대\\n[속보] 부채한도협상 \" 곧 타결\" 바이든 디폴트 기자회견… 뉴욕증시 비트코인 엔비디아 폭발\\n비트코인 가격 \\'장중 강세\\', 2만7000달러선 회복\\n[코인시황] 비트코인, 美 고용지표 발표 앞두고 3600만원선 \\'등락\\'\\n[오늘의 비트코인] \\'주말 시황\\'비트코인 27k, 알트코인 현재상황은?\\n달러·美국채금리 \\'뚝\\', 비트코인 \\'장중하락\\' vs 금·은·구리·美증시 \\'활짝\\'\\n삼성전자 포함 대형주 순환 상승 기대..다우와 은행주 상승 인상적..비트코인 주춤, FOMC 주목 필요\\n美부채한도 협상은 됐는데…비트코인(BTC) 가격은 약보합\\n부채 협상 선반영 우려, 대형주 순환 기대..삼성전자,POSCO홀딩스 추천..비트코인 횡보,FOMC 주목\\n증시 안정 더할 것..FOMC 주목 필요, 삼성전자와 대형주 순환매 예상..골디락스 기대, 비트코인 횡보\\n다우와 대형 은행주 상승 큰 의미.. 골디락스 기대.. 비트코인 주춤, 한국 증시 대형주 순환매 기대\\n[속보] 부채한도협상 \" 곧 타결\" 바이든 디폴트 기자회견… 뉴욕증시 비트코인 엔비디아 폭발\\n비트코인 가격 \\'장중 강세\\', 2만7000달러선 회복\\n[코인시황] 비트코인, 美 고용지표 발표 앞두고 3600만원선 \\'등락\\'\\n[오늘의 비트코인] \\'주말 시황\\'비트코인 27k, 알트코인 현재상황은?\\n달러·美국채금리 \\'뚝\\', 비트코인 \\'장중하락\\' vs 금·은·구리·美증시 \\'활짝\\'\\n삼성전자 포함 대형주 순환 상승 기대..다우와 은행주 상승 인상적..비트코인 주춤, FOMC 주목 필요\\n美부채한도 협상은 됐는데…비트코인(BTC) 가격은 약보합\\n부채 협상 선반영 우려, 대형주 순환 기대..삼성전자,POSCO홀딩스 추천..비트코인 횡보,FOMC 주목\\n증시 안정 더할 것..FOMC 주목 필요, 삼성전자와 대형주 순환매 예상..골디락스 기대, 비트코인 횡보\\n다우와 대형 은행주 상승 큰 의미.. 골디락스 기대.. 비트코인 주춤, 한국 증시 대형주 순환매 기대\\n[속보] 부채한도협상 \" 곧 타결\" 바이든 디폴트 기자회견… 뉴욕증시 비트코인 엔비디아 폭발\\n비트코인 가격 \\'장중 강세\\', 2만7000달러선 회복\\n[코인시황] 비트코인, 美 고용지표 발표 앞두고 3600만원선 \\'등락\\'\\n[오늘의 비트코인] \\'주말 시황\\'비트코인 27k, 알트코인 현재상황은?\\n달러·美국채금리 \\'뚝\\', 비트코인 \\'장중하락\\' vs 금·은·구리·美증시 \\'활짝\\'\\n삼성전자 포함 대형주 순환 상승 기대..다우와 은행주 상승 인상적..비트코인 주춤, FOMC 주목 필요\\n美부채한도 협상은 됐는데…비트코인(BTC) 가격은 약보합\\n부채 협상 선반영 우려, 대형주 순환 기대..삼성전자,POSCO홀딩스 추천..비트코인 횡보,FOMC 주목\\n증시 안정 더할 것..FOMC 주목 필요, 삼성전자와 대형주 순환매 예상..골디락스 기대, 비트코인 횡보\\n다우와 대형 은행주 상승 큰 의미.. 골디락스 기대.. 비트코인 주춤, 한국 증시 대형주 순환매 기대\\n[속보] 부채한도협상 \" 곧 타결\" 바이든 디폴트 기자회견… 뉴욕증시 비트코인 엔비디아 폭발\\n비트코인 가격 \\'장중 강세\\', 2만7000달러선 회복\\n[코인시황] 비트코인, 美 고용지표 발표 앞두고 3600만원선 \\'등락\\'\\n[오늘의 비트코인] \\'주말 시황\\'비트코인 27k, 알트코인 현재상황은?\\n달러·美국채금리 \\'뚝\\', 비트코인 \\'장중하락\\' vs 금·은·구리·美증시 \\'활짝\\'\\n삼성전자 포함 대형주 순환 상승 기대..다우와 은행주 상승 인상적..비트코인 주춤, FOMC 주목 필요\\n美부채한도 협상은 됐는데…비트코인(BTC) 가격은 약보합\\n부채 협상 선반영 우려, 대형주 순환 기대..삼성전자,POSCO홀딩스 추천..비트코인 횡보,FOMC 주목\\n증시 안정 더할 것..FOMC 주목 필요, 삼성전자와 대형주 순환매 예상..골디락스 기대, 비트코인 횡보\\n다우와 대형 은행주 상승 큰 의미.. 골디락스 기대.. 비트코인 주춤, 한국 증시 대형주 순환매 기대\\n[속보] 부채한도협상 \" 곧 타결\" 바이든 디폴트 기자회견… 뉴욕증시 비트코인 엔비디아 폭발\\n비트코인 가격 \\'장중 강세\\', 2만7000달러선 회복\\n[코인시황] 비트코인, 美 고용지표 발표 앞두고 3600만원선 \\'등락\\'\\n[오늘의 비트코인] \\'주말 시황\\'비트코인 27k, 알트코인 현재상황은?\\n달러·美국채금리 \\'뚝\\', 비트코인 \\'장중하락\\' vs 금·은·구리·美증시 \\'활짝\\'\\n삼성전자 포함 대형주 순환 상승 기대..다우와 은행주 상승 인상적..비트코인 주춤, FOMC 주목 필요\\n美부채한도 협상은 됐는데…비트코인(BTC) 가격은 약보합\\n부채 협상 선반영 우려, 대형주 순환 기대..삼성전자,POSCO홀딩스 추천..비트코인 횡보,FOMC 주목\\n증시 안정 더할 것..FOMC 주목 필요, 삼성전자와 대형주 순환매 예상..골디락스 기대, 비트코인 횡보\\n다우와 대형 은행주 상승 큰 의미.. 골디락스 기대.. 비트코인 주춤, 한국 증시 대형주 순환매 기대\\n[속보] 부채한도협상 \" 곧 타결\" 바이든 디폴트 기자회견… 뉴욕증시 비트코인 엔비디아 폭발\\n비트코인 가격 \\'장중 강세\\', 2만7000달러선 회복\\n[코인시황] 비트코인, 美 고용지표 발표 앞두고 3600만원선 \\'등락\\'\\n[오늘의 비트코인] \\'주말 시황\\'비트코인 27k, 알트코인 현재상황은?\\n달러·美국채금리 \\'뚝\\', 비트코인 \\'장중하락\\' vs 금·은·구리·美증시 \\'활짝\\'\\n삼성전자 포함 대형주 순환 상승 기대..다우와 은행주 상승 인상적..비트코인 주춤, FOMC 주목 필요\\n美부채한도 협상은 됐는데…비트코인(BTC) 가격은 약보합\\n부채 협상 선반영 우려, 대형주 순환 기대..삼성전자,POSCO홀딩스 추천..비트코인 횡보,FOMC 주목\\n증시 안정 더할 것..FOMC 주목 필요, 삼성전자와 대형주 순환매 예상..골디락스 기대, 비트코인 횡보\\n다우와 대형 은행주 상승 큰 의미.. 골디락스 기대.. 비트코인 주춤, 한국 증시 대형주 순환매 기대\\n[속보] 부채한도협상 \" 곧 타결\" 바이든 디폴트 기자회견… 뉴욕증시 비트코인 엔비디아 폭발\\n비트코인 가격 \\'장중 강세\\', 2만7000달러선 회복\\n[코인시황] 비트코인, 美 고용지표 발표 앞두고 3600만원선 \\'등락\\'\\n[오늘의 비트코인] \\'주말 시황\\'비트코인 27k, 알트코인 현재상황은?\\n달러·美국채금리 \\'뚝\\', 비트코인 \\'장중하락\\' vs 금·은·구리·美증시 \\'활짝\\'\\n삼성전자 포함 대형주 순환 상승 기대..다우와 은행주 상승 인상적..비트코인 주춤, FOMC 주목 필요\\n美부채한도 협상은 됐는데…비트코인(BTC) 가격은 약보합\\n부채 협상 선반영 우려, 대형주 순환 기대..삼성전자,POSCO홀딩스 추천..비트코인 횡보,FOMC 주목\\n증시 안정 더할 것..FOMC 주목 필요, 삼성전자와 대형주 순환매 예상..골디락스 기대, 비트코인 횡보\\n다우와 대형 은행주 상승 큰 의미.. 골디락스 기대.. 비트코인 주춤, 한국 증시 대형주 순환매 기대\\n[속보] 부채한도협상 \" 곧 타결\" 바이든 디폴트 기자회견… 뉴욕증시 비트코인 엔비디아 폭발\\n비트코인 가격 \\'장중 강세\\', 2만7000달러선 회복\\n[코인시황] 비트코인, 美 고용지표 발표 앞두고 3600만원선 \\'등락\\'\\n[오늘의 비트코인] \\'주말 시황\\'비트코인 27k, 알트코인 현재상황은?\\n달러·美국채금리 \\'뚝\\', 비트코인 \\'장중하락\\' vs 금·은·구리·美증시 \\'활짝\\'\\n삼성전자 포함 대형주 순환 상승 기대..다우와 은행주 상승 인상적..비트코인 주춤, FOMC 주목 필요\\n美부채한도 협상은 됐는데…비트코인(BTC) 가격은 약보합\\n부채 협상 선반영 우려, 대형주 순환 기대..삼성전자,POSCO홀딩스 추천..비트코인 횡보,FOMC 주목\\n증시 안정 더할 것..FOMC 주목 필요, 삼성전자와 대형주 순환매 예상..골디락스 기대, 비트코인 횡보\\n다우와 대형 은행주 상승 큰 의미.. 골디락스 기대.. 비트코인 주춤, 한국 증시 대형주 순환매 기대\\n[속보] 부채한도협상 \" 곧 타결\" 바이든 디폴트 기자회견… 뉴욕증시 비트코인 엔비디아 폭발\\n비트코인 가격 \\'장중 강세\\', 2만7000달러선 회복\\n[코인시황] 비트코인, 美 고용지표 발표 앞두고 3600만원선 \\'등락\\'\\n[오늘의 비트코인] \\'주말 시황\\'비트코인 27k, 알트코인 현재상황은?\\n달러·美국채금리 \\'뚝\\', 비트코인 \\'장중하락\\' vs 금·은·구리·美증시 \\'활짝\\'\\n삼성전자 포함 대형주 순환 상승 기대..다우와 은행주 상승 인상적..비트코인 주춤, FOMC 주목 필요\\n美부채한도 협상은 됐는데…비트코인(BTC) 가격은 약보합\\n부채 협상 선반영 우려, 대형주 순환 기대..삼성전자,POSCO홀딩스 추천..비트코인 횡보,FOMC 주목\\n증시 안정 더할 것..FOMC 주목 필요, 삼성전자와 대형주 순환매 예상..골디락스 기대, 비트코인 횡보\\n다우와 대형 은행주 상승 큰 의미.. 골디락스 기대.. 비트코인 주춤, 한국 증시 대형주 순환매 기대\\n[속보] 부채한도협상 \" 곧 타결\" 바이든 디폴트 기자회견… 뉴욕증시 비트코인 엔비디아 폭발\\n비트코인 가격 \\'장중 강세\\', 2만7000달러선 회복\\n[코인시황] 비트코인, 美 고용지표 발표 앞두고 3600만원선 \\'등락\\'\\n[오늘의 비트코인] \\'주말 시황\\'비트코인 27k, 알트코인 현재상황은?\\n달러·美국채금리 \\'뚝\\', 비트코인 \\'장중하락\\' vs 금·은·구리·美증시 \\'활짝\\'\\n삼성전자 포함 대형주 순환 상승 기대..다우와 은행주 상승 인상적..비트코인 주춤, FOMC 주목 필요\\n美부채한도 협상은 됐는데…비트코인(BTC) 가격은 약보합\\n부채 협상 선반영 우려, 대형주 순환 기대..삼성전자,POSCO홀딩스 추천..비트코인 횡보,FOMC 주목\\n증시 안정 더할 것..FOMC 주목 필요, 삼성전자와 대형주 순환매 예상..골디락스 기대, 비트코인 횡보\\n다우와 대형 은행주 상승 큰 의미.. 골디락스 기대.. 비트코인 주춤, 한국 증시 대형주 순환매 기대'"
      ]
     },
     "execution_count": 5,
     "metadata": {},
     "output_type": "execute_result"
    }
   ],
   "source": [
    "import pandas as pd\n",
    "bit_news = pd.read_csv('news_data.csv')\n",
    "title_list = bit_news['Title'].tolist()\n",
    "title_text = '\\n'.join(title_list)\n",
    "\n",
    "title_text"
   ]
  },
  {
   "cell_type": "code",
   "execution_count": 18,
   "id": "b11a50d6-ce04-4381-b567-5d68e77682b0",
   "metadata": {
    "tags": []
   },
   "outputs": [
    {
     "name": "stderr",
     "output_type": "stream",
     "text": [
      "C:\\Users\\SW\\Desktop\\time-series-da-main\\venv\\lib\\site-packages\\konlpy\\tag\\_okt.py:17: UserWarning: \"Twitter\" has changed to \"Okt\" since KoNLPy v0.4.5.\n",
      "  warn('\"Twitter\" has changed to \"Okt\" since KoNLPy v0.4.5.')\n"
     ]
    },
    {
     "name": "stdout",
     "output_type": "stream",
     "text": [
      "46991\n",
      "1991\n"
     ]
    }
   ],
   "source": [
    "import pandas as pd\n",
    "from konlpy.tag import Twitter\n",
    "import nltk\n",
    "\n",
    "bit_news = pd.read_csv('news_data.csv')\n",
    "title_list = bit_news['Title'].tolist()\n",
    "title_text = '\\n'.join(title_list)\n",
    "\n",
    "t = Twitter() #형태소\n",
    "tokens_ko = t.morphs(title_text)\n",
    "ko = nltk.Text(tokens_ko)\n",
    "print(len(ko.tokens)) # 토큰 전체 개수\n",
    "print(len(set(ko.tokens))) # 토큰 unique 개수"
   ]
  },
  {
   "cell_type": "code",
   "execution_count": 24,
   "id": "72685bfe-d570-456e-bb47-d3d9c02f15ad",
   "metadata": {
    "tags": []
   },
   "outputs": [
    {
     "name": "stdout",
     "output_type": "stream",
     "text": [
      "[('비트코인', 2700), ('\\n', 2499), (',', 2032), (\"'\", 1970), ('..', 1393), ('기대', 856), ('美', 813), ('[', 760), (']', 760), ('·', 736), ('은', 727), ('대형주', 689), ('부채', 665), ('협상', 595), ('\"', 593), ('상승', 592), ('선', 562), ('주목', 541), ('FOMC', 534), ('증시', 529), ('와', 525), ('전자', 519), ('…', 511), ('코인', 490), ('한도', 473), ('시', 417), ('황', 406), ('횡보', 378), ('가격', 373), ('은행', 365), ('장', 362), ('주', 361), ('중', 350), ('삼성', 350), ('주춤', 349), ('필요', 349), (\"',\", 346), ('순환', 346), ('순', 345), ('환매', 343), ('다우', 343), ('골디락스', 342), ('2만', 299), ('하락', 264), ('?', 213), ('디폴트', 211), ('의', 210), ('7000달러', 208), ('뉴욕증시', 206), ('금리', 205), ('달러', 199), ('속보', 197), ('3600만원', 197), ('회복', 194), ('인상', 194), ('강세', 192), ('BTC', 192), ('적', 192), ('것', 190), ('우려', 189), ('27', 188), ('성', 188), ('타결', 187), ('오늘', 187), ('금', 186), ('앞두고', 186), ('k', 183), ('예상', 181), ('(', 181), (')', 181), ('vs', 181), ('발표', 180), ('에', 178), ('엔비디아', 178), ('뚝', 178), ('알트', 177), ('지표', 177), ('바이든', 177), ('등락', 177), ('큰', 176), ('보합', 176), ('폭발', 176), ('안정', 176), ('고용', 175), ('약', 175), ('국채', 175), ('포함', 174), ('주말', 173), ('곧', 173), ('추천', 173), ('기자회견', 173), ('의미', 173), ('반영', 172), ('대형', 172), ('구리', 172), ('현재상황', 171), ('활짝', 171), ('됐는데', 171), ('POSCO', 171), ('홀딩스', 171), ('더할', 171), ('삼', 171), ('한국', 171), ('...', 92), ('이', 87), ('브리핑', 67), ('피자', 60), ('대', 57), ('더', 56), ('화폐', 55), ('가상', 53), ('리움', 51), ('미국', 50), ('‘', 49), ('데이', 48), ('’', 46), ('전망', 37), ('반등', 36), ('로', 36), ('도', 36), ('”', 36), ('리플', 34), ('거래', 34), ('“', 34), ('자산', 33), ('합의', 33), ('상향', 33), ('미', 32), ('원대', 32), ('테더', 32), ('↑', 31), ('시세', 31), ('이벤트', 31), ('빗썸', 31), ('급락', 27), ('크립', 26), ('암호', 26), ('스', 26), ('...\"', 25), ('세', 25), ('기념', 24), ('시장', 24), ('급등', 23), ('한', 23), ('약세', 23), ('바이', 22), ('낸스', 22), ('흔들', 21), ('에도', 21), ('돌파', 21), ('투자자', 21), ('규제', 21), ('지속', 21), ('경제', 21), ('위기', 21), ('토', 20), ('6000달러', 20), ('투자', 19), ('단기', 19), ('으로', 18), ('채굴', 18), ('분석', 17), ('↓', 17), ('인', 17), ('코빗', 17), ('매입', 17), ('연구소', 17), ('속', 17), ('NFT', 16), ('가', 16), ('가능성', 16), ('연', 16), ('테이블', 16), ('K', 16), ('7천달러', 15), ('CPI', 15), ('붕괴', 15), ('첫', 15), ('최저', 15), ('3600만', 15), ('준', 15), ('승인', 15), ('올해', 14), ('-', 14), ('권', 14), ('조정', 14), ('중단', 14), ('해야', 14), ('3500만원', 13), ('랠리', 13), ('두', 13), ('하는', 13), (\"'…\", 13), ('상승세', 13), ('\"…', 13), ('3%', 13), ('발', 13), ('행사', 13), ('까지', 13), ('올', 12)]\n"
     ]
    },
    {
     "data": {
      "image/png": "[encoded data removed]",
      "text/plain": [
       "<Figure size 1500x600 with 1 Axes>"
      ]
     },
     "metadata": {},
     "output_type": "display_data"
    }
   ],
   "source": [
    "import matplotlib.pyplot as plt\n",
    "from matplotlib import font_manager, rc\n",
    "print(ko.vocab().most_common(200))\n",
    "\n",
    "stop_words = [\n",
    "    [('비트코인', 2700), ('\\n', 2499), (',', 2032), (\"'\", 1970), ('..', 1393), ('기대', 856), ('美', 813), ('[', 760), (']', 760), ('·', 736), ('은', 727), ('대형주', 689), ('부채', 665), ('협상', 595), ('\"', 593), ('상승', 592), ('선', 562), ('주목', 541), ('FOMC', 534), ('증시', 529), ('와', 525), ('전자', 519), ('…', 511), ('코인', 490), ('한도', 473), ('시', 417), ('황', 406), ('횡보', 378), ('가격', 373), ('은행', 365), ('장', 362), ('주', 361), ('중', 350), ('삼성', 350), ('주춤', 349), ('필요', 349), (\"',\", 346), ('순환', 346), ('순', 345), ('환매', 343), ('다우', 343), ('골디락스', 342), ('2만', 299), ('하락', 264), ('?', 213), ('디폴트', 211), ('의', 210), ('7000달러', 208), ('뉴욕증시', 206), ('금리', 205), ('달러', 199), ('속보', 197), ('3600만원', 197), ('회복', 194), ('인상', 194), ('강세', 192), ('BTC', 192), ('적', 192), ('것', 190), ('우려', 189), ('27', 188), ('성', 188), ('타결', 187), ('오늘', 187), ('금', 186), ('앞두고', 186), ('k', 183), ('예상', 181), ('(', 181), (')', 181), ('vs', 181), ('발표', 180), ('에', 178), ('엔비디아', 178), ('뚝', 178), ('알트', 177), ('지표', 177), ('바이든', 177), ('등락', 177), ('큰', 176), ('보합', 176), ('폭발', 176), ('안정', 176), ('고용', 175), ('약', 175), ('국채', 175), ('포함', 174), ('주말', 173), ('곧', 173), ('추천', 173), ('기자회견', 173), ('의미', 173), ('반영', 172), ('대형', 172), ('구리', 172), ('현재상황', 171), ('활짝', 171), ('됐는데', 171), ('POSCO', 171), ('홀딩스', 171), ('더할', 171), ('삼', 171), ('한국', 171), ('...', 92), ('이', 87), ('브리핑', 67), ('피자', 60), ('대', 57), ('더', 56), ('화폐', 55), ('가상', 53), ('리움', 51), ('미국', 50), ('‘', 49), ('데이', 48), ('’', 46), ('전망', 37), ('반등', 36), ('로', 36), ('도', 36), ('”', 36), ('리플', 34), ('거래', 34), ('“', 34), ('자산', 33), ('합의', 33), ('상향', 33), ('미', 32), ('원대', 32), ('테더', 32), ('↑', 31), ('시세', 31), ('이벤트', 31), ('빗썸', 31), ('급락', 27), ('크립', 26), ('암호', 26), ('스', 26), ('...\"', 25), ('세', 25), ('기념', 24), ('시장', 24), ('급등', 23), ('한', 23), ('약세', 23), ('바이', 22), ('낸스', 22), ('흔들', 21), ('에도', 21), ('돌파', 21), ('투자자', 21), ('규제', 21), ('지속', 21), ('경제', 21), ('위기', 21), ('토', 20), ('6000달러', 20), ('투자', 19), ('단기', 19), ('으로', 18), ('채굴', 18), ('분석', 17), ('↓', 17), ('인', 17), ('코빗', 17), ('매입', 17), ('연구소', 17), ('속', 17), ('NFT', 16), ('가', 16), ('가능성', 16), ('연', 16), ('테이블', 16), ('K', 16), ('7천달러', 15), ('CPI', 15), ('붕괴', 15), ('첫', 15), ('최저', 15), ('3600만', 15), ('준', 15), ('승인', 15), ('올해', 14), ('-', 14), ('권', 14), ('조정', 14), ('중단', 14), ('해야', 14), ('3500만원', 13), ('랠리', 13), ('두', 13), ('하는', 13), (\"'…\", 13), ('상승세', 13), ('\"…', 13), ('3%', 13), ('발', 13), ('행사', 13), ('까지', 13), ('올', 12)]\n",
    "]\n",
    "\n",
    "tokens_ko = [each_word for each_word in tokens_ko\n",
    "            if each_word not in stop_words]\n",
    "\n",
    "ko = nltk.Text(tokens_ko)\n",
    "\n",
    "# 한글 폰트 설정\n",
    "font_name = font_manager.FontProperties(fname='c:/Windows/Fonts/malgun.ttf').get_name()\n",
    "rc('font', family=font_name)\n",
    "\n",
    "plt.figure(figsize=(15, 6))\n",
    "ko.plot(50)\n",
    "plt.show()"
   ]
  },
  {
   "cell_type": "code",
   "execution_count": 67,
   "id": "3a538a0a-d374-46f3-98d9-74bcaa65f391",
   "metadata": {
    "tags": []
   },
   "outputs": [
    {
     "ename": "ValueError",
     "evalue": "anchor not supported for multiline text",
     "output_type": "error",
     "traceback": [
      "\u001b[1;31m---------------------------------------------------------------------------\u001b[0m",
      "\u001b[1;31mValueError\u001b[0m                                Traceback (most recent call last)",
      "Cell \u001b[1;32mIn[67], line 4\u001b[0m\n\u001b[0;32m      1\u001b[0m data \u001b[38;5;241m=\u001b[39m ko\u001b[38;5;241m.\u001b[39mvocab()\u001b[38;5;241m.\u001b[39mmost_common(\u001b[38;5;241m300\u001b[39m)\n\u001b[0;32m      2\u001b[0m wordcloud \u001b[38;5;241m=\u001b[39m \u001b[43mWordCloud\u001b[49m\u001b[43m(\u001b[49m\u001b[43mfont_path\u001b[49m\u001b[38;5;241;43m=\u001b[39;49m\u001b[38;5;124;43mr\u001b[39;49m\u001b[38;5;124;43m\"\u001b[39;49m\u001b[38;5;124;43mC:/Users/SW/Desktop/D2Coding-Ver1.3.2-20180524-all.ttc\u001b[39;49m\u001b[38;5;124;43m\"\u001b[39;49m\u001b[43m,\u001b[49m\n\u001b[0;32m      3\u001b[0m \u001b[43m                      \u001b[49m\u001b[43mrelative_scaling\u001b[49m\u001b[38;5;241;43m=\u001b[39;49m\u001b[38;5;241;43m0.2\u001b[39;49m\u001b[43m,\u001b[49m\n\u001b[1;32m----> 4\u001b[0m \u001b[43m                      \u001b[49m\u001b[43mbackground_color\u001b[49m\u001b[38;5;241;43m=\u001b[39;49m\u001b[38;5;124;43m'\u001b[39;49m\u001b[38;5;124;43mwhite\u001b[39;49m\u001b[38;5;124;43m'\u001b[39;49m\u001b[43m)\u001b[49m\u001b[38;5;241;43m.\u001b[39;49m\u001b[43mgenerate_from_frequencies\u001b[49m\u001b[43m(\u001b[49m\u001b[38;5;28;43mdict\u001b[39;49m\u001b[43m(\u001b[49m\u001b[43mdata\u001b[49m\u001b[43m)\u001b[49m\u001b[43m)\u001b[49m\n\u001b[0;32m      6\u001b[0m plt\u001b[38;5;241m.\u001b[39mfigure(figsize\u001b[38;5;241m=\u001b[39m(\u001b[38;5;241m16\u001b[39m,\u001b[38;5;241m8\u001b[39m))\n\u001b[0;32m      7\u001b[0m plt\u001b[38;5;241m.\u001b[39mimshow(wordcloud)\n",
      "File \u001b[1;32m~\\Desktop\\time-series-da-main\\venv\\lib\\site-packages\\wordcloud\\wordcloud.py:453\u001b[0m, in \u001b[0;36mWordCloud.generate_from_frequencies\u001b[1;34m(self, frequencies, max_font_size)\u001b[0m\n\u001b[0;32m    451\u001b[0m     font_size \u001b[38;5;241m=\u001b[39m \u001b[38;5;28mself\u001b[39m\u001b[38;5;241m.\u001b[39mheight\n\u001b[0;32m    452\u001b[0m \u001b[38;5;28;01melse\u001b[39;00m:\n\u001b[1;32m--> 453\u001b[0m     \u001b[38;5;28;43mself\u001b[39;49m\u001b[38;5;241;43m.\u001b[39;49m\u001b[43mgenerate_from_frequencies\u001b[49m\u001b[43m(\u001b[49m\u001b[38;5;28;43mdict\u001b[39;49m\u001b[43m(\u001b[49m\u001b[43mfrequencies\u001b[49m\u001b[43m[\u001b[49m\u001b[43m:\u001b[49m\u001b[38;5;241;43m2\u001b[39;49m\u001b[43m]\u001b[49m\u001b[43m)\u001b[49m\u001b[43m,\u001b[49m\n\u001b[0;32m    454\u001b[0m \u001b[43m                                   \u001b[49m\u001b[43mmax_font_size\u001b[49m\u001b[38;5;241;43m=\u001b[39;49m\u001b[38;5;28;43mself\u001b[39;49m\u001b[38;5;241;43m.\u001b[39;49m\u001b[43mheight\u001b[49m\u001b[43m)\u001b[49m\n\u001b[0;32m    455\u001b[0m     \u001b[38;5;66;03m# find font sizes\u001b[39;00m\n\u001b[0;32m    456\u001b[0m     sizes \u001b[38;5;241m=\u001b[39m [x[\u001b[38;5;241m1\u001b[39m] \u001b[38;5;28;01mfor\u001b[39;00m x \u001b[38;5;129;01min\u001b[39;00m \u001b[38;5;28mself\u001b[39m\u001b[38;5;241m.\u001b[39mlayout_]\n",
      "File \u001b[1;32m~\\Desktop\\time-series-da-main\\venv\\lib\\site-packages\\wordcloud\\wordcloud.py:508\u001b[0m, in \u001b[0;36mWordCloud.generate_from_frequencies\u001b[1;34m(self, frequencies, max_font_size)\u001b[0m\n\u001b[0;32m    505\u001b[0m transposed_font \u001b[38;5;241m=\u001b[39m ImageFont\u001b[38;5;241m.\u001b[39mTransposedFont(\n\u001b[0;32m    506\u001b[0m     font, orientation\u001b[38;5;241m=\u001b[39morientation)\n\u001b[0;32m    507\u001b[0m \u001b[38;5;66;03m# get size of resulting text\u001b[39;00m\n\u001b[1;32m--> 508\u001b[0m box_size \u001b[38;5;241m=\u001b[39m \u001b[43mdraw\u001b[49m\u001b[38;5;241;43m.\u001b[39;49m\u001b[43mtextbbox\u001b[49m\u001b[43m(\u001b[49m\u001b[43m(\u001b[49m\u001b[38;5;241;43m0\u001b[39;49m\u001b[43m,\u001b[49m\u001b[43m \u001b[49m\u001b[38;5;241;43m0\u001b[39;49m\u001b[43m)\u001b[49m\u001b[43m,\u001b[49m\u001b[43m \u001b[49m\u001b[43mword\u001b[49m\u001b[43m,\u001b[49m\u001b[43m \u001b[49m\u001b[43mfont\u001b[49m\u001b[38;5;241;43m=\u001b[39;49m\u001b[43mtransposed_font\u001b[49m\u001b[43m,\u001b[49m\u001b[43m \u001b[49m\u001b[43manchor\u001b[49m\u001b[38;5;241;43m=\u001b[39;49m\u001b[38;5;124;43m\"\u001b[39;49m\u001b[38;5;124;43mlt\u001b[39;49m\u001b[38;5;124;43m\"\u001b[39;49m\u001b[43m)\u001b[49m\n\u001b[0;32m    509\u001b[0m \u001b[38;5;66;03m# find possible places using integral image:\u001b[39;00m\n\u001b[0;32m    510\u001b[0m result \u001b[38;5;241m=\u001b[39m occupancy\u001b[38;5;241m.\u001b[39msample_position(box_size[\u001b[38;5;241m3\u001b[39m] \u001b[38;5;241m+\u001b[39m \u001b[38;5;28mself\u001b[39m\u001b[38;5;241m.\u001b[39mmargin,\n\u001b[0;32m    511\u001b[0m                                    box_size[\u001b[38;5;241m2\u001b[39m] \u001b[38;5;241m+\u001b[39m \u001b[38;5;28mself\u001b[39m\u001b[38;5;241m.\u001b[39mmargin,\n\u001b[0;32m    512\u001b[0m                                    random_state)\n",
      "File \u001b[1;32m~\\Desktop\\time-series-da-main\\venv\\lib\\site-packages\\PIL\\ImageDraw.py:771\u001b[0m, in \u001b[0;36mImageDraw.textbbox\u001b[1;34m(self, xy, text, font, anchor, spacing, align, direction, features, language, stroke_width, embedded_color)\u001b[0m\n\u001b[0;32m    768\u001b[0m     \u001b[38;5;28;01mraise\u001b[39;00m \u001b[38;5;167;01mValueError\u001b[39;00m(msg)\n\u001b[0;32m    770\u001b[0m \u001b[38;5;28;01mif\u001b[39;00m \u001b[38;5;28mself\u001b[39m\u001b[38;5;241m.\u001b[39m_multiline_check(text):\n\u001b[1;32m--> 771\u001b[0m     \u001b[38;5;28;01mreturn\u001b[39;00m \u001b[38;5;28;43mself\u001b[39;49m\u001b[38;5;241;43m.\u001b[39;49m\u001b[43mmultiline_textbbox\u001b[49m\u001b[43m(\u001b[49m\n\u001b[0;32m    772\u001b[0m \u001b[43m        \u001b[49m\u001b[43mxy\u001b[49m\u001b[43m,\u001b[49m\n\u001b[0;32m    773\u001b[0m \u001b[43m        \u001b[49m\u001b[43mtext\u001b[49m\u001b[43m,\u001b[49m\n\u001b[0;32m    774\u001b[0m \u001b[43m        \u001b[49m\u001b[43mfont\u001b[49m\u001b[43m,\u001b[49m\n\u001b[0;32m    775\u001b[0m \u001b[43m        \u001b[49m\u001b[43manchor\u001b[49m\u001b[43m,\u001b[49m\n\u001b[0;32m    776\u001b[0m \u001b[43m        \u001b[49m\u001b[43mspacing\u001b[49m\u001b[43m,\u001b[49m\n\u001b[0;32m    777\u001b[0m \u001b[43m        \u001b[49m\u001b[43malign\u001b[49m\u001b[43m,\u001b[49m\n\u001b[0;32m    778\u001b[0m \u001b[43m        \u001b[49m\u001b[43mdirection\u001b[49m\u001b[43m,\u001b[49m\n\u001b[0;32m    779\u001b[0m \u001b[43m        \u001b[49m\u001b[43mfeatures\u001b[49m\u001b[43m,\u001b[49m\n\u001b[0;32m    780\u001b[0m \u001b[43m        \u001b[49m\u001b[43mlanguage\u001b[49m\u001b[43m,\u001b[49m\n\u001b[0;32m    781\u001b[0m \u001b[43m        \u001b[49m\u001b[43mstroke_width\u001b[49m\u001b[43m,\u001b[49m\n\u001b[0;32m    782\u001b[0m \u001b[43m        \u001b[49m\u001b[43membedded_color\u001b[49m\u001b[43m,\u001b[49m\n\u001b[0;32m    783\u001b[0m \u001b[43m    \u001b[49m\u001b[43m)\u001b[49m\n\u001b[0;32m    785\u001b[0m \u001b[38;5;28;01mif\u001b[39;00m font \u001b[38;5;129;01mis\u001b[39;00m \u001b[38;5;28;01mNone\u001b[39;00m:\n\u001b[0;32m    786\u001b[0m     font \u001b[38;5;241m=\u001b[39m \u001b[38;5;28mself\u001b[39m\u001b[38;5;241m.\u001b[39mgetfont()\n",
      "File \u001b[1;32m~\\Desktop\\time-series-da-main\\venv\\lib\\site-packages\\PIL\\ImageDraw.py:818\u001b[0m, in \u001b[0;36mImageDraw.multiline_textbbox\u001b[1;34m(self, xy, text, font, anchor, spacing, align, direction, features, language, stroke_width, embedded_color)\u001b[0m\n\u001b[0;32m    816\u001b[0m \u001b[38;5;28;01melif\u001b[39;00m anchor[\u001b[38;5;241m1\u001b[39m] \u001b[38;5;129;01min\u001b[39;00m \u001b[38;5;124m\"\u001b[39m\u001b[38;5;124mtb\u001b[39m\u001b[38;5;124m\"\u001b[39m:\n\u001b[0;32m    817\u001b[0m     msg \u001b[38;5;241m=\u001b[39m \u001b[38;5;124m\"\u001b[39m\u001b[38;5;124manchor not supported for multiline text\u001b[39m\u001b[38;5;124m\"\u001b[39m\n\u001b[1;32m--> 818\u001b[0m     \u001b[38;5;28;01mraise\u001b[39;00m \u001b[38;5;167;01mValueError\u001b[39;00m(msg)\n\u001b[0;32m    820\u001b[0m widths \u001b[38;5;241m=\u001b[39m []\n\u001b[0;32m    821\u001b[0m max_width \u001b[38;5;241m=\u001b[39m \u001b[38;5;241m0\u001b[39m\n",
      "\u001b[1;31mValueError\u001b[0m: anchor not supported for multiline text"
     ]
    }
   ],
   "source": [
    "data = ko.vocab().most_common(300)\n",
    "wordcloud = WordCloud(font_path=r\"C:/Users/SW/Desktop/D2Coding-Ver1.3.2-20180524-all.ttc\",\n",
    "                      relative_scaling=0.2,\n",
    "                      background_color='white').generate_from_frequencies(dict(data))\n",
    "\n",
    "plt.figure(figsize=(16,8))\n",
    "plt.imshow(wordcloud)\n",
    "plt.axis('off')\n",
    "plt.show()"
   ]
  },
  {
   "cell_type": "code",
   "execution_count": 35,
   "id": "c6a7a1de-43ed-4381-92db-7eee831ea9d6",
   "metadata": {
    "tags": []
   },
   "outputs": [
    {
     "name": "stdout",
     "output_type": "stream",
     "text": [
      "Collecting simplejson\n",
      "  Downloading simplejson-3.19.1-cp310-cp310-win_amd64.whl (75 kB)\n",
      "     ---------------------------------------- 75.5/75.5 kB 4.1 MB/s eta 0:00:00\n",
      "Installing collected packages: simplejson\n",
      "Successfully installed simplejson-3.19.1\n",
      "Note: you may need to restart the kernel to use updated packages.\n"
     ]
    },
    {
     "name": "stderr",
     "output_type": "stream",
     "text": [
      "\n",
      "[notice] A new release of pip available: 22.3.1 -> 23.1.2\n",
      "[notice] To update, run: python.exe -m pip install --upgrade pip\n"
     ]
    }
   ],
   "source": [
    "pip install simplejson"
   ]
  }
 ],
 "metadata": {
  "kernelspec": {
   "display_name": "Python 3 (ipykernel)",
   "language": "python",
   "name": "python3"
  },
  "language_info": {
   "codemirror_mode": {
    "name": "ipython",
    "version": 3
   },
   "file_extension": ".py",
   "mimetype": "text/x-python",
   "name": "python",
   "nbconvert_exporter": "python",
   "pygments_lexer": "ipython3",
   "version": "3.10.10"
  }
 },
 "nbformat": 4,
 "nbformat_minor": 5
}
